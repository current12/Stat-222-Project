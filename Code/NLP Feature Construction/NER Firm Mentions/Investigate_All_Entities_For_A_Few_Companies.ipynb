{
 "cells": [
  {
   "cell_type": "markdown",
   "metadata": {},
   "source": [
    "# Investigate All Entities for A Few Companies"
   ]
  },
  {
   "cell_type": "code",
   "execution_count": 7,
   "metadata": {},
   "outputs": [],
   "source": [
    "# Packages\n",
    "import pandas as pd"
   ]
  },
  {
   "cell_type": "code",
   "execution_count": 8,
   "metadata": {},
   "outputs": [
    {
     "data": {
      "text/html": [
       "<div>\n",
       "<style scoped>\n",
       "    .dataframe tbody tr th:only-of-type {\n",
       "        vertical-align: middle;\n",
       "    }\n",
       "\n",
       "    .dataframe tbody tr th {\n",
       "        vertical-align: top;\n",
       "    }\n",
       "\n",
       "    .dataframe thead th {\n",
       "        text-align: right;\n",
       "    }\n",
       "</style>\n",
       "<table border=\"1\" class=\"dataframe\">\n",
       "  <thead>\n",
       "    <tr style=\"text-align: right;\">\n",
       "      <th></th>\n",
       "      <th>ticker</th>\n",
       "      <th>fixed_quarter_date</th>\n",
       "      <th>company_mentioned</th>\n",
       "      <th>count</th>\n",
       "    </tr>\n",
       "  </thead>\n",
       "  <tbody>\n",
       "    <tr>\n",
       "      <th>0</th>\n",
       "      <td>NEE</td>\n",
       "      <td>2012-01-01</td>\n",
       "      <td>FPL</td>\n",
       "      <td>26</td>\n",
       "    </tr>\n",
       "    <tr>\n",
       "      <th>1</th>\n",
       "      <td>NEE</td>\n",
       "      <td>2012-01-01</td>\n",
       "      <td>ENERGY RESOURCES</td>\n",
       "      <td>25</td>\n",
       "    </tr>\n",
       "    <tr>\n",
       "      <th>2</th>\n",
       "      <td>NEE</td>\n",
       "      <td>2012-01-01</td>\n",
       "      <td>CITC</td>\n",
       "      <td>14</td>\n",
       "    </tr>\n",
       "    <tr>\n",
       "      <th>3</th>\n",
       "      <td>NEE</td>\n",
       "      <td>2012-01-01</td>\n",
       "      <td>DESERT SUNLIGHT</td>\n",
       "      <td>10</td>\n",
       "    </tr>\n",
       "    <tr>\n",
       "      <th>4</th>\n",
       "      <td>NEE</td>\n",
       "      <td>2012-01-01</td>\n",
       "      <td>ENERGY RESOURCES'</td>\n",
       "      <td>9</td>\n",
       "    </tr>\n",
       "    <tr>\n",
       "      <th>...</th>\n",
       "      <td>...</td>\n",
       "      <td>...</td>\n",
       "      <td>...</td>\n",
       "      <td>...</td>\n",
       "    </tr>\n",
       "    <tr>\n",
       "      <th>22</th>\n",
       "      <td>KW</td>\n",
       "      <td>2014-04-01</td>\n",
       "      <td>SIDOTI</td>\n",
       "      <td>1</td>\n",
       "    </tr>\n",
       "    <tr>\n",
       "      <th>23</th>\n",
       "      <td>KW</td>\n",
       "      <td>2014-04-01</td>\n",
       "      <td>BANCO POPULAR’S</td>\n",
       "      <td>1</td>\n",
       "    </tr>\n",
       "    <tr>\n",
       "      <th>24</th>\n",
       "      <td>KW</td>\n",
       "      <td>2014-04-01</td>\n",
       "      <td>WALL STREET JOURNAL</td>\n",
       "      <td>1</td>\n",
       "    </tr>\n",
       "    <tr>\n",
       "      <th>25</th>\n",
       "      <td>KW</td>\n",
       "      <td>2014-04-01</td>\n",
       "      <td>THE BANK OF IRELAND</td>\n",
       "      <td>1</td>\n",
       "    </tr>\n",
       "    <tr>\n",
       "      <th>26</th>\n",
       "      <td>KW</td>\n",
       "      <td>2014-04-01</td>\n",
       "      <td>MERRILL LYNCH</td>\n",
       "      <td>1</td>\n",
       "    </tr>\n",
       "  </tbody>\n",
       "</table>\n",
       "<p>267115 rows × 4 columns</p>\n",
       "</div>"
      ],
      "text/plain": [
       "   ticker fixed_quarter_date    company_mentioned  count\n",
       "0     NEE         2012-01-01                  FPL     26\n",
       "1     NEE         2012-01-01     ENERGY RESOURCES     25\n",
       "2     NEE         2012-01-01                 CITC     14\n",
       "3     NEE         2012-01-01      DESERT SUNLIGHT     10\n",
       "4     NEE         2012-01-01    ENERGY RESOURCES'      9\n",
       "..    ...                ...                  ...    ...\n",
       "22     KW         2014-04-01               SIDOTI      1\n",
       "23     KW         2014-04-01      BANCO POPULAR’S      1\n",
       "24     KW         2014-04-01  WALL STREET JOURNAL      1\n",
       "25     KW         2014-04-01  THE BANK OF IRELAND      1\n",
       "26     KW         2014-04-01        MERRILL LYNCH      1\n",
       "\n",
       "[267115 rows x 4 columns]"
      ]
     },
     "execution_count": 8,
     "metadata": {},
     "output_type": "execute_result"
    }
   ],
   "source": [
    "# Load file '../../../Data/Company_Mentions/Company_Mentions.parquet'\n",
    "df = pd.read_parquet('../../../Data/Company_Mentions/Company_Mentions.parquet')\n",
    "df"
   ]
  },
  {
   "cell_type": "code",
   "execution_count": 9,
   "metadata": {},
   "outputs": [
    {
     "data": {
      "text/plain": [
       "ticker\n",
       "JNJ     1728\n",
       "DHR     1706\n",
       "NWL     1678\n",
       "CAH     1592\n",
       "LLY     1590\n",
       "        ... \n",
       "OEC       20\n",
       "CBB       19\n",
       "TIF       11\n",
       "XIN       10\n",
       "BBBY      10\n",
       "Name: count, Length: 503, dtype: int64"
      ]
     },
     "execution_count": 9,
     "metadata": {},
     "output_type": "execute_result"
    }
   ],
   "source": [
    "# Value counts for companies\n",
    "df['ticker'].value_counts()"
   ]
  },
  {
   "cell_type": "code",
   "execution_count": 10,
   "metadata": {},
   "outputs": [],
   "source": [
    "# Output all items where ticker is 'JNJ', 'DHR', 'AAPL'\n",
    "# Save to Excel\n",
    "df.loc[df['ticker'].isin(['JNJ', 'DHR', 'AAPL'])].to_excel('../../../Data/Company_Mentions/Company_Mentions_for_JNJ_DHR_AAPL.xlsx', index=False)"
   ]
  }
 ],
 "metadata": {
  "kernelspec": {
   "display_name": "capstone",
   "language": "python",
   "name": "python3"
  },
  "language_info": {
   "codemirror_mode": {
    "name": "ipython",
    "version": 3
   },
   "file_extension": ".py",
   "mimetype": "text/x-python",
   "name": "python",
   "nbconvert_exporter": "python",
   "pygments_lexer": "ipython3",
   "version": "3.11.8"
  }
 },
 "nbformat": 4,
 "nbformat_minor": 2
}
