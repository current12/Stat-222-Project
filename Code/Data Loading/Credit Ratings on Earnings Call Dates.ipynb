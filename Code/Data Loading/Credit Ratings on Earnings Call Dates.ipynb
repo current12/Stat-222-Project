{
 "cells": [
  {
   "cell_type": "markdown",
   "metadata": {},
   "source": [
    "# Credit Ratings on Earnings Call Dates\n",
    "\n",
    "Use earnings call data (symbol and date for companies) and credit ratings data at the level of issuances to create a dataset of credit ratings on earnings call dates."
   ]
  },
  {
   "cell_type": "code",
   "execution_count": null,
   "metadata": {},
   "outputs": [],
   "source": [
    "# packages\n",
    "import pandas as pd\n",
    "import pandasql as ps"
   ]
  },
  {
   "cell_type": "code",
   "execution_count": null,
   "metadata": {},
   "outputs": [],
   "source": [
    "# Load credit ratings data\n",
    "# C:\\Users\\ijyli\\Box\\STAT 222 Capstone\\Intermediate Data\\combined_credit_rating_data.csv\n",
    "credit_ratings = pd.read_csv('~/Box/STAT 222 Capstone/Intermediate Data/combined_credit_rating_data.csv')\n",
    "# Rename Date to rating_date, Next Rating Date or End of Data to next_rating_date_or_end_of_data, Symbol to ticker\n",
    "credit_ratings = credit_ratings.rename(columns={'Date': 'rating_date', 'Next Rating Date or End of Data': 'next_rating_date_or_end_of_data', 'Symbol': 'ticker'})\n",
    "# Limit rating agency and scope\n",
    "credit_ratings = credit_ratings[credit_ratings['Rating Agency Name'].str.contains('Standard & Poor\\'s') & (credit_ratings['Year'] >= 2010) & (credit_ratings['Year'] <= 2016)]\n",
    "credit_ratings"
   ]
  },
  {
   "cell_type": "code",
   "execution_count": null,
   "metadata": {},
   "outputs": [],
   "source": [
    "# Load selected variables from earnings call data\n",
    "earnings_call_dates = pd.read_csv('earnings_call_dates.csv')\n",
    "# Rename variable to earnings_call_date\n",
    "earnings_call_dates"
   ]
  },
  {
   "cell_type": "markdown",
   "metadata": {},
   "source": [
    "## Join together"
   ]
  },
  {
   "cell_type": "code",
   "execution_count": null,
   "metadata": {},
   "outputs": [],
   "source": [
    "query = '''\n",
    "SELECT a.*, b.earnings_call_date\n",
    "FROM credit_ratings a\n",
    "LEFT JOIN earnings_call_dates b\n",
    "ON a.ticker = b.ticker\n",
    "    AND a.rating_date <= b.earnings_call_date\n",
    "        AND b.earnings_call_date <= a.next_rating_date_or_end_of_data\n",
    "'''\n",
    "\n",
    "# Run query\n",
    "credit_ratings_on_earnings_call_dates = ps.sqldf(query, locals())"
   ]
  },
  {
   "cell_type": "code",
   "execution_count": null,
   "metadata": {},
   "outputs": [],
   "source": [
    "# Check for uniqueness by ticker and earnings_call_date\n",
    "credit_ratings_on_earnings_call_dates.groupby(['ticker', 'earnings_call_date']).size().reset_index(name='count').sort_values(by='count', ascending=False)"
   ]
  },
  {
   "cell_type": "markdown",
   "metadata": {},
   "source": [
    "## Credit Rating One Call Ahead, Two Calls Ahead, etc."
   ]
  },
  {
   "cell_type": "code",
   "execution_count": null,
   "metadata": {},
   "outputs": [],
   "source": [
    "# Sort by ticker and earnings_call_date\n",
    "credit_ratings_on_earnings_call_dates = credit_ratings_on_earnings_call_dates.sort_values(by=['ticker', 'earnings_call_date'])\n",
    "\n",
    "# Get next earnings call date and next value of rating\n",
    "credit_ratings_on_earnings_call_dates['next_earnings_call_date'] = credit_ratings_on_earnings_call_dates.groupby('ticker')['earnings_call_date'].shift(-1)\n",
    "credit_ratings_on_earnings_call_dates['rating_on_next_earnings_call_date'] = credit_ratings_on_earnings_call_dates.groupby('ticker')['Rating'].shift(-1)\n",
    "\n",
    "# Two earnings call dates later\n",
    "# lead_2_earnings_call_date\n",
    "credit_ratings_on_earnings_call_dates['lead_2_earnings_call_date'] = credit_ratings_on_earnings_call_dates.groupby('ticker')['earnings_call_date'].shift(-2)\n",
    "# lead_2_rating\n",
    "credit_ratings_on_earnings_call_dates['lead_2_rating'] = credit_ratings_on_earnings_call_dates.groupby('ticker')['Rating'].shift(-2)"
   ]
  },
  {
   "cell_type": "markdown",
   "metadata": {},
   "source": [
    "## Output CSV"
   ]
  },
  {
   "cell_type": "code",
   "execution_count": null,
   "metadata": {},
   "outputs": [],
   "source": [
    "# Save to csv\n",
    "credit_ratings_on_earnings_call_dates.to_csv('~/Box/STAT 222 Capstone/Intermediate Data/credit_ratings_on_earnings_call_dates.csv', index=False)"
   ]
  }
 ],
 "metadata": {
  "language_info": {
   "name": "python"
  }
 },
 "nbformat": 4,
 "nbformat_minor": 2
}
