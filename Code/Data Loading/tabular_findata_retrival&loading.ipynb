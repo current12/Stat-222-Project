{
  "cells": [
    {
      "cell_type": "code",
      "execution_count": 24,
      "metadata": {},
      "outputs": [
        {
          "name": "stdout",
          "output_type": "stream",
          "text": [
            "['BCE', 'BEP', 'CCJ', 'COST', 'CVE', 'CVX', 'ENB', 'FICO', 'FTS', 'GOLD', 'IMO', 'JWN', 'MCK', 'MGA', 'MUR', 'SJR', 'SYY', 'TAC', 'TECK', 'TOT', 'VALE', 'AA', 'AAL', 'AAP', 'ABB', 'ABC', 'ABG', 'ABT', 'ACCO', 'ADI', 'ADM', 'AEE', 'AEP', 'AGCO', 'AIN', 'ALB', 'AMGN', 'AMKR', 'AMX', 'AMZN', 'ANDE', 'ANTM', 'AON', 'APA', 'APD', 'ARW', 'ATI', 'ATO', 'AVA', 'AVGO', 'AVT', 'AVY', 'AWK', 'AWR', 'AXL', 'AZO', 'BAX', 'BC', 'BDX', 'BG', 'BGC', 'BGG', 'BIIB', 'BIO', 'BKD', 'BKR', 'BLL', 'BMRN', 'BMY', 'BSX', 'BTU', 'BUD', 'BWA', 'BYD', 'BZH', 'CAG', 'CAH', 'CAT', 'CBB', 'CBT', 'CCEP', 'CCI', 'CCK', 'CDE', 'CENT', 'CENX', 'CHE', 'CHH', 'CHK', 'CHTR', 'CIEN', 'CKH', 'CL', 'CLW', 'CMC', 'CMI', 'CMS', 'CNHI', 'CNI', 'COP', 'CPB', 'CR', 'CRS', 'CSCO', 'CSL', 'CSX', 'CTAS', 'CTB', 'CVA', 'CVS', 'CXO', 'CXW', 'CZR', 'D', 'DAL', 'DAN', 'DCP', 'DE', 'DEO', 'DGX', 'DHI', 'DHR', 'DLX', 'DNR', 'DOV', 'DRI', 'DTE', 'DUK', 'DVA', 'DVN', 'E', 'EBAY', 'ECL', 'EE', 'EFX', 'EIX', 'EME', 'EMN', 'EMR', 'ENDP', 'ENR', 'EOG', 'EPAY', 'EPD', 'EQIX', 'EQR', 'EQT', 'ES', 'ETN', 'ETR', 'EXC', 'EXPE', 'FCX', 'FDX', 'FE', 'FISV', 'FLR', 'FLS', 'FMC', 'FOE', 'GATX', 'GD', 'GE', 'GILD', 'GIS', 'GLW', 'GM', 'GPS', 'GSK', 'GWRS', 'HAL', 'HAS', 'HBI', 'HCA', 'HES', 'HFC', 'HLT', 'HLX', 'HNGR', 'HOG', 'HON', 'HOV', 'HPQ', 'HRB', 'HRL', 'HSC', 'HSY', 'HTZ', 'IDA', 'IDCC', 'IEX', 'IGT', 'INGR', 'INSW', 'INTC', 'INTU', 'IP', 'IPG', 'IPI', 'IRM', 'IT', 'ITW', 'JBHT', 'JBL', 'JBLU', 'JCI', 'JNJ', 'JNPR', 'JOUT', 'K', 'KHC', 'KMB', 'KMT', 'KOF', 'KSS', 'LB', 'LEA', 'LEU', 'LII', 'LLY', 'LMT', 'LNT', 'LSXMA', 'LUV', 'MAN', 'MAS', 'MCHP', 'MDC', 'MDLZ', 'MDT', 'MGM', 'MHK', 'MHO', 'MKC', 'MLM', 'MMC', 'MMM', 'MMP', 'MOS', 'MRO', 'MSFT', 'MSI', 'MTOR', 'MTZ', 'NAV', 'NBR', 'NDAQ', 'NE', 'NEE', 'NEO', 'NFG', 'NGG', 'NI', 'NKTR', 'NOC', 'NPO', 'NRG', 'NSC', 'NUE', 'NVS', 'NWE', 'NWL', 'NWN', 'OAS', 'OC', 'OGE', 'OKE', 'OLN', 'OMC', 'OMI', 'ORCL', 'ORLY', 'OTTR', 'OXY', 'PAA', 'PBI', 'PCAR', 'PCG', 'PDCO', 'PDLI', 'PED', 'PEG', 'PEP', 'PFE', 'PH', 'PHG', 'PKI', 'PM', 'PNM', 'PNR', 'PNW', 'POL', 'PPC', 'PPG', 'PPL', 'PSX', 'PVH', 'PXD', 'RAD', 'RIG', 'RIO', 'ROK', 'ROP', 'RPM', 'RRC', 'RRD', 'RS', 'RSG', 'RYN', 'SBGI', 'SBUX', 'SCCO', 'SCI', 'SGU', 'SHW', 'SLB', 'SLGN', 'SMG', 'SNA', 'SON', 'SPGI', 'SPWR', 'SPXC', 'SR', 'SRE', 'STLD', 'STZ', 'SWK', 'SWX', 'SYK', 'T', 'TEF', 'TEL', 'TEN', 'TER', 'TEX', 'TGT', 'THC', 'TKR', 'TMO', 'TMUS', 'TOL', 'TRI', 'TRN', 'TUP', 'TXN', 'TXT', 'UFS', 'UGI', 'UHS', 'UIS', 'UNH', 'UNP', 'UPS', 'URI', 'USM', 'UVV', 'VFC', 'VGR', 'VIAV', 'VLO', 'VMC', 'VRSK', 'VRTX', 'VZ', 'WBA', 'WEC', 'WEN', 'WFRD', 'WHR', 'WLL', 'WMB', 'WOR', 'WPP', 'WY', 'WYNN', 'X', 'XEC', 'XEL', 'XOM', 'XRX', 'YRCW', 'YUM', 'ACH', 'ADT', 'AES', 'AGR', 'ALSN', 'ALTR', 'AMCR', 'AMD', 'AMOV', 'ARCO', 'ASML', 'AUY', 'AZN', 'BABA', 'BAK', 'BIDU', 'BKH', 'BP', 'BR', 'BRFS', 'BTI', 'BURL', 'CAL', 'CCU', 'CDNS', 'CLX', 'CMCSA', 'CNR', 'COMP', 'CPAC', 'CRESY', 'CSIQ', 'CYH', 'DELL', 'DXC', 'EAT', 'ERJ', 'FCAU', 'FIS', 'FLEX', 'FLO', 'FMS', 'GGB', 'HII', 'HMC', 'HMHC', 'HPE', 'IRCP', 'ITT', 'KEP', 'KEX', 'KGC', 'KOS', 'KRO', 'LEN', 'LVS', 'MDU', 'MEOH', 'MPC', 'MPLX', 'MTH', 'NBL', 'NEU', 'NGL', 'NLSN', 'NOK', 'NVDA', 'ORAN', 'PHI', 'PKX', 'PTR', 'PYPL', 'RCI', 'SANM', 'SBS', 'SIG', 'SKM', 'SNY', 'SONY', 'STM', 'STX', 'SWN', 'TDG', 'TDS', 'TEVA', 'TIF', 'TIGO', 'TKC', 'TSN', 'VEON', 'VIA', 'WCN', 'WLK', 'IBA', 'ENT', 'AAPL', 'ABBV', 'ABEV', 'ACHC', 'ACIW', 'ACM', 'ACN', 'ADS', 'AIR', 'ALE', 'ALJ', 'ALLE', 'ALR', 'AMAT', 'AMCX', 'AMP', 'APH', 'ARC', 'ASH', 'AT', 'ATVI', 'AWI', 'AXTA', 'BA', 'BAH', 'BBBY', 'BCC', 'BDC', 'BERY', 'BFAM', 'BHE', 'BLDR', 'BTE', 'CACI', 'CAJ', 'CAR', 'CCLP', 'CCOI', 'CCZ', 'CDK', 'CDW', 'CE', 'CEIX', 'CEVA', 'CFX', 'CHDN', 'CHEF', 'CLF', 'CLMT', 'CMCO', 'CMLS', 'CMP', 'CNC', 'CNQ', 'CNSL', 'COMM', 'COTY', 'CPE', 'CPLP', 'CPS', 'CRC', 'CRI', 'CRK', 'CRL', 'CSGS', 'CSV', 'CVGI', 'CVI', 'CWST', 'DAR', 'DBD', 'DG', 'DGI', 'DISH', 'DLTR', 'DOOR', 'EC', 'EGO', 'EL', 'ENIA', 'ENS', 'ENTG', 'EPC', 'ETM', 'EVA', 'EVC', 'EW', 'EXP', 'EXPR', 'FANG', 'FBHS', 'FCN', 'FET', 'FLOW', 'FLT', 'FRGI', 'FRP', 'FTI', 'FUN', 'G', 'GAP', 'GCI', 'GEF', 'GEL', 'GFF', 'GFI', 'GHC', 'GLDD', 'GLP', 'GLPG', 'GOGO', 'GOOG', 'GOOGL', 'GPI', 'GPN', 'GPOR', 'GPRE', 'GRFS', 'GSL', 'GTN', 'GXP', 'H', 'HBM', 'HCHC', 'HEES', 'HEP', 'HL', 'HMTV', 'HOLX', 'HUBG', 'HUM', 'HUN', 'HXL', 'ICLR', 'III', 'IMKTA', 'INFO', 'IO', 'JAZZ', 'KALU', 'KAR', 'KBH', 'KODK', 'KOP', 'KRA', 'KSU', 'KTOS', 'L', 'LAMR', 'LCI', 'LDOS', 'LEE', 'LGF', 'LH', 'LKQ', 'LPI', 'LPX', 'LRCX', 'LSCC', 'LXU', 'LYB', 'LYV', 'MA', 'MANT', 'MBI', 'MBT', 'MDRX', 'MEDP', 'MERC', 'MGEE', 'MGI', 'MKL', 'MMLP', 'MO', 'MRC', 'MRK', 'MSCI', 'MT', 'MTDR', 'MTG', 'MTN', 'MTSC', 'MTX', 'MWA', 'MX', 'MYL', 'NCR', 'NFLX', 'NGD', 'NKE', 'NNBR', 'NS', 'NTAP', 'NVO', 'NVR', 'NX', 'NXPI', 'NYT', 'OEC', 'OGS', 'OII', 'OIS', 'ON', 'OSI', 'OSK', 'OTEX', 'OXM', 'PACB', 'PAG', 'PAHC', 'PBFX', 'PDC', 'PDCE', 'PDS', 'PENN', 'PGR', 'PKG', 'PLOW', 'PMTS', 'POR', 'POST', 'PRA', 'PRAA', 'PRE', 'PRGO', 'PSO', 'QCOM', 'RBA', 'RCII', 'RCL', 'RDN', 'RLI', 'RYI', 'SABR', 'SAH', 'SAIC', 'SAP', 'SBAC', 'SBH', 'SCHL', 'SCS', 'SEAS', 'SEE', 'SEM', 'SFM', 'SGH', 'SGMS', 'SHEL', 'SITE', 'SJM', 'SMTC', 'SO', 'SPH', 'SPWH', 'SRI', 'SSL', 'SSNC', 'STKL', 'STON', 'SXC', 'TAK', 'TAST', 'TCS', 'TECD', 'TEO', 'TFX', 'TGI', 'TGLS', 'TGNA', 'THS', 'TILE', 'TMS', 'TPC', 'TPX', 'TRGP', 'TRMB', 'TROX', 'TRS', 'TSM', 'TSQ', 'TTC', 'TTM', 'TTMI', 'TWI', 'UGP', 'UNIT', 'V', 'VC', 'VIV', 'VMI', 'VOD', 'VRNT', 'VSAT', 'VSH', 'VSTO', 'WAB', 'WBT', 'WCC', 'WDC', 'WNC', 'WRB', 'WU', 'WWW', 'XPO', 'XRAY', 'XYL', 'Y', 'YPF', 'ZBRA', 'ZTS', 'ADNT', 'ADP', 'ADSK', 'ADSW', 'ALGT', 'ALK', 'ALKS', 'ALV', 'AMAG', 'AMC', 'AMRX', 'AQN', 'AR', 'ASNA', 'ATKR', 'BAM', 'BECN', 'BIG', 'BW', 'CASA', 'CATM', 'CCL', 'CF', 'CLGX', 'CLH', 'CLR', 'COO', 'CP', 'CWT', 'DFIN', 'DIS', 'EA', 'EPR', 'FDP', 'FL', 'FTV', 'GBX', 'GCP', 'GLT', 'GME', 'HDS', 'HRC', 'HST', 'HZN', 'IAC', 'IBM', 'ILMN', 'IRDM', 'IRS', 'KEYS', 'KMI', 'KW', 'MCO', 'MDCA', 'MIC', 'MTSI', 'MTW', 'MU', 'NEM', 'NM', 'NOG', 'NRP', 'NUAN', 'OSB', 'PFGC', 'PRAH', 'PSXP', 'PTC', 'QEP', 'QRVO', 'R', 'RELX', 'RFP', 'RHP', 'ROCK', 'ROST', 'SALM', 'SAVE', 'SLCA', 'SM', 'SPR', 'SRCL', 'SSP', 'SUN', 'TAL', 'TRTN', 'TSLA', 'TWTR', 'UAN', 'VLRS', 'VRSN', 'VVV', 'WM', 'WRK', 'WTI', 'XIN', 'XPER', 'YORW']\n"
          ]
        }
      ],
      "source": [
        "import pandas as pd\n",
        "import requests\n",
        "\n",
        "# Load the CSV file into a pandas DataFrame\n",
        "df = pd.read_csv(\"combined_credit_rating_data.csv\")\n",
        "\n",
        "# Extract all distinct \"Symbol\" values\n",
        "distinct_symbols = df[\"Symbol\"].unique()\n",
        "\n",
        "# Convert the array of distinct symbols to a pandas list\n",
        "distinct_symbols_list = distinct_symbols.tolist()\n",
        "\n",
        "distinct_symbols_list"
      ]
    },
    {
      "cell_type": "code",
      "execution_count": 106,
      "metadata": {},
      "outputs": [
        {
          "name": "stdout",
          "output_type": "stream",
          "text": [
            "20\n",
            "40\n",
            "60\n",
            "80\n",
            "100\n",
            "120\n",
            "140\n",
            "160\n",
            "180\n",
            "200\n",
            "220\n",
            "240\n",
            "260\n",
            "280\n",
            "300\n",
            "320\n",
            "340\n",
            "360\n",
            "380\n",
            "400\n",
            "420\n",
            "440\n",
            "460\n",
            "480\n",
            "500\n",
            "520\n",
            "540\n",
            "560\n",
            "580\n",
            "600\n",
            "620\n",
            "640\n",
            "660\n",
            "680\n",
            "700\n",
            "720\n",
            "740\n",
            "760\n",
            "780\n",
            "800\n",
            "820\n",
            "840\n",
            "860\n",
            "880\n"
          ]
        }
      ],
      "source": [
        "# API key for accessing the financial data\n",
        "api_key = \"GzzXB8zIm8u1NJzcFKZNOwcOyxarZEmi\"\n",
        "\n",
        "# Function to fetch financial statements data\n",
        "def fetch_financial_statements(company):\n",
        "    # Number of years for which data will be retrieved\n",
        "    quarters = 67\n",
        "    \n",
        "    # Fetching balance sheet data\n",
        "    balance_sheet = requests.get(f'https://financialmodelingprep.com/api/v3/balance-sheet-statement/{company}?period=quarter&limit={quarters}&apikey={api_key}')\n",
        "    balance_sheet = balance_sheet.json()\n",
        "\n",
        "    # Fetching income statement data\n",
        "    income_statement = requests.get(f'https://financialmodelingprep.com/api/v3/income-statement/{company}?period=quarter&limit={quarters}&apikey={api_key}')\n",
        "    income_statement = income_statement.json()\n",
        "    \n",
        "    # Fetching cash flow statement data\n",
        "    cash_flow_statement = requests.get(f'https://financialmodelingprep.com/api/v3/cash-flow-statement/{company}?period=quarter&limit={quarters}&apikey={api_key}')\n",
        "    cash_flow_statement = cash_flow_statement.json()\n",
        "\n",
        "    balance_sheet = 0\n",
        "    income_statement = 0\n",
        "    return balance_sheet, income_statement, cash_flow_statement\n",
        "\n",
        "# Initialize empty lists to store the fetched data\n",
        "balance_sheet_data = []\n",
        "income_statement_data = []\n",
        "cash_flow_statement_data = []\n",
        "\n",
        "i = 1\n",
        "# Loop over the first 10 symbols in the list\n",
        "for symbol in distinct_symbols_list:\n",
        "    # Fetch financial statements data\n",
        "    if i%20==0:\n",
        "        print(i)\n",
        "    i+=1\n",
        "    balance_sheet, income_statement, cash_flow_statement = fetch_financial_statements(symbol)\n",
        "\n",
        "    # Append fetched data to respective lists\n",
        "    \n",
        "    balance_sheet_data.extend(balance_sheet)\n",
        "    income_statement_data.extend(income_statement)\n",
        "    cash_flow_statement_data.extend(cash_flow_statement)\n",
        "\n",
        "# Combine data into a single DataFrame\n",
        "balance_sheet_df = pd.DataFrame(balance_sheet_data)\n",
        "income_statement_df = pd.DataFrame(income_statement_data)\n",
        "cash_flow_statement_df = pd.DataFrame(cash_flow_statement_data)\n"
      ]
    },
    {
      "cell_type": "code",
      "execution_count": 107,
      "metadata": {},
      "outputs": [],
      "source": [
        "balance_sheet_df.to_csv(\"balance_sheet_df.csv\")\n",
        "income_statement_df.to_csv((\"income_statement_df.csv\"))\n",
        "cash_flow_statement_df.to_csv(\"cash_flow_statement_df.csv\")"
      ]
    },
    {
      "cell_type": "code",
      "execution_count": null,
      "metadata": {},
      "outputs": [],
      "source": []
    }
  ],
  "metadata": {
    "colab": {
      "provenance": []
    },
    "kernelspec": {
      "display_name": "Python 3",
      "name": "python3"
    },
    "language_info": {
      "codemirror_mode": {
        "name": "ipython",
        "version": 3
      },
      "file_extension": ".py",
      "mimetype": "text/x-python",
      "name": "python",
      "nbconvert_exporter": "python",
      "pygments_lexer": "ipython3",
      "version": "3.9.15"
    }
  },
  "nbformat": 4,
  "nbformat_minor": 0
}
