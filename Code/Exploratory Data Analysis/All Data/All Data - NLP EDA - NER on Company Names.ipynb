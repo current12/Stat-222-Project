{
 "cells": [
  {
   "cell_type": "markdown",
   "metadata": {},
   "source": [
    "# All Data - NLP EDA - NER on Company Names\n",
    "\n",
    "(Slow file separated out from other code)"
   ]
  },
  {
   "cell_type": "code",
   "execution_count": null,
   "metadata": {},
   "outputs": [],
   "source": [
    "# Flag for if you are running this on the sample dataset\n",
    "# Sample comprises 100 earnings calls (transcripts included)\n",
    "# Full data comprises 4532 earnings calls (transcripts included)\n",
    "sample = False\n",
    "# Modify this path as needed to run on your machine\n",
    "sample_path = r'~\\Box\\STAT 222 Capstone\\Intermediate Data\\all_data_sample.csv'"
   ]
  },
  {
   "cell_type": "code",
   "execution_count": null,
   "metadata": {},
   "outputs": [],
   "source": [
    "# Packages\n",
    "import pandas as pd\n",
    "import matplotlib.pyplot as plt\n",
    "import nltk\n",
    "from nltk.tokenize import word_tokenize\n",
    "from nltk.corpus import stopwords\n",
    "from nltk.probability import FreqDist\n",
    "from sklearn.feature_extraction.text import CountVectorizer\n",
    "import seaborn as sns"
   ]
  },
  {
   "cell_type": "code",
   "execution_count": null,
   "metadata": {},
   "outputs": [],
   "source": [
    "# Load in sample csv, or full parquet file\n",
    "# Use inputted sample path, or ~\\Box\\STAT 222 Capstone\\Intermediate Data\\all_data.parquet\n",
    "if sample:\n",
    "    df = pd.read_csv(sample_path)\n",
    "else:\n",
    "    df = pd.read_parquet(r'~\\Box\\STAT 222 Capstone\\Intermediate Data\\all_data.parquet') \n",
    "df"
   ]
  },
  {
   "cell_type": "markdown",
   "metadata": {},
   "source": [
    "## NER with Spacy - number of companies\n"
   ]
  },
  {
   "cell_type": "code",
   "execution_count": null,
   "metadata": {},
   "outputs": [],
   "source": [
    "import spacy\n",
    "from tqdm.auto import tqdm # progress tracking\n",
    "tqdm.pandas()\n",
    "\n",
    "# load model and disable unnecessary components\n",
    "nlp = spacy.load('en_core_web_sm', disable=['tagger', 'parser', 'lemmatizer', 'attribute_ruler', 'morphologizer', 'textcat'])\n",
    "\n",
    "# Function to process transcript and count company mentions\n",
    "def count_companies(text):\n",
    "    # Process the text\n",
    "    doc=nlp(text)\n",
    "    # Counter\n",
    "    count = 0\n",
    "    # Initialize count\n",
    "    for entity in doc.ents:\n",
    "        # We'll select just entities that are tagged organizations (close enough to companies)\n",
    "        if entity.label_ == \"ORG\":\n",
    "            count += 1\n",
    "    return count\n",
    "\n",
    "# Apply the function to the transcript column\n",
    "# potentially look into ways to do this in parallel or make more efficient...\n",
    "df['company_mentions'] = df['transcript'].progress_apply(count_companies)\n",
    "\n",
    "# Plot the distribution of company mentions\n",
    "plt.figure(figsize=(8, 5))\n",
    "plt.hist(df['company_mentions'], bins=20, color='skyblue', edgecolor='black')\n",
    "plt.title('Company Mentions Distribution')\n",
    "plt.xlabel('Number of Company Mentions')\n",
    "plt.ylabel('Frequency')\n",
    "plt.grid(True)\n",
    "plt.show()\n",
    "\n",
    "print('Average number of company mentions:', df['company_mentions'].mean())"
   ]
  },
  {
   "cell_type": "code",
   "execution_count": null,
   "metadata": {},
   "outputs": [],
   "source": [
    "# Testing the nlp model\n",
    "sample_text = 'Microsoft is a great company. I also like Apple and Google.'\n",
    "print('testing on sample text:')\n",
    "print(sample_text)\n",
    "doc = nlp(sample_text)\n",
    "for entity in doc.ents:\n",
    "    print(entity.text, entity.label_)\n",
    "harder_sample_text = 'I am going to the bank to deposit my money. apple had a great quarter.'\n",
    "print('testing on harder sample text:')\n",
    "print(harder_sample_text)\n",
    "doc = nlp(harder_sample_text)\n",
    "for entity in doc.ents:\n",
    "    print(entity.text, entity.label_)"
   ]
  }
 ],
 "metadata": {
  "language_info": {
   "name": "python"
  }
 },
 "nbformat": 4,
 "nbformat_minor": 2
}
