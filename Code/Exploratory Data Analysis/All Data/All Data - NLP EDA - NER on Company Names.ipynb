{
 "cells": [
  {
   "cell_type": "markdown",
   "metadata": {},
   "source": [
    "# All Data - NLP EDA - NER on Company Names\n",
    "\n",
    "This file doesn't run the NER, but does the plotting only"
   ]
  },
  {
   "cell_type": "code",
   "execution_count": 2,
   "metadata": {},
   "outputs": [],
   "source": [
    "# Packages\n",
    "import pandas as pd\n",
    "import matplotlib.pyplot as plt"
   ]
  },
  {
   "cell_type": "code",
   "execution_count": null,
   "metadata": {},
   "outputs": [],
   "source": [
    "# Load dataframe\n",
    "# '../../../Data/Company_Mentions/Company_Mentions_Sample.parquet'\n",
    "df = pd.read_parquet('../../../Data/Company_Mentions/Company_Mentions_Sample.parquet')\n",
    "df"
   ]
  },
  {
   "cell_type": "code",
   "execution_count": null,
   "metadata": {},
   "outputs": [],
   "source": [
    "# Plot the distribution of company mentions\n",
    "plt.figure(figsize=(8, 5))\n",
    "plt.hist(df['company_mentions'], bins=20, color='skyblue', edgecolor='black')\n",
    "plt.title('Company Mentions Distribution')\n",
    "plt.xlabel('Number of Company Mentions')\n",
    "plt.ylabel('Frequency')\n",
    "plt.grid(True)\n",
    "plt.show()\n",
    "\n",
    "print('Average number of company mentions:', df['company_mentions'].mean())"
   ]
  }
 ],
 "metadata": {
  "kernelspec": {
   "display_name": "capstone",
   "language": "python",
   "name": "python3"
  },
  "language_info": {
   "codemirror_mode": {
    "name": "ipython",
    "version": 3
   },
   "file_extension": ".py",
   "mimetype": "text/x-python",
   "name": "python",
   "nbconvert_exporter": "python",
   "pygments_lexer": "ipython3",
   "version": "3.12.1"
  }
 },
 "nbformat": 4,
 "nbformat_minor": 2
}
