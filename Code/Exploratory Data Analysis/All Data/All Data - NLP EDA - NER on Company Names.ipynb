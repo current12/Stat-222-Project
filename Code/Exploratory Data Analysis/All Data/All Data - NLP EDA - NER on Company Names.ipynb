{
 "cells": [
  {
   "cell_type": "markdown",
   "metadata": {},
   "source": [
    "# All Data - NLP EDA - NER on Company Names\n",
    "\n",
    "This file doesn't run the NER, but does the plotting only"
   ]
  },
  {
   "cell_type": "code",
   "execution_count": 1,
   "metadata": {},
   "outputs": [],
   "source": [
    "# Packages\n",
    "import pandas as pd\n",
    "import matplotlib.pyplot as plt\n",
    "from stattotex import *"
   ]
  },
  {
   "cell_type": "code",
   "execution_count": 2,
   "metadata": {},
   "outputs": [],
   "source": [
    "# Set output folder\n",
    "output_folder = '../../../Output/All Data EDA/NLP EDA - NER on Company Names/'"
   ]
  },
  {
   "cell_type": "code",
   "execution_count": 3,
   "metadata": {},
   "outputs": [
    {
     "data": {
      "text/html": [
       "<div>\n",
       "<style scoped>\n",
       "    .dataframe tbody tr th:only-of-type {\n",
       "        vertical-align: middle;\n",
       "    }\n",
       "\n",
       "    .dataframe tbody tr th {\n",
       "        vertical-align: top;\n",
       "    }\n",
       "\n",
       "    .dataframe thead th {\n",
       "        text-align: right;\n",
       "    }\n",
       "</style>\n",
       "<table border=\"1\" class=\"dataframe\">\n",
       "  <thead>\n",
       "    <tr style=\"text-align: right;\">\n",
       "      <th></th>\n",
       "      <th>ticker</th>\n",
       "      <th>fixed_quarter_date</th>\n",
       "      <th>company_mentions</th>\n",
       "    </tr>\n",
       "  </thead>\n",
       "  <tbody>\n",
       "    <tr>\n",
       "      <th>0</th>\n",
       "      <td>NEE</td>\n",
       "      <td>2011-04-01 00:00:00.000000</td>\n",
       "      <td>179</td>\n",
       "    </tr>\n",
       "    <tr>\n",
       "      <th>1</th>\n",
       "      <td>NEE</td>\n",
       "      <td>2011-07-01 00:00:00.000000</td>\n",
       "      <td>107</td>\n",
       "    </tr>\n",
       "    <tr>\n",
       "      <th>2</th>\n",
       "      <td>NEE</td>\n",
       "      <td>2011-10-01 00:00:00.000000</td>\n",
       "      <td>123</td>\n",
       "    </tr>\n",
       "    <tr>\n",
       "      <th>3</th>\n",
       "      <td>NEE</td>\n",
       "      <td>2012-01-01 00:00:00.000000</td>\n",
       "      <td>170</td>\n",
       "    </tr>\n",
       "    <tr>\n",
       "      <th>4</th>\n",
       "      <td>NEE</td>\n",
       "      <td>2012-04-01 00:00:00.000000</td>\n",
       "      <td>154</td>\n",
       "    </tr>\n",
       "    <tr>\n",
       "      <th>...</th>\n",
       "      <td>...</td>\n",
       "      <td>...</td>\n",
       "      <td>...</td>\n",
       "    </tr>\n",
       "    <tr>\n",
       "      <th>912</th>\n",
       "      <td>KOP</td>\n",
       "      <td>2015-04-01 00:00:00.000000</td>\n",
       "      <td>104</td>\n",
       "    </tr>\n",
       "    <tr>\n",
       "      <th>913</th>\n",
       "      <td>KOP</td>\n",
       "      <td>2015-07-01 00:00:00.000000</td>\n",
       "      <td>59</td>\n",
       "    </tr>\n",
       "    <tr>\n",
       "      <th>914</th>\n",
       "      <td>KOP</td>\n",
       "      <td>2015-10-01 00:00:00.000000</td>\n",
       "      <td>58</td>\n",
       "    </tr>\n",
       "    <tr>\n",
       "      <th>915</th>\n",
       "      <td>KOP</td>\n",
       "      <td>2016-01-01 00:00:00.000000</td>\n",
       "      <td>73</td>\n",
       "    </tr>\n",
       "    <tr>\n",
       "      <th>916</th>\n",
       "      <td>KOP</td>\n",
       "      <td>2016-04-01 00:00:00.000000</td>\n",
       "      <td>81</td>\n",
       "    </tr>\n",
       "  </tbody>\n",
       "</table>\n",
       "<p>7334 rows × 3 columns</p>\n",
       "</div>"
      ],
      "text/plain": [
       "    ticker          fixed_quarter_date  company_mentions\n",
       "0      NEE  2011-04-01 00:00:00.000000               179\n",
       "1      NEE  2011-07-01 00:00:00.000000               107\n",
       "2      NEE  2011-10-01 00:00:00.000000               123\n",
       "3      NEE  2012-01-01 00:00:00.000000               170\n",
       "4      NEE  2012-04-01 00:00:00.000000               154\n",
       "..     ...                         ...               ...\n",
       "912    KOP  2015-04-01 00:00:00.000000               104\n",
       "913    KOP  2015-07-01 00:00:00.000000                59\n",
       "914    KOP  2015-10-01 00:00:00.000000                58\n",
       "915    KOP  2016-01-01 00:00:00.000000                73\n",
       "916    KOP  2016-04-01 00:00:00.000000                81\n",
       "\n",
       "[7334 rows x 3 columns]"
      ]
     },
     "execution_count": 3,
     "metadata": {},
     "output_type": "execute_result"
    }
   ],
   "source": [
    "# Load dataframe\n",
    "# '../../../Data/Company_Mentions/Company_Mentions.parquet'\n",
    "df = pd.read_parquet('../../../Data/Company_Mentions/Company_Mentions.parquet')\n",
    "df"
   ]
  },
  {
   "cell_type": "code",
   "execution_count": 4,
   "metadata": {},
   "outputs": [
    {
     "data": {
      "image/png": "[encoded data removed]",
      "text/plain": [
       "<Figure size 800x500 with 1 Axes>"
      ]
     },
     "metadata": {},
     "output_type": "display_data"
    },
    {
     "name": "stdout",
     "output_type": "stream",
     "text": [
      "Average number of company mentions: 90.92637032997\n"
     ]
    }
   ],
   "source": [
    "# Plot the distribution of company mentions\n",
    "plt.figure(figsize=(8, 5))\n",
    "plt.hist(df['company_mentions'], bins=20, color='skyblue', edgecolor='black')\n",
    "plt.xlabel('Number of Company Mentions')\n",
    "plt.ylabel('Frequency')\n",
    "plt.grid(True)\n",
    "# Output version with no title\n",
    "plt.savefig(output_folder + 'Company Mentions Distribution No Title.png')\n",
    "plt.title('Company Mentions Distribution')\n",
    "plt.show()\n",
    "\n",
    "print('Average number of company mentions:', df['company_mentions'].mean())\n",
    "\n",
    "stattotex(round(df['company_mentions'].mean(), 2), 'avg_company_mentions', output_folder + 'Company Mentions Average.tex')"
   ]
  }
 ],
 "metadata": {
  "kernelspec": {
   "display_name": "capstone",
   "language": "python",
   "name": "python3"
  },
  "language_info": {
   "codemirror_mode": {
    "name": "ipython",
    "version": 3
   },
   "file_extension": ".py",
   "mimetype": "text/x-python",
   "name": "python",
   "nbconvert_exporter": "python",
   "pygments_lexer": "ipython3",
   "version": "3.11.8"
  }
 },
 "nbformat": 4,
 "nbformat_minor": 2
}
