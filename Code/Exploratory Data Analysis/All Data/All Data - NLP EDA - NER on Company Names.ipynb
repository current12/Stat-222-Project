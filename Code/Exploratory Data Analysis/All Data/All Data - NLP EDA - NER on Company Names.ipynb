{
 "cells": [
  {
   "cell_type": "markdown",
   "metadata": {},
   "source": [
    "# All Data - NLP EDA - NER on Company Names\n",
    "\n",
    "This file doesn't run the NER, but does the plotting only"
   ]
  },
  {
   "cell_type": "code",
   "execution_count": 20,
   "metadata": {},
   "outputs": [],
   "source": [
    "# Packages\n",
    "import pandas as pd\n",
    "import matplotlib.pyplot as plt\n",
    "from stattotex import *"
   ]
  },
  {
   "cell_type": "code",
   "execution_count": 21,
   "metadata": {},
   "outputs": [],
   "source": [
    "# Set output folder\n",
    "output_folder = '../../../Output/All Data EDA/NLP EDA - NER on Company Names/'"
   ]
  },
  {
   "cell_type": "code",
   "execution_count": 22,
   "metadata": {},
   "outputs": [
    {
     "data": {
      "text/html": [
       "<div>\n",
       "<style scoped>\n",
       "    .dataframe tbody tr th:only-of-type {\n",
       "        vertical-align: middle;\n",
       "    }\n",
       "\n",
       "    .dataframe tbody tr th {\n",
       "        vertical-align: top;\n",
       "    }\n",
       "\n",
       "    .dataframe thead th {\n",
       "        text-align: right;\n",
       "    }\n",
       "</style>\n",
       "<table border=\"1\" class=\"dataframe\">\n",
       "  <thead>\n",
       "    <tr style=\"text-align: right;\">\n",
       "      <th></th>\n",
       "      <th>ticker</th>\n",
       "      <th>fixed_quarter_date</th>\n",
       "      <th>company_mentions</th>\n",
       "    </tr>\n",
       "  </thead>\n",
       "  <tbody>\n",
       "    <tr>\n",
       "      <th>0</th>\n",
       "      <td>AAPL</td>\n",
       "      <td>2014-07-01</td>\n",
       "      <td>112</td>\n",
       "    </tr>\n",
       "    <tr>\n",
       "      <th>1</th>\n",
       "      <td>AAPL</td>\n",
       "      <td>2014-10-01</td>\n",
       "      <td>122</td>\n",
       "    </tr>\n",
       "    <tr>\n",
       "      <th>2</th>\n",
       "      <td>AAPL</td>\n",
       "      <td>2015-01-01</td>\n",
       "      <td>87</td>\n",
       "    </tr>\n",
       "    <tr>\n",
       "      <th>3</th>\n",
       "      <td>AAPL</td>\n",
       "      <td>2015-04-01</td>\n",
       "      <td>83</td>\n",
       "    </tr>\n",
       "    <tr>\n",
       "      <th>4</th>\n",
       "      <td>AAPL</td>\n",
       "      <td>2015-07-01</td>\n",
       "      <td>83</td>\n",
       "    </tr>\n",
       "    <tr>\n",
       "      <th>...</th>\n",
       "      <td>...</td>\n",
       "      <td>...</td>\n",
       "      <td>...</td>\n",
       "    </tr>\n",
       "    <tr>\n",
       "      <th>6656</th>\n",
       "      <td>ZTS</td>\n",
       "      <td>2015-10-01</td>\n",
       "      <td>45</td>\n",
       "    </tr>\n",
       "    <tr>\n",
       "      <th>6657</th>\n",
       "      <td>ZTS</td>\n",
       "      <td>2016-01-01</td>\n",
       "      <td>107</td>\n",
       "    </tr>\n",
       "    <tr>\n",
       "      <th>6658</th>\n",
       "      <td>ZTS</td>\n",
       "      <td>2016-04-01</td>\n",
       "      <td>90</td>\n",
       "    </tr>\n",
       "    <tr>\n",
       "      <th>6659</th>\n",
       "      <td>ZTS</td>\n",
       "      <td>2016-07-01</td>\n",
       "      <td>75</td>\n",
       "    </tr>\n",
       "    <tr>\n",
       "      <th>6660</th>\n",
       "      <td>ZTS</td>\n",
       "      <td>2016-10-01</td>\n",
       "      <td>79</td>\n",
       "    </tr>\n",
       "  </tbody>\n",
       "</table>\n",
       "<p>6661 rows × 3 columns</p>\n",
       "</div>"
      ],
      "text/plain": [
       "     ticker fixed_quarter_date  company_mentions\n",
       "0      AAPL         2014-07-01               112\n",
       "1      AAPL         2014-10-01               122\n",
       "2      AAPL         2015-01-01                87\n",
       "3      AAPL         2015-04-01                83\n",
       "4      AAPL         2015-07-01                83\n",
       "...     ...                ...               ...\n",
       "6656    ZTS         2015-10-01                45\n",
       "6657    ZTS         2016-01-01               107\n",
       "6658    ZTS         2016-04-01                90\n",
       "6659    ZTS         2016-07-01                75\n",
       "6660    ZTS         2016-10-01                79\n",
       "\n",
       "[6661 rows x 3 columns]"
      ]
     },
     "execution_count": 22,
     "metadata": {},
     "output_type": "execute_result"
    }
   ],
   "source": [
    "# Load dataframe\n",
    "# '../../../Data/Company_Mentions/Company_Mentions.parquet'\n",
    "df = pd.read_parquet('../../../Data/Company_Mentions/Company_Mentions.parquet')\n",
    "# Collapse to sum of count by ticker by fixed_quarter_date\n",
    "df = df[['ticker', 'fixed_quarter_date', 'count']].groupby(['ticker', 'fixed_quarter_date']).sum().reset_index().rename(columns={'count': 'company_mentions'})\n",
    "df"
   ]
  },
  {
   "cell_type": "code",
   "execution_count": 23,
   "metadata": {},
   "outputs": [],
   "source": [
    "# Limit to items in the finalized dataset\n",
    "# list of files in '../../../Data/All_Data/All_Data_with_NLP_Features'\n",
    "import os\n",
    "file_list = [f for f in os.listdir(r'../../../Data/All_Data/All_Data_with_NLP_Features') if f.endswith('.parquet')]\n",
    "# read in all parquet files\n",
    "all_data_with_nlp_features_ticker_ecd = pd.concat([pd.read_parquet(r'../../../Data/All_Data/All_Data_with_NLP_Features/' + f, columns = ['ticker', 'fixed_quarter_date']) for f in file_list])\n",
    "# Inner join with df\n",
    "# Convert fixed_quarter_date to datetime in both dataframes\n",
    "df['fixed_quarter_date'] = pd.to_datetime(df['fixed_quarter_date'])\n",
    "all_data_with_nlp_features_ticker_ecd['fixed_quarter_date'] = pd.to_datetime(all_data_with_nlp_features_ticker_ecd['fixed_quarter_date'])\n",
    "df = df.merge(all_data_with_nlp_features_ticker_ecd, on = ['ticker', 'fixed_quarter_date'], how = 'inner')"
   ]
  },
  {
   "cell_type": "code",
   "execution_count": 24,
   "metadata": {},
   "outputs": [
    {
     "data": {
      "image/png": "[encoded data removed]",
      "text/plain": [
       "<Figure size 800x500 with 1 Axes>"
      ]
     },
     "metadata": {},
     "output_type": "display_data"
    },
    {
     "name": "stdout",
     "output_type": "stream",
     "text": [
      "Average number of company mentions: 97.77815410668924\n"
     ]
    }
   ],
   "source": [
    "# Plot the distribution of company mentions\n",
    "plt.figure(figsize=(8, 5))\n",
    "plt.hist(df['company_mentions'], bins=20, color='skyblue', edgecolor='black')\n",
    "plt.xlabel('Number of Company Mentions')\n",
    "plt.ylabel('Frequency')\n",
    "plt.grid(True)\n",
    "# Output version with no title\n",
    "plt.savefig(output_folder + 'Company Mentions Distribution No Title.png')\n",
    "plt.title('Company Mentions Distribution')\n",
    "plt.show()\n",
    "\n",
    "print('Average number of company mentions:', df['company_mentions'].mean())\n",
    "\n",
    "stattotex(round(df['company_mentions'].mean(), 2), 'avgCompanyMentions', output_folder + 'Company Mentions Average.tex')"
   ]
  }
 ],
 "metadata": {
  "kernelspec": {
   "display_name": "capstone",
   "language": "python",
   "name": "python3"
  },
  "language_info": {
   "codemirror_mode": {
    "name": "ipython",
    "version": 3
   },
   "file_extension": ".py",
   "mimetype": "text/x-python",
   "name": "python",
   "nbconvert_exporter": "python",
   "pygments_lexer": "ipython3",
   "version": "3.11.8"
  }
 },
 "nbformat": 4,
 "nbformat_minor": 2
}
