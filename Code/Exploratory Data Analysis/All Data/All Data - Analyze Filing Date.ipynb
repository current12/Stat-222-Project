{
 "cells": [
  {
   "cell_type": "markdown",
   "metadata": {},
   "source": [
    "# Analyze Filing Date\n",
    "\n",
    "The tabular financial data comes with filing dates - do these align well with earnings call dates for the year by quarter? More importantly, do they fall within the fixed quarters?"
   ]
  },
  {
   "cell_type": "markdown",
   "metadata": {},
   "source": [
    "## Packages and Load"
   ]
  },
  {
   "cell_type": "code",
   "execution_count": 1,
   "metadata": {},
   "outputs": [],
   "source": [
    "# Packages\n",
    "import pandas as pd\n",
    "import matplotlib.pyplot as plt\n",
    "import numpy as np"
   ]
  },
  {
   "cell_type": "code",
   "execution_count": 2,
   "metadata": {},
   "outputs": [
    {
     "data": {
      "text/html": [
       "<div>\n",
       "<style scoped>\n",
       "    .dataframe tbody tr th:only-of-type {\n",
       "        vertical-align: middle;\n",
       "    }\n",
       "\n",
       "    .dataframe tbody tr th {\n",
       "        vertical-align: top;\n",
       "    }\n",
       "\n",
       "    .dataframe thead th {\n",
       "        text-align: right;\n",
       "    }\n",
       "</style>\n",
       "<table border=\"1\" class=\"dataframe\">\n",
       "  <thead>\n",
       "    <tr style=\"text-align: right;\">\n",
       "      <th></th>\n",
       "      <th>ticker</th>\n",
       "      <th>fixed_quarter_date</th>\n",
       "      <th>earnings_call_date</th>\n",
       "      <th>Rating</th>\n",
       "      <th>Rating Agency Name</th>\n",
       "      <th>rating_date</th>\n",
       "      <th>CR_source</th>\n",
       "      <th>Rating Rank AAA is 10</th>\n",
       "      <th>Next Rating</th>\n",
       "      <th>Next Rating Date</th>\n",
       "      <th>...</th>\n",
       "      <th>Altman_Z</th>\n",
       "      <th>Change Direction Since Last Fixed Quarter Date</th>\n",
       "      <th>Change Since Last Fixed Quarter Date</th>\n",
       "      <th>Description</th>\n",
       "      <th>Company Name</th>\n",
       "      <th>Sector</th>\n",
       "      <th>Industry Group</th>\n",
       "      <th>Industry</th>\n",
       "      <th>Sub-Industry</th>\n",
       "      <th>Comment</th>\n",
       "    </tr>\n",
       "  </thead>\n",
       "  <tbody>\n",
       "    <tr>\n",
       "      <th>0</th>\n",
       "      <td>AAPL</td>\n",
       "      <td>2014-07-01</td>\n",
       "      <td>2014-04-23</td>\n",
       "      <td>AA</td>\n",
       "      <td>Standard &amp; Poor's Ratings Services</td>\n",
       "      <td>2014-05-27</td>\n",
       "      <td>Supplementary</td>\n",
       "      <td>9</td>\n",
       "      <td>AA</td>\n",
       "      <td>2015-02-18</td>\n",
       "      <td>...</td>\n",
       "      <td>6.530889</td>\n",
       "      <td>None</td>\n",
       "      <td>NaN</td>\n",
       "      <td>Apple Inc. (Apple) designs, manufactures and m...</td>\n",
       "      <td>APPLE INC</td>\n",
       "      <td>Information Technology</td>\n",
       "      <td>Technology Hardware &amp; Equipment</td>\n",
       "      <td>Technology Hardware, Storage &amp; Peripherals</td>\n",
       "      <td>Technology Hardware, Storage &amp; Peripherals</td>\n",
       "      <td>Manufacturers of cellular phones, personal com...</td>\n",
       "    </tr>\n",
       "    <tr>\n",
       "      <th>1</th>\n",
       "      <td>AAPL</td>\n",
       "      <td>2014-10-01</td>\n",
       "      <td>2014-07-22</td>\n",
       "      <td>AA</td>\n",
       "      <td>Standard &amp; Poor's Ratings Services</td>\n",
       "      <td>2014-05-27</td>\n",
       "      <td>Supplementary</td>\n",
       "      <td>9</td>\n",
       "      <td>AA</td>\n",
       "      <td>2015-02-18</td>\n",
       "      <td>...</td>\n",
       "      <td>4.324703</td>\n",
       "      <td>Same As Last Fixed Quarter Date</td>\n",
       "      <td>0.0</td>\n",
       "      <td>Apple Inc. (Apple) designs, manufactures and m...</td>\n",
       "      <td>APPLE INC</td>\n",
       "      <td>Information Technology</td>\n",
       "      <td>Technology Hardware &amp; Equipment</td>\n",
       "      <td>Technology Hardware, Storage &amp; Peripherals</td>\n",
       "      <td>Technology Hardware, Storage &amp; Peripherals</td>\n",
       "      <td>Manufacturers of cellular phones, personal com...</td>\n",
       "    </tr>\n",
       "    <tr>\n",
       "      <th>2</th>\n",
       "      <td>AAPL</td>\n",
       "      <td>2015-01-01</td>\n",
       "      <td>2014-10-20</td>\n",
       "      <td>AA</td>\n",
       "      <td>Standard &amp; Poor's Ratings Services</td>\n",
       "      <td>2014-05-27</td>\n",
       "      <td>Supplementary</td>\n",
       "      <td>9</td>\n",
       "      <td>AA</td>\n",
       "      <td>2015-02-18</td>\n",
       "      <td>...</td>\n",
       "      <td>6.153503</td>\n",
       "      <td>Same As Last Fixed Quarter Date</td>\n",
       "      <td>0.0</td>\n",
       "      <td>Apple Inc. (Apple) designs, manufactures and m...</td>\n",
       "      <td>APPLE INC</td>\n",
       "      <td>Information Technology</td>\n",
       "      <td>Technology Hardware &amp; Equipment</td>\n",
       "      <td>Technology Hardware, Storage &amp; Peripherals</td>\n",
       "      <td>Technology Hardware, Storage &amp; Peripherals</td>\n",
       "      <td>Manufacturers of cellular phones, personal com...</td>\n",
       "    </tr>\n",
       "    <tr>\n",
       "      <th>3</th>\n",
       "      <td>AAPL</td>\n",
       "      <td>2015-04-01</td>\n",
       "      <td>2015-01-27</td>\n",
       "      <td>AA</td>\n",
       "      <td>Standard &amp; Poor's Ratings Services</td>\n",
       "      <td>2015-02-18</td>\n",
       "      <td>Supplementary</td>\n",
       "      <td>9</td>\n",
       "      <td>AA</td>\n",
       "      <td>2015-05-28</td>\n",
       "      <td>...</td>\n",
       "      <td>3.985264</td>\n",
       "      <td>Same As Last Fixed Quarter Date</td>\n",
       "      <td>0.0</td>\n",
       "      <td>Apple Inc. (Apple) designs, manufactures and m...</td>\n",
       "      <td>APPLE INC</td>\n",
       "      <td>Information Technology</td>\n",
       "      <td>Technology Hardware &amp; Equipment</td>\n",
       "      <td>Technology Hardware, Storage &amp; Peripherals</td>\n",
       "      <td>Technology Hardware, Storage &amp; Peripherals</td>\n",
       "      <td>Manufacturers of cellular phones, personal com...</td>\n",
       "    </tr>\n",
       "    <tr>\n",
       "      <th>4</th>\n",
       "      <td>AAPL</td>\n",
       "      <td>2015-07-01</td>\n",
       "      <td>2015-04-27</td>\n",
       "      <td>AA</td>\n",
       "      <td>Standard &amp; Poor's Ratings Services</td>\n",
       "      <td>2015-06-02</td>\n",
       "      <td>Supplementary</td>\n",
       "      <td>9</td>\n",
       "      <td>AA</td>\n",
       "      <td>2015-08-25</td>\n",
       "      <td>...</td>\n",
       "      <td>6.295942</td>\n",
       "      <td>Same As Last Fixed Quarter Date</td>\n",
       "      <td>0.0</td>\n",
       "      <td>Apple Inc. (Apple) designs, manufactures and m...</td>\n",
       "      <td>APPLE INC</td>\n",
       "      <td>Information Technology</td>\n",
       "      <td>Technology Hardware &amp; Equipment</td>\n",
       "      <td>Technology Hardware, Storage &amp; Peripherals</td>\n",
       "      <td>Technology Hardware, Storage &amp; Peripherals</td>\n",
       "      <td>Manufacturers of cellular phones, personal com...</td>\n",
       "    </tr>\n",
       "    <tr>\n",
       "      <th>...</th>\n",
       "      <td>...</td>\n",
       "      <td>...</td>\n",
       "      <td>...</td>\n",
       "      <td>...</td>\n",
       "      <td>...</td>\n",
       "      <td>...</td>\n",
       "      <td>...</td>\n",
       "      <td>...</td>\n",
       "      <td>...</td>\n",
       "      <td>...</td>\n",
       "      <td>...</td>\n",
       "      <td>...</td>\n",
       "      <td>...</td>\n",
       "      <td>...</td>\n",
       "      <td>...</td>\n",
       "      <td>...</td>\n",
       "      <td>...</td>\n",
       "      <td>...</td>\n",
       "      <td>...</td>\n",
       "      <td>...</td>\n",
       "      <td>...</td>\n",
       "    </tr>\n",
       "    <tr>\n",
       "      <th>7329</th>\n",
       "      <td>ZTS</td>\n",
       "      <td>2015-10-01</td>\n",
       "      <td>2015-08-04</td>\n",
       "      <td>BBB</td>\n",
       "      <td>Standard &amp; Poor's Ratings Services</td>\n",
       "      <td>2015-01-30</td>\n",
       "      <td>Both</td>\n",
       "      <td>7</td>\n",
       "      <td>BBB</td>\n",
       "      <td>2015-11-03</td>\n",
       "      <td>...</td>\n",
       "      <td>3.500267</td>\n",
       "      <td>Same As Last Fixed Quarter Date</td>\n",
       "      <td>0.0</td>\n",
       "      <td>Zoetis Inc. is focused on the discovery, devel...</td>\n",
       "      <td>ZOETIS INC</td>\n",
       "      <td>Health Care</td>\n",
       "      <td>Pharmaceuticals, Biotechnology &amp; Life Sciences</td>\n",
       "      <td>Pharmaceuticals</td>\n",
       "      <td>Pharmaceuticals</td>\n",
       "      <td>Companies engaged in the research, development...</td>\n",
       "    </tr>\n",
       "    <tr>\n",
       "      <th>7330</th>\n",
       "      <td>ZTS</td>\n",
       "      <td>2016-01-01</td>\n",
       "      <td>2015-11-03</td>\n",
       "      <td>BBB</td>\n",
       "      <td>Standard &amp; Poor's Ratings Services</td>\n",
       "      <td>2015-11-03</td>\n",
       "      <td>Supplementary</td>\n",
       "      <td>7</td>\n",
       "      <td>BBB</td>\n",
       "      <td>2016-01-22</td>\n",
       "      <td>...</td>\n",
       "      <td>3.198497</td>\n",
       "      <td>Same As Last Fixed Quarter Date</td>\n",
       "      <td>0.0</td>\n",
       "      <td>Zoetis Inc. is focused on the discovery, devel...</td>\n",
       "      <td>ZOETIS INC</td>\n",
       "      <td>Health Care</td>\n",
       "      <td>Pharmaceuticals, Biotechnology &amp; Life Sciences</td>\n",
       "      <td>Pharmaceuticals</td>\n",
       "      <td>Pharmaceuticals</td>\n",
       "      <td>Companies engaged in the research, development...</td>\n",
       "    </tr>\n",
       "    <tr>\n",
       "      <th>7331</th>\n",
       "      <td>ZTS</td>\n",
       "      <td>2016-04-01</td>\n",
       "      <td>2016-02-16</td>\n",
       "      <td>BBB</td>\n",
       "      <td>Standard &amp; Poor's Ratings Services</td>\n",
       "      <td>2016-01-22</td>\n",
       "      <td>Both</td>\n",
       "      <td>7</td>\n",
       "      <td>BBB</td>\n",
       "      <td>2016-12-23</td>\n",
       "      <td>...</td>\n",
       "      <td>2.782747</td>\n",
       "      <td>Same As Last Fixed Quarter Date</td>\n",
       "      <td>0.0</td>\n",
       "      <td>Zoetis Inc. is focused on the discovery, devel...</td>\n",
       "      <td>ZOETIS INC</td>\n",
       "      <td>Health Care</td>\n",
       "      <td>Pharmaceuticals, Biotechnology &amp; Life Sciences</td>\n",
       "      <td>Pharmaceuticals</td>\n",
       "      <td>Pharmaceuticals</td>\n",
       "      <td>Companies engaged in the research, development...</td>\n",
       "    </tr>\n",
       "    <tr>\n",
       "      <th>7332</th>\n",
       "      <td>ZTS</td>\n",
       "      <td>2016-07-01</td>\n",
       "      <td>2016-05-04</td>\n",
       "      <td>BBB</td>\n",
       "      <td>Standard &amp; Poor's Ratings Services</td>\n",
       "      <td>2016-01-22</td>\n",
       "      <td>Both</td>\n",
       "      <td>7</td>\n",
       "      <td>BBB</td>\n",
       "      <td>2016-12-23</td>\n",
       "      <td>...</td>\n",
       "      <td>3.000131</td>\n",
       "      <td>Same As Last Fixed Quarter Date</td>\n",
       "      <td>0.0</td>\n",
       "      <td>Zoetis Inc. is focused on the discovery, devel...</td>\n",
       "      <td>ZOETIS INC</td>\n",
       "      <td>Health Care</td>\n",
       "      <td>Pharmaceuticals, Biotechnology &amp; Life Sciences</td>\n",
       "      <td>Pharmaceuticals</td>\n",
       "      <td>Pharmaceuticals</td>\n",
       "      <td>Companies engaged in the research, development...</td>\n",
       "    </tr>\n",
       "    <tr>\n",
       "      <th>7333</th>\n",
       "      <td>ZTS</td>\n",
       "      <td>2016-10-01</td>\n",
       "      <td>2016-08-03</td>\n",
       "      <td>BBB</td>\n",
       "      <td>Standard &amp; Poor's Ratings Services</td>\n",
       "      <td>2016-01-22</td>\n",
       "      <td>Both</td>\n",
       "      <td>7</td>\n",
       "      <td>BBB</td>\n",
       "      <td>2016-12-23</td>\n",
       "      <td>...</td>\n",
       "      <td>3.199175</td>\n",
       "      <td>Same As Last Fixed Quarter Date</td>\n",
       "      <td>0.0</td>\n",
       "      <td>Zoetis Inc. is focused on the discovery, devel...</td>\n",
       "      <td>ZOETIS INC</td>\n",
       "      <td>Health Care</td>\n",
       "      <td>Pharmaceuticals, Biotechnology &amp; Life Sciences</td>\n",
       "      <td>Pharmaceuticals</td>\n",
       "      <td>Pharmaceuticals</td>\n",
       "      <td>Companies engaged in the research, development...</td>\n",
       "    </tr>\n",
       "  </tbody>\n",
       "</table>\n",
       "<p>7334 rows × 166 columns</p>\n",
       "</div>"
      ],
      "text/plain": [
       "     ticker fixed_quarter_date earnings_call_date Rating  \\\n",
       "0      AAPL         2014-07-01         2014-04-23     AA   \n",
       "1      AAPL         2014-10-01         2014-07-22     AA   \n",
       "2      AAPL         2015-01-01         2014-10-20     AA   \n",
       "3      AAPL         2015-04-01         2015-01-27     AA   \n",
       "4      AAPL         2015-07-01         2015-04-27     AA   \n",
       "...     ...                ...                ...    ...   \n",
       "7329    ZTS         2015-10-01         2015-08-04    BBB   \n",
       "7330    ZTS         2016-01-01         2015-11-03    BBB   \n",
       "7331    ZTS         2016-04-01         2016-02-16    BBB   \n",
       "7332    ZTS         2016-07-01         2016-05-04    BBB   \n",
       "7333    ZTS         2016-10-01         2016-08-03    BBB   \n",
       "\n",
       "                      Rating Agency Name rating_date      CR_source  \\\n",
       "0     Standard & Poor's Ratings Services  2014-05-27  Supplementary   \n",
       "1     Standard & Poor's Ratings Services  2014-05-27  Supplementary   \n",
       "2     Standard & Poor's Ratings Services  2014-05-27  Supplementary   \n",
       "3     Standard & Poor's Ratings Services  2015-02-18  Supplementary   \n",
       "4     Standard & Poor's Ratings Services  2015-06-02  Supplementary   \n",
       "...                                  ...         ...            ...   \n",
       "7329  Standard & Poor's Ratings Services  2015-01-30           Both   \n",
       "7330  Standard & Poor's Ratings Services  2015-11-03  Supplementary   \n",
       "7331  Standard & Poor's Ratings Services  2016-01-22           Both   \n",
       "7332  Standard & Poor's Ratings Services  2016-01-22           Both   \n",
       "7333  Standard & Poor's Ratings Services  2016-01-22           Both   \n",
       "\n",
       "      Rating Rank AAA is 10 Next Rating Next Rating Date  ...  Altman_Z  \\\n",
       "0                         9          AA       2015-02-18  ...  6.530889   \n",
       "1                         9          AA       2015-02-18  ...  4.324703   \n",
       "2                         9          AA       2015-02-18  ...  6.153503   \n",
       "3                         9          AA       2015-05-28  ...  3.985264   \n",
       "4                         9          AA       2015-08-25  ...  6.295942   \n",
       "...                     ...         ...              ...  ...       ...   \n",
       "7329                      7         BBB       2015-11-03  ...  3.500267   \n",
       "7330                      7         BBB       2016-01-22  ...  3.198497   \n",
       "7331                      7         BBB       2016-12-23  ...  2.782747   \n",
       "7332                      7         BBB       2016-12-23  ...  3.000131   \n",
       "7333                      7         BBB       2016-12-23  ...  3.199175   \n",
       "\n",
       "     Change Direction Since Last Fixed Quarter Date  \\\n",
       "0                                              None   \n",
       "1                   Same As Last Fixed Quarter Date   \n",
       "2                   Same As Last Fixed Quarter Date   \n",
       "3                   Same As Last Fixed Quarter Date   \n",
       "4                   Same As Last Fixed Quarter Date   \n",
       "...                                             ...   \n",
       "7329                Same As Last Fixed Quarter Date   \n",
       "7330                Same As Last Fixed Quarter Date   \n",
       "7331                Same As Last Fixed Quarter Date   \n",
       "7332                Same As Last Fixed Quarter Date   \n",
       "7333                Same As Last Fixed Quarter Date   \n",
       "\n",
       "     Change Since Last Fixed Quarter Date  \\\n",
       "0                                     NaN   \n",
       "1                                     0.0   \n",
       "2                                     0.0   \n",
       "3                                     0.0   \n",
       "4                                     0.0   \n",
       "...                                   ...   \n",
       "7329                                  0.0   \n",
       "7330                                  0.0   \n",
       "7331                                  0.0   \n",
       "7332                                  0.0   \n",
       "7333                                  0.0   \n",
       "\n",
       "                                            Description Company Name  \\\n",
       "0     Apple Inc. (Apple) designs, manufactures and m...    APPLE INC   \n",
       "1     Apple Inc. (Apple) designs, manufactures and m...    APPLE INC   \n",
       "2     Apple Inc. (Apple) designs, manufactures and m...    APPLE INC   \n",
       "3     Apple Inc. (Apple) designs, manufactures and m...    APPLE INC   \n",
       "4     Apple Inc. (Apple) designs, manufactures and m...    APPLE INC   \n",
       "...                                                 ...          ...   \n",
       "7329  Zoetis Inc. is focused on the discovery, devel...   ZOETIS INC   \n",
       "7330  Zoetis Inc. is focused on the discovery, devel...   ZOETIS INC   \n",
       "7331  Zoetis Inc. is focused on the discovery, devel...   ZOETIS INC   \n",
       "7332  Zoetis Inc. is focused on the discovery, devel...   ZOETIS INC   \n",
       "7333  Zoetis Inc. is focused on the discovery, devel...   ZOETIS INC   \n",
       "\n",
       "                      Sector                                  Industry Group  \\\n",
       "0     Information Technology                 Technology Hardware & Equipment   \n",
       "1     Information Technology                 Technology Hardware & Equipment   \n",
       "2     Information Technology                 Technology Hardware & Equipment   \n",
       "3     Information Technology                 Technology Hardware & Equipment   \n",
       "4     Information Technology                 Technology Hardware & Equipment   \n",
       "...                      ...                                             ...   \n",
       "7329             Health Care  Pharmaceuticals, Biotechnology & Life Sciences   \n",
       "7330             Health Care  Pharmaceuticals, Biotechnology & Life Sciences   \n",
       "7331             Health Care  Pharmaceuticals, Biotechnology & Life Sciences   \n",
       "7332             Health Care  Pharmaceuticals, Biotechnology & Life Sciences   \n",
       "7333             Health Care  Pharmaceuticals, Biotechnology & Life Sciences   \n",
       "\n",
       "                                        Industry  \\\n",
       "0     Technology Hardware, Storage & Peripherals   \n",
       "1     Technology Hardware, Storage & Peripherals   \n",
       "2     Technology Hardware, Storage & Peripherals   \n",
       "3     Technology Hardware, Storage & Peripherals   \n",
       "4     Technology Hardware, Storage & Peripherals   \n",
       "...                                          ...   \n",
       "7329                             Pharmaceuticals   \n",
       "7330                             Pharmaceuticals   \n",
       "7331                             Pharmaceuticals   \n",
       "7332                             Pharmaceuticals   \n",
       "7333                             Pharmaceuticals   \n",
       "\n",
       "                                    Sub-Industry  \\\n",
       "0     Technology Hardware, Storage & Peripherals   \n",
       "1     Technology Hardware, Storage & Peripherals   \n",
       "2     Technology Hardware, Storage & Peripherals   \n",
       "3     Technology Hardware, Storage & Peripherals   \n",
       "4     Technology Hardware, Storage & Peripherals   \n",
       "...                                          ...   \n",
       "7329                             Pharmaceuticals   \n",
       "7330                             Pharmaceuticals   \n",
       "7331                             Pharmaceuticals   \n",
       "7332                             Pharmaceuticals   \n",
       "7333                             Pharmaceuticals   \n",
       "\n",
       "                                                Comment  \n",
       "0     Manufacturers of cellular phones, personal com...  \n",
       "1     Manufacturers of cellular phones, personal com...  \n",
       "2     Manufacturers of cellular phones, personal com...  \n",
       "3     Manufacturers of cellular phones, personal com...  \n",
       "4     Manufacturers of cellular phones, personal com...  \n",
       "...                                                 ...  \n",
       "7329  Companies engaged in the research, development...  \n",
       "7330  Companies engaged in the research, development...  \n",
       "7331  Companies engaged in the research, development...  \n",
       "7332  Companies engaged in the research, development...  \n",
       "7333  Companies engaged in the research, development...  \n",
       "\n",
       "[7334 rows x 166 columns]"
      ]
     },
     "execution_count": 2,
     "metadata": {},
     "output_type": "execute_result"
    }
   ],
   "source": [
    "df = pd.read_parquet(r'~\\Box\\STAT 222 Capstone\\Intermediate Data\\All_Data\\all_data_fixed_quarter_dates.parquet') \n",
    "df"
   ]
  },
  {
   "cell_type": "markdown",
   "metadata": {},
   "source": [
    "## Analyze Filing Date and Earnings Call Date\n",
    "\n",
    "Note that there are technically three different filing dates from the three different tabular financial data sources. However, in `Check Filing Date Across Sources.ipynb`, I found differences occur less than 1% of the time, so this isn't worth worrying about."
   ]
  },
  {
   "cell_type": "code",
   "execution_count": 3,
   "metadata": {},
   "outputs": [
    {
     "name": "stdout",
     "output_type": "stream",
     "text": [
      "Minimum fillingDate: 2010-03-31\n",
      "Maximum fillingDate: 2017-05-10\n",
      "Minimum earnings_call_date: 2010-05-03\n",
      "Maximum earnings_call_date: 2016-09-30\n"
     ]
    }
   ],
   "source": [
    "# min and max of fillingDate and earnings_call_date\n",
    "print('Minimum fillingDate:', df['fillingDate'].min())\n",
    "print('Maximum fillingDate:', df['fillingDate'].max())\n",
    "print('Minimum earnings_call_date:', df['earnings_call_date'].min())\n",
    "print('Maximum earnings_call_date:', df['earnings_call_date'].max())"
   ]
  },
  {
   "cell_type": "code",
   "execution_count": 4,
   "metadata": {},
   "outputs": [
    {
     "data": {
      "image/png": "[encoded data removed]",
      "text/plain": [
       "<Figure size 640x480 with 1 Axes>"
      ]
     },
     "metadata": {},
     "output_type": "display_data"
    }
   ],
   "source": [
    "# Check earnings call days since fillingDate\n",
    "df['call_days_since_filing'] = (pd.to_datetime(df['earnings_call_date']) - pd.to_datetime(df['fillingDate'])).dt.days\n",
    "\n",
    "# Histogram of days since fillingDate\n",
    "plt.hist(df['call_days_since_filing'], bins=50)\n",
    "plt.show()"
   ]
  },
  {
   "cell_type": "code",
   "execution_count": 5,
   "metadata": {},
   "outputs": [
    {
     "name": "stdout",
     "output_type": "stream",
     "text": [
      "count    7334.000000\n",
      "mean       -7.912463\n",
      "std        34.270349\n",
      "min      -397.000000\n",
      "25%       -11.000000\n",
      "50%        -2.000000\n",
      "75%         0.000000\n",
      "max       362.000000\n",
      "Name: call_days_since_filing, dtype: float64\n"
     ]
    }
   ],
   "source": [
    "# Summary stats of call_days_since_filing\n",
    "print(df['call_days_since_filing'].describe())"
   ]
  },
  {
   "attachments": {
    "image.png": {
     "image/png": "[encoded data removed]"
    }
   },
   "cell_type": "markdown",
   "metadata": {},
   "source": [
    "SEC guidance for reporting earnings is within 2 days\n",
    "\n",
    "![image.png](attachment:image.png)\n",
    "\n",
    "How often is this violated?"
   ]
  },
  {
   "cell_type": "code",
   "execution_count": 6,
   "metadata": {},
   "outputs": [
    {
     "name": "stdout",
     "output_type": "stream",
     "text": [
      "Share of calls with earnings call more than 2 days away from filing: 0.5433596945732206\n",
      "count of calls with earnings call more than 2 days away from filing: 3985\n"
     ]
    }
   ],
   "source": [
    "# Share more than 2 days away from filing\n",
    "# Absolute value before and after\n",
    "# Violated if greater than 2\n",
    "print('Share of calls with earnings call more than 2 days away from filing:', (np.abs(df['call_days_since_filing']) > 2).mean())\n",
    "print('count of calls with earnings call more than 2 days away from filing:', (np.abs(df['call_days_since_filing']) > 2).sum())"
   ]
  },
  {
   "cell_type": "markdown",
   "metadata": {},
   "source": [
    "More conservatively, try within 45 days"
   ]
  },
  {
   "cell_type": "code",
   "execution_count": 7,
   "metadata": {},
   "outputs": [
    {
     "name": "stdout",
     "output_type": "stream",
     "text": [
      "Share of calls with earnings call more than 45 days away from filing: 0.03313335151349877\n",
      "count of calls with earnings call more than 45 days away from filing: 243\n"
     ]
    }
   ],
   "source": [
    "print('Share of calls with earnings call more than 45 days away from filing:', (np.abs(df['call_days_since_filing']) > 45).mean())\n",
    "print('count of calls with earnings call more than 45 days away from filing:', (np.abs(df['call_days_since_filing']) > 45).sum())"
   ]
  },
  {
   "cell_type": "markdown",
   "metadata": {},
   "source": [
    "## Analyze Filing Date and Fixed Quarter Date\n",
    "\n",
    "This may be the clearest potential problem. Check distribution of gap between filing date and fixed quarter date."
   ]
  },
  {
   "cell_type": "code",
   "execution_count": 8,
   "metadata": {},
   "outputs": [
    {
     "data": {
      "image/png": "[encoded data removed]",
      "text/plain": [
       "<Figure size 640x480 with 1 Axes>"
      ]
     },
     "metadata": {},
     "output_type": "display_data"
    }
   ],
   "source": [
    "df['fixed_quarter_date_days_since_filing'] = (pd.to_datetime(df['fixed_quarter_date']) - pd.to_datetime(df['fillingDate'])).dt.days\n",
    "\n",
    "# Histogram of days since fillingDate\n",
    "plt.hist(df['fixed_quarter_date_days_since_filing'], bins=50)\n",
    "plt.title('Days since fillingDate for fixed_quarter_date')\n",
    "plt.show()"
   ]
  },
  {
   "cell_type": "code",
   "execution_count": 9,
   "metadata": {},
   "outputs": [
    {
     "name": "stdout",
     "output_type": "stream",
     "text": [
      "count    7334.000000\n",
      "mean       49.127352\n",
      "std        37.468854\n",
      "min      -363.000000\n",
      "25%        40.000000\n",
      "50%        56.000000\n",
      "75%        63.000000\n",
      "max       427.000000\n",
      "Name: fixed_quarter_date_days_since_filing, dtype: float64\n"
     ]
    }
   ],
   "source": [
    "# Summary statistics of fixed_quarter_date_days_since_filing\n",
    "print(df['fixed_quarter_date_days_since_filing'].describe())"
   ]
  },
  {
   "cell_type": "code",
   "execution_count": 10,
   "metadata": {},
   "outputs": [
    {
     "name": "stdout",
     "output_type": "stream",
     "text": [
      "Share of fixed quarter dates more than 90 days away from filing: 0.04649577311153531\n",
      "count of fixed quarter dates more than 90 days away from filing: 341\n"
     ]
    }
   ],
   "source": [
    "# Share more than 90 days since filing - should be in prior fixed quarter\n",
    "print('Share of fixed quarter dates more than 90 days away from filing:', (df['fixed_quarter_date_days_since_filing'] > 90).mean())\n",
    "# Count\n",
    "print('count of fixed quarter dates more than 90 days away from filing:', (df['fixed_quarter_date_days_since_filing'] > 90).sum())"
   ]
  },
  {
   "cell_type": "code",
   "execution_count": 11,
   "metadata": {},
   "outputs": [
    {
     "name": "stdout",
     "output_type": "stream",
     "text": [
      "Share of fixed quarter dates more than 92 days away from filing: 0.026043086992091628\n",
      "count of fixed quarter dates more than 92 days away from filing: 191\n"
     ]
    }
   ],
   "source": [
    "# Check more than 92 as well to be more precise(Q3 and Q4 are 92 days)\n",
    "print('Share of fixed quarter dates more than 92 days away from filing:', (df['fixed_quarter_date_days_since_filing'] > 92).mean())\n",
    "# Count\n",
    "print('count of fixed quarter dates more than 92 days away from filing:', (df['fixed_quarter_date_days_since_filing'] > 92).sum())"
   ]
  },
  {
   "cell_type": "code",
   "execution_count": 12,
   "metadata": {},
   "outputs": [
    {
     "name": "stdout",
     "output_type": "stream",
     "text": [
      "Share of fixed quarter dates before filing: 0.044314153258794654\n",
      "count of fixed quarter dates before filing: 325\n"
     ]
    }
   ],
   "source": [
    "# Share with fixed_quarter_date before fillingDate - should be in next fixed quarter\n",
    "print('Share of fixed quarter dates before filing:', (df['fixed_quarter_date_days_since_filing'] < 0).mean())\n",
    "# Count\n",
    "print('count of fixed quarter dates before filing:', (df['fixed_quarter_date_days_since_filing'] < 0).sum())"
   ]
  },
  {
   "cell_type": "markdown",
   "metadata": {},
   "source": [
    "## Check accepted date and if it and not filing date is the important variable"
   ]
  },
  {
   "cell_type": "code",
   "execution_count": 13,
   "metadata": {},
   "outputs": [
    {
     "name": "stdout",
     "output_type": "stream",
     "text": [
      "Minimum acceptedDate: 2010-03-30\n",
      "Maximum acceptedDate: 2017-05-10\n",
      "Share of acceptedDate not equal to fillingDate: 0.12407962912462503\n"
     ]
    },
    {
     "data": {
      "image/png": "[encoded data removed]",
      "text/plain": [
       "<Figure size 640x480 with 1 Axes>"
      ]
     },
     "metadata": {},
     "output_type": "display_data"
    }
   ],
   "source": [
    "# Get date part of acceptedDate\n",
    "df['acceptedDate'] = pd.to_datetime(df['acceptedDate']).dt.date\n",
    "print('Minimum acceptedDate:', df['acceptedDate'].min())\n",
    "print('Maximum acceptedDate:', df['acceptedDate'].max())\n",
    "\n",
    "# Ensure fillingDate is dt.date\n",
    "df['fillingDate'] = pd.to_datetime(df['fillingDate']).dt.date\n",
    "\n",
    "# Check when not equal to fillingDate\n",
    "print('Share of acceptedDate not equal to fillingDate:', (df['acceptedDate'] != df['fillingDate']).mean())\n",
    "\n",
    "# Gap of acceptedDate and fillingDate\n",
    "df['accepted_filing_gap'] = (pd.to_datetime(df['acceptedDate']) - pd.to_datetime(df['fillingDate'])).dt.days\n",
    "\n",
    "# Histogram of accepted_filing_gap\n",
    "plt.hist(df['accepted_filing_gap'], bins=50)\n",
    "plt.title('Gap between acceptedDate and fillingDate')\n",
    "plt.show()"
   ]
  },
  {
   "cell_type": "markdown",
   "metadata": {},
   "source": [
    "accepted date is actually before fillingDate so want to use fillingDate"
   ]
  }
 ],
 "metadata": {
  "kernelspec": {
   "display_name": "capstone",
   "language": "python",
   "name": "python3"
  },
  "language_info": {
   "codemirror_mode": {
    "name": "ipython",
    "version": 3
   },
   "file_extension": ".py",
   "mimetype": "text/x-python",
   "name": "python",
   "nbconvert_exporter": "python",
   "pygments_lexer": "ipython3",
   "version": "3.12.1"
  }
 },
 "nbformat": 4,
 "nbformat_minor": 2
}
