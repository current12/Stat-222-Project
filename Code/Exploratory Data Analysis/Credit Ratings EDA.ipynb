{
 "cells": [
  {
   "cell_type": "markdown",
   "metadata": {},
   "source": [
    "# Credit Ratings EDA"
   ]
  },
  {
   "cell_type": "code",
   "execution_count": 397,
   "metadata": {},
   "outputs": [],
   "source": [
    "# Packages\n",
    "import pandas as pd\n",
    "import matplotlib.pyplot as plt"
   ]
  },
  {
   "cell_type": "code",
   "execution_count": 398,
   "metadata": {},
   "outputs": [
    {
     "name": "stderr",
     "output_type": "stream",
     "text": [
      "<>:3: SyntaxWarning: invalid escape sequence '\\B'\n",
      "<>:3: SyntaxWarning: invalid escape sequence '\\B'\n",
      "C:\\Users\\ijyli\\AppData\\Local\\Temp\\ipykernel_18200\\27064269.py:3: SyntaxWarning: invalid escape sequence '\\B'\n",
      "  corporate_rating = pd.read_csv('~\\Box\\STAT 222 Capstone\\Intermediate Data\\combined_credit_rating_data.csv')\n"
     ]
    },
    {
     "data": {
      "text/html": [
       "<div>\n",
       "<style scoped>\n",
       "    .dataframe tbody tr th:only-of-type {\n",
       "        vertical-align: middle;\n",
       "    }\n",
       "\n",
       "    .dataframe tbody tr th {\n",
       "        vertical-align: top;\n",
       "    }\n",
       "\n",
       "    .dataframe thead th {\n",
       "        text-align: right;\n",
       "    }\n",
       "</style>\n",
       "<table border=\"1\" class=\"dataframe\">\n",
       "  <thead>\n",
       "    <tr style=\"text-align: right;\">\n",
       "      <th></th>\n",
       "      <th>Rating</th>\n",
       "      <th>Symbol</th>\n",
       "      <th>Rating Agency Name</th>\n",
       "      <th>Date</th>\n",
       "      <th>Source</th>\n",
       "    </tr>\n",
       "  </thead>\n",
       "  <tbody>\n",
       "    <tr>\n",
       "      <th>0</th>\n",
       "      <td>BBB</td>\n",
       "      <td>BCE</td>\n",
       "      <td>DBRS</td>\n",
       "      <td>2016-08-08</td>\n",
       "      <td>Both</td>\n",
       "    </tr>\n",
       "    <tr>\n",
       "      <th>1</th>\n",
       "      <td>BBB</td>\n",
       "      <td>BEP</td>\n",
       "      <td>DBRS</td>\n",
       "      <td>2015-11-09</td>\n",
       "      <td>Supplementary</td>\n",
       "    </tr>\n",
       "    <tr>\n",
       "      <th>2</th>\n",
       "      <td>BBB</td>\n",
       "      <td>BEP</td>\n",
       "      <td>DBRS</td>\n",
       "      <td>2015-11-25</td>\n",
       "      <td>Supplementary</td>\n",
       "    </tr>\n",
       "    <tr>\n",
       "      <th>3</th>\n",
       "      <td>A</td>\n",
       "      <td>CCJ</td>\n",
       "      <td>DBRS</td>\n",
       "      <td>2016-06-03</td>\n",
       "      <td>Supplementary</td>\n",
       "    </tr>\n",
       "    <tr>\n",
       "      <th>4</th>\n",
       "      <td>A</td>\n",
       "      <td>COST</td>\n",
       "      <td>DBRS</td>\n",
       "      <td>2014-05-20</td>\n",
       "      <td>Supplementary</td>\n",
       "    </tr>\n",
       "    <tr>\n",
       "      <th>...</th>\n",
       "      <td>...</td>\n",
       "      <td>...</td>\n",
       "      <td>...</td>\n",
       "      <td>...</td>\n",
       "      <td>...</td>\n",
       "    </tr>\n",
       "    <tr>\n",
       "      <th>8727</th>\n",
       "      <td>BBB</td>\n",
       "      <td>ZTS</td>\n",
       "      <td>Standard &amp; Poor's Ratings Services</td>\n",
       "      <td>2014-01-31</td>\n",
       "      <td>Both</td>\n",
       "    </tr>\n",
       "    <tr>\n",
       "      <th>8728</th>\n",
       "      <td>BBB</td>\n",
       "      <td>ZTS</td>\n",
       "      <td>Standard &amp; Poor's Ratings Services</td>\n",
       "      <td>2015-01-30</td>\n",
       "      <td>Both</td>\n",
       "    </tr>\n",
       "    <tr>\n",
       "      <th>8729</th>\n",
       "      <td>BBB</td>\n",
       "      <td>ZTS</td>\n",
       "      <td>Standard &amp; Poor's Ratings Services</td>\n",
       "      <td>2015-11-03</td>\n",
       "      <td>Supplementary</td>\n",
       "    </tr>\n",
       "    <tr>\n",
       "      <th>8730</th>\n",
       "      <td>BBB</td>\n",
       "      <td>ZTS</td>\n",
       "      <td>Standard &amp; Poor's Ratings Services</td>\n",
       "      <td>2016-01-22</td>\n",
       "      <td>Both</td>\n",
       "    </tr>\n",
       "    <tr>\n",
       "      <th>8731</th>\n",
       "      <td>BBB</td>\n",
       "      <td>ZTS</td>\n",
       "      <td>Standard &amp; Poor's Ratings Services</td>\n",
       "      <td>2016-12-23</td>\n",
       "      <td>Original</td>\n",
       "    </tr>\n",
       "  </tbody>\n",
       "</table>\n",
       "<p>8732 rows × 5 columns</p>\n",
       "</div>"
      ],
      "text/plain": [
       "     Rating Symbol                  Rating Agency Name        Date  \\\n",
       "0       BBB    BCE                                DBRS  2016-08-08   \n",
       "1       BBB    BEP                                DBRS  2015-11-09   \n",
       "2       BBB    BEP                                DBRS  2015-11-25   \n",
       "3         A    CCJ                                DBRS  2016-06-03   \n",
       "4         A   COST                                DBRS  2014-05-20   \n",
       "...     ...    ...                                 ...         ...   \n",
       "8727    BBB    ZTS  Standard & Poor's Ratings Services  2014-01-31   \n",
       "8728    BBB    ZTS  Standard & Poor's Ratings Services  2015-01-30   \n",
       "8729    BBB    ZTS  Standard & Poor's Ratings Services  2015-11-03   \n",
       "8730    BBB    ZTS  Standard & Poor's Ratings Services  2016-01-22   \n",
       "8731    BBB    ZTS  Standard & Poor's Ratings Services  2016-12-23   \n",
       "\n",
       "             Source  \n",
       "0              Both  \n",
       "1     Supplementary  \n",
       "2     Supplementary  \n",
       "3     Supplementary  \n",
       "4     Supplementary  \n",
       "...             ...  \n",
       "8727           Both  \n",
       "8728           Both  \n",
       "8729  Supplementary  \n",
       "8730           Both  \n",
       "8731       Original  \n",
       "\n",
       "[8732 rows x 5 columns]"
      ]
     },
     "execution_count": 398,
     "metadata": {},
     "output_type": "execute_result"
    }
   ],
   "source": [
    "# Load combined data into pandas\n",
    "# C:\\Users\\ijyli\\Box\\STAT 222 Capstone\\Intermediate Data\\combined_credit_rating_data.csv\n",
    "corporate_rating = pd.read_csv('~\\Box\\STAT 222 Capstone\\Intermediate Data\\combined_credit_rating_data.csv')\n",
    "corporate_rating"
   ]
  },
  {
   "cell_type": "code",
   "execution_count": 399,
   "metadata": {},
   "outputs": [],
   "source": [
    "# Convert Date to datetime in pandas\n",
    "corporate_rating['Date'] = pd.to_datetime(corporate_rating['Date'])"
   ]
  },
  {
   "cell_type": "code",
   "execution_count": 400,
   "metadata": {},
   "outputs": [
    {
     "name": "stdout",
     "output_type": "stream",
     "text": [
      "Index(['Rating', 'Symbol', 'Rating Agency Name', 'Date', 'Source'], dtype='object')\n"
     ]
    }
   ],
   "source": [
    "# All columns\n",
    "print(corporate_rating.columns)"
   ]
  },
  {
   "cell_type": "code",
   "execution_count": 401,
   "metadata": {},
   "outputs": [
    {
     "data": {
      "text/html": [
       "<div>\n",
       "<style scoped>\n",
       "    .dataframe tbody tr th:only-of-type {\n",
       "        vertical-align: middle;\n",
       "    }\n",
       "\n",
       "    .dataframe tbody tr th {\n",
       "        vertical-align: top;\n",
       "    }\n",
       "\n",
       "    .dataframe thead th {\n",
       "        text-align: right;\n",
       "    }\n",
       "</style>\n",
       "<table border=\"1\" class=\"dataframe\">\n",
       "  <thead>\n",
       "    <tr style=\"text-align: right;\">\n",
       "      <th></th>\n",
       "      <th>Date</th>\n",
       "    </tr>\n",
       "  </thead>\n",
       "  <tbody>\n",
       "    <tr>\n",
       "      <th>count</th>\n",
       "      <td>8732</td>\n",
       "    </tr>\n",
       "    <tr>\n",
       "      <th>mean</th>\n",
       "      <td>2014-06-11 15:19:22.620247552</td>\n",
       "    </tr>\n",
       "    <tr>\n",
       "      <th>min</th>\n",
       "      <td>2005-08-16 00:00:00</td>\n",
       "    </tr>\n",
       "    <tr>\n",
       "      <th>25%</th>\n",
       "      <td>2013-07-08 18:00:00</td>\n",
       "    </tr>\n",
       "    <tr>\n",
       "      <th>50%</th>\n",
       "      <td>2014-07-25 00:00:00</td>\n",
       "    </tr>\n",
       "    <tr>\n",
       "      <th>75%</th>\n",
       "      <td>2015-07-27 06:00:00</td>\n",
       "    </tr>\n",
       "    <tr>\n",
       "      <th>max</th>\n",
       "      <td>2016-12-27 00:00:00</td>\n",
       "    </tr>\n",
       "  </tbody>\n",
       "</table>\n",
       "</div>"
      ],
      "text/plain": [
       "                                Date\n",
       "count                           8732\n",
       "mean   2014-06-11 15:19:22.620247552\n",
       "min              2005-08-16 00:00:00\n",
       "25%              2013-07-08 18:00:00\n",
       "50%              2014-07-25 00:00:00\n",
       "75%              2015-07-27 06:00:00\n",
       "max              2016-12-27 00:00:00"
      ]
     },
     "execution_count": 401,
     "metadata": {},
     "output_type": "execute_result"
    }
   ],
   "source": [
    "# Summarize variables\n",
    "corporate_rating.describe()"
   ]
  },
  {
   "cell_type": "code",
   "execution_count": 402,
   "metadata": {},
   "outputs": [
    {
     "name": "stdout",
     "output_type": "stream",
     "text": [
      "Axes(0.125,0.11;0.775x0.77)\n",
      "Year\n",
      "2005       1\n",
      "2009       1\n",
      "2010      47\n",
      "2011     355\n",
      "2012    1250\n",
      "2013    1516\n",
      "2014    2109\n",
      "2015    2259\n",
      "2016    1194\n",
      "Name: count, dtype: int64\n"
     ]
    },
    {
     "data": {
      "image/png": "[encoded data removed]",
      "text/plain": [
       "<Figure size 640x480 with 1 Axes>"
      ]
     },
     "metadata": {},
     "output_type": "display_data"
    }
   ],
   "source": [
    "# Create Year variable\n",
    "corporate_rating['Year'] = corporate_rating['Date'].dt.year\n",
    "\n",
    "# Bar chart, sorted by Year\n",
    "print(corporate_rating['Year'].value_counts().sort_index().plot(kind='bar', title='Number of Credit Ratings Issued by Year'))\n",
    "\n",
    "# Table of values of Year\n",
    "print(corporate_rating['Year'].value_counts().sort_index())"
   ]
  },
  {
   "cell_type": "code",
   "execution_count": 403,
   "metadata": {},
   "outputs": [
    {
     "data": {
      "image/png": "[encoded data removed]",
      "text/plain": [
       "<Figure size 640x480 with 1 Axes>"
      ]
     },
     "metadata": {},
     "output_type": "display_data"
    }
   ],
   "source": [
    "# How many observations/ratings per company? Create histogram with bin width of 1 and axis ticks every 1\n",
    "# Bars centered over ticks\n",
    "# Bar width of 0.5\n",
    "plt.hist(corporate_rating['Symbol'].value_counts(), bins=range(10), align='left', rwidth=0.5)\n",
    "plt.xticks(range(10))\n",
    "plt.title('Number of Rating Issuances per Company')\n",
    "plt.show()"
   ]
  },
  {
   "cell_type": "code",
   "execution_count": 404,
   "metadata": {},
   "outputs": [
    {
     "data": {
      "text/plain": [
       "<Axes: title={'center': 'Issuances of Each Rating'}, xlabel='Rating'>"
      ]
     },
     "execution_count": 404,
     "metadata": {},
     "output_type": "execute_result"
    },
    {
     "data": {
      "image/png": "[encoded data removed]",
      "text/plain": [
       "<Figure size 640x480 with 1 Axes>"
      ]
     },
     "metadata": {},
     "output_type": "display_data"
    }
   ],
   "source": [
    "# Bar chart of Rating\n",
    "corporate_rating['Rating'].value_counts().plot(kind='bar', title='Issuances of Each Rating')"
   ]
  },
  {
   "cell_type": "code",
   "execution_count": 405,
   "metadata": {},
   "outputs": [
    {
     "data": {
      "image/png": "[encoded data removed]",
      "text/plain": [
       "<Figure size 640x480 with 1 Axes>"
      ]
     },
     "metadata": {},
     "output_type": "display_data"
    }
   ],
   "source": [
    "# Colored with gradient and ordered\n",
    "\n",
    "# Colors AAA through D\n",
    "# Used https://colordesigner.io/gradient-generator#google_vignette\n",
    "# Assign hex codes from green to red\n",
    "#32671d\n",
    "#416703\n",
    "#516600\n",
    "#626400\n",
    "#756000\n",
    "#885b00\n",
    "#9c5200\n",
    "#af4500\n",
    "#c33200\n",
    "#d60000\n",
    "hex_code_mapper = {'AAA': '#32671d', 'AA': '#416703', 'A': '#516600', 'BBB': '#626400', 'BB': '#756000', 'B': '#885b00', 'CCC': '#9c5200', 'CC': '#af4500', 'C': '#c33200', 'D': '#d60000'}\n",
    "\n",
    "# Ordering of bars - keys from hex_code_mapper\n",
    "bar_order = ['AAA', 'AA', 'A', 'BBB', 'BB', 'B', 'CCC', 'CC', 'C', 'D']\n",
    "# Assign values of Rating to this ordering\n",
    "corporate_rating['Rating'] = pd.Categorical(corporate_rating['Rating'], categories=bar_order, ordered=True)\n",
    "\n",
    "# Create plot\n",
    "# Save to \"../Output/Distribution of Ratings.png\"\n",
    "plt.bar(corporate_rating['Rating'].value_counts().sort_index().index, corporate_rating['Rating'].value_counts().sort_index(), color=[hex_code_mapper[i] for i in bar_order])\n",
    "plt.title('Changes to Credit Rating')\n",
    "#plt.savefig('../../Output/Distribution of Rating Issuances.png')\n",
    "plt.show()\n"
   ]
  },
  {
   "cell_type": "code",
   "execution_count": 406,
   "metadata": {},
   "outputs": [
    {
     "name": "stderr",
     "output_type": "stream",
     "text": [
      "C:\\Users\\ijyli\\AppData\\Local\\Temp\\ipykernel_18200\\2179924635.py:7: UserWarning: set_ticklabels() should only be used with a fixed number of ticks, i.e. after set_ticks() or using a FixedLocator.\n",
      "  plt.gca().set_xticklabels(map(f, plt.gca().get_xticklabels()))\n"
     ]
    },
    {
     "data": {
      "image/png": "[encoded data removed]",
      "text/plain": [
       "<Figure size 640x480 with 1 Axes>"
      ]
     },
     "metadata": {},
     "output_type": "display_data"
    }
   ],
   "source": [
    "# Plot of Rating Agency Name\n",
    "plt.bar(corporate_rating['Rating Agency Name'].value_counts().index, corporate_rating['Rating Agency Name'].value_counts())\n",
    "plt.title('Number of Rating Issuances by Rating Agency')\n",
    "#plt.savefig('../../Output/Rating Issuances by Rating Agency.png')\n",
    "import textwrap\n",
    "f = lambda x: textwrap.fill(x.get_text(), 8)\n",
    "plt.gca().set_xticklabels(map(f, plt.gca().get_xticklabels()))\n",
    "plt.show()"
   ]
  },
  {
   "cell_type": "code",
   "execution_count": 407,
   "metadata": {},
   "outputs": [
    {
     "data": {
      "text/plain": [
       "886"
      ]
     },
     "execution_count": 407,
     "metadata": {},
     "output_type": "execute_result"
    }
   ],
   "source": [
    "# Count of firms\n",
    "corporate_rating['Symbol'].nunique()"
   ]
  },
  {
   "cell_type": "markdown",
   "metadata": {},
   "source": [
    "# Limited Scope - S&P Ratings 2010-2016"
   ]
  },
  {
   "cell_type": "code",
   "execution_count": 408,
   "metadata": {},
   "outputs": [
    {
     "data": {
      "text/html": [
       "<div>\n",
       "<style scoped>\n",
       "    .dataframe tbody tr th:only-of-type {\n",
       "        vertical-align: middle;\n",
       "    }\n",
       "\n",
       "    .dataframe tbody tr th {\n",
       "        vertical-align: top;\n",
       "    }\n",
       "\n",
       "    .dataframe thead th {\n",
       "        text-align: right;\n",
       "    }\n",
       "</style>\n",
       "<table border=\"1\" class=\"dataframe\">\n",
       "  <thead>\n",
       "    <tr style=\"text-align: right;\">\n",
       "      <th></th>\n",
       "      <th>Rating</th>\n",
       "      <th>Symbol</th>\n",
       "      <th>Rating Agency Name</th>\n",
       "      <th>Date</th>\n",
       "      <th>Source</th>\n",
       "      <th>Year</th>\n",
       "    </tr>\n",
       "  </thead>\n",
       "  <tbody>\n",
       "    <tr>\n",
       "      <th>5560</th>\n",
       "      <td>AAA</td>\n",
       "      <td>AAPL</td>\n",
       "      <td>Standard &amp; Poor's Ratings Services</td>\n",
       "      <td>2014-04-24</td>\n",
       "      <td>Supplementary</td>\n",
       "      <td>2014</td>\n",
       "    </tr>\n",
       "    <tr>\n",
       "      <th>5561</th>\n",
       "      <td>AA</td>\n",
       "      <td>AAPL</td>\n",
       "      <td>Standard &amp; Poor's Ratings Services</td>\n",
       "      <td>2014-05-27</td>\n",
       "      <td>Supplementary</td>\n",
       "      <td>2014</td>\n",
       "    </tr>\n",
       "    <tr>\n",
       "      <th>5562</th>\n",
       "      <td>AA</td>\n",
       "      <td>AAPL</td>\n",
       "      <td>Standard &amp; Poor's Ratings Services</td>\n",
       "      <td>2015-02-18</td>\n",
       "      <td>Supplementary</td>\n",
       "      <td>2015</td>\n",
       "    </tr>\n",
       "    <tr>\n",
       "      <th>5563</th>\n",
       "      <td>AA</td>\n",
       "      <td>AAPL</td>\n",
       "      <td>Standard &amp; Poor's Ratings Services</td>\n",
       "      <td>2015-05-28</td>\n",
       "      <td>Both</td>\n",
       "      <td>2015</td>\n",
       "    </tr>\n",
       "    <tr>\n",
       "      <th>5564</th>\n",
       "      <td>AA</td>\n",
       "      <td>AAPL</td>\n",
       "      <td>Standard &amp; Poor's Ratings Services</td>\n",
       "      <td>2015-06-02</td>\n",
       "      <td>Supplementary</td>\n",
       "      <td>2015</td>\n",
       "    </tr>\n",
       "    <tr>\n",
       "      <th>...</th>\n",
       "      <td>...</td>\n",
       "      <td>...</td>\n",
       "      <td>...</td>\n",
       "      <td>...</td>\n",
       "      <td>...</td>\n",
       "      <td>...</td>\n",
       "    </tr>\n",
       "    <tr>\n",
       "      <th>8727</th>\n",
       "      <td>BBB</td>\n",
       "      <td>ZTS</td>\n",
       "      <td>Standard &amp; Poor's Ratings Services</td>\n",
       "      <td>2014-01-31</td>\n",
       "      <td>Both</td>\n",
       "      <td>2014</td>\n",
       "    </tr>\n",
       "    <tr>\n",
       "      <th>8728</th>\n",
       "      <td>BBB</td>\n",
       "      <td>ZTS</td>\n",
       "      <td>Standard &amp; Poor's Ratings Services</td>\n",
       "      <td>2015-01-30</td>\n",
       "      <td>Both</td>\n",
       "      <td>2015</td>\n",
       "    </tr>\n",
       "    <tr>\n",
       "      <th>8729</th>\n",
       "      <td>BBB</td>\n",
       "      <td>ZTS</td>\n",
       "      <td>Standard &amp; Poor's Ratings Services</td>\n",
       "      <td>2015-11-03</td>\n",
       "      <td>Supplementary</td>\n",
       "      <td>2015</td>\n",
       "    </tr>\n",
       "    <tr>\n",
       "      <th>8730</th>\n",
       "      <td>BBB</td>\n",
       "      <td>ZTS</td>\n",
       "      <td>Standard &amp; Poor's Ratings Services</td>\n",
       "      <td>2016-01-22</td>\n",
       "      <td>Both</td>\n",
       "      <td>2016</td>\n",
       "    </tr>\n",
       "    <tr>\n",
       "      <th>8731</th>\n",
       "      <td>BBB</td>\n",
       "      <td>ZTS</td>\n",
       "      <td>Standard &amp; Poor's Ratings Services</td>\n",
       "      <td>2016-12-23</td>\n",
       "      <td>Original</td>\n",
       "      <td>2016</td>\n",
       "    </tr>\n",
       "  </tbody>\n",
       "</table>\n",
       "<p>3171 rows × 6 columns</p>\n",
       "</div>"
      ],
      "text/plain": [
       "     Rating Symbol                  Rating Agency Name       Date  \\\n",
       "5560    AAA   AAPL  Standard & Poor's Ratings Services 2014-04-24   \n",
       "5561     AA   AAPL  Standard & Poor's Ratings Services 2014-05-27   \n",
       "5562     AA   AAPL  Standard & Poor's Ratings Services 2015-02-18   \n",
       "5563     AA   AAPL  Standard & Poor's Ratings Services 2015-05-28   \n",
       "5564     AA   AAPL  Standard & Poor's Ratings Services 2015-06-02   \n",
       "...     ...    ...                                 ...        ...   \n",
       "8727    BBB    ZTS  Standard & Poor's Ratings Services 2014-01-31   \n",
       "8728    BBB    ZTS  Standard & Poor's Ratings Services 2015-01-30   \n",
       "8729    BBB    ZTS  Standard & Poor's Ratings Services 2015-11-03   \n",
       "8730    BBB    ZTS  Standard & Poor's Ratings Services 2016-01-22   \n",
       "8731    BBB    ZTS  Standard & Poor's Ratings Services 2016-12-23   \n",
       "\n",
       "             Source  Year  \n",
       "5560  Supplementary  2014  \n",
       "5561  Supplementary  2014  \n",
       "5562  Supplementary  2015  \n",
       "5563           Both  2015  \n",
       "5564  Supplementary  2015  \n",
       "...             ...   ...  \n",
       "8727           Both  2014  \n",
       "8728           Both  2015  \n",
       "8729  Supplementary  2015  \n",
       "8730           Both  2016  \n",
       "8731       Original  2016  \n",
       "\n",
       "[3171 rows x 6 columns]"
      ]
     },
     "execution_count": 408,
     "metadata": {},
     "output_type": "execute_result"
    }
   ],
   "source": [
    "# Regex search for Standard & Poor's\n",
    "# Limit on years\n",
    "s_and_p_2010_2016_data = corporate_rating[corporate_rating['Rating Agency Name'].str.contains('Standard & Poor\\'s') & (corporate_rating['Year'] >= 2010) & (corporate_rating['Year'] <= 2016)]\n",
    "\n",
    "s_and_p_2010_2016_data"
   ]
  },
  {
   "cell_type": "code",
   "execution_count": 409,
   "metadata": {},
   "outputs": [
    {
     "data": {
      "text/plain": [
       "638"
      ]
     },
     "execution_count": 409,
     "metadata": {},
     "output_type": "execute_result"
    }
   ],
   "source": [
    "# Count of firms\n",
    "s_and_p_2010_2016_data['Symbol'].nunique()"
   ]
  },
  {
   "cell_type": "code",
   "execution_count": 410,
   "metadata": {},
   "outputs": [
    {
     "data": {
      "image/png": "[encoded data removed]",
      "text/plain": [
       "<Figure size 640x480 with 1 Axes>"
      ]
     },
     "metadata": {},
     "output_type": "display_data"
    }
   ],
   "source": [
    "# How many observations/ratings per company? Create histogram with bin width of 1 and axis ticks every 1\n",
    "# Bars centered over ticks\n",
    "# Bar width of 0.5\n",
    "plt.hist(s_and_p_2010_2016_data['Symbol'].value_counts(), bins=range(10), align='left', rwidth=0.5)\n",
    "plt.xticks(range(10))\n",
    "plt.title('Number of Rating Issuances per Company - S&P 2010-2016')\n",
    "plt.savefig('../../Output/Number of Rating Issuances per Company - S&P 2010-2016.png')\n",
    "plt.show()"
   ]
  },
  {
   "cell_type": "code",
   "execution_count": 411,
   "metadata": {},
   "outputs": [
    {
     "name": "stdout",
     "output_type": "stream",
     "text": [
      "Rating Change  False  True \n",
      "Type                       \n",
      "Affirmation     1991      0\n",
      "Ambiguous        638      0\n",
      "Change             0    542\n",
      "Ambiguous    False  True \n",
      "Type                     \n",
      "Affirmation   1991      0\n",
      "Ambiguous        0    638\n",
      "Change         542      0\n",
      "     Rating Symbol                  Rating Agency Name       Date  \\\n",
      "5560    AAA   AAPL  Standard & Poor's Ratings Services 2014-04-24   \n",
      "5561     AA   AAPL  Standard & Poor's Ratings Services 2014-05-27   \n",
      "5562     AA   AAPL  Standard & Poor's Ratings Services 2015-02-18   \n",
      "5563     AA   AAPL  Standard & Poor's Ratings Services 2015-05-28   \n",
      "5564     AA   AAPL  Standard & Poor's Ratings Services 2015-06-02   \n",
      "...     ...    ...                                 ...        ...   \n",
      "5655     BB   ALGT  Standard & Poor's Ratings Services 2016-11-30   \n",
      "5656      B    ALK  Standard & Poor's Ratings Services 2011-07-29   \n",
      "5657      B    ALK  Standard & Poor's Ratings Services 2012-07-20   \n",
      "5658     BB   ALKS  Standard & Poor's Ratings Services 2012-09-07   \n",
      "5659     BB   ALKS  Standard & Poor's Ratings Services 2014-08-27   \n",
      "\n",
      "             Source  Year         Type  \n",
      "5560  Supplementary  2014    Ambiguous  \n",
      "5561  Supplementary  2014       Change  \n",
      "5562  Supplementary  2015  Affirmation  \n",
      "5563           Both  2015  Affirmation  \n",
      "5564  Supplementary  2015  Affirmation  \n",
      "...             ...   ...          ...  \n",
      "5655  Supplementary  2016  Affirmation  \n",
      "5656  Supplementary  2011    Ambiguous  \n",
      "5657  Supplementary  2012  Affirmation  \n",
      "5658       Original  2012    Ambiguous  \n",
      "5659       Original  2014  Affirmation  \n",
      "\n",
      "[100 rows x 7 columns]\n"
     ]
    }
   ],
   "source": [
    "# Mark changes in ratings\n",
    "# Order by Rating Agency Name, Symbol, and Date\n",
    "# If Rating is not equal to the lag but Rating Agency Name and Symbol are, flag the observation as a change in rating\n",
    "s_and_p_2010_2016_data = s_and_p_2010_2016_data.sort_values(by=['Rating Agency Name', 'Symbol', 'Date'])\n",
    "s_and_p_2010_2016_data['Rating Change'] = (s_and_p_2010_2016_data['Rating'] != s_and_p_2010_2016_data['Rating'].shift(1)) & (s_and_p_2010_2016_data['Rating Agency Name'] == s_and_p_2010_2016_data['Rating Agency Name'].shift(1)) & (s_and_p_2010_2016_data['Symbol'] == s_and_p_2010_2016_data['Symbol'].shift(1))\n",
    "# Mark item as ambiguous if rating agency or symbol changes\n",
    "s_and_p_2010_2016_data['Ambiguous'] = (s_and_p_2010_2016_data['Rating Agency Name'] != s_and_p_2010_2016_data['Rating Agency Name'].shift(1)) | (s_and_p_2010_2016_data['Symbol'] != s_and_p_2010_2016_data['Symbol'].shift(1))\n",
    "\n",
    "# Create Type variable\n",
    "# Ambiguous if Ambiguous is True\n",
    "# Change if Rating Change is True\n",
    "# Affirmation if both are False\n",
    "s_and_p_2010_2016_data['Type'] = 'Affirmation'\n",
    "s_and_p_2010_2016_data.loc[s_and_p_2010_2016_data['Rating Change'], 'Type'] = 'Change'\n",
    "s_and_p_2010_2016_data.loc[s_and_p_2010_2016_data['Ambiguous'], 'Type'] = 'Ambiguous'\n",
    "\n",
    "# Cross tabulate Type and Rating Change and Ambiguous\n",
    "print(pd.crosstab(s_and_p_2010_2016_data['Type'], s_and_p_2010_2016_data['Rating Change']))\n",
    "print(pd.crosstab(s_and_p_2010_2016_data['Type'], s_and_p_2010_2016_data['Ambiguous']))\n",
    "\n",
    "# Drop Rating Change and Ambiguous columns\n",
    "s_and_p_2010_2016_data = s_and_p_2010_2016_data.drop(columns=['Rating Change', 'Ambiguous'])\n",
    "\n",
    "# Print 100 rows to check\n",
    "print(s_and_p_2010_2016_data.head(100))"
   ]
  },
  {
   "cell_type": "code",
   "execution_count": 412,
   "metadata": {},
   "outputs": [
    {
     "name": "stdout",
     "output_type": "stream",
     "text": [
      "Num ratings issued\n",
      "3171\n",
      "Type\n",
      "Affirmation    1991\n",
      "Ambiguous       638\n",
      "Change          542\n",
      "Name: count, dtype: int64\n"
     ]
    }
   ],
   "source": [
    "# Values of Type\n",
    "print('Num ratings issued')\n",
    "print(len(s_and_p_2010_2016_data))\n",
    "print(s_and_p_2010_2016_data['Type'].value_counts())"
   ]
  }
 ],
 "metadata": {
  "kernelspec": {
   "display_name": "capstone",
   "language": "python",
   "name": "python3"
  },
  "language_info": {
   "codemirror_mode": {
    "name": "ipython",
    "version": 3
   },
   "file_extension": ".py",
   "mimetype": "text/x-python",
   "name": "python",
   "nbconvert_exporter": "python",
   "pygments_lexer": "ipython3",
   "version": "3.12.1"
  }
 },
 "nbformat": 4,
 "nbformat_minor": 2
}
