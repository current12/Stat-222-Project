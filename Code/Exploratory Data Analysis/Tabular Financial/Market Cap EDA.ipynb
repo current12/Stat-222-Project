{
 "cells": [
  {
   "cell_type": "markdown",
   "metadata": {},
   "source": [
    "# Market Cap EDA"
   ]
  },
  {
   "cell_type": "code",
   "execution_count": 1,
   "metadata": {},
   "outputs": [],
   "source": [
    "# Packages\n",
    "import pandas as pd"
   ]
  },
  {
   "cell_type": "markdown",
   "metadata": {},
   "source": [
    "## Original Market Cap Data"
   ]
  },
  {
   "cell_type": "code",
   "execution_count": 2,
   "metadata": {},
   "outputs": [
    {
     "data": {
      "text/html": [
       "<div>\n",
       "<style scoped>\n",
       "    .dataframe tbody tr th:only-of-type {\n",
       "        vertical-align: middle;\n",
       "    }\n",
       "\n",
       "    .dataframe tbody tr th {\n",
       "        vertical-align: top;\n",
       "    }\n",
       "\n",
       "    .dataframe thead th {\n",
       "        text-align: right;\n",
       "    }\n",
       "</style>\n",
       "<table border=\"1\" class=\"dataframe\">\n",
       "  <thead>\n",
       "    <tr style=\"text-align: right;\">\n",
       "      <th></th>\n",
       "      <th>symbol</th>\n",
       "      <th>date</th>\n",
       "      <th>marketCap</th>\n",
       "    </tr>\n",
       "  </thead>\n",
       "  <tbody>\n",
       "    <tr>\n",
       "      <th>0</th>\n",
       "      <td>AA</td>\n",
       "      <td>2013-12-31</td>\n",
       "      <td>4.640618e+09</td>\n",
       "    </tr>\n",
       "    <tr>\n",
       "      <th>1</th>\n",
       "      <td>AA</td>\n",
       "      <td>2013-12-30</td>\n",
       "      <td>4.597010e+09</td>\n",
       "    </tr>\n",
       "    <tr>\n",
       "      <th>2</th>\n",
       "      <td>AA</td>\n",
       "      <td>2013-12-27</td>\n",
       "      <td>4.667873e+09</td>\n",
       "    </tr>\n",
       "    <tr>\n",
       "      <th>3</th>\n",
       "      <td>AA</td>\n",
       "      <td>2013-12-26</td>\n",
       "      <td>4.553402e+09</td>\n",
       "    </tr>\n",
       "    <tr>\n",
       "      <th>4</th>\n",
       "      <td>AA</td>\n",
       "      <td>2013-12-24</td>\n",
       "      <td>4.524330e+09</td>\n",
       "    </tr>\n",
       "    <tr>\n",
       "      <th>...</th>\n",
       "      <td>...</td>\n",
       "      <td>...</td>\n",
       "      <td>...</td>\n",
       "    </tr>\n",
       "    <tr>\n",
       "      <th>1282801</th>\n",
       "      <td>ZTS</td>\n",
       "      <td>2014-01-08</td>\n",
       "      <td>1.587733e+10</td>\n",
       "    </tr>\n",
       "    <tr>\n",
       "      <th>1282802</th>\n",
       "      <td>ZTS</td>\n",
       "      <td>2014-01-07</td>\n",
       "      <td>1.605742e+10</td>\n",
       "    </tr>\n",
       "    <tr>\n",
       "      <th>1282803</th>\n",
       "      <td>ZTS</td>\n",
       "      <td>2014-01-06</td>\n",
       "      <td>1.599739e+10</td>\n",
       "    </tr>\n",
       "    <tr>\n",
       "      <th>1282804</th>\n",
       "      <td>ZTS</td>\n",
       "      <td>2014-01-03</td>\n",
       "      <td>1.603240e+10</td>\n",
       "    </tr>\n",
       "    <tr>\n",
       "      <th>1282805</th>\n",
       "      <td>ZTS</td>\n",
       "      <td>2014-01-02</td>\n",
       "      <td>1.618748e+10</td>\n",
       "    </tr>\n",
       "  </tbody>\n",
       "</table>\n",
       "<p>1282806 rows × 3 columns</p>\n",
       "</div>"
      ],
      "text/plain": [
       "        symbol        date     marketCap\n",
       "0           AA  2013-12-31  4.640618e+09\n",
       "1           AA  2013-12-30  4.597010e+09\n",
       "2           AA  2013-12-27  4.667873e+09\n",
       "3           AA  2013-12-26  4.553402e+09\n",
       "4           AA  2013-12-24  4.524330e+09\n",
       "...        ...         ...           ...\n",
       "1282801    ZTS  2014-01-08  1.587733e+10\n",
       "1282802    ZTS  2014-01-07  1.605742e+10\n",
       "1282803    ZTS  2014-01-06  1.599739e+10\n",
       "1282804    ZTS  2014-01-03  1.603240e+10\n",
       "1282805    ZTS  2014-01-02  1.618748e+10\n",
       "\n",
       "[1282806 rows x 3 columns]"
      ]
     },
     "execution_count": 2,
     "metadata": {},
     "output_type": "execute_result"
    }
   ],
   "source": [
    "# Read in the data\n",
    "# C:\\Users\\ijyli\\Box\\STAT 222 Capstone\\Raw Data\\Market Cap Data\\market_cap_data.parquet\n",
    "market_cap_data = pd.read_parquet('~/Box/STAT 222 Capstone/Raw Data/Market Cap Data/market_cap_data.parquet')\n",
    "market_cap_data"
   ]
  },
  {
   "cell_type": "code",
   "execution_count": 3,
   "metadata": {},
   "outputs": [
    {
     "name": "stdout",
     "output_type": "stream",
     "text": [
      "Number of companies:  779\n"
     ]
    }
   ],
   "source": [
    "# Number of companies\n",
    "num_companies = len(market_cap_data['symbol'].unique())\n",
    "print('Number of companies: ', num_companies)"
   ]
  },
  {
   "cell_type": "code",
   "execution_count": 5,
   "metadata": {},
   "outputs": [
    {
     "name": "stdout",
     "output_type": "stream",
     "text": [
      "NaN check:  symbol       0\n",
      "date         0\n",
      "marketCap    0\n",
      "dtype: int64\n"
     ]
    }
   ],
   "source": [
    "# Check for NaN\n",
    "nan_check = market_cap_data.isna().sum()\n",
    "print('NaN check: ', nan_check)"
   ]
  }
 ],
 "metadata": {
  "kernelspec": {
   "display_name": "capstone",
   "language": "python",
   "name": "python3"
  },
  "language_info": {
   "codemirror_mode": {
    "name": "ipython",
    "version": 3
   },
   "file_extension": ".py",
   "mimetype": "text/x-python",
   "name": "python",
   "nbconvert_exporter": "python",
   "pygments_lexer": "ipython3",
   "version": "3.12.1"
  }
 },
 "nbformat": 4,
 "nbformat_minor": 2
}
