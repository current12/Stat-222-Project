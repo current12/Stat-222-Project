{
 "cells": [
  {
   "cell_type": "code",
   "execution_count": 1,
   "metadata": {},
   "outputs": [],
   "source": [
    "import pandas as pd\n",
    "import matplotlib.pyplot as plt\n",
    "from datetime import timedelta"
   ]
  },
  {
   "cell_type": "code",
   "execution_count": 2,
   "metadata": {},
   "outputs": [],
   "source": [
    "df = pd.read_csv(r'~\\Box\\STAT 222 Capstone\\Raw Data\\Earnings call from web\\earning_call_web.csv')"
   ]
  },
  {
   "cell_type": "code",
   "execution_count": 3,
   "metadata": {},
   "outputs": [
    {
     "name": "stdout",
     "output_type": "stream",
     "text": [
      "(18346, 6)\n",
      "Index(['Unnamed: 0', 'symbol', 'quarter', 'year', 'date', 'content'], dtype='object')\n"
     ]
    }
   ],
   "source": [
    "print(df.shape)\n",
    "print(df.columns)\n",
    "df[\"date\"] = pd.to_datetime(df[\"date\"])"
   ]
  },
  {
   "cell_type": "code",
   "execution_count": 4,
   "metadata": {},
   "outputs": [
    {
     "data": {
      "text/html": [
       "<div>\n",
       "<style scoped>\n",
       "    .dataframe tbody tr th:only-of-type {\n",
       "        vertical-align: middle;\n",
       "    }\n",
       "\n",
       "    .dataframe tbody tr th {\n",
       "        vertical-align: top;\n",
       "    }\n",
       "\n",
       "    .dataframe thead th {\n",
       "        text-align: right;\n",
       "    }\n",
       "</style>\n",
       "<table border=\"1\" class=\"dataframe\">\n",
       "  <thead>\n",
       "    <tr style=\"text-align: right;\">\n",
       "      <th></th>\n",
       "      <th>symbol</th>\n",
       "      <th>quarter</th>\n",
       "      <th>year</th>\n",
       "      <th>date</th>\n",
       "      <th>content</th>\n",
       "    </tr>\n",
       "  </thead>\n",
       "  <tbody>\n",
       "    <tr>\n",
       "      <th>0</th>\n",
       "      <td>BCE</td>\n",
       "      <td>4</td>\n",
       "      <td>2012</td>\n",
       "      <td>2013-02-07 17:00:00</td>\n",
       "      <td>Thane Fotopoulos: Good morning everybody. I am...</td>\n",
       "    </tr>\n",
       "    <tr>\n",
       "      <th>1</th>\n",
       "      <td>BCE</td>\n",
       "      <td>3</td>\n",
       "      <td>2012</td>\n",
       "      <td>2012-11-01 13:00:49</td>\n",
       "      <td>Executives: Thane Fotopoulos George Alexander ...</td>\n",
       "    </tr>\n",
       "    <tr>\n",
       "      <th>2</th>\n",
       "      <td>BCE</td>\n",
       "      <td>2</td>\n",
       "      <td>2012</td>\n",
       "      <td>2012-08-08 15:00:00</td>\n",
       "      <td>Executives: Thane Fotopoulos George A. Cope - ...</td>\n",
       "    </tr>\n",
       "    <tr>\n",
       "      <th>3</th>\n",
       "      <td>BCE</td>\n",
       "      <td>4</td>\n",
       "      <td>2013</td>\n",
       "      <td>2014-02-06 17:30:09</td>\n",
       "      <td>Executives: Thane Fotopoulos George Alexander ...</td>\n",
       "    </tr>\n",
       "    <tr>\n",
       "      <th>4</th>\n",
       "      <td>BCE</td>\n",
       "      <td>3</td>\n",
       "      <td>2013</td>\n",
       "      <td>2013-11-07 15:00:00</td>\n",
       "      <td>Executives: Thane Fotopoulos George Alexander ...</td>\n",
       "    </tr>\n",
       "  </tbody>\n",
       "</table>\n",
       "</div>"
      ],
      "text/plain": [
       "  symbol  quarter  year                date  \\\n",
       "0    BCE        4  2012 2013-02-07 17:00:00   \n",
       "1    BCE        3  2012 2012-11-01 13:00:49   \n",
       "2    BCE        2  2012 2012-08-08 15:00:00   \n",
       "3    BCE        4  2013 2014-02-06 17:30:09   \n",
       "4    BCE        3  2013 2013-11-07 15:00:00   \n",
       "\n",
       "                                             content  \n",
       "0  Thane Fotopoulos: Good morning everybody. I am...  \n",
       "1  Executives: Thane Fotopoulos George Alexander ...  \n",
       "2  Executives: Thane Fotopoulos George A. Cope - ...  \n",
       "3  Executives: Thane Fotopoulos George Alexander ...  \n",
       "4  Executives: Thane Fotopoulos George Alexander ...  "
      ]
     },
     "execution_count": 4,
     "metadata": {},
     "output_type": "execute_result"
    }
   ],
   "source": [
    "df = df.drop(\"Unnamed: 0\", axis = 1)\n",
    "df.head()"
   ]
  },
  {
   "cell_type": "code",
   "execution_count": 5,
   "metadata": {},
   "outputs": [
    {
     "data": {
      "image/png": "[encoded data removed]",
      "text/plain": [
       "<Figure size 640x480 with 1 Axes>"
      ]
     },
     "metadata": {},
     "output_type": "display_data"
    }
   ],
   "source": [
    "company_by_date = []\n",
    "group_yq = df.groupby([\"year\", \"quarter\"])[\"symbol\"].nunique().reset_index()\n",
    "group_yq[\"period\"] = group_yq['year'].astype(str) + \"-\" + group_yq['quarter'].astype(str)\n",
    "n = 6\n",
    "\n",
    "\n",
    "plt.bar(group_yq['period'].tolist(), group_yq['symbol'].tolist())\n",
    "plt.title(\"Companies per period\")\n",
    "plt.ylabel('Counts')\n",
    "plt.xticks([i for i in range(len(group_yq[\"period\"])) if i % n == 0], \n",
    "           [label for i, label in enumerate(group_yq[\"period\"]) if i % n == 0],\n",
    "           rotation=45, ha='right', fontsize=8)\n",
    "plt.tight_layout()\n",
    "plt.show()"
   ]
  },
  {
   "cell_type": "code",
   "execution_count": 6,
   "metadata": {},
   "outputs": [
    {
     "data": {
      "text/plain": [
       "symbol\n",
       "SITE    1\n",
       "GWRS    1\n",
       "ADSW    1\n",
       "DFIN    1\n",
       "FTV     1\n",
       "CCU     1\n",
       "PED     1\n",
       "INSW    1\n",
       "HZN     2\n",
       "TGLS    2\n",
       "INFO    2\n",
       "BW      3\n",
       "WBT     3\n",
       "GLPG    3\n",
       "EPC     3\n",
       "Name: count, dtype: int64"
      ]
     },
     "execution_count": 6,
     "metadata": {},
     "output_type": "execute_result"
    }
   ],
   "source": [
    "df.symbol.value_counts(ascending= True).head(15)"
   ]
  },
  {
   "cell_type": "markdown",
   "metadata": {},
   "source": [
    "### Date Verification"
   ]
  },
  {
   "cell_type": "code",
   "execution_count": 7,
   "metadata": {},
   "outputs": [
    {
     "data": {
      "text/html": [
       "<div>\n",
       "<style scoped>\n",
       "    .dataframe tbody tr th:only-of-type {\n",
       "        vertical-align: middle;\n",
       "    }\n",
       "\n",
       "    .dataframe tbody tr th {\n",
       "        vertical-align: top;\n",
       "    }\n",
       "\n",
       "    .dataframe thead th {\n",
       "        text-align: right;\n",
       "    }\n",
       "</style>\n",
       "<table border=\"1\" class=\"dataframe\">\n",
       "  <thead>\n",
       "    <tr style=\"text-align: right;\">\n",
       "      <th></th>\n",
       "      <th>symbol</th>\n",
       "      <th>quarter</th>\n",
       "      <th>year</th>\n",
       "      <th>date</th>\n",
       "      <th>content</th>\n",
       "    </tr>\n",
       "  </thead>\n",
       "  <tbody>\n",
       "    <tr>\n",
       "      <th>10396</th>\n",
       "      <td>NVDA</td>\n",
       "      <td>1</td>\n",
       "      <td>2010</td>\n",
       "      <td>2009-05-08 01:50:29</td>\n",
       "      <td>Executives: Michael Hara - Investor Relations ...</td>\n",
       "    </tr>\n",
       "    <tr>\n",
       "      <th>16593</th>\n",
       "      <td>ADSK</td>\n",
       "      <td>1</td>\n",
       "      <td>2010</td>\n",
       "      <td>2009-05-21 20:48:16</td>\n",
       "      <td>Executives: David Gennarelli - Director of Inv...</td>\n",
       "    </tr>\n",
       "    <tr>\n",
       "      <th>13651</th>\n",
       "      <td>LDOS</td>\n",
       "      <td>1</td>\n",
       "      <td>2010</td>\n",
       "      <td>2009-06-03 20:43:37</td>\n",
       "      <td>Executives: Stuart Davis - Senior Vice Preside...</td>\n",
       "    </tr>\n",
       "    <tr>\n",
       "      <th>15357</th>\n",
       "      <td>SCS</td>\n",
       "      <td>1</td>\n",
       "      <td>2010</td>\n",
       "      <td>2009-06-23 15:11:40</td>\n",
       "      <td>Executives:  Raj Mehan - Director IR Jim Hacke...</td>\n",
       "    </tr>\n",
       "    <tr>\n",
       "      <th>7085</th>\n",
       "      <td>RAD</td>\n",
       "      <td>1</td>\n",
       "      <td>2010</td>\n",
       "      <td>2009-06-24 14:47:21</td>\n",
       "      <td>Executives: Chris Hall - Senior Vice President...</td>\n",
       "    </tr>\n",
       "  </tbody>\n",
       "</table>\n",
       "</div>"
      ],
      "text/plain": [
       "      symbol  quarter  year                date  \\\n",
       "10396   NVDA        1  2010 2009-05-08 01:50:29   \n",
       "16593   ADSK        1  2010 2009-05-21 20:48:16   \n",
       "13651   LDOS        1  2010 2009-06-03 20:43:37   \n",
       "15357    SCS        1  2010 2009-06-23 15:11:40   \n",
       "7085     RAD        1  2010 2009-06-24 14:47:21   \n",
       "\n",
       "                                                 content  \n",
       "10396  Executives: Michael Hara - Investor Relations ...  \n",
       "16593  Executives: David Gennarelli - Director of Inv...  \n",
       "13651  Executives: Stuart Davis - Senior Vice Preside...  \n",
       "15357  Executives:  Raj Mehan - Director IR Jim Hacke...  \n",
       "7085   Executives: Chris Hall - Senior Vice President...  "
      ]
     },
     "execution_count": 7,
     "metadata": {},
     "output_type": "execute_result"
    }
   ],
   "source": [
    "df.sort_values(by = \"date\").head()"
   ]
  },
  {
   "cell_type": "markdown",
   "metadata": {},
   "source": [
    "### Good Cases"
   ]
  },
  {
   "cell_type": "code",
   "execution_count": 8,
   "metadata": {},
   "outputs": [
    {
     "name": "stdout",
     "output_type": "stream",
     "text": [
      "Executives: Michael Hara - Investor Relations Jen-Hsun Huang - President, Chief Executive Officer and Director David White - Chief Financial Officer  Marvin D. Burkett - Senior Advisor\n",
      "Analysts: Daniel Berenbaum - Auriga Hans Mosesmann - Raymond James Glen Yeung - Citigroup  Uche Orji - UBS  Rajvind\n"
     ]
    }
   ],
   "source": [
    "# Good\n",
    "# Company: NVDA\n",
    "# Year & quarter: 2010 1\n",
    "# Actual quarter: 2010 1\n",
    "# Date: 2009-05-08\n",
    "# Actual Date: 2009-05-08 (checked with transcripts)\n",
    "print(df.iloc[10396, -1][:300])"
   ]
  },
  {
   "cell_type": "code",
   "execution_count": 9,
   "metadata": {},
   "outputs": [
    {
     "name": "stdout",
     "output_type": "stream",
     "text": [
      "Executives: Kelly P. Hernandez - Vice President of Investor Relations Roger A. Krone - Chief Executive Officer Mark W. Sopp - Executive Vice President and Chief Financial Officer\n",
      "Analysts: Edward S. Caso - Wells Fargo Securities LLC Jason Kupferberg - Jefferies & Company, Inc. Joseph B. Nadol - J.P.\n"
     ]
    }
   ],
   "source": [
    "# Good\n",
    "# Company: LDOS\n",
    "# Year & quarter: 2015 3\n",
    "# Actual quarter: 2015 3\n",
    "# Date: 2014-12-03\n",
    "# Actual Date: 2014-12-03 (checked on web)\n",
    "print(df.iloc[13666, -1][:300])"
   ]
  },
  {
   "cell_type": "markdown",
   "metadata": {},
   "source": [
    "### minor mismatch in date and quarter"
   ]
  },
  {
   "cell_type": "code",
   "execution_count": 11,
   "metadata": {},
   "outputs": [
    {
     "data": {
      "text/html": [
       "<div>\n",
       "<style scoped>\n",
       "    .dataframe tbody tr th:only-of-type {\n",
       "        vertical-align: middle;\n",
       "    }\n",
       "\n",
       "    .dataframe tbody tr th {\n",
       "        vertical-align: top;\n",
       "    }\n",
       "\n",
       "    .dataframe thead th {\n",
       "        text-align: right;\n",
       "    }\n",
       "</style>\n",
       "<table border=\"1\" class=\"dataframe\">\n",
       "  <thead>\n",
       "    <tr style=\"text-align: right;\">\n",
       "      <th></th>\n",
       "      <th>symbol</th>\n",
       "      <th>quarter</th>\n",
       "      <th>year</th>\n",
       "      <th>date</th>\n",
       "      <th>content</th>\n",
       "    </tr>\n",
       "  </thead>\n",
       "  <tbody>\n",
       "    <tr>\n",
       "      <th>13651</th>\n",
       "      <td>LDOS</td>\n",
       "      <td>1</td>\n",
       "      <td>2010</td>\n",
       "      <td>2009-06-03 20:43:37</td>\n",
       "      <td>Executives: Stuart Davis - Senior Vice Preside...</td>\n",
       "    </tr>\n",
       "    <tr>\n",
       "      <th>13650</th>\n",
       "      <td>LDOS</td>\n",
       "      <td>2</td>\n",
       "      <td>2010</td>\n",
       "      <td>2009-09-02 22:13:24</td>\n",
       "      <td>Executives: Stuart Davis - Senior Vice Preside...</td>\n",
       "    </tr>\n",
       "    <tr>\n",
       "      <th>13649</th>\n",
       "      <td>LDOS</td>\n",
       "      <td>3</td>\n",
       "      <td>2010</td>\n",
       "      <td>2009-12-09 00:17:07</td>\n",
       "      <td>Executives: Laura Luke – Vice President Media ...</td>\n",
       "    </tr>\n",
       "    <tr>\n",
       "      <th>13648</th>\n",
       "      <td>LDOS</td>\n",
       "      <td>4</td>\n",
       "      <td>2010</td>\n",
       "      <td>2010-03-30 21:52:10</td>\n",
       "      <td>Executives: Laura Luke – Vice President Media ...</td>\n",
       "    </tr>\n",
       "    <tr>\n",
       "      <th>13653</th>\n",
       "      <td>LDOS</td>\n",
       "      <td>1</td>\n",
       "      <td>2011</td>\n",
       "      <td>2010-06-05 04:24:08</td>\n",
       "      <td>Executives: Laura Luke – VP, Media Relations W...</td>\n",
       "    </tr>\n",
       "    <tr>\n",
       "      <th>13652</th>\n",
       "      <td>LDOS</td>\n",
       "      <td>3</td>\n",
       "      <td>2011</td>\n",
       "      <td>2010-12-08 22:58:20</td>\n",
       "      <td>Executives: Paul Levi – Senior Vice President,...</td>\n",
       "    </tr>\n",
       "    <tr>\n",
       "      <th>13657</th>\n",
       "      <td>LDOS</td>\n",
       "      <td>1</td>\n",
       "      <td>2012</td>\n",
       "      <td>2011-06-02 21:50:16</td>\n",
       "      <td>Executives: Mark Sopp - Chief Financial Office...</td>\n",
       "    </tr>\n",
       "    <tr>\n",
       "      <th>13656</th>\n",
       "      <td>LDOS</td>\n",
       "      <td>2</td>\n",
       "      <td>2012</td>\n",
       "      <td>2011-08-31 21:00:08</td>\n",
       "      <td>Executives: Mark Sopp - Chief Financial Office...</td>\n",
       "    </tr>\n",
       "    <tr>\n",
       "      <th>13655</th>\n",
       "      <td>LDOS</td>\n",
       "      <td>3</td>\n",
       "      <td>2012</td>\n",
       "      <td>2011-12-06 21:10:09</td>\n",
       "      <td>Executives: Mark W. Sopp - Chief Financial Off...</td>\n",
       "    </tr>\n",
       "    <tr>\n",
       "      <th>13654</th>\n",
       "      <td>LDOS</td>\n",
       "      <td>4</td>\n",
       "      <td>2012</td>\n",
       "      <td>2012-03-20 20:40:35</td>\n",
       "      <td>Executives: Paul E. Levi - Senior Vice Preside...</td>\n",
       "    </tr>\n",
       "    <tr>\n",
       "      <th>13661</th>\n",
       "      <td>LDOS</td>\n",
       "      <td>1</td>\n",
       "      <td>2013</td>\n",
       "      <td>2012-05-31 20:40:03</td>\n",
       "      <td>Executives: Paul E. Levi - Senior Vice Preside...</td>\n",
       "    </tr>\n",
       "    <tr>\n",
       "      <th>13660</th>\n",
       "      <td>LDOS</td>\n",
       "      <td>2</td>\n",
       "      <td>2013</td>\n",
       "      <td>2012-08-30 22:30:05</td>\n",
       "      <td>Executives: Paul E. Levi - Senior Vice Preside...</td>\n",
       "    </tr>\n",
       "    <tr>\n",
       "      <th>13659</th>\n",
       "      <td>LDOS</td>\n",
       "      <td>3</td>\n",
       "      <td>2013</td>\n",
       "      <td>2012-12-05 21:10:03</td>\n",
       "      <td>Executives: Paul E. Levi - Senior Vice Preside...</td>\n",
       "    </tr>\n",
       "    <tr>\n",
       "      <th>13658</th>\n",
       "      <td>LDOS</td>\n",
       "      <td>4</td>\n",
       "      <td>2013</td>\n",
       "      <td>2013-03-26 19:50:03</td>\n",
       "      <td>Executives: Paul E. Levi - Senior Vice Preside...</td>\n",
       "    </tr>\n",
       "    <tr>\n",
       "      <th>13663</th>\n",
       "      <td>LDOS</td>\n",
       "      <td>1</td>\n",
       "      <td>2014</td>\n",
       "      <td>2013-06-03 22:00:48</td>\n",
       "      <td>Executives: Paul E. Levi - Senior Vice Preside...</td>\n",
       "    </tr>\n",
       "    <tr>\n",
       "      <th>13662</th>\n",
       "      <td>LDOS</td>\n",
       "      <td>2</td>\n",
       "      <td>2014</td>\n",
       "      <td>2013-09-04 12:40:05</td>\n",
       "      <td>Executives: Paul E. Levi - Senior Vice Preside...</td>\n",
       "    </tr>\n",
       "    <tr>\n",
       "      <th>13667</th>\n",
       "      <td>LDOS</td>\n",
       "      <td>2</td>\n",
       "      <td>2015</td>\n",
       "      <td>2014-09-09 12:57:06</td>\n",
       "      <td>Executives: John Sweeney - SVP, IR Roger Krone...</td>\n",
       "    </tr>\n",
       "    <tr>\n",
       "      <th>13666</th>\n",
       "      <td>LDOS</td>\n",
       "      <td>3</td>\n",
       "      <td>2015</td>\n",
       "      <td>2014-12-03 10:37:05</td>\n",
       "      <td>Executives: Kelly P. Hernandez - Vice Presiden...</td>\n",
       "    </tr>\n",
       "    <tr>\n",
       "      <th>13665</th>\n",
       "      <td>LDOS</td>\n",
       "      <td>4</td>\n",
       "      <td>2015</td>\n",
       "      <td>2015-03-25 13:51:01</td>\n",
       "      <td>Executives: Kelly Hernandez - VP, IR Roger Kro...</td>\n",
       "    </tr>\n",
       "    <tr>\n",
       "      <th>13664</th>\n",
       "      <td>LDOS</td>\n",
       "      <td>1</td>\n",
       "      <td>2015</td>\n",
       "      <td>2015-05-12 12:39:04</td>\n",
       "      <td>Executives: Kelly P. Hernandez - Vice Presiden...</td>\n",
       "    </tr>\n",
       "    <tr>\n",
       "      <th>13671</th>\n",
       "      <td>LDOS</td>\n",
       "      <td>1</td>\n",
       "      <td>2016</td>\n",
       "      <td>2016-04-27 11:23:16</td>\n",
       "      <td>Executives: Kelly P. Hernandez - Vice Presiden...</td>\n",
       "    </tr>\n",
       "    <tr>\n",
       "      <th>13670</th>\n",
       "      <td>LDOS</td>\n",
       "      <td>2</td>\n",
       "      <td>2016</td>\n",
       "      <td>2016-07-28 13:51:19</td>\n",
       "      <td>Executive: Kelly Hernandez - VP, IR Roger Kron...</td>\n",
       "    </tr>\n",
       "    <tr>\n",
       "      <th>13669</th>\n",
       "      <td>LDOS</td>\n",
       "      <td>3</td>\n",
       "      <td>2016</td>\n",
       "      <td>2016-11-03 15:55:22</td>\n",
       "      <td>Executives: Kelly P. Hernandez - Leidos Holdin...</td>\n",
       "    </tr>\n",
       "    <tr>\n",
       "      <th>13668</th>\n",
       "      <td>LDOS</td>\n",
       "      <td>4</td>\n",
       "      <td>2016</td>\n",
       "      <td>2017-02-23 12:45:25</td>\n",
       "      <td>Executives: Kelly P. Hernandez - Leidos Holdin...</td>\n",
       "    </tr>\n",
       "  </tbody>\n",
       "</table>\n",
       "</div>"
      ],
      "text/plain": [
       "      symbol  quarter  year                date  \\\n",
       "13651   LDOS        1  2010 2009-06-03 20:43:37   \n",
       "13650   LDOS        2  2010 2009-09-02 22:13:24   \n",
       "13649   LDOS        3  2010 2009-12-09 00:17:07   \n",
       "13648   LDOS        4  2010 2010-03-30 21:52:10   \n",
       "13653   LDOS        1  2011 2010-06-05 04:24:08   \n",
       "13652   LDOS        3  2011 2010-12-08 22:58:20   \n",
       "13657   LDOS        1  2012 2011-06-02 21:50:16   \n",
       "13656   LDOS        2  2012 2011-08-31 21:00:08   \n",
       "13655   LDOS        3  2012 2011-12-06 21:10:09   \n",
       "13654   LDOS        4  2012 2012-03-20 20:40:35   \n",
       "13661   LDOS        1  2013 2012-05-31 20:40:03   \n",
       "13660   LDOS        2  2013 2012-08-30 22:30:05   \n",
       "13659   LDOS        3  2013 2012-12-05 21:10:03   \n",
       "13658   LDOS        4  2013 2013-03-26 19:50:03   \n",
       "13663   LDOS        1  2014 2013-06-03 22:00:48   \n",
       "13662   LDOS        2  2014 2013-09-04 12:40:05   \n",
       "13667   LDOS        2  2015 2014-09-09 12:57:06   \n",
       "13666   LDOS        3  2015 2014-12-03 10:37:05   \n",
       "13665   LDOS        4  2015 2015-03-25 13:51:01   \n",
       "13664   LDOS        1  2015 2015-05-12 12:39:04   \n",
       "13671   LDOS        1  2016 2016-04-27 11:23:16   \n",
       "13670   LDOS        2  2016 2016-07-28 13:51:19   \n",
       "13669   LDOS        3  2016 2016-11-03 15:55:22   \n",
       "13668   LDOS        4  2016 2017-02-23 12:45:25   \n",
       "\n",
       "                                                 content  \n",
       "13651  Executives: Stuart Davis - Senior Vice Preside...  \n",
       "13650  Executives: Stuart Davis - Senior Vice Preside...  \n",
       "13649  Executives: Laura Luke – Vice President Media ...  \n",
       "13648  Executives: Laura Luke – Vice President Media ...  \n",
       "13653  Executives: Laura Luke – VP, Media Relations W...  \n",
       "13652  Executives: Paul Levi – Senior Vice President,...  \n",
       "13657  Executives: Mark Sopp - Chief Financial Office...  \n",
       "13656  Executives: Mark Sopp - Chief Financial Office...  \n",
       "13655  Executives: Mark W. Sopp - Chief Financial Off...  \n",
       "13654  Executives: Paul E. Levi - Senior Vice Preside...  \n",
       "13661  Executives: Paul E. Levi - Senior Vice Preside...  \n",
       "13660  Executives: Paul E. Levi - Senior Vice Preside...  \n",
       "13659  Executives: Paul E. Levi - Senior Vice Preside...  \n",
       "13658  Executives: Paul E. Levi - Senior Vice Preside...  \n",
       "13663  Executives: Paul E. Levi - Senior Vice Preside...  \n",
       "13662  Executives: Paul E. Levi - Senior Vice Preside...  \n",
       "13667  Executives: John Sweeney - SVP, IR Roger Krone...  \n",
       "13666  Executives: Kelly P. Hernandez - Vice Presiden...  \n",
       "13665  Executives: Kelly Hernandez - VP, IR Roger Kro...  \n",
       "13664  Executives: Kelly P. Hernandez - Vice Presiden...  \n",
       "13671  Executives: Kelly P. Hernandez - Vice Presiden...  \n",
       "13670  Executive: Kelly Hernandez - VP, IR Roger Kron...  \n",
       "13669  Executives: Kelly P. Hernandez - Leidos Holdin...  \n",
       "13668  Executives: Kelly P. Hernandez - Leidos Holdin...  "
      ]
     },
     "metadata": {},
     "output_type": "display_data"
    }
   ],
   "source": [
    "# eg. Year 2015 (transcript still match with quarter)\n",
    "display(df[df.symbol == \"LDOS\"].sort_values(by=\"date\"))"
   ]
  },
  {
   "cell_type": "code",
   "execution_count": 12,
   "metadata": {},
   "outputs": [
    {
     "name": "stdout",
     "output_type": "stream",
     "text": [
      "Executives: Kelly P. Hernandez - Vice President, Investor Relations Roger A. Krone - Chief Executive Officer Mark W. Sopp - Chief Financial Officer & Executive Vice President Lou Von Thaer - President, National Security Sector, Leidos Holdings, Inc.\n",
      "Analysts: Cai von Rumohr - Cowen & Co. LLC Edward \n"
     ]
    }
   ],
   "source": [
    "# Bad\n",
    "# Company: LDOS\n",
    "# Year & quarter: 2015 1\n",
    "# Actual quarter: 2015 1\n",
    "# Date: 2015-05-12\n",
    "# Actual Date: 2014-06-04 (checked on web)\n",
    "print(df.iloc[13664, -1][:300])"
   ]
  },
  {
   "cell_type": "markdown",
   "metadata": {},
   "source": [
    "### Discrepancy in Year & Quarter"
   ]
  },
  {
   "cell_type": "code",
   "execution_count": 15,
   "metadata": {},
   "outputs": [
    {
     "data": {
      "text/html": [
       "<div>\n",
       "<style scoped>\n",
       "    .dataframe tbody tr th:only-of-type {\n",
       "        vertical-align: middle;\n",
       "    }\n",
       "\n",
       "    .dataframe tbody tr th {\n",
       "        vertical-align: top;\n",
       "    }\n",
       "\n",
       "    .dataframe thead th {\n",
       "        text-align: right;\n",
       "    }\n",
       "</style>\n",
       "<table border=\"1\" class=\"dataframe\">\n",
       "  <thead>\n",
       "    <tr style=\"text-align: right;\">\n",
       "      <th></th>\n",
       "      <th>Unnamed: 0</th>\n",
       "      <th>quarter</th>\n",
       "      <th>year</th>\n",
       "      <th>date</th>\n",
       "    </tr>\n",
       "  </thead>\n",
       "  <tbody>\n",
       "    <tr>\n",
       "      <th>count</th>\n",
       "      <td>18346.000000</td>\n",
       "      <td>18346.000000</td>\n",
       "      <td>18346.000000</td>\n",
       "      <td>18346</td>\n",
       "    </tr>\n",
       "    <tr>\n",
       "      <th>mean</th>\n",
       "      <td>9172.500000</td>\n",
       "      <td>2.523874</td>\n",
       "      <td>2013.418947</td>\n",
       "      <td>2014-01-20 02:04:28.998201344</td>\n",
       "    </tr>\n",
       "    <tr>\n",
       "      <th>min</th>\n",
       "      <td>0.000000</td>\n",
       "      <td>1.000000</td>\n",
       "      <td>2010.000000</td>\n",
       "      <td>2009-05-08 01:50:29</td>\n",
       "    </tr>\n",
       "    <tr>\n",
       "      <th>25%</th>\n",
       "      <td>4586.250000</td>\n",
       "      <td>2.000000</td>\n",
       "      <td>2012.000000</td>\n",
       "      <td>2012-07-31 16:35:32.249999872</td>\n",
       "    </tr>\n",
       "    <tr>\n",
       "      <th>50%</th>\n",
       "      <td>9172.500000</td>\n",
       "      <td>3.000000</td>\n",
       "      <td>2014.000000</td>\n",
       "      <td>2014-03-02 14:40:03</td>\n",
       "    </tr>\n",
       "    <tr>\n",
       "      <th>75%</th>\n",
       "      <td>13758.750000</td>\n",
       "      <td>4.000000</td>\n",
       "      <td>2015.000000</td>\n",
       "      <td>2015-08-09 00:36:58.500000</td>\n",
       "    </tr>\n",
       "    <tr>\n",
       "      <th>max</th>\n",
       "      <td>18345.000000</td>\n",
       "      <td>4.000000</td>\n",
       "      <td>2016.000000</td>\n",
       "      <td>2017-05-23 22:23:05</td>\n",
       "    </tr>\n",
       "    <tr>\n",
       "      <th>std</th>\n",
       "      <td>5296.178355</td>\n",
       "      <td>1.113657</td>\n",
       "      <td>1.893340</td>\n",
       "      <td>NaN</td>\n",
       "    </tr>\n",
       "  </tbody>\n",
       "</table>\n",
       "</div>"
      ],
      "text/plain": [
       "         Unnamed: 0       quarter          year                           date\n",
       "count  18346.000000  18346.000000  18346.000000                          18346\n",
       "mean    9172.500000      2.523874   2013.418947  2014-01-20 02:04:28.998201344\n",
       "min        0.000000      1.000000   2010.000000            2009-05-08 01:50:29\n",
       "25%     4586.250000      2.000000   2012.000000  2012-07-31 16:35:32.249999872\n",
       "50%     9172.500000      3.000000   2014.000000            2014-03-02 14:40:03\n",
       "75%    13758.750000      4.000000   2015.000000     2015-08-09 00:36:58.500000\n",
       "max    18345.000000      4.000000   2016.000000            2017-05-23 22:23:05\n",
       "std     5296.178355      1.113657      1.893340                            NaN"
      ]
     },
     "execution_count": 15,
     "metadata": {},
     "output_type": "execute_result"
    }
   ],
   "source": [
    "df.describe()"
   ]
  },
  {
   "cell_type": "code",
   "execution_count": 16,
   "metadata": {},
   "outputs": [
    {
     "data": {
      "text/plain": [
       "count                         18346\n",
       "mean     62 days 08:19:07.315000545\n",
       "std      75 days 12:32:31.718200896\n",
       "min             -274 days +21:19:00\n",
       "25%         80 days 13:31:37.500000\n",
       "50%                88 days 21:30:37\n",
       "75%         96 days 13:50:10.500000\n",
       "max               453 days 17:00:00\n",
       "dtype: object"
      ]
     },
     "execution_count": 16,
     "metadata": {},
     "output_type": "execute_result"
    }
   ],
   "source": [
    "def match_date(year, quarter):\n",
    "    # Assign 1st quarter to Feb, 2nd to May, 3rd to Aug, 4th to Nov\n",
    "    month = (quarter-1)*3 + 2\n",
    "    matched_date = f\"{year}-{month:02d}-01\"\n",
    "    return matched_date\n",
    "\n",
    "matched_date = df.apply(lambda row: match_date(row['year'], row['quarter']), axis=1)\n",
    "matched_date = pd.to_datetime(matched_date)\n",
    "deviation = df.date - matched_date\n",
    "deviation.describe()"
   ]
  },
  {
   "cell_type": "code",
   "execution_count": 57,
   "metadata": {},
   "outputs": [
    {
     "data": {
      "text/html": [
       "<div>\n",
       "<style scoped>\n",
       "    .dataframe tbody tr th:only-of-type {\n",
       "        vertical-align: middle;\n",
       "    }\n",
       "\n",
       "    .dataframe tbody tr th {\n",
       "        vertical-align: top;\n",
       "    }\n",
       "\n",
       "    .dataframe thead th {\n",
       "        text-align: right;\n",
       "    }\n",
       "</style>\n",
       "<table border=\"1\" class=\"dataframe\">\n",
       "  <thead>\n",
       "    <tr style=\"text-align: right;\">\n",
       "      <th></th>\n",
       "      <th>Unnamed: 0</th>\n",
       "      <th>symbol</th>\n",
       "      <th>quarter</th>\n",
       "      <th>year</th>\n",
       "      <th>date</th>\n",
       "      <th>content</th>\n",
       "    </tr>\n",
       "  </thead>\n",
       "  <tbody>\n",
       "    <tr>\n",
       "      <th>4832</th>\n",
       "      <td>4832</td>\n",
       "      <td>JCI</td>\n",
       "      <td>2</td>\n",
       "      <td>2011</td>\n",
       "      <td>2012-04-26 15:27:03</td>\n",
       "      <td>Executives: Ed Breen - Chairman &amp; Chief Execut...</td>\n",
       "    </tr>\n",
       "    <tr>\n",
       "      <th>13928</th>\n",
       "      <td>13928</td>\n",
       "      <td>MANT</td>\n",
       "      <td>1</td>\n",
       "      <td>2014</td>\n",
       "      <td>2015-04-30 17:00:00</td>\n",
       "      <td>Operator: Good day, ladies and gentlemen and w...</td>\n",
       "    </tr>\n",
       "    <tr>\n",
       "      <th>15470</th>\n",
       "      <td>15470</td>\n",
       "      <td>SGMS</td>\n",
       "      <td>1</td>\n",
       "      <td>2016</td>\n",
       "      <td>2017-04-28 17:00:00</td>\n",
       "      <td>Operator: Good day everyone and welcome to the...</td>\n",
       "    </tr>\n",
       "  </tbody>\n",
       "</table>\n",
       "</div>"
      ],
      "text/plain": [
       "       Unnamed: 0 symbol  quarter  year                date  \\\n",
       "4832         4832    JCI        2  2011 2012-04-26 15:27:03   \n",
       "13928       13928   MANT        1  2014 2015-04-30 17:00:00   \n",
       "15470       15470   SGMS        1  2016 2017-04-28 17:00:00   \n",
       "\n",
       "                                                 content  \n",
       "4832   Executives: Ed Breen - Chairman & Chief Execut...  \n",
       "13928  Operator: Good day, ladies and gentlemen and w...  \n",
       "15470  Operator: Good day everyone and welcome to the...  "
      ]
     },
     "execution_count": 57,
     "metadata": {},
     "output_type": "execute_result"
    }
   ],
   "source": [
    "df[deviation>timedelta(days=360)]"
   ]
  },
  {
   "cell_type": "code",
   "execution_count": 13,
   "metadata": {},
   "outputs": [
    {
     "name": "stdout",
     "output_type": "stream",
     "text": [
      "Operator: Good day, ladies and gentlemen and welcome to the ManTech International Corp. First Quarter Fiscal Year 2015 Conference Call. At this time all participants are in a listen-only mode. Later, we will conduct a question-and-answer session, and instructions will follow at that time. [Operator \n"
     ]
    }
   ],
   "source": [
    "# Company: MANT\n",
    "# Year & quarter: 2014 1\n",
    "# Actual quarter: 2015 1 (checked in transcritpt)\n",
    "# Date: 2015-04-30\n",
    "# Actual Date: 2015-04-30 (checked on web)\n",
    "print(df.iloc[13928, -1][:300])"
   ]
  },
  {
   "cell_type": "code",
   "execution_count": 14,
   "metadata": {},
   "outputs": [
    {
     "data": {
      "text/html": [
       "<div>\n",
       "<style scoped>\n",
       "    .dataframe tbody tr th:only-of-type {\n",
       "        vertical-align: middle;\n",
       "    }\n",
       "\n",
       "    .dataframe tbody tr th {\n",
       "        vertical-align: top;\n",
       "    }\n",
       "\n",
       "    .dataframe thead th {\n",
       "        text-align: right;\n",
       "    }\n",
       "</style>\n",
       "<table border=\"1\" class=\"dataframe\">\n",
       "  <thead>\n",
       "    <tr style=\"text-align: right;\">\n",
       "      <th></th>\n",
       "      <th>symbol</th>\n",
       "      <th>quarter</th>\n",
       "      <th>year</th>\n",
       "      <th>date</th>\n",
       "      <th>content</th>\n",
       "    </tr>\n",
       "  </thead>\n",
       "  <tbody>\n",
       "    <tr>\n",
       "      <th>13927</th>\n",
       "      <td>MANT</td>\n",
       "      <td>1</td>\n",
       "      <td>2013</td>\n",
       "      <td>2013-05-02 17:00:00</td>\n",
       "      <td>Operator: Good day, ladies and gentlemen, and ...</td>\n",
       "    </tr>\n",
       "    <tr>\n",
       "      <th>13926</th>\n",
       "      <td>MANT</td>\n",
       "      <td>2</td>\n",
       "      <td>2013</td>\n",
       "      <td>2013-08-01 17:00:00</td>\n",
       "      <td>Operator: Good day, ladies and gentlemen, and ...</td>\n",
       "    </tr>\n",
       "    <tr>\n",
       "      <th>13931</th>\n",
       "      <td>MANT</td>\n",
       "      <td>2</td>\n",
       "      <td>2014</td>\n",
       "      <td>2014-07-31 17:00:00</td>\n",
       "      <td>Operator: Good day, ladies and gentlemen, and ...</td>\n",
       "    </tr>\n",
       "    <tr>\n",
       "      <th>13930</th>\n",
       "      <td>MANT</td>\n",
       "      <td>3</td>\n",
       "      <td>2014</td>\n",
       "      <td>2014-10-30 17:00:00</td>\n",
       "      <td>Operator: Good day, ladies and gentlemen, and ...</td>\n",
       "    </tr>\n",
       "    <tr>\n",
       "      <th>13929</th>\n",
       "      <td>MANT</td>\n",
       "      <td>4</td>\n",
       "      <td>2014</td>\n",
       "      <td>2015-02-19 17:00:00</td>\n",
       "      <td>Operator: Good day, ladies and gentlemen. And ...</td>\n",
       "    </tr>\n",
       "    <tr>\n",
       "      <th>13928</th>\n",
       "      <td>MANT</td>\n",
       "      <td>1</td>\n",
       "      <td>2014</td>\n",
       "      <td>2015-04-30 17:00:00</td>\n",
       "      <td>Operator: Good day, ladies and gentlemen and w...</td>\n",
       "    </tr>\n",
       "    <tr>\n",
       "      <th>13934</th>\n",
       "      <td>MANT</td>\n",
       "      <td>2</td>\n",
       "      <td>2015</td>\n",
       "      <td>2015-07-30 17:00:00</td>\n",
       "      <td>Operator: Good day, ladies and gentlemen and w...</td>\n",
       "    </tr>\n",
       "    <tr>\n",
       "      <th>13933</th>\n",
       "      <td>MANT</td>\n",
       "      <td>3</td>\n",
       "      <td>2015</td>\n",
       "      <td>2015-10-29 17:00:00</td>\n",
       "      <td>Operator: Good day, ladies and gentlemen, and ...</td>\n",
       "    </tr>\n",
       "    <tr>\n",
       "      <th>13932</th>\n",
       "      <td>MANT</td>\n",
       "      <td>4</td>\n",
       "      <td>2015</td>\n",
       "      <td>2016-02-18 17:00:00</td>\n",
       "      <td>Operator: Good day, ladies and gentlemen, and ...</td>\n",
       "    </tr>\n",
       "    <tr>\n",
       "      <th>13938</th>\n",
       "      <td>MANT</td>\n",
       "      <td>1</td>\n",
       "      <td>2016</td>\n",
       "      <td>2016-04-28 17:00:00</td>\n",
       "      <td>Operator: Good day, ladies and gentlemen, and ...</td>\n",
       "    </tr>\n",
       "    <tr>\n",
       "      <th>13937</th>\n",
       "      <td>MANT</td>\n",
       "      <td>2</td>\n",
       "      <td>2016</td>\n",
       "      <td>2016-07-28 17:00:00</td>\n",
       "      <td>Operator: Good day, ladies and gentlemen, and ...</td>\n",
       "    </tr>\n",
       "    <tr>\n",
       "      <th>13936</th>\n",
       "      <td>MANT</td>\n",
       "      <td>3</td>\n",
       "      <td>2016</td>\n",
       "      <td>2016-11-03 17:00:00</td>\n",
       "      <td>Operator: Good day, ladies and gentlemen, and ...</td>\n",
       "    </tr>\n",
       "    <tr>\n",
       "      <th>13935</th>\n",
       "      <td>MANT</td>\n",
       "      <td>4</td>\n",
       "      <td>2016</td>\n",
       "      <td>2017-02-23 17:00:00</td>\n",
       "      <td>Operator: Good day, ladies and gentlemen, and ...</td>\n",
       "    </tr>\n",
       "  </tbody>\n",
       "</table>\n",
       "</div>"
      ],
      "text/plain": [
       "      symbol  quarter  year                date  \\\n",
       "13927   MANT        1  2013 2013-05-02 17:00:00   \n",
       "13926   MANT        2  2013 2013-08-01 17:00:00   \n",
       "13931   MANT        2  2014 2014-07-31 17:00:00   \n",
       "13930   MANT        3  2014 2014-10-30 17:00:00   \n",
       "13929   MANT        4  2014 2015-02-19 17:00:00   \n",
       "13928   MANT        1  2014 2015-04-30 17:00:00   \n",
       "13934   MANT        2  2015 2015-07-30 17:00:00   \n",
       "13933   MANT        3  2015 2015-10-29 17:00:00   \n",
       "13932   MANT        4  2015 2016-02-18 17:00:00   \n",
       "13938   MANT        1  2016 2016-04-28 17:00:00   \n",
       "13937   MANT        2  2016 2016-07-28 17:00:00   \n",
       "13936   MANT        3  2016 2016-11-03 17:00:00   \n",
       "13935   MANT        4  2016 2017-02-23 17:00:00   \n",
       "\n",
       "                                                 content  \n",
       "13927  Operator: Good day, ladies and gentlemen, and ...  \n",
       "13926  Operator: Good day, ladies and gentlemen, and ...  \n",
       "13931  Operator: Good day, ladies and gentlemen, and ...  \n",
       "13930  Operator: Good day, ladies and gentlemen, and ...  \n",
       "13929  Operator: Good day, ladies and gentlemen. And ...  \n",
       "13928  Operator: Good day, ladies and gentlemen and w...  \n",
       "13934  Operator: Good day, ladies and gentlemen and w...  \n",
       "13933  Operator: Good day, ladies and gentlemen, and ...  \n",
       "13932  Operator: Good day, ladies and gentlemen, and ...  \n",
       "13938  Operator: Good day, ladies and gentlemen, and ...  \n",
       "13937  Operator: Good day, ladies and gentlemen, and ...  \n",
       "13936  Operator: Good day, ladies and gentlemen, and ...  \n",
       "13935  Operator: Good day, ladies and gentlemen, and ...  "
      ]
     },
     "metadata": {},
     "output_type": "display_data"
    }
   ],
   "source": [
    "# discrepancy in year\n",
    "display(df.iloc[13926:13939, ].sort_values(by = \"date\"))"
   ]
  },
  {
   "cell_type": "code",
   "execution_count": 15,
   "metadata": {},
   "outputs": [
    {
     "name": "stdout",
     "output_type": "stream",
     "text": [
      "Executives: Ed Breen - Chairman & Chief Executive Officer  Frank Sklarsky - Chief Financial Officer  Patrick Decker - President of Flow Control Naren Gursahaney - President of Tyco Security Solutions George Oliver - President of Tyco Fire Protection Antonella Franzen - Vice President of Investor Rel\n"
     ]
    }
   ],
   "source": [
    "# Company: JCI\n",
    "# Year & quarter: 2011 2\n",
    "# Actual quarter: 2012 2\n",
    "# Date: 2012-04-26\n",
    "# Actual Date: 2012-04-20 (checked on Web)\n",
    "print(df.iloc[4832, -1][:300])"
   ]
  },
  {
   "cell_type": "code",
   "execution_count": 16,
   "metadata": {},
   "outputs": [
    {
     "name": "stdout",
     "output_type": "stream",
     "text": [
      "Operator: Good day everyone and welcome to the Scientific Games First Quarter 2017 Investor Conference Call. All participants will be in a listen-only mode. [Operator Instructions] After today's presentation, there will be an opportunity to ask questions. [Operator Instructions] Please also note, th\n"
     ]
    }
   ],
   "source": [
    "# Company: SGMS\n",
    "# Year & quarter: 2016 1\n",
    "# Actual quarter: 2017 1\n",
    "# Date: 2017-04-28\n",
    "# Actual Date: 2017-04-27\n",
    "print(df.iloc[15470, -1][:300])"
   ]
  },
  {
   "cell_type": "markdown",
   "metadata": {},
   "source": [
    "### Old data"
   ]
  },
  {
   "cell_type": "code",
   "execution_count": 17,
   "metadata": {},
   "outputs": [],
   "source": [
    "# Load the data\n",
    "df_old = pd.read_csv(r'~\\Box\\STAT 222 Capstone\\Intermediate Data\\Calls\\calls_short.csv')\n",
    "df_old.rename(columns={\"transcript\":\"content\", \"company\": \"symbol\"}, inplace = True)\n",
    "df_old = df_old.drop(\"sector\", axis = 1)"
   ]
  },
  {
   "cell_type": "code",
   "execution_count": 18,
   "metadata": {},
   "outputs": [
    {
     "name": "stdout",
     "output_type": "stream",
     "text": [
      "Index(['symbol', 'year', 'quarter', 'date', 'content', 'Source'], dtype='object')\n",
      "Index(['symbol', 'quarter', 'year', 'date', 'content', 'Source'], dtype='object')\n"
     ]
    }
   ],
   "source": [
    "df_old[\"Source\"] = \"kaggle\"\n",
    "df[\"Source\"] = \"web\"\n",
    "print(df_old.columns)\n",
    "print(df.columns)"
   ]
  },
  {
   "cell_type": "code",
   "execution_count": 19,
   "metadata": {},
   "outputs": [],
   "source": [
    "df = df[df_old.columns]\n",
    "df_full = pd.concat([df_old, df], axis = 0)"
   ]
  },
  {
   "cell_type": "code",
   "execution_count": 20,
   "metadata": {},
   "outputs": [
    {
     "name": "stdout",
     "output_type": "stream",
     "text": [
      "(24580, 6)\n",
      "(18346, 6)\n",
      "(42926, 6)\n"
     ]
    }
   ],
   "source": [
    "print(df_old.shape)\n",
    "print(df.shape)\n",
    "print(df_full.shape)"
   ]
  },
  {
   "cell_type": "code",
   "execution_count": 21,
   "metadata": {},
   "outputs": [
    {
     "data": {
      "text/plain": [
       "1725"
      ]
     },
     "execution_count": 21,
     "metadata": {},
     "output_type": "execute_result"
    }
   ],
   "source": [
    "df_full.symbol.nunique()"
   ]
  },
  {
   "cell_type": "code",
   "execution_count": 22,
   "metadata": {},
   "outputs": [
    {
     "data": {
      "text/plain": [
       "9987"
      ]
     },
     "execution_count": 22,
     "metadata": {},
     "output_type": "execute_result"
    }
   ],
   "source": [
    "df_full.duplicated(subset=['symbol', 'year', 'quarter']).sum()"
   ]
  },
  {
   "cell_type": "code",
   "execution_count": 23,
   "metadata": {},
   "outputs": [],
   "source": [
    "df_full.drop_duplicates(subset = ['symbol', 'year', 'quarter'], keep = \"last\", inplace = True)"
   ]
  },
  {
   "cell_type": "code",
   "execution_count": 24,
   "metadata": {},
   "outputs": [
    {
     "data": {
      "text/plain": [
       "(32939, 6)"
      ]
     },
     "execution_count": 24,
     "metadata": {},
     "output_type": "execute_result"
    }
   ],
   "source": [
    "df_full.shape"
   ]
  },
  {
   "cell_type": "code",
   "execution_count": 25,
   "metadata": {},
   "outputs": [
    {
     "name": "stdout",
     "output_type": "stream",
     "text": [
      "18\n",
      "1725\n"
     ]
    }
   ],
   "source": [
    "# 18 companies has less than 2 earnings calls in the data\n",
    "print((df_full.symbol.value_counts(ascending=True)<2).sum())\n",
    "\n",
    "# 1725 unique companies\n",
    "print(df_full.symbol.nunique())"
   ]
  },
  {
   "cell_type": "code",
   "execution_count": 26,
   "metadata": {},
   "outputs": [
    {
     "data": {
      "image/png": "[encoded data removed]",
      "text/plain": [
       "<Figure size 640x480 with 1 Axes>"
      ]
     },
     "metadata": {},
     "output_type": "display_data"
    }
   ],
   "source": [
    "plt.hist(df_full.symbol.value_counts())\n",
    "plt.title(\"Calls per company\")\n",
    "plt.ylabel('company count')\n",
    "plt.xlabel(\"number of calls\")\n",
    "plt.tight_layout()\n",
    "plt.show()"
   ]
  },
  {
   "cell_type": "markdown",
   "metadata": {},
   "source": [
    "## Distribution of mismatch in date"
   ]
  },
  {
   "cell_type": "code",
   "execution_count": 27,
   "metadata": {},
   "outputs": [
    {
     "data": {
      "text/plain": [
       "count                         18346\n",
       "mean     93 days 02:16:15.419219448\n",
       "std      75 days 12:45:11.610805412\n",
       "min             -243 days +21:19:00\n",
       "25%        110 days 23:10:31.250000\n",
       "50%               119 days 17:00:00\n",
       "75%        126 days 21:59:46.250000\n",
       "max               484 days 17:00:00\n",
       "dtype: object"
      ]
     },
     "execution_count": 27,
     "metadata": {},
     "output_type": "execute_result"
    }
   ],
   "source": [
    "def match_date(year, quarter):\n",
    "    # Assign 1st quarter to Jan, 2nd to Apr, 3rd to July, 4th to Oct\n",
    "    month = (quarter-1)*3 + 1\n",
    "    matched_date = f\"{year}-{month:02d}-01\"\n",
    "    matched_date = pd.to_datetime(matched_date)\n",
    "    return matched_date\n",
    "\n",
    "# New calls from web\n",
    "matched_date = df.apply(lambda row: match_date(row['year'], row['quarter']), axis=1)\n",
    "deviation_web = df.date - matched_date\n",
    "deviation_web.describe()"
   ]
  },
  {
   "cell_type": "code",
   "execution_count": 28,
   "metadata": {},
   "outputs": [
    {
     "data": {
      "text/plain": [
       "count                           24580\n",
       "mean     -67 days +04:11:30.122050448\n",
       "std       285 days 15:53:18.835013400\n",
       "min              -3047 days +00:00:00\n",
       "25%                -68 days +00:00:00\n",
       "50%                  26 days 00:00:00\n",
       "75%                  47 days 00:00:00\n",
       "max                 225 days 00:00:00\n",
       "dtype: object"
      ]
     },
     "execution_count": 28,
     "metadata": {},
     "output_type": "execute_result"
    }
   ],
   "source": [
    "# Old calls from kaggle\n",
    "matched_date = df_old.apply(lambda row: match_date(row['year'], row['quarter']), axis=1)\n",
    "matched_date = pd.to_datetime(matched_date)\n",
    "deviation_old = pd.to_datetime(df_old.date) - matched_date\n",
    "deviation_old.describe()"
   ]
  },
  {
   "cell_type": "code",
   "execution_count": 29,
   "metadata": {},
   "outputs": [
    {
     "data": {
      "text/plain": [
       "Timedelta('-91 days +00:00:00')"
      ]
     },
     "execution_count": 29,
     "metadata": {},
     "output_type": "execute_result"
    }
   ],
   "source": [
    "pd.to_datetime(\"2020-01-01\") - pd.to_datetime(\"2020-04-01\")"
   ]
  },
  {
   "cell_type": "code",
   "execution_count": 30,
   "metadata": {},
   "outputs": [
    {
     "data": {
      "text/plain": [
       "0    129\n",
       "1    123\n",
       "2    129\n",
       "3    128\n",
       "4    129\n",
       "dtype: int64"
      ]
     },
     "execution_count": 30,
     "metadata": {},
     "output_type": "execute_result"
    }
   ],
   "source": [
    "deviation_web.dt.days.head()"
   ]
  },
  {
   "cell_type": "code",
   "execution_count": 31,
   "metadata": {},
   "outputs": [
    {
     "data": {
      "image/png": "[encoded data removed]",
      "text/plain": [
       "<Figure size 640x480 with 1 Axes>"
      ]
     },
     "metadata": {},
     "output_type": "display_data"
    }
   ],
   "source": [
    "# positive means days after Jan-01 for earnings calls\n",
    "plt.hist(deviation_web.dt.days, bins = 30);"
   ]
  },
  {
   "cell_type": "code",
   "execution_count": 32,
   "metadata": {},
   "outputs": [
    {
     "data": {
      "image/png": "[encoded data removed]",
      "text/plain": [
       "<Figure size 640x480 with 1 Axes>"
      ]
     },
     "metadata": {},
     "output_type": "display_data"
    }
   ],
   "source": [
    "plt.hist(deviation_old.dt.days, bins = 40);"
   ]
  },
  {
   "cell_type": "code",
   "execution_count": 34,
   "metadata": {},
   "outputs": [
    {
     "data": {
      "text/plain": [
       "'Operator: Good day, ladies and gentlemen, and welcome to the Zions Bancorporation Fourth Quarter Earnings Call. [Operator Instructions] I would now like to turn the conference over to your host, James Abbott.\\nJames Abbott: Thanks, John, and good evening. We welcome you to this conference call to dis'"
      ]
     },
     "execution_count": 34,
     "metadata": {},
     "output_type": "execute_result"
    }
   ],
   "source": [
    "df_old.iloc[2131, -2][:300]"
   ]
  },
  {
   "cell_type": "code",
   "execution_count": 35,
   "metadata": {},
   "outputs": [
    {
     "data": {
      "text/plain": [
       "\"Operator: Good day, ladies and gentlemen. Thank you for standing by. Welcome to Best Buy's Conference Call for the Fourth Quarter of Fiscal 2011. [Operator Instructions] I would now like to turn the conference call over to Mr. Bill Seymour, Vice President of Investor Relations. Please go ahead, sir.\""
      ]
     },
     "execution_count": 35,
     "metadata": {},
     "output_type": "execute_result"
    }
   ],
   "source": [
    "df_old.iloc[23878, -2][:300]"
   ]
  },
  {
   "cell_type": "code",
   "execution_count": 36,
   "metadata": {},
   "outputs": [
    {
     "data": {
      "text/plain": [
       "'Executives: Lynne Maxeiner - Director of IR David Farr - Chairman of the Board, Chief Executive Officer, President and Chairman of Executive Committee\\nAnalysts: Richard Kwas - Wells Fargo Securities, LLC Scott Davis - Morgan Stanley John Inch - BofA Merrill Lynch Terry Darling - Goldman Sachs Group '"
      ]
     },
     "execution_count": 36,
     "metadata": {},
     "output_type": "execute_result"
    }
   ],
   "source": [
    "df.iloc[3218, -2][:300]"
   ]
  },
  {
   "cell_type": "code",
   "execution_count": 37,
   "metadata": {},
   "outputs": [
    {
     "data": {
      "text/plain": [
       "'Executives: Matt Cribbins – Vice President-Investor Communications Jeff Immelt – Chairman and Chief Executive Officer Keith Sherin – Vice Chairman and Chief Executive Officer-GE Capital Jeff Bornstein – Chief Financial Officer\\nAnalysts: Scott Davis – Barclays Deane Dray – RBC Capital Markets Steven '"
      ]
     },
     "execution_count": 37,
     "metadata": {},
     "output_type": "execute_result"
    }
   ],
   "source": [
    "df.iloc[3847, -2][:300]"
   ]
  },
  {
   "cell_type": "code",
   "execution_count": 39,
   "metadata": {},
   "outputs": [
    {
     "data": {
      "text/plain": [
       "'Executives: Louise Mehrotra – Vice President, Investor Relations Sheri McCoy - Worldwide Chairman, Pharmaceuticals Group Dominic Caruso – Vice President, Finance and Chief Financial Officer\\nAnalysts: Christine [No other identification.] Michael Weinstein – JP Morgan Chase & Co. Sara Michelmore - Cow'"
      ]
     },
     "execution_count": 39,
     "metadata": {},
     "output_type": "execute_result"
    }
   ],
   "source": [
    "df.iloc[4857, -2][:300]"
   ]
  },
  {
   "cell_type": "code",
   "execution_count": 43,
   "metadata": {},
   "outputs": [
    {
     "name": "stdout",
     "output_type": "stream",
     "text": [
      " Our focus is on improving the performance, continuing to improve the performance of the company. And as we look at it, as we said that will see the year unfold with greater improvements towards the second half not only due to market improvements but also due to some programs that we will have kick in then. So with that I would like to thank you all for joining us.\n",
      "Operator: Thank you for your participation in today’s conference. This concludes the presentation. You may now disconnect. Good day.\n"
     ]
    }
   ],
   "source": [
    "print(df_old.iloc[324, -2][-500:])"
   ]
  },
  {
   "cell_type": "code",
   "execution_count": 45,
   "metadata": {},
   "outputs": [
    {
     "name": "stdout",
     "output_type": "stream",
     "text": [
      "wo people with a different perspective than as the previous one. The previous caller suggested financial expertise and our real estate expertise and bringing some of the financial or retail expertise. So ultimately I’m sure at some point there will be a rotation right now I’m more focused on the additions and bringing in a different perspective. End of Q&A\n",
      "Operator: This concludes our Q&A session and the conference as a whole. Thank you for attending today’s presentation. You may now disconnect.\n"
     ]
    }
   ],
   "source": [
    "print(df_old.iloc[23249, -2][-500:])"
   ]
  },
  {
   "cell_type": "code",
   "execution_count": 46,
   "metadata": {},
   "outputs": [
    {
     "name": "stdout",
     "output_type": "stream",
     "text": [
      "Officer: All right. Thank you.\n",
      "Operator: At this time, I'll turn it back over to our speakers for any additional or closing remarks.\n",
      "Philip P. Conti - Senior Vice President and Chief Financial Officer: Thank you, Jennifer. As Steve mentioned, we will be posting a new analyst presentation to our website later today, so that will be available some time after 4:00. And I'd like to thank you all for participating.\n",
      "Operator: And that does conclude today's conference. Thank you for your participation.\n"
     ]
    }
   ],
   "source": [
    "print(df.iloc[3429, -2][-500:])"
   ]
  },
  {
   "cell_type": "code",
   "execution_count": 47,
   "metadata": {},
   "outputs": [
    {
     "name": "stdout",
     "output_type": "stream",
     "text": [
      "uth Florida will trade at 4.5% to 5.5% cap rates today. And as demonstrated by some of the product we've been selling, so the older garden product stuff is probably close to 6%.\n",
      "Operator: And at this time, we have no further questions in the phone queue.\n",
      "David J. Neithercut: All right. Thank you. I appreciative everybody's time today. We look forward to seeing many of you in Atlanta next week. Have a great day.\n",
      "Operator: This does conclude today's conference. We thank you for your participation.\n"
     ]
    }
   ],
   "source": [
    "print(df.iloc[3399, -2][-500:])"
   ]
  }
 ],
 "metadata": {
  "kernelspec": {
   "display_name": "Python 3",
   "language": "python",
   "name": "python3"
  },
  "language_info": {
   "codemirror_mode": {
    "name": "ipython",
    "version": 3
   },
   "file_extension": ".py",
   "mimetype": "text/x-python",
   "name": "python",
   "nbconvert_exporter": "python",
   "pygments_lexer": "ipython3",
   "version": "3.12.2"
  }
 },
 "nbformat": 4,
 "nbformat_minor": 2
}
