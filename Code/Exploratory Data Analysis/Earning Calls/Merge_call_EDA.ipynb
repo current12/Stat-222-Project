{
 "cells": [
  {
   "cell_type": "code",
   "execution_count": 2,
   "metadata": {},
   "outputs": [],
   "source": [
    "import pandas as pd\n",
    "import matplotlib.pyplot as plt"
   ]
  },
  {
   "cell_type": "code",
   "execution_count": 3,
   "metadata": {},
   "outputs": [
    {
     "data": {
      "text/html": [
       "<div>\n",
       "<style scoped>\n",
       "    .dataframe tbody tr th:only-of-type {\n",
       "        vertical-align: middle;\n",
       "    }\n",
       "\n",
       "    .dataframe tbody tr th {\n",
       "        vertical-align: top;\n",
       "    }\n",
       "\n",
       "    .dataframe thead th {\n",
       "        text-align: right;\n",
       "    }\n",
       "</style>\n",
       "<table border=\"1\" class=\"dataframe\">\n",
       "  <thead>\n",
       "    <tr style=\"text-align: right;\">\n",
       "      <th></th>\n",
       "      <th>symbol</th>\n",
       "      <th>quarter</th>\n",
       "      <th>year</th>\n",
       "      <th>earnings_call_datetime</th>\n",
       "      <th>content</th>\n",
       "      <th>source</th>\n",
       "      <th>web</th>\n",
       "      <th>date</th>\n",
       "    </tr>\n",
       "  </thead>\n",
       "  <tbody>\n",
       "    <tr>\n",
       "      <th>0</th>\n",
       "      <td>A</td>\n",
       "      <td>3</td>\n",
       "      <td>2011</td>\n",
       "      <td>2011-02-15 00:00:00</td>\n",
       "      <td>Operator: Good day, ladies and gentlemen, and ...</td>\n",
       "      <td>kaggle</td>\n",
       "      <td>False</td>\n",
       "      <td>2011-02-15</td>\n",
       "    </tr>\n",
       "    <tr>\n",
       "      <th>1</th>\n",
       "      <td>A</td>\n",
       "      <td>4</td>\n",
       "      <td>2011</td>\n",
       "      <td>2011-05-13 00:00:00</td>\n",
       "      <td>Operator: Good day, ladies and gentlemen, and ...</td>\n",
       "      <td>kaggle</td>\n",
       "      <td>False</td>\n",
       "      <td>2011-05-13</td>\n",
       "    </tr>\n",
       "    <tr>\n",
       "      <th>2</th>\n",
       "      <td>A</td>\n",
       "      <td>1</td>\n",
       "      <td>2012</td>\n",
       "      <td>2011-08-16 00:00:00</td>\n",
       "      <td>Operator: Good day, ladies and gentlemen, and ...</td>\n",
       "      <td>kaggle</td>\n",
       "      <td>False</td>\n",
       "      <td>2011-08-16</td>\n",
       "    </tr>\n",
       "    <tr>\n",
       "      <th>3</th>\n",
       "      <td>A</td>\n",
       "      <td>2</td>\n",
       "      <td>2012</td>\n",
       "      <td>2011-11-16 00:00:00</td>\n",
       "      <td>Operator: Good day, ladies and gentlemen, and ...</td>\n",
       "      <td>kaggle</td>\n",
       "      <td>False</td>\n",
       "      <td>2011-11-16</td>\n",
       "    </tr>\n",
       "    <tr>\n",
       "      <th>4</th>\n",
       "      <td>A</td>\n",
       "      <td>3</td>\n",
       "      <td>2012</td>\n",
       "      <td>2012-02-16 00:00:00</td>\n",
       "      <td>Operator: Good day, ladies and gentlemen, and ...</td>\n",
       "      <td>kaggle</td>\n",
       "      <td>False</td>\n",
       "      <td>2012-02-16</td>\n",
       "    </tr>\n",
       "  </tbody>\n",
       "</table>\n",
       "</div>"
      ],
      "text/plain": [
       "  symbol  quarter  year earnings_call_datetime  \\\n",
       "0      A        3  2011    2011-02-15 00:00:00   \n",
       "1      A        4  2011    2011-05-13 00:00:00   \n",
       "2      A        1  2012    2011-08-16 00:00:00   \n",
       "3      A        2  2012    2011-11-16 00:00:00   \n",
       "4      A        3  2012    2012-02-16 00:00:00   \n",
       "\n",
       "                                             content  source    web  \\\n",
       "0  Operator: Good day, ladies and gentlemen, and ...  kaggle  False   \n",
       "1  Operator: Good day, ladies and gentlemen, and ...  kaggle  False   \n",
       "2  Operator: Good day, ladies and gentlemen, and ...  kaggle  False   \n",
       "3  Operator: Good day, ladies and gentlemen, and ...  kaggle  False   \n",
       "4  Operator: Good day, ladies and gentlemen, and ...  kaggle  False   \n",
       "\n",
       "         date  \n",
       "0  2011-02-15  \n",
       "1  2011-05-13  \n",
       "2  2011-08-16  \n",
       "3  2011-11-16  \n",
       "4  2012-02-16  "
      ]
     },
     "execution_count": 3,
     "metadata": {},
     "output_type": "execute_result"
    }
   ],
   "source": [
    "# Load the data\n",
    "df = pd.read_csv(r'~\\Box\\STAT 222 Capstone\\Intermediate Data\\Calls\\combined_calls.csv')\n",
    "df.head()"
   ]
  },
  {
   "cell_type": "code",
   "execution_count": 22,
   "metadata": {},
   "outputs": [
    {
     "data": {
      "image/png": "[encoded data removed]",
      "text/plain": [
       "<Figure size 640x480 with 1 Axes>"
      ]
     },
     "metadata": {},
     "output_type": "display_data"
    }
   ],
   "source": [
    "company_by_date = []\n",
    "group_yq = df.groupby([\"year\", \"quarter\"])[\"symbol\"].nunique().reset_index()\n",
    "group_yq[\"period\"] = group_yq['year'].astype(str) + \"-\" + group_yq['quarter'].astype(str)\n",
    "n = 6\n",
    "\n",
    "\n",
    "plt.bar(group_yq['period'].tolist(), group_yq['symbol'].tolist(), color= \"skyblue\")\n",
    "plt.title(\"Companies per period\")\n",
    "plt.ylabel('Counts')\n",
    "plt.xticks([i for i in range(len(group_yq[\"period\"])) if i % n == 0], \n",
    "           [label for i, label in enumerate(group_yq[\"period\"]) if i % n == 0],\n",
    "           rotation=45, ha='right', fontsize=8)\n",
    "plt.tight_layout()\n",
    "plt.show()"
   ]
  },
  {
   "cell_type": "code",
   "execution_count": 7,
   "metadata": {},
   "outputs": [
    {
     "data": {
      "text/html": [
       "<div>\n",
       "<style scoped>\n",
       "    .dataframe tbody tr th:only-of-type {\n",
       "        vertical-align: middle;\n",
       "    }\n",
       "\n",
       "    .dataframe tbody tr th {\n",
       "        vertical-align: top;\n",
       "    }\n",
       "\n",
       "    .dataframe thead th {\n",
       "        text-align: right;\n",
       "    }\n",
       "</style>\n",
       "<table border=\"1\" class=\"dataframe\">\n",
       "  <thead>\n",
       "    <tr style=\"text-align: right;\">\n",
       "      <th></th>\n",
       "      <th>quarter</th>\n",
       "      <th>year</th>\n",
       "      <th>date</th>\n",
       "    </tr>\n",
       "  </thead>\n",
       "  <tbody>\n",
       "    <tr>\n",
       "      <th>count</th>\n",
       "      <td>31072.000000</td>\n",
       "      <td>31072.000000</td>\n",
       "      <td>31072</td>\n",
       "    </tr>\n",
       "    <tr>\n",
       "      <th>mean</th>\n",
       "      <td>2.544252</td>\n",
       "      <td>2013.659919</td>\n",
       "      <td>2014-03-14 10:22:57.342945024</td>\n",
       "    </tr>\n",
       "    <tr>\n",
       "      <th>min</th>\n",
       "      <td>1.000000</td>\n",
       "      <td>2010.000000</td>\n",
       "      <td>2009-04-29 00:00:00</td>\n",
       "    </tr>\n",
       "    <tr>\n",
       "      <th>25%</th>\n",
       "      <td>2.000000</td>\n",
       "      <td>2012.000000</td>\n",
       "      <td>2012-11-05 00:00:00</td>\n",
       "    </tr>\n",
       "    <tr>\n",
       "      <th>50%</th>\n",
       "      <td>3.000000</td>\n",
       "      <td>2014.000000</td>\n",
       "      <td>2014-05-08 00:00:00</td>\n",
       "    </tr>\n",
       "    <tr>\n",
       "      <th>75%</th>\n",
       "      <td>4.000000</td>\n",
       "      <td>2015.000000</td>\n",
       "      <td>2015-10-22 00:00:00</td>\n",
       "    </tr>\n",
       "    <tr>\n",
       "      <th>max</th>\n",
       "      <td>4.000000</td>\n",
       "      <td>2016.000000</td>\n",
       "      <td>2017-05-23 00:00:00</td>\n",
       "    </tr>\n",
       "    <tr>\n",
       "      <th>std</th>\n",
       "      <td>1.114002</td>\n",
       "      <td>1.844903</td>\n",
       "      <td>NaN</td>\n",
       "    </tr>\n",
       "  </tbody>\n",
       "</table>\n",
       "</div>"
      ],
      "text/plain": [
       "            quarter          year                           date\n",
       "count  31072.000000  31072.000000                          31072\n",
       "mean       2.544252   2013.659919  2014-03-14 10:22:57.342945024\n",
       "min        1.000000   2010.000000            2009-04-29 00:00:00\n",
       "25%        2.000000   2012.000000            2012-11-05 00:00:00\n",
       "50%        3.000000   2014.000000            2014-05-08 00:00:00\n",
       "75%        4.000000   2015.000000            2015-10-22 00:00:00\n",
       "max        4.000000   2016.000000            2017-05-23 00:00:00\n",
       "std        1.114002      1.844903                            NaN"
      ]
     },
     "execution_count": 7,
     "metadata": {},
     "output_type": "execute_result"
    }
   ],
   "source": [
    "df.date = pd.to_datetime(df.date)\n",
    "df.describe()"
   ]
  },
  {
   "cell_type": "code",
   "execution_count": 32,
   "metadata": {},
   "outputs": [
    {
     "data": {
      "text/html": [
       "<div>\n",
       "<style scoped>\n",
       "    .dataframe tbody tr th:only-of-type {\n",
       "        vertical-align: middle;\n",
       "    }\n",
       "\n",
       "    .dataframe tbody tr th {\n",
       "        vertical-align: top;\n",
       "    }\n",
       "\n",
       "    .dataframe thead th {\n",
       "        text-align: right;\n",
       "    }\n",
       "</style>\n",
       "<table border=\"1\" class=\"dataframe\">\n",
       "  <thead>\n",
       "    <tr style=\"text-align: right;\">\n",
       "      <th></th>\n",
       "      <th>symbol</th>\n",
       "      <th>quarter</th>\n",
       "      <th>year</th>\n",
       "      <th>earnings_call_datetime</th>\n",
       "      <th>content</th>\n",
       "      <th>source</th>\n",
       "      <th>web</th>\n",
       "      <th>date</th>\n",
       "    </tr>\n",
       "  </thead>\n",
       "  <tbody>\n",
       "    <tr>\n",
       "      <th>26962</th>\n",
       "      <td>TCS</td>\n",
       "      <td>4</td>\n",
       "      <td>2016</td>\n",
       "      <td>2017-05-23 22:23:05</td>\n",
       "      <td>Operator: Greetings and welcome to The Contain...</td>\n",
       "      <td>web</td>\n",
       "      <td>True</td>\n",
       "      <td>2017-05-23</td>\n",
       "    </tr>\n",
       "    <tr>\n",
       "      <th>25025</th>\n",
       "      <td>SGMS</td>\n",
       "      <td>1</td>\n",
       "      <td>2016</td>\n",
       "      <td>2017-04-28 17:00:00</td>\n",
       "      <td>Operator: Good day everyone and welcome to the...</td>\n",
       "      <td>web</td>\n",
       "      <td>True</td>\n",
       "      <td>2017-04-28</td>\n",
       "    </tr>\n",
       "    <tr>\n",
       "      <th>19221</th>\n",
       "      <td>MTSC</td>\n",
       "      <td>4</td>\n",
       "      <td>2016</td>\n",
       "      <td>2017-04-11 14:56:05</td>\n",
       "      <td>Operator: Good day, and welcome to the MTS Fis...</td>\n",
       "      <td>web</td>\n",
       "      <td>True</td>\n",
       "      <td>2017-04-11</td>\n",
       "    </tr>\n",
       "    <tr>\n",
       "      <th>3347</th>\n",
       "      <td>BBBY</td>\n",
       "      <td>4</td>\n",
       "      <td>2016</td>\n",
       "      <td>2017-04-06 17:00:00</td>\n",
       "      <td>Operator: Welcome to the Bed Bath &amp; Beyond's f...</td>\n",
       "      <td>web</td>\n",
       "      <td>True</td>\n",
       "      <td>2017-04-06</td>\n",
       "    </tr>\n",
       "    <tr>\n",
       "      <th>14601</th>\n",
       "      <td>INSW</td>\n",
       "      <td>4</td>\n",
       "      <td>2016</td>\n",
       "      <td>2017-03-31 17:57:03</td>\n",
       "      <td>Operator: Good day, and welcome to the Interna...</td>\n",
       "      <td>web</td>\n",
       "      <td>True</td>\n",
       "      <td>2017-03-31</td>\n",
       "    </tr>\n",
       "  </tbody>\n",
       "</table>\n",
       "</div>"
      ],
      "text/plain": [
       "      symbol  quarter  year earnings_call_datetime  \\\n",
       "26962    TCS        4  2016    2017-05-23 22:23:05   \n",
       "25025   SGMS        1  2016    2017-04-28 17:00:00   \n",
       "19221   MTSC        4  2016    2017-04-11 14:56:05   \n",
       "3347    BBBY        4  2016    2017-04-06 17:00:00   \n",
       "14601   INSW        4  2016    2017-03-31 17:57:03   \n",
       "\n",
       "                                                 content source   web  \\\n",
       "26962  Operator: Greetings and welcome to The Contain...    web  True   \n",
       "25025  Operator: Good day everyone and welcome to the...    web  True   \n",
       "19221  Operator: Good day, and welcome to the MTS Fis...    web  True   \n",
       "3347   Operator: Welcome to the Bed Bath & Beyond's f...    web  True   \n",
       "14601  Operator: Good day, and welcome to the Interna...    web  True   \n",
       "\n",
       "            date  \n",
       "26962 2017-05-23  \n",
       "25025 2017-04-28  \n",
       "19221 2017-04-11  \n",
       "3347  2017-04-06  \n",
       "14601 2017-03-31  "
      ]
     },
     "execution_count": 32,
     "metadata": {},
     "output_type": "execute_result"
    }
   ],
   "source": [
    "df.sort_values(by = \"date\", ascending=False).head()"
   ]
  },
  {
   "cell_type": "code",
   "execution_count": 33,
   "metadata": {},
   "outputs": [
    {
     "name": "stdout",
     "output_type": "stream",
     "text": [
      "Operator: Good day everyone and welcome to the Scientific Games First Quarter 2017 Investor Conference Call. All participants will be in a listen-only mode. [Operator Instructions] After today's presentation, there will be an opportunity to ask questions. [Operator Instructions] Please also note, that today's event is being recorded. At this time, I would like to turn the conference call over to Bill Pfund, Head of Investor Relations. Sir, please go ahead.\n",
      "Bill Pfund: Thank you, Jamie. Good afternoon, everyone. During today's call, we will discuss our 2017 first quarter results and operating p\n"
     ]
    }
   ],
   "source": [
    "print(df.iloc[25025, -4][:600])"
   ]
  },
  {
   "cell_type": "code",
   "execution_count": 10,
   "metadata": {},
   "outputs": [
    {
     "data": {
      "text/plain": [
       "count                         31072\n",
       "mean     56 days 13:38:23.295571576\n",
       "std      93 days 07:12:11.709384442\n",
       "min             -249 days +00:00:00\n",
       "25%                25 days 00:00:00\n",
       "50%               111 days 00:00:00\n",
       "75%               122 days 00:00:00\n",
       "max               484 days 00:00:00\n",
       "dtype: object"
      ]
     },
     "execution_count": 10,
     "metadata": {},
     "output_type": "execute_result"
    }
   ],
   "source": [
    "def match_date(year, quarter):\n",
    "    # Assign 1st quarter to Feb, 2nd to May, 3rd to Aug, 4th to Nov\n",
    "    month = (quarter-1)*3 + 1\n",
    "    matched_date = f\"{year}-{month:02d}-01\"\n",
    "    return matched_date\n",
    "\n",
    "matched_date = df.apply(lambda row: match_date(row['year'], row['quarter']), axis=1)\n",
    "matched_date = pd.to_datetime(matched_date)\n",
    "deviation = df.date - matched_date\n",
    "deviation.describe()"
   ]
  },
  {
   "cell_type": "code",
   "execution_count": 38,
   "metadata": {},
   "outputs": [
    {
     "data": {
      "text/html": [
       "<div>\n",
       "<style scoped>\n",
       "    .dataframe tbody tr th:only-of-type {\n",
       "        vertical-align: middle;\n",
       "    }\n",
       "\n",
       "    .dataframe tbody tr th {\n",
       "        vertical-align: top;\n",
       "    }\n",
       "\n",
       "    .dataframe thead th {\n",
       "        text-align: right;\n",
       "    }\n",
       "</style>\n",
       "<table border=\"1\" class=\"dataframe\">\n",
       "  <thead>\n",
       "    <tr style=\"text-align: right;\">\n",
       "      <th></th>\n",
       "      <th>symbol</th>\n",
       "      <th>quarter</th>\n",
       "      <th>year</th>\n",
       "      <th>earnings_call_datetime</th>\n",
       "      <th>content</th>\n",
       "      <th>source</th>\n",
       "      <th>web</th>\n",
       "      <th>date</th>\n",
       "    </tr>\n",
       "  </thead>\n",
       "  <tbody>\n",
       "    <tr>\n",
       "      <th>1467</th>\n",
       "      <td>ALR</td>\n",
       "      <td>4</td>\n",
       "      <td>2013</td>\n",
       "      <td>2014-09-18 14:50:20</td>\n",
       "      <td>Operator: Good day, and welcome to the Five St...</td>\n",
       "      <td>web</td>\n",
       "      <td>True</td>\n",
       "      <td>2014-09-18</td>\n",
       "    </tr>\n",
       "    <tr>\n",
       "      <th>15316</th>\n",
       "      <td>JCI</td>\n",
       "      <td>2</td>\n",
       "      <td>2011</td>\n",
       "      <td>2012-04-26 15:27:03</td>\n",
       "      <td>Operator Welcome to the Tyco second quarter ea...</td>\n",
       "      <td>web</td>\n",
       "      <td>True</td>\n",
       "      <td>2012-04-26</td>\n",
       "    </tr>\n",
       "    <tr>\n",
       "      <th>17466</th>\n",
       "      <td>MANT</td>\n",
       "      <td>1</td>\n",
       "      <td>2014</td>\n",
       "      <td>2015-04-30 17:00:00</td>\n",
       "      <td>Operator: Good day, ladies and gentlemen and w...</td>\n",
       "      <td>web</td>\n",
       "      <td>True</td>\n",
       "      <td>2015-04-30</td>\n",
       "    </tr>\n",
       "    <tr>\n",
       "      <th>21622</th>\n",
       "      <td>PAHC</td>\n",
       "      <td>1</td>\n",
       "      <td>2014</td>\n",
       "      <td>2014-11-12 16:00:00</td>\n",
       "      <td>Operator:  Good day, ladies and gentlemen, and...</td>\n",
       "      <td>web</td>\n",
       "      <td>True</td>\n",
       "      <td>2014-11-12</td>\n",
       "    </tr>\n",
       "    <tr>\n",
       "      <th>25025</th>\n",
       "      <td>SGMS</td>\n",
       "      <td>1</td>\n",
       "      <td>2016</td>\n",
       "      <td>2017-04-28 17:00:00</td>\n",
       "      <td>Operator: Good day everyone and welcome to the...</td>\n",
       "      <td>web</td>\n",
       "      <td>True</td>\n",
       "      <td>2017-04-28</td>\n",
       "    </tr>\n",
       "  </tbody>\n",
       "</table>\n",
       "</div>"
      ],
      "text/plain": [
       "      symbol  quarter  year earnings_call_datetime  \\\n",
       "1467     ALR        4  2013    2014-09-18 14:50:20   \n",
       "15316    JCI        2  2011    2012-04-26 15:27:03   \n",
       "17466   MANT        1  2014    2015-04-30 17:00:00   \n",
       "21622   PAHC        1  2014    2014-11-12 16:00:00   \n",
       "25025   SGMS        1  2016    2017-04-28 17:00:00   \n",
       "\n",
       "                                                 content source   web  \\\n",
       "1467   Operator: Good day, and welcome to the Five St...    web  True   \n",
       "15316  Operator Welcome to the Tyco second quarter ea...    web  True   \n",
       "17466  Operator: Good day, ladies and gentlemen and w...    web  True   \n",
       "21622  Operator:  Good day, ladies and gentlemen, and...    web  True   \n",
       "25025  Operator: Good day everyone and welcome to the...    web  True   \n",
       "\n",
       "            date  \n",
       "1467  2014-09-18  \n",
       "15316 2012-04-26  \n",
       "17466 2015-04-30  \n",
       "21622 2014-11-12  \n",
       "25025 2017-04-28  "
      ]
     },
     "execution_count": 38,
     "metadata": {},
     "output_type": "execute_result"
    }
   ],
   "source": [
    "df[deviation.dt.days > 250]"
   ]
  },
  {
   "cell_type": "code",
   "execution_count": 40,
   "metadata": {},
   "outputs": [
    {
     "data": {
      "image/png": "[encoded data removed]",
      "text/plain": [
       "<Figure size 640x480 with 1 Axes>"
      ]
     },
     "metadata": {},
     "output_type": "display_data"
    }
   ],
   "source": [
    "plt.hist(deviation.dt.days[deviation.dt.days < 250], color='skyblue', edgecolor='black', bins = 30);\n",
    "plt.title(\"Days after/before Fixed Quarter date\")\n",
    "plt.xlabel(\"Number of Days\")\n",
    "plt.ylabel(\"Count\")\n",
    "plt.grid()"
   ]
  },
  {
   "cell_type": "code",
   "execution_count": 23,
   "metadata": {},
   "outputs": [
    {
     "data": {
      "text/plain": [
       "count     31072.000000\n",
       "mean      46452.572573\n",
       "std       14472.082293\n",
       "min         201.000000\n",
       "25%       36374.500000\n",
       "50%       47568.000000\n",
       "75%       55965.000000\n",
       "max      210769.000000\n",
       "Name: content, dtype: float64"
      ]
     },
     "metadata": {},
     "output_type": "display_data"
    },
    {
     "data": {
      "image/png": "[encoded data removed]",
      "text/plain": [
       "<Figure size 800x500 with 1 Axes>"
      ]
     },
     "metadata": {},
     "output_type": "display_data"
    }
   ],
   "source": [
    "display(df['content'].str.len().describe())\n",
    "length_char = df['content'].str.len()\n",
    "plt.figure(figsize=(8, 5))\n",
    "plt.hist(length_char, bins=30, color='skyblue', edgecolor='black')\n",
    "plt.title('Transcript Length (characters) Distribution')\n",
    "plt.xlabel('Transcript Length')\n",
    "plt.show()"
   ]
  }
 ],
 "metadata": {
  "kernelspec": {
   "display_name": "Python 3",
   "language": "python",
   "name": "python3"
  },
  "language_info": {
   "codemirror_mode": {
    "name": "ipython",
    "version": 3
   },
   "file_extension": ".py",
   "mimetype": "text/x-python",
   "name": "python",
   "nbconvert_exporter": "python",
   "pygments_lexer": "ipython3",
   "version": "3.12.2"
  }
 },
 "nbformat": 4,
 "nbformat_minor": 2
}
