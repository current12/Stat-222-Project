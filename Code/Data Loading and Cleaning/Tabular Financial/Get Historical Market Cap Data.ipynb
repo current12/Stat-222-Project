{
 "cells": [
  {
   "cell_type": "markdown",
   "metadata": {},
   "source": [
    "# Get Historical Market Cap Data\n",
    "\n",
    "https://site.financialmodelingprep.com/developer/docs#historical-market-cap-company-information\n",
    "\n",
    "format: https://financialmodelingprep.com/api/v3/historical-market-capitalization/AAPL?limit=100&from=2023-10-10&to=2023-12-10\n",
    "\n",
    "each query is 5 years only"
   ]
  },
  {
   "cell_type": "code",
   "execution_count": 3,
   "metadata": {},
   "outputs": [
    {
     "name": "stdout",
     "output_type": "stream",
     "text": [
      "886\n"
     ]
    }
   ],
   "source": [
    "import pandas as pd\n",
    "import requests\n",
    "\n",
    "# Load the CSV file into a pandas DataFrame\n",
    "df = pd.read_csv(\"~/Box/STAT 222 Capstone/Intermediate Data/Credit_Rating/combined_credit_rating_data.csv\")\n",
    "\n",
    "# Extract all distinct \"Symbol\" values\n",
    "distinct_symbols = df[\"Symbol\"].unique()\n",
    "\n",
    "# Convert the array of distinct symbols to a pandas list\n",
    "distinct_symbols_list = distinct_symbols.tolist()\n",
    "\n",
    "print(len(distinct_symbols_list))"
   ]
  },
  {
   "cell_type": "code",
   "execution_count": 2,
   "metadata": {},
   "outputs": [],
   "source": [
    "# API key for accessing the financial data\n",
    "api_key = \"GzzXB8zIm8u1NJzcFKZNOwcOyxarZEmi\"\n",
    "\n",
    "# # Function to fetch financial statements data\n",
    "# def fetch_financial_statements(company):\n",
    "#     # Number of years for which data will be retrieved\n",
    "#     quarters = 67\n",
    "    \n",
    "#     # Fetching balance sheet data\n",
    "#     balance_sheet = requests.get(f'https://financialmodelingprep.com/api/v3/balance-sheet-statement/{company}?period=quarter&limit={quarters}&apikey={api_key}')\n",
    "#     balance_sheet = balance_sheet.json()\n",
    "\n",
    "#     # Fetching income statement data\n",
    "#     income_statement = requests.get(f'https://financialmodelingprep.com/api/v3/income-statement/{company}?period=quarter&limit={quarters}&apikey={api_key}')\n",
    "#     income_statement = income_statement.json()\n",
    "    \n",
    "#     # Fetching cash flow statement data\n",
    "#     cash_flow_statement = requests.get(f'https://financialmodelingprep.com/api/v3/cash-flow-statement/{company}?period=quarter&limit={quarters}&apikey={api_key}')\n",
    "#     cash_flow_statement = cash_flow_statement.json()\n",
    "\n",
    "#     return balance_sheet, income_statement, cash_flow_statement"
   ]
  }
 ],
 "metadata": {
  "kernelspec": {
   "display_name": "capstone",
   "language": "python",
   "name": "python3"
  },
  "language_info": {
   "codemirror_mode": {
    "name": "ipython",
    "version": 3
   },
   "file_extension": ".py",
   "mimetype": "text/x-python",
   "name": "python",
   "nbconvert_exporter": "python",
   "pygments_lexer": "ipython3",
   "version": "3.12.1"
  }
 },
 "nbformat": 4,
 "nbformat_minor": 2
}
