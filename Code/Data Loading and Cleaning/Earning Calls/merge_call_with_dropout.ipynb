{
 "cells": [
  {
   "cell_type": "code",
   "execution_count": 1,
   "metadata": {},
   "outputs": [],
   "source": [
    "import pandas as pd"
   ]
  },
  {
   "cell_type": "code",
   "execution_count": 2,
   "metadata": {},
   "outputs": [],
   "source": [
    "cc = pd.read_csv(r'~\\Box\\STAT 222 Capstone\\Intermediate Data\\Calls\\combined_calls.csv')\n",
    "dropout_call = pd.read_csv(r'~\\Box\\STAT 222 Capstone\\Intermediate Data\\Calls\\dropout_calls.csv')"
   ]
  },
  {
   "cell_type": "code",
   "execution_count": 6,
   "metadata": {},
   "outputs": [
    {
     "data": {
      "text/html": [
       "<div>\n",
       "<style scoped>\n",
       "    .dataframe tbody tr th:only-of-type {\n",
       "        vertical-align: middle;\n",
       "    }\n",
       "\n",
       "    .dataframe tbody tr th {\n",
       "        vertical-align: top;\n",
       "    }\n",
       "\n",
       "    .dataframe thead th {\n",
       "        text-align: right;\n",
       "    }\n",
       "</style>\n",
       "<table border=\"1\" class=\"dataframe\">\n",
       "  <thead>\n",
       "    <tr style=\"text-align: right;\">\n",
       "      <th></th>\n",
       "      <th>symbol</th>\n",
       "      <th>quarter</th>\n",
       "      <th>year</th>\n",
       "      <th>earnings_call_date</th>\n",
       "      <th>content</th>\n",
       "      <th>earnings_call_datetime</th>\n",
       "      <th>source</th>\n",
       "      <th>web</th>\n",
       "    </tr>\n",
       "  </thead>\n",
       "  <tbody>\n",
       "    <tr>\n",
       "      <th>0</th>\n",
       "      <td>CAG</td>\n",
       "      <td>1</td>\n",
       "      <td>2017</td>\n",
       "      <td>2016-09-29</td>\n",
       "      <td>Operator: Good morning, and welcome to today's...</td>\n",
       "      <td>2016-09-29</td>\n",
       "      <td>web</td>\n",
       "      <td>True</td>\n",
       "    </tr>\n",
       "    <tr>\n",
       "      <th>1</th>\n",
       "      <td>USM</td>\n",
       "      <td>1</td>\n",
       "      <td>2016</td>\n",
       "      <td>2016-05-06</td>\n",
       "      <td>Operator\\nGreetings, and welcome to the TDS an...</td>\n",
       "      <td>2016-05-06</td>\n",
       "      <td>web</td>\n",
       "      <td>True</td>\n",
       "    </tr>\n",
       "    <tr>\n",
       "      <th>2</th>\n",
       "      <td>USM</td>\n",
       "      <td>2</td>\n",
       "      <td>2016</td>\n",
       "      <td>2016-08-05</td>\n",
       "      <td>Operator\\nGreetings, and welcome to the TDS an...</td>\n",
       "      <td>2016-08-05</td>\n",
       "      <td>web</td>\n",
       "      <td>True</td>\n",
       "    </tr>\n",
       "    <tr>\n",
       "      <th>3</th>\n",
       "      <td>WFRD</td>\n",
       "      <td>3</td>\n",
       "      <td>2015</td>\n",
       "      <td>2015-10-22</td>\n",
       "      <td>Operator\\nGood morning. My name is Lori, and ...</td>\n",
       "      <td>2015-10-22</td>\n",
       "      <td>web</td>\n",
       "      <td>True</td>\n",
       "    </tr>\n",
       "    <tr>\n",
       "      <th>4</th>\n",
       "      <td>WFRD</td>\n",
       "      <td>4</td>\n",
       "      <td>2015</td>\n",
       "      <td>2016-02-04</td>\n",
       "      <td>Operator\\nGood morning, my name is Laurie and ...</td>\n",
       "      <td>2016-02-04</td>\n",
       "      <td>web</td>\n",
       "      <td>True</td>\n",
       "    </tr>\n",
       "    <tr>\n",
       "      <th>5</th>\n",
       "      <td>WFRD</td>\n",
       "      <td>1</td>\n",
       "      <td>2016</td>\n",
       "      <td>2016-05-05</td>\n",
       "      <td>Operator\\nGood morning. My name is Laurie, and...</td>\n",
       "      <td>2016-05-05</td>\n",
       "      <td>web</td>\n",
       "      <td>True</td>\n",
       "    </tr>\n",
       "    <tr>\n",
       "      <th>6</th>\n",
       "      <td>WFRD</td>\n",
       "      <td>2</td>\n",
       "      <td>2016</td>\n",
       "      <td>2016-07-28</td>\n",
       "      <td>Operator\\nGood morning. My name is Kim and I'l...</td>\n",
       "      <td>2016-07-28</td>\n",
       "      <td>web</td>\n",
       "      <td>True</td>\n",
       "    </tr>\n",
       "  </tbody>\n",
       "</table>\n",
       "</div>"
      ],
      "text/plain": [
       "  symbol  quarter  year earnings_call_date  \\\n",
       "0    CAG        1  2017         2016-09-29   \n",
       "1    USM        1  2016         2016-05-06   \n",
       "2    USM        2  2016         2016-08-05   \n",
       "3   WFRD        3  2015         2015-10-22   \n",
       "4   WFRD        4  2015         2016-02-04   \n",
       "5   WFRD        1  2016         2016-05-05   \n",
       "6   WFRD        2  2016         2016-07-28   \n",
       "\n",
       "                                             content earnings_call_datetime  \\\n",
       "0  Operator: Good morning, and welcome to today's...             2016-09-29   \n",
       "1  Operator\\nGreetings, and welcome to the TDS an...             2016-05-06   \n",
       "2  Operator\\nGreetings, and welcome to the TDS an...             2016-08-05   \n",
       "3   Operator\\nGood morning. My name is Lori, and ...             2015-10-22   \n",
       "4  Operator\\nGood morning, my name is Laurie and ...             2016-02-04   \n",
       "5  Operator\\nGood morning. My name is Laurie, and...             2016-05-05   \n",
       "6  Operator\\nGood morning. My name is Kim and I'l...             2016-07-28   \n",
       "\n",
       "  source   web  \n",
       "0    web  True  \n",
       "1    web  True  \n",
       "2    web  True  \n",
       "3    web  True  \n",
       "4    web  True  \n",
       "5    web  True  \n",
       "6    web  True  "
      ]
     },
     "execution_count": 6,
     "metadata": {},
     "output_type": "execute_result"
    }
   ],
   "source": [
    "dropout_call"
   ]
  },
  {
   "cell_type": "code",
   "execution_count": 4,
   "metadata": {},
   "outputs": [
    {
     "data": {
      "text/plain": [
       "(18462, 8)"
      ]
     },
     "execution_count": 4,
     "metadata": {},
     "output_type": "execute_result"
    }
   ],
   "source": [
    "cc.shape"
   ]
  },
  {
   "cell_type": "code",
   "execution_count": 7,
   "metadata": {},
   "outputs": [
    {
     "data": {
      "text/plain": [
       "(18469, 8)"
      ]
     },
     "execution_count": 7,
     "metadata": {},
     "output_type": "execute_result"
    }
   ],
   "source": [
    "call_with_dropout = pd.concat([cc, dropout_call], axis = 0)\n",
    "call_with_dropout.shape"
   ]
  },
  {
   "cell_type": "code",
   "execution_count": 8,
   "metadata": {},
   "outputs": [],
   "source": [
    "call_with_dropout.to_csv(r'~\\Box\\STAT 222 Capstone\\Intermediate Data\\Calls\\combined_calls.csv', index = False)"
   ]
  }
 ],
 "metadata": {
  "kernelspec": {
   "display_name": "Python 3",
   "language": "python",
   "name": "python3"
  },
  "language_info": {
   "codemirror_mode": {
    "name": "ipython",
    "version": 3
   },
   "file_extension": ".py",
   "mimetype": "text/x-python",
   "name": "python",
   "nbconvert_exporter": "python",
   "pygments_lexer": "ipython3",
   "version": "3.12.3"
  }
 },
 "nbformat": 4,
 "nbformat_minor": 2
}
