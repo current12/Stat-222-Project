{
 "cells": [
  {
   "cell_type": "code",
   "execution_count": 1,
   "id": "4bab787c-1f77-47e3-8246-7d1f9b6c5d84",
   "metadata": {
    "tags": []
   },
   "outputs": [],
   "source": [
    "import pandas as pd"
   ]
  },
  {
   "cell_type": "code",
   "execution_count": 3,
   "id": "3efe064c-dcdb-4396-936d-00fddacce058",
   "metadata": {
    "tags": []
   },
   "outputs": [],
   "source": [
    "df = pd.read_parquet(\"all_data_NLP.parquet\")"
   ]
  },
  {
   "cell_type": "markdown",
   "id": "2fe1eaa4-a8f7-4da4-8887-31bcde980295",
   "metadata": {
    "user_expressions": []
   },
   "source": [
    "## Examples of numeric transparency"
   ]
  },
  {
   "cell_type": "code",
   "execution_count": 27,
   "id": "d812f75c-ae20-482f-a5bd-dae912bcfe28",
   "metadata": {
    "tags": []
   },
   "outputs": [],
   "source": [
    "df = df.dropna(subset=['readability'])    # Drop 3 calls with wrong earning call"
   ]
  },
  {
   "cell_type": "code",
   "execution_count": 35,
   "id": "230cf2a2-aa5a-4835-aef0-59e5b4fbc349",
   "metadata": {
    "tags": []
   },
   "outputs": [],
   "source": [
    "def find_nlp_feature_examples(feature_list, feat_name):\n",
    "    # Finding the max value\n",
    "    max_value = df[feat_name].max()\n",
    "    # Finding the index of the max value\n",
    "    max_index = df[feat_name].idxmax()\n",
    "    \n",
    "    min_value = df[feat_name].min()\n",
    "    min_index = df[feat_name].idxmin()\n",
    "\n",
    "    sample_good = df.loc[max_index]['transcript']\n",
    "    sample_bad = df.loc[min_index]['transcript']\n",
    "    print(min_index)\n",
    "    \n",
    "    return sample_good, sample_bad"
   ]
  },
  {
   "cell_type": "code",
   "execution_count": 36,
   "id": "01aba852-c750-46a6-bfb1-4683d14f614a",
   "metadata": {
    "tags": []
   },
   "outputs": [
    {
     "name": "stdout",
     "output_type": "stream",
     "text": [
      "1743\n"
     ]
    },
    {
     "data": {
      "text/plain": [
       "'Operator:\\nLowell Singer:\\nRobert Iger:\\nJames Rasulo:\\nLowell Singer:\\nOperator:\\nBenjamin Swinburne – Morgan Stanley:\\nJames Rasulo:\\nRobert Iger:\\nOperator:\\nMichael Nathanson - Nomura Securities:\\nJames Rasulo:\\nMichael Nathanson - Nomura Securities:\\nJames Rasulo:\\nOperator:\\nAlexia Quadrani - JPMorgan:\\nRobert Iger:\\nAlexia Quadrani – JPMorgan:\\nJames Rasulo:\\nRobert Iger:\\nAlexia Quadrani – JPMorgan:\\nRobert Iger:\\nOperator:\\nJessica Reif-Cohen – Bank of America Merrill Lynch:\\nRobert Iger:\\nJames Rasulo:\\nJessica Reif-Cohen – Bank of America Merrill Lynch:\\nJames Rasulo:\\nJessica Reif-Cohen – Bank of America Merrill Lynch:\\nJames Rasulo:\\nOperator:\\nDouglas Mitchelson – Deutsche Bank:\\nRobert Iger:\\nJames Rasulo:\\nOperator:\\nTodd Juenger - Sanford C. Bernstein:\\nRobert Iger:\\nTodd Juenger – Sanford Bernstein:\\nJames Rasulo:\\nOperator:\\nAnthony DiClemente – Barclays:\\nRobert Iger:\\nOperator:\\nTuna Amobi – S&P Capital IQ:\\nRobert Iger:\\nTuna Amobi – S&P Capital IQ:\\nJames Rasulo:\\nOperator:\\nDavid Miller - B. Riley Caris:\\nRobert Iger:\\nOperator:\\nJason Bazinet – Citigroup:\\nJames Rasulo:\\nJason Bazinet – Citigroup:\\nOperator:\\nDavid Bank – RBC Capital Markets:\\nRobert Iger:\\nOperator:\\nMarci Ryvicker - Wells Fargo:\\nRobert Iger:\\nJames Rasulo:\\nLowell Singer:\\nOperator:'"
      ]
     },
     "execution_count": 36,
     "metadata": {},
     "output_type": "execute_result"
    }
   ],
   "source": [
    "samples = find_nlp_feature_examples(df['num_transparency'], 'num_transparency')\n",
    "samples[1]"
   ]
  },
  {
   "cell_type": "code",
   "execution_count": 32,
   "id": "5ed88bc4-a8f3-4b02-a236-bf9f196356ae",
   "metadata": {
    "tags": []
   },
   "outputs": [
    {
     "name": "stdout",
     "output_type": "stream",
     "text": [
      "Operator:\n",
      "Lowell Singer:\n",
      "Robert Iger:\n",
      "James Rasulo:\n",
      "Lowell Singer:\n",
      "Operator:\n",
      "Benjamin Swinburne – Morgan Stanley:\n",
      "James Rasulo:\n",
      "Robert Iger:\n",
      "Operator:\n",
      "Michael Nathanson - Nomura Securities:\n",
      "James Rasulo:\n",
      "Michael Nathanson - Nomura Securities:\n",
      "James Rasulo:\n",
      "Operator:\n",
      "Alexia Quadrani - JPMorgan:\n",
      "Robert Iger:\n",
      "Alexia Quadrani – JPMorgan:\n",
      "James Rasulo:\n",
      "Robert Iger:\n",
      "Alexia Quadrani – JPMorgan:\n",
      "Robert Iger:\n",
      "Operator:\n",
      "Jessica Reif-Cohen – Bank of America Merrill Lynch:\n",
      "Robert Iger:\n",
      "James Rasulo:\n",
      "Jessica Reif-Cohen – Bank of America Merrill Lynch:\n",
      "James Rasulo:\n",
      "Jessica Reif-Cohen – Bank of America Merrill Lynch:\n",
      "James Rasulo:\n",
      "Operator:\n",
      "Douglas Mitchelson – Deutsche Bank:\n",
      "Robert Iger:\n",
      "James Rasulo:\n",
      "Operator:\n",
      "Todd Juenger - Sanford C. Bernstein:\n",
      "Robert Iger:\n",
      "Todd Juenger – Sanford Bernstein:\n",
      "James Rasulo:\n",
      "Operator:\n",
      "Anthony DiClemente – Barclays:\n",
      "Robert Iger:\n",
      "Operator:\n",
      "Tuna Amobi – S&P Capital IQ:\n",
      "Robert Iger:\n",
      "Tuna Amobi – S&P Capital IQ:\n",
      "James Rasulo:\n",
      "Operator:\n",
      "David Miller - B. Riley Caris:\n",
      "Robert Iger:\n",
      "Operator:\n",
      "Jason Bazinet – Citigroup:\n",
      "James Rasulo:\n",
      "Jason Bazinet – Citigroup:\n",
      "Operator:\n",
      "David Bank – RBC Capital Markets:\n",
      "Robert Iger:\n",
      "Operator:\n",
      "Marci Ryvicker - Wells Fargo:\n",
      "Robert Iger:\n",
      "James Rasulo:\n",
      "Lowell Singer:\n",
      "Operator:\n"
     ]
    }
   ],
   "source": [
    "print(df.loc[1743]['transcript'])"
   ]
  },
  {
   "cell_type": "code",
   "execution_count": null,
   "id": "db330c56-5dab-43f0-a28a-77a8a541ec41",
   "metadata": {},
   "outputs": [],
   "source": []
  }
 ],
 "metadata": {
  "kernelspec": {
   "display_name": "Python 3 (ipykernel)",
   "language": "python",
   "name": "python3"
  },
  "language_info": {
   "codemirror_mode": {
    "name": "ipython",
    "version": 3
   },
   "file_extension": ".py",
   "mimetype": "text/x-python",
   "name": "python",
   "nbconvert_exporter": "python",
   "pygments_lexer": "ipython3",
   "version": "3.11.0"
  }
 },
 "nbformat": 4,
 "nbformat_minor": 5
}
