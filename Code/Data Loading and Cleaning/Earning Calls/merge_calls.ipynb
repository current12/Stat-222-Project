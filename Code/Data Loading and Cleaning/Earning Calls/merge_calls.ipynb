{
 "cells": [
  {
   "cell_type": "code",
   "execution_count": 1,
   "metadata": {},
   "outputs": [],
   "source": [
    "import pandas as pd"
   ]
  },
  {
   "cell_type": "markdown",
   "metadata": {},
   "source": [
    "# Read Data"
   ]
  },
  {
   "cell_type": "code",
   "execution_count": 2,
   "metadata": {},
   "outputs": [],
   "source": [
    "df_web = pd.read_csv(r'~\\Box\\STAT 222 Capstone\\Raw Data\\Earnings call from web\\earning_call_web.csv')\n",
    "\n",
    "df_web = df_web.drop(\"Unnamed: 0\", axis = 1)\n",
    "df_web[\"date\"] = pd.to_datetime(df_web[\"date\"])"
   ]
  },
  {
   "cell_type": "code",
   "execution_count": 3,
   "metadata": {},
   "outputs": [],
   "source": [
    "df_kaggle = pd.read_csv(r'~\\Box\\STAT 222 Capstone\\Intermediate Data\\Calls\\calls_short.csv')\n",
    "\n",
    "df_kaggle.rename(columns={\"transcript\":\"content\", \"company\": \"symbol\"}, inplace = True)\n",
    "df_kaggle = df_kaggle.drop(\"sector\", axis = 1)\n",
    "df_kaggle[\"date\"] = pd.to_datetime(df_kaggle[\"date\"])"
   ]
  },
  {
   "cell_type": "code",
   "execution_count": 4,
   "metadata": {},
   "outputs": [
    {
     "name": "stdout",
     "output_type": "stream",
     "text": [
      "Index(['symbol', 'quarter', 'year', 'date', 'content', 'source'], dtype='object')\n",
      "(18346, 6)\n",
      "Index(['symbol', 'quarter', 'year', 'date', 'content', 'source'], dtype='object')\n",
      "(24580, 6)\n"
     ]
    }
   ],
   "source": [
    "df_web[\"source\"] = \"web\"\n",
    "df_kaggle[\"source\"] = \"kaggle\"\n",
    "df_kaggle = df_kaggle[df_web.columns]\n",
    "print(df_web.columns)\n",
    "print(df_web.shape)\n",
    "print(df_kaggle.columns)\n",
    "print(df_kaggle.shape)"
   ]
  },
  {
   "cell_type": "markdown",
   "metadata": {},
   "source": [
    "## Prepare for stripping"
   ]
  },
  {
   "cell_type": "code",
   "execution_count": 5,
   "metadata": {},
   "outputs": [
    {
     "data": {
      "text/html": [
       "<div>\n",
       "<style scoped>\n",
       "    .dataframe tbody tr th:only-of-type {\n",
       "        vertical-align: middle;\n",
       "    }\n",
       "\n",
       "    .dataframe tbody tr th {\n",
       "        vertical-align: top;\n",
       "    }\n",
       "\n",
       "    .dataframe thead th {\n",
       "        text-align: right;\n",
       "    }\n",
       "</style>\n",
       "<table border=\"1\" class=\"dataframe\">\n",
       "  <thead>\n",
       "    <tr style=\"text-align: right;\">\n",
       "      <th></th>\n",
       "      <th>symbol</th>\n",
       "      <th>quarter</th>\n",
       "      <th>year</th>\n",
       "      <th>date</th>\n",
       "      <th>content</th>\n",
       "      <th>source</th>\n",
       "    </tr>\n",
       "  </thead>\n",
       "  <tbody>\n",
       "    <tr>\n",
       "      <th>0</th>\n",
       "      <td>BCE</td>\n",
       "      <td>4</td>\n",
       "      <td>2012</td>\n",
       "      <td>2013-02-07 17:00:00</td>\n",
       "      <td>Thane Fotopoulos: Good morning everybody. I am...</td>\n",
       "      <td>web</td>\n",
       "    </tr>\n",
       "    <tr>\n",
       "      <th>23</th>\n",
       "      <td>BEP</td>\n",
       "      <td>4</td>\n",
       "      <td>2015</td>\n",
       "      <td>2016-02-05 17:00:00</td>\n",
       "      <td>Operator: Thank you for standing by. This is t...</td>\n",
       "      <td>web</td>\n",
       "    </tr>\n",
       "    <tr>\n",
       "      <th>24</th>\n",
       "      <td>BEP</td>\n",
       "      <td>3</td>\n",
       "      <td>2015</td>\n",
       "      <td>2015-11-03 17:00:00</td>\n",
       "      <td>Operator: Welcome to the Brookfield Renewable ...</td>\n",
       "      <td>web</td>\n",
       "    </tr>\n",
       "    <tr>\n",
       "      <th>29</th>\n",
       "      <td>BEP</td>\n",
       "      <td>2</td>\n",
       "      <td>2016</td>\n",
       "      <td>2016-08-06 17:00:00</td>\n",
       "      <td>Operator: Welcome to the Brookfield Renewable ...</td>\n",
       "      <td>web</td>\n",
       "    </tr>\n",
       "    <tr>\n",
       "      <th>30</th>\n",
       "      <td>BEP</td>\n",
       "      <td>1</td>\n",
       "      <td>2016</td>\n",
       "      <td>2016-05-05 17:00:00</td>\n",
       "      <td>Operator: Thank you for standing by. This is t...</td>\n",
       "      <td>web</td>\n",
       "    </tr>\n",
       "    <tr>\n",
       "      <th>...</th>\n",
       "      <td>...</td>\n",
       "      <td>...</td>\n",
       "      <td>...</td>\n",
       "      <td>...</td>\n",
       "      <td>...</td>\n",
       "      <td>...</td>\n",
       "    </tr>\n",
       "    <tr>\n",
       "      <th>17859</th>\n",
       "      <td>RELX</td>\n",
       "      <td>1</td>\n",
       "      <td>2014</td>\n",
       "      <td>2014-07-24 17:00:00</td>\n",
       "      <td>Anthony John Habgood: So good morning, ladies ...</td>\n",
       "      <td>web</td>\n",
       "    </tr>\n",
       "    <tr>\n",
       "      <th>17967</th>\n",
       "      <td>SLCA</td>\n",
       "      <td>3</td>\n",
       "      <td>2012</td>\n",
       "      <td>2012-11-02 17:31:00</td>\n",
       "      <td>Start Time: 11:03: US Silica Holdings, Inc. (N...</td>\n",
       "      <td>web</td>\n",
       "    </tr>\n",
       "    <tr>\n",
       "      <th>18116</th>\n",
       "      <td>TRTN</td>\n",
       "      <td>2</td>\n",
       "      <td>2012</td>\n",
       "      <td>2012-07-26 17:00:00</td>\n",
       "      <td>Operator: Good morning and welcome to the TAL ...</td>\n",
       "      <td>web</td>\n",
       "    </tr>\n",
       "    <tr>\n",
       "      <th>18132</th>\n",
       "      <td>TSLA</td>\n",
       "      <td>4</td>\n",
       "      <td>2011</td>\n",
       "      <td>2012-02-16 17:00:00</td>\n",
       "      <td>Operator: Good day, ladies and gentlemen, and ...</td>\n",
       "      <td>web</td>\n",
       "    </tr>\n",
       "    <tr>\n",
       "      <th>18173</th>\n",
       "      <td>UAN</td>\n",
       "      <td>2</td>\n",
       "      <td>2013</td>\n",
       "      <td>2013-08-02 02:29:07</td>\n",
       "      <td>Operator:  Greetings, and welcome to the CVR P...</td>\n",
       "      <td>web</td>\n",
       "    </tr>\n",
       "  </tbody>\n",
       "</table>\n",
       "<p>1848 rows × 6 columns</p>\n",
       "</div>"
      ],
      "text/plain": [
       "      symbol  quarter  year                date  \\\n",
       "0        BCE        4  2012 2013-02-07 17:00:00   \n",
       "23       BEP        4  2015 2016-02-05 17:00:00   \n",
       "24       BEP        3  2015 2015-11-03 17:00:00   \n",
       "29       BEP        2  2016 2016-08-06 17:00:00   \n",
       "30       BEP        1  2016 2016-05-05 17:00:00   \n",
       "...      ...      ...   ...                 ...   \n",
       "17859   RELX        1  2014 2014-07-24 17:00:00   \n",
       "17967   SLCA        3  2012 2012-11-02 17:31:00   \n",
       "18116   TRTN        2  2012 2012-07-26 17:00:00   \n",
       "18132   TSLA        4  2011 2012-02-16 17:00:00   \n",
       "18173    UAN        2  2013 2013-08-02 02:29:07   \n",
       "\n",
       "                                                 content source  \n",
       "0      Thane Fotopoulos: Good morning everybody. I am...    web  \n",
       "23     Operator: Thank you for standing by. This is t...    web  \n",
       "24     Operator: Welcome to the Brookfield Renewable ...    web  \n",
       "29     Operator: Welcome to the Brookfield Renewable ...    web  \n",
       "30     Operator: Thank you for standing by. This is t...    web  \n",
       "...                                                  ...    ...  \n",
       "17859  Anthony John Habgood: So good morning, ladies ...    web  \n",
       "17967  Start Time: 11:03: US Silica Holdings, Inc. (N...    web  \n",
       "18116  Operator: Good morning and welcome to the TAL ...    web  \n",
       "18132  Operator: Good day, ladies and gentlemen, and ...    web  \n",
       "18173  Operator:  Greetings, and welcome to the CVR P...    web  \n",
       "\n",
       "[1848 rows x 6 columns]"
      ]
     },
     "execution_count": 5,
     "metadata": {},
     "output_type": "execute_result"
    }
   ],
   "source": [
    "df_web[~(df_web.content.str.startswith(\"Executive\") | df_web.content.str.startswith(\":\\nExecutive\") | df_web.content.str.startswith(\": \\nExecutive\"))]"
   ]
  },
  {
   "cell_type": "code",
   "execution_count": 6,
   "metadata": {},
   "outputs": [
    {
     "data": {
      "text/html": [
       "<div>\n",
       "<style scoped>\n",
       "    .dataframe tbody tr th:only-of-type {\n",
       "        vertical-align: middle;\n",
       "    }\n",
       "\n",
       "    .dataframe tbody tr th {\n",
       "        vertical-align: top;\n",
       "    }\n",
       "\n",
       "    .dataframe thead th {\n",
       "        text-align: right;\n",
       "    }\n",
       "</style>\n",
       "<table border=\"1\" class=\"dataframe\">\n",
       "  <thead>\n",
       "    <tr style=\"text-align: right;\">\n",
       "      <th></th>\n",
       "      <th>symbol</th>\n",
       "      <th>quarter</th>\n",
       "      <th>year</th>\n",
       "      <th>date</th>\n",
       "      <th>content</th>\n",
       "      <th>source</th>\n",
       "    </tr>\n",
       "  </thead>\n",
       "  <tbody>\n",
       "    <tr>\n",
       "      <th>214</th>\n",
       "      <td>GOLD</td>\n",
       "      <td>1</td>\n",
       "      <td>2011</td>\n",
       "      <td>2011-05-12 17:00:00</td>\n",
       "      <td>Mark Bristow: Good morning ladies and gentleme...</td>\n",
       "      <td>web</td>\n",
       "    </tr>\n",
       "    <tr>\n",
       "      <th>749</th>\n",
       "      <td>AEP</td>\n",
       "      <td>3</td>\n",
       "      <td>2010</td>\n",
       "      <td>2010-10-19 16:44:25</td>\n",
       "      <td>Executives: Mike Morris - President, Chairman ...</td>\n",
       "      <td>web</td>\n",
       "    </tr>\n",
       "    <tr>\n",
       "      <th>755</th>\n",
       "      <td>AEP</td>\n",
       "      <td>4</td>\n",
       "      <td>2012</td>\n",
       "      <td>2013-02-15 14:40:12</td>\n",
       "      <td>Executives: Nicholas K. Akins - Chief Executiv...</td>\n",
       "      <td>web</td>\n",
       "    </tr>\n",
       "    <tr>\n",
       "      <th>772</th>\n",
       "      <td>AEP</td>\n",
       "      <td>3</td>\n",
       "      <td>2016</td>\n",
       "      <td>2016-11-01 17:00:00</td>\n",
       "      <td>Nick Akins: Good morning, everyone, and welcom...</td>\n",
       "      <td>web</td>\n",
       "    </tr>\n",
       "    <tr>\n",
       "      <th>2761</th>\n",
       "      <td>DEO</td>\n",
       "      <td>2</td>\n",
       "      <td>2013</td>\n",
       "      <td>2013-01-31 09:00:07</td>\n",
       "      <td>Executives: Paul S. Walsh - Chief Executive Of...</td>\n",
       "      <td>web</td>\n",
       "    </tr>\n",
       "    <tr>\n",
       "      <th>...</th>\n",
       "      <td>...</td>\n",
       "      <td>...</td>\n",
       "      <td>...</td>\n",
       "      <td>...</td>\n",
       "      <td>...</td>\n",
       "      <td>...</td>\n",
       "    </tr>\n",
       "    <tr>\n",
       "      <th>17853</th>\n",
       "      <td>RELX</td>\n",
       "      <td>4</td>\n",
       "      <td>2012</td>\n",
       "      <td>2013-02-28 10:20:35</td>\n",
       "      <td>Executives: Anthony J. Habgood - Chairman, Mem...</td>\n",
       "      <td>web</td>\n",
       "    </tr>\n",
       "    <tr>\n",
       "      <th>17854</th>\n",
       "      <td>RELX</td>\n",
       "      <td>2</td>\n",
       "      <td>2012</td>\n",
       "      <td>2012-07-26 21:00:08</td>\n",
       "      <td>Executives: Anthony Habgood - Chairman, Member...</td>\n",
       "      <td>web</td>\n",
       "    </tr>\n",
       "    <tr>\n",
       "      <th>17855</th>\n",
       "      <td>RELX</td>\n",
       "      <td>4</td>\n",
       "      <td>2013</td>\n",
       "      <td>2014-02-27 12:30:12</td>\n",
       "      <td>Executives: Anthony John Habgood - Non-Executi...</td>\n",
       "      <td>web</td>\n",
       "    </tr>\n",
       "    <tr>\n",
       "      <th>17857</th>\n",
       "      <td>RELX</td>\n",
       "      <td>2</td>\n",
       "      <td>2013</td>\n",
       "      <td>2013-07-25 13:20:07</td>\n",
       "      <td>Executives: Anthony J. Habgood - Non-Executive...</td>\n",
       "      <td>web</td>\n",
       "    </tr>\n",
       "    <tr>\n",
       "      <th>17859</th>\n",
       "      <td>RELX</td>\n",
       "      <td>1</td>\n",
       "      <td>2014</td>\n",
       "      <td>2014-07-24 17:00:00</td>\n",
       "      <td>Anthony John Habgood: So good morning, ladies ...</td>\n",
       "      <td>web</td>\n",
       "    </tr>\n",
       "  </tbody>\n",
       "</table>\n",
       "<p>86 rows × 6 columns</p>\n",
       "</div>"
      ],
      "text/plain": [
       "      symbol  quarter  year                date  \\\n",
       "214     GOLD        1  2011 2011-05-12 17:00:00   \n",
       "749      AEP        3  2010 2010-10-19 16:44:25   \n",
       "755      AEP        4  2012 2013-02-15 14:40:12   \n",
       "772      AEP        3  2016 2016-11-01 17:00:00   \n",
       "2761     DEO        2  2013 2013-01-31 09:00:07   \n",
       "...      ...      ...   ...                 ...   \n",
       "17853   RELX        4  2012 2013-02-28 10:20:35   \n",
       "17854   RELX        2  2012 2012-07-26 21:00:08   \n",
       "17855   RELX        4  2013 2014-02-27 12:30:12   \n",
       "17857   RELX        2  2013 2013-07-25 13:20:07   \n",
       "17859   RELX        1  2014 2014-07-24 17:00:00   \n",
       "\n",
       "                                                 content source  \n",
       "214    Mark Bristow: Good morning ladies and gentleme...    web  \n",
       "749    Executives: Mike Morris - President, Chairman ...    web  \n",
       "755    Executives: Nicholas K. Akins - Chief Executiv...    web  \n",
       "772    Nick Akins: Good morning, everyone, and welcom...    web  \n",
       "2761   Executives: Paul S. Walsh - Chief Executive Of...    web  \n",
       "...                                                  ...    ...  \n",
       "17853  Executives: Anthony J. Habgood - Chairman, Mem...    web  \n",
       "17854  Executives: Anthony Habgood - Chairman, Member...    web  \n",
       "17855  Executives: Anthony John Habgood - Non-Executi...    web  \n",
       "17857  Executives: Anthony J. Habgood - Non-Executive...    web  \n",
       "17859  Anthony John Habgood: So good morning, ladies ...    web  \n",
       "\n",
       "[86 rows x 6 columns]"
      ]
     },
     "execution_count": 6,
     "metadata": {},
     "output_type": "execute_result"
    }
   ],
   "source": [
    "contain_operator = df_web.content.str.contains('Operator', case=False, na=False)\n",
    "# 86 rows will be untouched (hard to find a pattern in stripping)\n",
    "df_web[~df_web.content.str.contains(\"Operator\", case = False)]"
   ]
  },
  {
   "cell_type": "code",
   "execution_count": 7,
   "metadata": {},
   "outputs": [],
   "source": [
    "def strip_name(text):\n",
    "    # Strip first the Executive line from new calls\n",
    "    start_index = text.lower().index(\"operator\")\n",
    "    return text[start_index:]"
   ]
  },
  {
   "cell_type": "code",
   "execution_count": 8,
   "metadata": {},
   "outputs": [
    {
     "data": {
      "text/plain": [
       "0    operators from ourselves. Our business perform...\n",
       "1    Operator: Good morning, ladies and gentlemen. ...\n",
       "2    Operator: Good morning, ladies and gentlemen. ...\n",
       "3    Operator: Good morning, ladies and gentlemen. ...\n",
       "4    Operator: Good morning, ladies and gentlemen. ...\n",
       "Name: content, dtype: object"
      ]
     },
     "execution_count": 8,
     "metadata": {},
     "output_type": "execute_result"
    }
   ],
   "source": [
    "df_web.loc[df_web.content.str.contains(\"operator\", case = False), 'content'].head().apply(strip_name)"
   ]
  },
  {
   "cell_type": "code",
   "execution_count": 9,
   "metadata": {},
   "outputs": [],
   "source": [
    "# inplace strip\n",
    "df_web.loc[df_web.content.str.contains(\"operator\", case = False), 'content'] = df_web[df_web.content.str.contains(\"operator\", case = False)].content.apply(strip_name)"
   ]
  },
  {
   "cell_type": "markdown",
   "metadata": {},
   "source": [
    "### Merge Data"
   ]
  },
  {
   "cell_type": "code",
   "execution_count": 10,
   "metadata": {},
   "outputs": [],
   "source": [
    "df_full = pd.concat([df_kaggle, df_web], axis = 0)"
   ]
  },
  {
   "cell_type": "code",
   "execution_count": 11,
   "metadata": {},
   "outputs": [
    {
     "name": "stdout",
     "output_type": "stream",
     "text": [
      "(24580, 6)\n",
      "(18346, 6)\n",
      "(42926, 6)\n"
     ]
    }
   ],
   "source": [
    "print(df_kaggle.shape)\n",
    "print(df_web.shape)\n",
    "print(df_full.shape)"
   ]
  },
  {
   "cell_type": "code",
   "execution_count": 12,
   "metadata": {},
   "outputs": [
    {
     "name": "stdout",
     "output_type": "stream",
     "text": [
      "(32939, 7)\n"
     ]
    }
   ],
   "source": [
    "# keep date in df_web\n",
    "# flag for if source = 'web'\n",
    "df_full['web'] = (df_full['source'] == 'web')\n",
    "df_full = df_full.sort_values(['symbol', 'year', 'quarter', 'web'])\n",
    "df_full.drop_duplicates(subset = ['symbol', 'year', 'quarter'], keep = \"last\", inplace = True)\n",
    "print(df_full.shape)"
   ]
  },
  {
   "cell_type": "code",
   "execution_count": 13,
   "metadata": {},
   "outputs": [
    {
     "name": "stdout",
     "output_type": "stream",
     "text": [
      "(32932, 8)\n"
     ]
    }
   ],
   "source": [
    "# keep year and quarter in df_web\n",
    "# Convert date to be just the date part\n",
    "df_full['date_day'] = df_full['date'].dt.date\n",
    "# deduplicate\n",
    "df_full = df_full.sort_values(['symbol', 'date_day', 'web'])\n",
    "df_full.drop_duplicates(subset = ['symbol', 'date_day'], keep = \"last\", inplace = True)\n",
    "print(df_full.shape)"
   ]
  },
  {
   "cell_type": "code",
   "execution_count": 14,
   "metadata": {},
   "outputs": [],
   "source": [
    "def match_date(year, quarter):\n",
    "    # Assign 1st quarter to Jan, 2nd to Apr, 3rd to July, 4th to Oct\n",
    "    month = (quarter-1)*3 + 1\n",
    "    matched_date = f\"{year}-{month:02d}-01\"\n",
    "    matched_date = pd.to_datetime(matched_date)\n",
    "    return matched_date\n",
    "\n",
    "# New calls from web\n",
    "matched_date = df_full.apply(lambda row: match_date(row['year'], row['quarter']), axis=1)\n",
    "deviation = df_full.date - matched_date"
   ]
  },
  {
   "cell_type": "code",
   "execution_count": 15,
   "metadata": {},
   "outputs": [
    {
     "data": {
      "text/plain": [
       "count                          32932\n",
       "mean      11 days 21:29:30.442426819\n",
       "std      240 days 15:53:28.719423384\n",
       "min             -2979 days +00:00:00\n",
       "25%                 10 days 22:15:00\n",
       "50%                108 days 13:26:37\n",
       "75%         122 days 13:00:02.750000\n",
       "max                484 days 17:00:00\n",
       "dtype: object"
      ]
     },
     "execution_count": 15,
     "metadata": {},
     "output_type": "execute_result"
    }
   ],
   "source": [
    "deviation.describe()"
   ]
  },
  {
   "cell_type": "code",
   "execution_count": 16,
   "metadata": {},
   "outputs": [
    {
     "data": {
      "text/plain": [
       "1860"
      ]
     },
     "execution_count": 16,
     "metadata": {},
     "output_type": "execute_result"
    }
   ],
   "source": [
    "(deviation.dt.days <= -250).sum()"
   ]
  },
  {
   "cell_type": "code",
   "execution_count": 17,
   "metadata": {},
   "outputs": [],
   "source": [
    "# Restrict to earnings calls with a date no eariler than 250 days before supposely earliest quarter date\n",
    "df_final = df_full[deviation.dt.days > -250]"
   ]
  },
  {
   "cell_type": "code",
   "execution_count": 18,
   "metadata": {},
   "outputs": [
    {
     "name": "stdout",
     "output_type": "stream",
     "text": [
      "Empty DataFrame\n",
      "Columns: [symbol, quarter, year, date, content, source, web, date_day]\n",
      "Index: []\n",
      "Empty DataFrame\n",
      "Columns: [symbol, quarter, year, date, content, source, web, date_day]\n",
      "Index: []\n",
      "Empty DataFrame\n",
      "Columns: [symbol, quarter, year, date, content, source, web, date_day]\n",
      "Index: []\n"
     ]
    }
   ],
   "source": [
    "# check for duplicates\n",
    "print(df_final[df_final.duplicated(subset=['symbol', 'date'], keep=False)])\n",
    "print(df_final[df_final.duplicated(subset=['symbol', 'year', 'quarter'], keep=False)])\n",
    "# on date_day\n",
    "print(df_final[df_final.duplicated(subset=['symbol', 'date_day'], keep=False)])"
   ]
  },
  {
   "cell_type": "code",
   "execution_count": 19,
   "metadata": {},
   "outputs": [
    {
     "data": {
      "text/plain": [
       "source\n",
       "web       18341\n",
       "kaggle    12731\n",
       "Name: count, dtype: int64"
      ]
     },
     "execution_count": 19,
     "metadata": {},
     "output_type": "execute_result"
    }
   ],
   "source": [
    "# Sumarize values of 'source'\n",
    "df_final['source'].value_counts()"
   ]
  },
  {
   "cell_type": "code",
   "execution_count": 20,
   "metadata": {},
   "outputs": [
    {
     "name": "stderr",
     "output_type": "stream",
     "text": [
      "C:\\Users\\ijyli\\AppData\\Local\\Temp\\ipykernel_15100\\2325728378.py:2: SettingWithCopyWarning: \n",
      "A value is trying to be set on a copy of a slice from a DataFrame\n",
      "\n",
      "See the caveats in the documentation: https://pandas.pydata.org/pandas-docs/stable/user_guide/indexing.html#returning-a-view-versus-a-copy\n",
      "  df_final.rename(columns={\"date\": \"earnings_call_datetime\"}, inplace = True)\n",
      "C:\\Users\\ijyli\\AppData\\Local\\Temp\\ipykernel_15100\\2325728378.py:4: SettingWithCopyWarning: \n",
      "A value is trying to be set on a copy of a slice from a DataFrame.\n",
      "Try using .loc[row_indexer,col_indexer] = value instead\n",
      "\n",
      "See the caveats in the documentation: https://pandas.pydata.org/pandas-docs/stable/user_guide/indexing.html#returning-a-view-versus-a-copy\n",
      "  df_final['date'] = df_final['date_day']\n",
      "C:\\Users\\ijyli\\AppData\\Local\\Temp\\ipykernel_15100\\2325728378.py:6: SettingWithCopyWarning: \n",
      "A value is trying to be set on a copy of a slice from a DataFrame\n",
      "\n",
      "See the caveats in the documentation: https://pandas.pydata.org/pandas-docs/stable/user_guide/indexing.html#returning-a-view-versus-a-copy\n",
      "  df_final.drop(columns = \"date_day\", inplace = True)\n"
     ]
    }
   ],
   "source": [
    "# make date be renamed to earnings_call_datetime\n",
    "df_final.rename(columns={\"date\": \"earnings_call_datetime\"}, inplace = True)\n",
    "# switch date to date day\n",
    "df_final['date'] = df_final['date_day']\n",
    "# drop date_day\n",
    "df_final.drop(columns = \"date_day\", inplace = True)"
   ]
  },
  {
   "cell_type": "code",
   "execution_count": 21,
   "metadata": {},
   "outputs": [],
   "source": [
    "# parquet\n",
    "df_final.to_parquet(r'~\\Box\\STAT 222 Capstone\\Intermediate Data\\Calls\\combined_calls.parquet', index = False)"
   ]
  },
  {
   "cell_type": "code",
   "execution_count": null,
   "metadata": {},
   "outputs": [],
   "source": [
    "# csv\n",
    "df_final.to_csv(r'~\\Box\\STAT 222 Capstone\\Intermediate Data\\Calls\\combined_calls.csv', index = False)"
   ]
  }
 ],
 "metadata": {
  "kernelspec": {
   "display_name": "Python 3",
   "language": "python",
   "name": "python3"
  },
  "language_info": {
   "codemirror_mode": {
    "name": "ipython",
    "version": 3
   },
   "file_extension": ".py",
   "mimetype": "text/x-python",
   "name": "python",
   "nbconvert_exporter": "python",
   "pygments_lexer": "ipython3",
   "version": "3.12.2"
  }
 },
 "nbformat": 4,
 "nbformat_minor": 2
}
