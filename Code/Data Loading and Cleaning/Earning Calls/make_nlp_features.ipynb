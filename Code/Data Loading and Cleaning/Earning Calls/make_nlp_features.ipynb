{
 "cells": [
  {
   "cell_type": "code",
   "execution_count": 106,
   "metadata": {},
   "outputs": [],
   "source": [
    "import pandas as pd\n",
    "import os\n",
    "import nltk\n",
    "\n",
    "import re\n",
    "from readability import Readability"
   ]
  },
  {
   "cell_type": "code",
   "execution_count": 105,
   "metadata": {},
   "outputs": [
    {
     "name": "stdout",
     "output_type": "stream",
     "text": [
      "Requirement already satisfied: pyarrow in /Users/seanzhou/opt/anaconda3/lib/python3.9/site-packages (15.0.0)\n",
      "Requirement already satisfied: numpy<2,>=1.16.6 in /Users/seanzhou/opt/anaconda3/lib/python3.9/site-packages (from pyarrow) (1.26.4)\n",
      "Requirement already satisfied: fastparquet in /Users/seanzhou/opt/anaconda3/lib/python3.9/site-packages (2024.2.0)\n",
      "Requirement already satisfied: numpy>=1.20.3 in /Users/seanzhou/opt/anaconda3/lib/python3.9/site-packages (from fastparquet) (1.26.4)\n",
      "Requirement already satisfied: pandas>=1.5.0 in /Users/seanzhou/opt/anaconda3/lib/python3.9/site-packages (from fastparquet) (2.2.1)\n",
      "Requirement already satisfied: packaging in /Users/seanzhou/opt/anaconda3/lib/python3.9/site-packages (from fastparquet) (21.3)\n",
      "Requirement already satisfied: fsspec in /Users/seanzhou/opt/anaconda3/lib/python3.9/site-packages (from fastparquet) (2022.2.0)\n",
      "Requirement already satisfied: cramjam>=2.3 in /Users/seanzhou/opt/anaconda3/lib/python3.9/site-packages (from fastparquet) (2.8.1)\n",
      "Requirement already satisfied: python-dateutil>=2.8.2 in /Users/seanzhou/opt/anaconda3/lib/python3.9/site-packages (from pandas>=1.5.0->fastparquet) (2.8.2)\n",
      "Requirement already satisfied: pytz>=2020.1 in /Users/seanzhou/opt/anaconda3/lib/python3.9/site-packages (from pandas>=1.5.0->fastparquet) (2021.3)\n",
      "Requirement already satisfied: tzdata>=2022.7 in /Users/seanzhou/opt/anaconda3/lib/python3.9/site-packages (from pandas>=1.5.0->fastparquet) (2024.1)\n",
      "Requirement already satisfied: six>=1.5 in /Users/seanzhou/opt/anaconda3/lib/python3.9/site-packages (from python-dateutil>=2.8.2->pandas>=1.5.0->fastparquet) (1.16.0)\n",
      "Requirement already satisfied: pyparsing!=3.0.5,>=2.0.2 in /Users/seanzhou/opt/anaconda3/lib/python3.9/site-packages (from packaging->fastparquet) (3.0.4)\n",
      "Collecting py-readability-metrics\n",
      "  Downloading py_readability_metrics-1.4.5-py3-none-any.whl (26 kB)\n",
      "Requirement already satisfied: nltk in /Users/seanzhou/opt/anaconda3/lib/python3.9/site-packages (from py-readability-metrics) (3.7)\n",
      "Requirement already satisfied: joblib in /Users/seanzhou/opt/anaconda3/lib/python3.9/site-packages (from nltk->py-readability-metrics) (1.1.0)\n",
      "Requirement already satisfied: click in /Users/seanzhou/opt/anaconda3/lib/python3.9/site-packages (from nltk->py-readability-metrics) (8.0.4)\n",
      "Requirement already satisfied: regex>=2021.8.3 in /Users/seanzhou/opt/anaconda3/lib/python3.9/site-packages (from nltk->py-readability-metrics) (2022.3.15)\n",
      "Requirement already satisfied: tqdm in /Users/seanzhou/opt/anaconda3/lib/python3.9/site-packages (from nltk->py-readability-metrics) (4.64.0)\n",
      "Installing collected packages: py-readability-metrics\n",
      "Successfully installed py-readability-metrics-1.4.5\n"
     ]
    }
   ],
   "source": [
    "!pip install pyarrow\n",
    "!pip install fastparquet\n",
    "!pip install py-readability-metrics"
   ]
  },
  {
   "cell_type": "code",
   "execution_count": 28,
   "metadata": {},
   "outputs": [
    {
     "name": "stdout",
     "output_type": "stream",
     "text": [
      "Operator: Good morning and thank you for standing by. Welcome to the AbbVie Second 2014 Earnings Conference Call. All participants will be able to listen-only. This conference is being recorded by AbbVie. I would now like to introduce Mr. Larry Peepo, Vice President of Investor Relations. You may begin sir.\n",
      "Larry Peepo: Thank you. Good morning and thanks for joining us. On the call with me today are Rick Gonzalez, Chairman of the Board and Chief Executive Officer; and Bill Chase, Executive Vice President of Finance and Chief Financial Officer. Rick will begin by discussing AbbVie’s results from the second quarter and then provide an update on our pipeline and some of the key milestones we expect this year. Bill will give a more detailed review of our quarterly performance and then provide an overview of our 2014 outlook. As a reminder we are currently operating under the UK takeover code and will be until the Shire transaction is completed. The UK takeover code governs what we are able to disclose regarding the specifics of the transaction as well as the various aspects of AbbVie’s underlying business, including operating performance, product details and pipeline milestones. To help investors we have added a Q&A section to our earnings news release today which addresses a number of typical questions we receive. Due to the UK takeover code we will only be providing prepared remarks during our conference call today. There will not be a question-and-answer portion of today’s call. Before I turn the call over to Rick I remind you that some statements we make today may be considered forward-looking statements for purposes of the Private Securities Litigation Reform Act of 1995. AbbVie cautions that these forward-looking statements are subject to risks and uncertainties that may cause actual results to differ materially from those indicated in the forward-looking statements. Additional information about the factors that may affect AbbVie’s operations is included in our 20\n"
     ]
    }
   ],
   "source": [
    "#file_loc = \"/Users/seanzhou/Documents/Intermediate Data/all_data.parquet\"\n",
    "df = pd.read_csv(\"all_data.csv\")\n",
    "df = df.loc[:, [\"ticker\", \"earnings_call_date\", \"transcript\"]]\n",
    "\n",
    "# See an example\n",
    "print(df['transcript'][0][:2000)"
   ]
  },
  {
   "cell_type": "markdown",
   "metadata": {},
   "source": [
    "# Feature 1: numeric transparency"
   ]
  },
  {
   "cell_type": "markdown",
   "metadata": {},
   "source": [
    "Test Case:\n",
    "In 2014, our company achieved significant milestones: we increased our staff to 150 employees, improved our efficiency by 13%, and reached a revenue of $75 million. During this period, our stock value appreciated by 15.23%, and we successfully launched a new product that generated $0.75 in earnings per share. Our research team, created 13 years ago, played a crucial role in this success, contributing insights that led to a market expansion of 255 new locations. Additionally, our long-term investments matured, yielding a substantial return of 234,455.23 dollars, setting us on a solid path for the next 18 months. $123,123.4. covid-19 and 10-K. \n"
   ]
  },
  {
   "cell_type": "code",
   "execution_count": 98,
   "metadata": {},
   "outputs": [],
   "source": [
    "def get_num_to_word(text):\n",
    "    tokens = nltk.word_tokenize(text)\n",
    "    types = set(tokens)\n",
    "\n",
    "    # Get the number of word types (without numbers)\n",
    "    # Matches integers (4 digits max) and floats without taking into account cases like covid-19 or 10-K\n",
    "    re_pat = r'(?<![\\w.-])\\d{1,4}(?:,\\d)*(?:\\.\\d+)?(?![\\w.-])'\n",
    "\n",
    "    # Delete the count of numeric vals in types to get only word types\n",
    "    N_unique_number = sum(bool(re.match(re_pat, type)) for type in types)\n",
    "    N_word_tokens = len(types) - N_unique_number    # Num of unique words\n",
    "    N_num = sum(bool(re.match(re_pat, token)) for token in tokens)    # Count of all numeric vals\n",
    "\n",
    "    #print(N_unique_number, N_num)\n",
    "    numeric_transparency_ratio = N_num / N_word_tokens\n",
    "\n",
    "    return numeric_transparency_ratio"
   ]
  },
  {
   "cell_type": "code",
   "execution_count": 99,
   "metadata": {},
   "outputs": [
    {
     "data": {
      "text/plain": [
       "0.1672504378283713"
      ]
     },
     "execution_count": 99,
     "metadata": {},
     "output_type": "execute_result"
    }
   ],
   "source": [
    "sample = df['transcript'][100]\n",
    "get_num_to_word(sample)"
   ]
  },
  {
   "cell_type": "code",
   "execution_count": 100,
   "metadata": {},
   "outputs": [],
   "source": [
    "df['num_transparency'] = [get_num_to_word(text) for text in df[\"transcript\"]]"
   ]
  },
  {
   "cell_type": "code",
   "execution_count": 102,
   "metadata": {},
   "outputs": [
    {
     "data": {
      "text/html": [
       "<div>\n",
       "<style scoped>\n",
       "    .dataframe tbody tr th:only-of-type {\n",
       "        vertical-align: middle;\n",
       "    }\n",
       "\n",
       "    .dataframe tbody tr th {\n",
       "        vertical-align: top;\n",
       "    }\n",
       "\n",
       "    .dataframe thead th {\n",
       "        text-align: right;\n",
       "    }\n",
       "</style>\n",
       "<table border=\"1\" class=\"dataframe\">\n",
       "  <thead>\n",
       "    <tr style=\"text-align: right;\">\n",
       "      <th></th>\n",
       "      <th>ticker</th>\n",
       "      <th>earnings_call_date</th>\n",
       "      <th>transcript</th>\n",
       "      <th>num_transparency</th>\n",
       "    </tr>\n",
       "  </thead>\n",
       "  <tbody>\n",
       "    <tr>\n",
       "      <th>0</th>\n",
       "      <td>ABBV</td>\n",
       "      <td>2014-07-25</td>\n",
       "      <td>Operator: Good morning and thank you for stand...</td>\n",
       "      <td>0.104775</td>\n",
       "    </tr>\n",
       "    <tr>\n",
       "      <th>1</th>\n",
       "      <td>ABBV</td>\n",
       "      <td>2014-10-31</td>\n",
       "      <td>Operator: Good morning and thank you for stand...</td>\n",
       "      <td>0.073609</td>\n",
       "    </tr>\n",
       "    <tr>\n",
       "      <th>2</th>\n",
       "      <td>ABBV</td>\n",
       "      <td>2015-01-30</td>\n",
       "      <td>Operator: Good morning and thank you for stand...</td>\n",
       "      <td>0.127623</td>\n",
       "    </tr>\n",
       "    <tr>\n",
       "      <th>3</th>\n",
       "      <td>ABBV</td>\n",
       "      <td>2015-04-23</td>\n",
       "      <td>Operator: Good morning and thank you for stand...</td>\n",
       "      <td>0.084577</td>\n",
       "    </tr>\n",
       "    <tr>\n",
       "      <th>4</th>\n",
       "      <td>ABBV</td>\n",
       "      <td>2015-07-24</td>\n",
       "      <td>Operator: Good morning and thank you for stand...</td>\n",
       "      <td>0.098423</td>\n",
       "    </tr>\n",
       "  </tbody>\n",
       "</table>\n",
       "</div>"
      ],
      "text/plain": [
       "  ticker earnings_call_date  \\\n",
       "0   ABBV         2014-07-25   \n",
       "1   ABBV         2014-10-31   \n",
       "2   ABBV         2015-01-30   \n",
       "3   ABBV         2015-04-23   \n",
       "4   ABBV         2015-07-24   \n",
       "\n",
       "                                          transcript  num_transparency  \n",
       "0  Operator: Good morning and thank you for stand...          0.104775  \n",
       "1  Operator: Good morning and thank you for stand...          0.073609  \n",
       "2  Operator: Good morning and thank you for stand...          0.127623  \n",
       "3  Operator: Good morning and thank you for stand...          0.084577  \n",
       "4  Operator: Good morning and thank you for stand...          0.098423  "
      ]
     },
     "execution_count": 102,
     "metadata": {},
     "output_type": "execute_result"
    }
   ],
   "source": [
    "df.head()"
   ]
  },
  {
   "cell_type": "markdown",
   "metadata": {},
   "source": [
    "# Feature 2: Readability using Gunning-Fog Index"
   ]
  },
  {
   "cell_type": "code",
   "execution_count": 109,
   "metadata": {},
   "outputs": [
    {
     "name": "stdout",
     "output_type": "stream",
     "text": [
      "11.896682367718638\n"
     ]
    }
   ],
   "source": [
    "r = Readability(sample)\n",
    "\n",
    "gf = r.gunning_fog()\n",
    "print(gf.score)"
   ]
  },
  {
   "cell_type": "code",
   "execution_count": 110,
   "metadata": {},
   "outputs": [],
   "source": [
    "def get_gf_score(text):\n",
    "    r = Readability(text)\n",
    "    gf = r.gunning_fog()\n",
    "    \n",
    "    return gf.score\n",
    "\n",
    "df['readability'] = [get_gf_score(text) for text in df[\"transcript\"]]"
   ]
  },
  {
   "cell_type": "code",
   "execution_count": 111,
   "metadata": {},
   "outputs": [],
   "source": [
    "df.to_csv(\"all_data_NLP.csv\")"
   ]
  },
  {
   "cell_type": "code",
   "execution_count": null,
   "metadata": {},
   "outputs": [],
   "source": []
  }
 ],
 "metadata": {
  "kernelspec": {
   "display_name": "Python 3.9.12 ('base')",
   "language": "python",
   "name": "python3"
  },
  "language_info": {
   "codemirror_mode": {
    "name": "ipython",
    "version": 3
   },
   "file_extension": ".py",
   "mimetype": "text/x-python",
   "name": "python",
   "nbconvert_exporter": "python",
   "pygments_lexer": "ipython3",
   "version": "3.9.12"
  },
  "orig_nbformat": 4,
  "vscode": {
   "interpreter": {
    "hash": "162b6b064e165ad366d1bd4cdc631c4691b039cb551eb2d47403b16e997dbe09"
   }
  }
 },
 "nbformat": 4,
 "nbformat_minor": 2
}
