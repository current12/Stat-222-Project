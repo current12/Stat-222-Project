{
 "cells": [
  {
   "cell_type": "markdown",
   "metadata": {},
   "source": [
    "# Correct Tabular Financial Statements Data\n",
    "\n",
    "Handle outlier values of financial variables"
   ]
  },
  {
   "cell_type": "code",
   "execution_count": null,
   "metadata": {},
   "outputs": [],
   "source": [
    "import pandas as pd"
   ]
  },
  {
   "cell_type": "code",
   "execution_count": null,
   "metadata": {},
   "outputs": [],
   "source": [
    "# Inner join the three tabuler_fin_data files (columns symbol, calendarYear, period (with Q removed) from fin data)\n",
    "\n",
    "files_to_load = [r'balance_sheet', r'cash_flow_statement', r'income_statement']\n",
    "\n",
    "# Loop through and load or inner join each file onto merged\n",
    "for i, file in enumerate(files_to_load):\n",
    "    print('loading ' + file)\n",
    "    df = pd.read_csv(r'~\\Box\\STAT 222 Capstone\\Intermediate Data\\Tabular_Fin\\tabuler_fin_data(' + file + r').csv')\n",
    "    # Delete the first column (index)\n",
    "    df = df.iloc[:,1:]\n",
    "    # Remove Q from period\n",
    "    df['period'] = df['period'].str.replace('Q', '')\n",
    "    # Convert to int\n",
    "    df['period'] = df['period'].astype(int)\n",
    "    # Print values of Period\n",
    "    print(df['period'].unique())\n",
    "    # Load or merge file\n",
    "    if i == 0:\n",
    "        merged = df\n",
    "    else:\n",
    "        merged = pd.merge(merged, df, left_on=['company', 'year', 'quarter'], right_on=['symbol', 'calendarYear', 'period'], how='inner')\n",
    "    # Remove suffix _x\n",
    "    merged.columns = merged.columns.str.replace('_x', '')\n",
    "    # Harmonize suffix y\n",
    "    merged.columns = merged.columns.str.replace('_y', '_' + file)\n",
    "    del df\n",
    "    \n",
    "merged.head(10)"
   ]
  },
  {
   "cell_type": "code",
   "execution_count": null,
   "metadata": {},
   "outputs": [],
   "source": [
    "# Before edits\n",
    "\n",
    "# Summarize all numeric columns\n",
    "# use describe method, transpose, and print all rows\n",
    "# round to two decimal places, no scientific notation, commas for thousands\n",
    "pd.options.display.float_format = '{:,.2f}'.format\n",
    "# pandas setting to display all rows\n",
    "pd.set_option('display.max_rows', None)\n",
    "merged.describe().T"
   ]
  },
  {
   "cell_type": "code",
   "execution_count": null,
   "metadata": {},
   "outputs": [],
   "source": [
    "# Checking outliers for a good cutoff\n"
   ]
  },
  {
   "cell_type": "code",
   "execution_count": null,
   "metadata": {},
   "outputs": [],
   "source": [
    "## Because many units in the financial documents are different (in the unit of 1000 or in the unit of 1)\n",
    "# We try to deal with extreme values (caused by different units in webscraping) by checking for potential mis-multiplication by 1000\n",
    "def deal_with_invalid_numbers(x,lower_bound, upper_bound):\n",
    "    if str(x).endswith(\"000.0\") and (x < lower_bound or x > upper_bound):\n",
    "        #Divide the value by 1000 and check if it becomes more reasonable\n",
    "        return x / 1000\n",
    "    else:\n",
    "        return x\n",
    "\n",
    "# Check invalid data for every quantitative attribute \n",
    "for column in merged.columns:\n",
    "    if merged[column].dtype == float:\n",
    "        lower_bound = merged[column].quantile(0.025)  #2.5% quantile\n",
    "        upper_bound = merged[column].quantile(0.975)  #97.5% quantile\n",
    "        merged[column] = merged[column].apply(deal_with_invalid_numbers, args=(lower_bound, upper_bound))"
   ]
  },
  {
   "cell_type": "code",
   "execution_count": null,
   "metadata": {},
   "outputs": [],
   "source": [
    "# After edits\n",
    "\n",
    "# Summarize all numeric columns\n",
    "# use describe method, transpose, and print all rows\n",
    "# round to two decimal places, no scientific notation, commas for thousands\n",
    "pd.options.display.float_format = '{:,.2f}'.format\n",
    "# pandas setting to display all rows\n",
    "pd.set_option('display.max_rows', None)\n",
    "merged.describe().T"
   ]
  },
  {
   "cell_type": "code",
   "execution_count": null,
   "metadata": {},
   "outputs": [],
   "source": [
    "# Save final tabular financial statement data\n",
    "merged.to_parquet(r'~\\Box\\STAT 222 Capstone\\Intermediate Data\\Tabular_Fin\\combined_corrected_tabular_financial_statements_data.parquet', index=False)"
   ]
  }
 ],
 "metadata": {
  "language_info": {
   "name": "python"
  }
 },
 "nbformat": 4,
 "nbformat_minor": 2
}
