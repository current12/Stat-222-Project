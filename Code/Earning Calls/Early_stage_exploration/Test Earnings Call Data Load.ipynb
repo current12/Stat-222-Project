{
 "cells": [
  {
   "cell_type": "markdown",
   "metadata": {},
   "source": [
    "# Test Earnings Call Data Load"
   ]
  },
  {
   "cell_type": "code",
   "execution_count": 1,
   "metadata": {},
   "outputs": [],
   "source": [
    "# Packages\n",
    "import pandas as pd\n",
    "import time\n",
    "import os\n",
    "import glob"
   ]
  },
  {
   "cell_type": "code",
   "execution_count": 3,
   "metadata": {},
   "outputs": [
    {
     "data": {
      "text/html": [
       "<div>\n",
       "<style scoped>\n",
       "    .dataframe tbody tr th:only-of-type {\n",
       "        vertical-align: middle;\n",
       "    }\n",
       "\n",
       "    .dataframe tbody tr th {\n",
       "        vertical-align: top;\n",
       "    }\n",
       "\n",
       "    .dataframe thead th {\n",
       "        text-align: right;\n",
       "    }\n",
       "</style>\n",
       "<table border=\"1\" class=\"dataframe\">\n",
       "  <thead>\n",
       "    <tr style=\"text-align: right;\">\n",
       "      <th></th>\n",
       "      <th>2017</th>\n",
       "    </tr>\n",
       "  </thead>\n",
       "  <tbody>\n",
       "    <tr>\n",
       "      <th>0</th>\n",
       "      <td>2</td>\n",
       "    </tr>\n",
       "    <tr>\n",
       "      <th>1</th>\n",
       "      <td>2017-04-28 17:00:00</td>\n",
       "    </tr>\n",
       "    <tr>\n",
       "      <th>2</th>\n",
       "      <td>Operator: Welcome, and thank you all for stand...</td>\n",
       "    </tr>\n",
       "    <tr>\n",
       "      <th>3</th>\n",
       "      <td>0.0309</td>\n",
       "    </tr>\n",
       "    <tr>\n",
       "      <th>4</th>\n",
       "      <td>0.30746517120967815</td>\n",
       "    </tr>\n",
       "    <tr>\n",
       "      <th>...</th>\n",
       "      <td>...</td>\n",
       "    </tr>\n",
       "    <tr>\n",
       "      <th>91</th>\n",
       "      <td>-0.11088589438642227</td>\n",
       "    </tr>\n",
       "    <tr>\n",
       "      <th>92</th>\n",
       "      <td>-0.13384658521532877</td>\n",
       "    </tr>\n",
       "    <tr>\n",
       "      <th>93</th>\n",
       "      <td>-0.11318212886305101</td>\n",
       "    </tr>\n",
       "    <tr>\n",
       "      <th>94</th>\n",
       "      <td>-0.07503903481431928</td>\n",
       "    </tr>\n",
       "    <tr>\n",
       "      <th>95</th>\n",
       "      <td>4404884131.829224</td>\n",
       "    </tr>\n",
       "  </tbody>\n",
       "</table>\n",
       "<p>96 rows × 1 columns</p>\n",
       "</div>"
      ],
      "text/plain": [
       "                                                 2017\n",
       "0                                                   2\n",
       "1                                 2017-04-28 17:00:00\n",
       "2   Operator: Welcome, and thank you all for stand...\n",
       "3                                              0.0309\n",
       "4                                 0.30746517120967815\n",
       "..                                                ...\n",
       "91                               -0.11088589438642227\n",
       "92                               -0.13384658521532877\n",
       "93                               -0.11318212886305101\n",
       "94                               -0.07503903481431928\n",
       "95                                  4404884131.829224\n",
       "\n",
       "[96 rows x 1 columns]"
      ]
     },
     "execution_count": 3,
     "metadata": {},
     "output_type": "execute_result"
    }
   ],
   "source": [
    "# Load ~\\Box\\STAT 222 Capstone\\Raw Data\\Big Earnings Call Dataset\\sectors\\automobiles\\ADNT\\ADNT20172.csv\n",
    "ADNT20172 = pd.read_csv('~/Box/STAT 222 Capstone/Raw Data/Big Earnings Call Dataset/sectors/automobiles/ADNT/ADNT20172.csv')\n",
    "\n",
    "# ADNT20172"
   ]
  },
  {
   "cell_type": "code",
   "execution_count": 21,
   "metadata": {},
   "outputs": [
    {
     "data": {
      "text/html": [
       "<div>\n",
       "<style scoped>\n",
       "    .dataframe tbody tr th:only-of-type {\n",
       "        vertical-align: middle;\n",
       "    }\n",
       "\n",
       "    .dataframe tbody tr th {\n",
       "        vertical-align: top;\n",
       "    }\n",
       "\n",
       "    .dataframe thead th {\n",
       "        text-align: right;\n",
       "    }\n",
       "</style>\n",
       "<table border=\"1\" class=\"dataframe\">\n",
       "  <thead>\n",
       "    <tr style=\"text-align: right;\">\n",
       "      <th></th>\n",
       "      <th>0</th>\n",
       "      <th>1</th>\n",
       "      <th>2</th>\n",
       "      <th>3</th>\n",
       "      <th>4</th>\n",
       "      <th>5</th>\n",
       "      <th>6</th>\n",
       "      <th>7</th>\n",
       "      <th>8</th>\n",
       "      <th>9</th>\n",
       "      <th>...</th>\n",
       "      <th>86</th>\n",
       "      <th>87</th>\n",
       "      <th>88</th>\n",
       "      <th>89</th>\n",
       "      <th>90</th>\n",
       "      <th>91</th>\n",
       "      <th>92</th>\n",
       "      <th>93</th>\n",
       "      <th>94</th>\n",
       "      <th>95</th>\n",
       "    </tr>\n",
       "  </thead>\n",
       "  <tbody>\n",
       "    <tr>\n",
       "      <th>2017</th>\n",
       "      <td>2</td>\n",
       "      <td>2017-04-28 17:00:00</td>\n",
       "      <td>Operator: Welcome, and thank you all for stand...</td>\n",
       "      <td>0.0309</td>\n",
       "      <td>0.30746517120967815</td>\n",
       "      <td>0.391705069124424</td>\n",
       "      <td>0.07834101382488479</td>\n",
       "      <td>63.73</td>\n",
       "      <td>0.366622699631585</td>\n",
       "      <td>0.5</td>\n",
       "      <td>...</td>\n",
       "      <td>-0.11921325693066775</td>\n",
       "      <td>-0.14195880916848824</td>\n",
       "      <td>-0.12148789324519416</td>\n",
       "      <td>-0.0837023416528917</td>\n",
       "      <td>-0.05375469753509565</td>\n",
       "      <td>-0.11088589438642227</td>\n",
       "      <td>-0.13384658521532877</td>\n",
       "      <td>-0.11318212886305101</td>\n",
       "      <td>-0.07503903481431928</td>\n",
       "      <td>4404884131.829224</td>\n",
       "    </tr>\n",
       "  </tbody>\n",
       "</table>\n",
       "<p>1 rows × 96 columns</p>\n",
       "</div>"
      ],
      "text/plain": [
       "     0                    1   \\\n",
       "2017  2  2017-04-28 17:00:00   \n",
       "\n",
       "                                                     2       3   \\\n",
       "2017  Operator: Welcome, and thank you all for stand...  0.0309   \n",
       "\n",
       "                       4                  5                    6      7   \\\n",
       "2017  0.30746517120967815  0.391705069124424  0.07834101382488479  63.73   \n",
       "\n",
       "                     8    9   ...                    86                    87  \\\n",
       "2017  0.366622699631585  0.5  ...  -0.11921325693066775  -0.14195880916848824   \n",
       "\n",
       "                        88                   89                    90  \\\n",
       "2017  -0.12148789324519416  -0.0837023416528917  -0.05375469753509565   \n",
       "\n",
       "                        91                    92                    93  \\\n",
       "2017  -0.11088589438642227  -0.13384658521532877  -0.11318212886305101   \n",
       "\n",
       "                        94                 95  \n",
       "2017  -0.07503903481431928  4404884131.829224  \n",
       "\n",
       "[1 rows x 96 columns]"
      ]
     },
     "execution_count": 21,
     "metadata": {},
     "output_type": "execute_result"
    }
   ],
   "source": [
    "# Transpose dataframe\n",
    "# It's unclear what most of the variable names are, so may want to ignore everything except the transcript and the datetime\n",
    "ADNT20172_T = ADNT20172.T\n",
    "ADNT20172_T"
   ]
  },
  {
   "cell_type": "code",
   "execution_count": 22,
   "metadata": {},
   "outputs": [
    {
     "data": {
      "text/html": [
       "<div>\n",
       "<style scoped>\n",
       "    .dataframe tbody tr th:only-of-type {\n",
       "        vertical-align: middle;\n",
       "    }\n",
       "\n",
       "    .dataframe tbody tr th {\n",
       "        vertical-align: top;\n",
       "    }\n",
       "\n",
       "    .dataframe thead th {\n",
       "        text-align: right;\n",
       "    }\n",
       "</style>\n",
       "<table border=\"1\" class=\"dataframe\">\n",
       "  <thead>\n",
       "    <tr style=\"text-align: right;\">\n",
       "      <th></th>\n",
       "      <th>DateTime</th>\n",
       "      <th>Transcript</th>\n",
       "    </tr>\n",
       "  </thead>\n",
       "  <tbody>\n",
       "    <tr>\n",
       "      <th>2017</th>\n",
       "      <td>2017-04-28 17:00:00</td>\n",
       "      <td>Operator: Welcome, and thank you all for stand...</td>\n",
       "    </tr>\n",
       "  </tbody>\n",
       "</table>\n",
       "</div>"
      ],
      "text/plain": [
       "                 DateTime                                         Transcript\n",
       "2017  2017-04-28 17:00:00  Operator: Welcome, and thank you all for stand..."
      ]
     },
     "execution_count": 22,
     "metadata": {},
     "output_type": "execute_result"
    }
   ],
   "source": [
    "# Keep column 1 and 2 and assign names DateTime and Transcript\n",
    "ADNT20172_T = ADNT20172_T[[1, 2]]\n",
    "ADNT20172_T.columns = ['DateTime', 'Transcript']\n",
    "# We'll also want to use the folder names to create a symbol and sector column\n",
    "ADNT20172_T"
   ]
  },
  {
   "cell_type": "code",
   "execution_count": 23,
   "metadata": {},
   "outputs": [
    {
     "name": "stdout",
     "output_type": "stream",
     "text": [
      "Time to load all CSV files in ~\\Box\\STAT 222 Capstone\\Raw Data\\Big Earnings Call Dataset\\sectors\u0007utomobiles\\ADNT:  0.0\n"
     ]
    },
    {
     "name": "stderr",
     "output_type": "stream",
     "text": [
      "<>:7: SyntaxWarning: invalid escape sequence '\\B'\n",
      "<>:7: SyntaxWarning: invalid escape sequence '\\B'\n",
      "C:\\Users\\ijyli\\AppData\\Local\\Temp\\ipykernel_21260\\3369746967.py:7: SyntaxWarning: invalid escape sequence '\\B'\n",
      "  print(\"Time to load all CSV files in ~\\Box\\STAT 222 Capstone\\Raw Data\\Big Earnings Call Dataset\\sectors\\automobiles\\ADNT: \", end - start)\n"
     ]
    }
   ],
   "source": [
    "# Time loading for all CSV files in ~\\Box\\STAT 222 Capstone\\Raw Data\\Big Earnings Call Dataset\\sectors\\automobiles\\ADNT\n",
    "start = time.time()\n",
    "path = r'~/Box/STAT 222 Capstone/Raw Data/Big Earnings Call Dataset/sectors/automobiles/ADNT' # use your path\n",
    "all_files = glob.glob(os.path.join(path, \"*.csv\"))     # advisable to use os.path.join as this makes concatenation OS independent\n",
    "df_from_each_file = (pd.read_csv(f) for f in all_files)\n",
    "end = time.time()\n",
    "print(\"Time to load all CSV files in ~\\Box\\STAT 222 Capstone\\Raw Data\\Big Earnings Call Dataset\\sectors\\automobiles\\ADNT: \", end - start)"
   ]
  }
 ],
 "metadata": {
  "kernelspec": {
   "display_name": "capstone",
   "language": "python",
   "name": "python3"
  },
  "language_info": {
   "codemirror_mode": {
    "name": "ipython",
    "version": 3
   },
   "file_extension": ".py",
   "mimetype": "text/x-python",
   "name": "python",
   "nbconvert_exporter": "python",
   "pygments_lexer": "ipython3",
   "version": "3.12.2"
  }
 },
 "nbformat": 4,
 "nbformat_minor": 2
}
