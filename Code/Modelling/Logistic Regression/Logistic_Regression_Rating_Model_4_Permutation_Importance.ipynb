{
 "cells": [
  {
   "cell_type": "markdown",
   "metadata": {},
   "source": [
    "# model 4 permutation importance"
   ]
  },
  {
   "cell_type": "code",
   "execution_count": 1,
   "metadata": {
    "execution": {
     "iopub.execute_input": "2024-04-04T20:41:32.453126Z",
     "iopub.status.busy": "2024-04-04T20:41:32.452670Z",
     "iopub.status.idle": "2024-04-04T20:41:47.271153Z",
     "shell.execute_reply": "2024-04-04T20:41:47.270236Z"
    }
   },
   "outputs": [
    {
     "name": "stderr",
     "output_type": "stream",
     "text": [
      "Matplotlib is building the font cache; this may take a moment.\n"
     ]
    }
   ],
   "source": [
    "# Packages\n",
    "from Logistic_Regression_Functions import *\n",
    "import json\n",
    "from sklearn.inspection import permutation_importance"
   ]
  },
  {
   "cell_type": "markdown",
   "metadata": {},
   "source": [
    "## Standard Model Code"
   ]
  },
  {
   "cell_type": "code",
   "execution_count": 2,
   "metadata": {
    "execution": {
     "iopub.execute_input": "2024-04-04T20:41:47.275692Z",
     "iopub.status.busy": "2024-04-04T20:41:47.275426Z",
     "iopub.status.idle": "2024-04-04T20:41:50.974003Z",
     "shell.execute_reply": "2024-04-04T20:41:50.972750Z"
    }
   },
   "outputs": [],
   "source": [
    "# Load the data\n",
    "df = load_data()\n",
    "\n",
    "# Load the JSON file\n",
    "with open('feature_columns.json', 'r') as file:\n",
    "    column_data = json.load(file)"
   ]
  },
  {
   "cell_type": "code",
   "execution_count": 3,
   "metadata": {
    "execution": {
     "iopub.execute_input": "2024-04-04T20:41:50.978957Z",
     "iopub.status.busy": "2024-04-04T20:41:50.978676Z",
     "iopub.status.idle": "2024-04-04T20:41:50.984116Z",
     "shell.execute_reply": "2024-04-04T20:41:50.983158Z"
    }
   },
   "outputs": [],
   "source": [
    "# Numeric features\n",
    "numeric_feature_columns = column_data['tabular_feature_columns'] + column_data['nlp_feature_columns']\n",
    "# Categorical features\n",
    "cat_feature_columns = column_data['cat_feature_columns']\n",
    "# Target column\n",
    "target_column = column_data['target_column']\n",
    "# Create mapping\n",
    "custom_mapping = {'AAA': 0, 'AA': 1, 'A': 2, 'BBB': 3, 'BB': 4, 'B': 5, 'CCC': 6,\"CC\":7,\"C\":8,\"D\":9}"
   ]
  },
  {
   "cell_type": "code",
   "execution_count": 4,
   "metadata": {
    "execution": {
     "iopub.execute_input": "2024-04-04T20:41:50.988731Z",
     "iopub.status.busy": "2024-04-04T20:41:50.988375Z",
     "iopub.status.idle": "2024-04-04T20:41:51.061719Z",
     "shell.execute_reply": "2024-04-04T20:41:51.060943Z"
    }
   },
   "outputs": [],
   "source": [
    "# Create matrices\n",
    "_, X_test_scaled, _, y_test = prepare_matrices(df, numeric_feature_columns, cat_feature_columns, target_column, custom_mapping, change=False)\n"
   ]
  },
  {
   "cell_type": "markdown",
   "metadata": {},
   "source": [
    "## Load Trained Model"
   ]
  },
  {
   "cell_type": "code",
   "execution_count": null,
   "metadata": {},
   "outputs": [],
   "source": [
    "# Load trained model '../../../Output/Modelling/Logistic Regression/rating_model_4/rating_model_4_best_estimator.pkl'\n",
    "model = joblib.load('../../../Output/Modelling/Logistic Regression/rating_model_4/rating_model_4_best_estimator.pkl')\n",
    "model"
   ]
  },
  {
   "cell_type": "markdown",
   "metadata": {},
   "source": [
    "## Permutation Importance"
   ]
  },
  {
   "cell_type": "code",
   "execution_count": null,
   "metadata": {},
   "outputs": [],
   "source": [
    "# Perform permutation importance\n",
    "result = permutation_importance(model, X_test_scaled, y_test, n_repeats=5, random_state=222, n_jobs=-1)\n",
    "\n",
    "# Put column name, mean and std in a dataframe\n",
    "result = pd.DataFrame({'feature': X_test_scaled.columns, 'mean': result.importances_mean, 'std': result.importances_std})\n",
    "\n",
    "# Output to disk\n",
    "result.to_parquet('../../../Output/Modelling/Logistic Regression/rating_model_4/rating_model_4_permutation_importance.parquet', index=False)\n",
    "\n",
    "result"
   ]
  }
 ],
 "metadata": {
  "language_info": {
   "codemirror_mode": {
    "name": "ipython",
    "version": 3
   },
   "file_extension": ".py",
   "mimetype": "text/x-python",
   "name": "python",
   "nbconvert_exporter": "python",
   "pygments_lexer": "ipython3",
   "version": "3.11.8"
  }
 },
 "nbformat": 4,
 "nbformat_minor": 2
}
