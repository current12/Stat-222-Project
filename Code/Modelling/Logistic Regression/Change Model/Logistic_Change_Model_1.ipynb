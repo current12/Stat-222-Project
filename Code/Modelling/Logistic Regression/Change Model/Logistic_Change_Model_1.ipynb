{
 "cells": [
  {
   "cell_type": "markdown",
   "metadata": {},
   "source": [
    "# Model 1\n"
   ]
  },
  {
   "cell_type": "code",
   "execution_count": 1,
   "metadata": {
    "execution": {
     "iopub.execute_input": "2024-04-29T04:49:05.132871Z",
     "iopub.status.busy": "2024-04-29T04:49:05.132619Z",
     "iopub.status.idle": "2024-04-29T04:49:07.128900Z",
     "shell.execute_reply": "2024-04-29T04:49:07.128491Z"
    }
   },
   "outputs": [],
   "source": [
    "# Import module\n",
    "from Logistic_Change_Functions import *\n",
    "# Model name\n",
    "model_name = 'rating_change_model_1'"
   ]
  },
  {
   "cell_type": "code",
   "execution_count": 2,
   "metadata": {
    "execution": {
     "iopub.execute_input": "2024-04-29T04:49:07.131948Z",
     "iopub.status.busy": "2024-04-29T04:49:07.131149Z",
     "iopub.status.idle": "2024-04-29T04:49:09.888619Z",
     "shell.execute_reply": "2024-04-29T04:49:09.888213Z"
    }
   },
   "outputs": [],
   "source": [
    "# Load the data\n",
    "df = load_data()"
   ]
  },
  {
   "cell_type": "code",
   "execution_count": 3,
   "metadata": {
    "execution": {
     "iopub.execute_input": "2024-04-29T04:49:09.891553Z",
     "iopub.status.busy": "2024-04-29T04:49:09.890888Z",
     "iopub.status.idle": "2024-04-29T04:49:10.271297Z",
     "shell.execute_reply": "2024-04-29T04:49:10.270893Z"
    }
   },
   "outputs": [],
   "source": [
    "# Get the column names and mapping\n",
    "numeric_feature_columns, cat_feature_columns, target_column, custom_mapping = get_column_names_and_mapping(model_name)"
   ]
  },
  {
   "cell_type": "code",
   "execution_count": 4,
   "metadata": {
    "execution": {
     "iopub.execute_input": "2024-04-29T04:49:10.274140Z",
     "iopub.status.busy": "2024-04-29T04:49:10.273431Z",
     "iopub.status.idle": "2024-04-29T04:49:10.330339Z",
     "shell.execute_reply": "2024-04-29T04:49:10.329816Z"
    }
   },
   "outputs": [
    {
     "name": "stdout",
     "output_type": "stream",
     "text": [
      "feature names: \n",
      "['num__Altman_Z' 'num__Altman_Z_diff']\n"
     ]
    }
   ],
   "source": [
    "# Create matrices\n",
    "X_train_scaled, X_test_scaled, y_train, y_test, _ = prepare_matrices(df, numeric_feature_columns, cat_feature_columns, target_column, custom_mapping)"
   ]
  },
  {
   "cell_type": "code",
   "execution_count": 6,
   "metadata": {
    "execution": {
     "iopub.execute_input": "2024-04-29T04:49:10.342853Z",
     "iopub.status.busy": "2024-04-29T04:49:10.342670Z",
     "iopub.status.idle": "2024-04-29T05:01:57.535968Z",
     "shell.execute_reply": "2024-04-29T05:01:57.535585Z"
    }
   },
   "outputs": [
    {
     "name": "stdout",
     "output_type": "stream",
     "text": [
      "Tuned hyperparameters: {'C': 1, 'class_weight': None, 'multi_class': 'ovr', 'penalty': None, 'solver': 'saga'}\n",
      "Best mean CV accuracy: 0.9474643189574931\n",
      "Coefficients: [[ 0.06632122  0.09492704]\n",
      " [-0.07158241 -0.13082717]\n",
      " [ 0.07121051  0.14624133]]\n",
      "Corresponding class: [-1  0  1]\n"
     ]
    }
   ],
   "source": [
    "# Train model\n",
    "best_model = train_model_with_grid_search(X_train_scaled, y_train, model_name)"
   ]
  },
  {
   "cell_type": "code",
   "execution_count": 7,
   "metadata": {
    "execution": {
     "iopub.execute_input": "2024-04-29T05:01:57.538607Z",
     "iopub.status.busy": "2024-04-29T05:01:57.537943Z",
     "iopub.status.idle": "2024-04-29T05:01:57.632655Z",
     "shell.execute_reply": "2024-04-29T05:01:57.632286Z"
    }
   },
   "outputs": [
    {
     "name": "stdout",
     "output_type": "stream",
     "text": [
      "X_test_scaled shape\n",
      "(1092, 2)\n",
      "y_test shape\n",
      "(1092,)\n",
      "accuracy: 0.9496336996336996\n",
      "share of correct predictions: 0.9496336996336996\n",
      "assertion that they match:\n"
     ]
    }
   ],
   "source": [
    "# Get predictions\n",
    "get_model_predictions(best_model, X_test_scaled, y_test, custom_mapping, model_name, target_column, df)"
   ]
  }
 ],
 "metadata": {
  "kernelspec": {
   "display_name": "capstone",
   "language": "python",
   "name": "python3"
  },
  "language_info": {
   "codemirror_mode": {
    "name": "ipython",
    "version": 3
   },
   "file_extension": ".py",
   "mimetype": "text/x-python",
   "name": "python",
   "nbconvert_exporter": "python",
   "pygments_lexer": "ipython3",
   "version": "3.12.3"
  }
 },
 "nbformat": 4,
 "nbformat_minor": 2
}
