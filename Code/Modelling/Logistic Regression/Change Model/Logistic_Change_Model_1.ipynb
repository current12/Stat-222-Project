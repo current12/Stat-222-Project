{
 "cells": [
  {
   "cell_type": "markdown",
   "metadata": {},
   "source": [
    "# Model 1\n"
   ]
  },
  {
   "cell_type": "code",
   "execution_count": 1,
   "metadata": {
    "execution": {
     "iopub.execute_input": "2024-05-02T06:40:07.156278Z",
     "iopub.status.busy": "2024-05-02T06:40:07.155880Z",
     "iopub.status.idle": "2024-05-02T06:40:09.201826Z",
     "shell.execute_reply": "2024-05-02T06:40:09.201354Z"
    }
   },
   "outputs": [],
   "source": [
    "# Packages\n",
    "import sys\n",
    "import os\n",
    "# Add the parent directory to sys.path\n",
    "sys.path.append(os.path.abspath('..'))\n",
    "# Import module\n",
    "from Logistic_Regression_Functions import *\n",
    "\n",
    "# Model name\n",
    "model_name = 'rating_change_model_1'"
   ]
  },
  {
   "cell_type": "code",
   "execution_count": 2,
   "metadata": {
    "execution": {
     "iopub.execute_input": "2024-05-02T06:40:09.205016Z",
     "iopub.status.busy": "2024-05-02T06:40:09.204143Z",
     "iopub.status.idle": "2024-05-02T06:40:10.501151Z",
     "shell.execute_reply": "2024-05-02T06:40:10.500730Z"
    }
   },
   "outputs": [],
   "source": [
    "# Load the data\n",
    "df = load_data()"
   ]
  },
  {
   "cell_type": "code",
   "execution_count": 3,
   "metadata": {
    "execution": {
     "iopub.execute_input": "2024-05-02T06:40:10.504072Z",
     "iopub.status.busy": "2024-05-02T06:40:10.503412Z",
     "iopub.status.idle": "2024-05-02T06:40:10.794865Z",
     "shell.execute_reply": "2024-05-02T06:40:10.794458Z"
    }
   },
   "outputs": [],
   "source": [
    "# Get the column names and mapping\n",
    "numeric_feature_columns, cat_feature_columns, target_column, custom_mapping = get_column_names_and_mapping_change(model_name)"
   ]
  },
  {
   "cell_type": "code",
   "execution_count": 4,
   "metadata": {
    "execution": {
     "iopub.execute_input": "2024-05-02T06:40:10.797663Z",
     "iopub.status.busy": "2024-05-02T06:40:10.797000Z",
     "iopub.status.idle": "2024-05-02T06:40:10.834316Z",
     "shell.execute_reply": "2024-05-02T06:40:10.833815Z"
    }
   },
   "outputs": [
    {
     "name": "stdout",
     "output_type": "stream",
     "text": [
      "feature names: \n",
      "['num__Altman_Z' 'num__Altman_Z_diff']\n"
     ]
    }
   ],
   "source": [
    "# Create matrices\n",
    "X_train_scaled, X_test_scaled, y_train, y_test, _ = prepare_matrices(df, numeric_feature_columns, cat_feature_columns, target_column, custom_mapping)"
   ]
  },
  {
   "cell_type": "code",
   "execution_count": 5,
   "metadata": {
    "execution": {
     "iopub.execute_input": "2024-05-02T06:40:10.848816Z",
     "iopub.status.busy": "2024-05-02T06:40:10.848634Z",
     "iopub.status.idle": "2024-05-02T06:40:53.331017Z",
     "shell.execute_reply": "2024-05-02T06:40:53.330633Z"
    }
   },
   "outputs": [
    {
     "name": "stdout",
     "output_type": "stream",
     "text": [
      "Tuned hyperparameters: {'C': 0.001, 'class_weight': 'balanced', 'l1_ratio': 0.75, 'multi_class': 'multinomial', 'penalty': 'elasticnet', 'solver': 'saga'}\n",
      "Train accuracy of best model:  0.9464814393076748\n",
      "Best mean CV accuracy: 0.5785998792373814\n",
      "Coefficients: [[0. 0.]\n",
      " [0. 0.]\n",
      " [0. 0.]]\n",
      "Corresponding class: [-1  0  1]\n"
     ]
    }
   ],
   "source": [
    "# Train model\n",
    "best_model = train_model_with_grid_search(X_train_scaled, y_train, model_name)"
   ]
  },
  {
   "cell_type": "code",
   "execution_count": 6,
   "metadata": {
    "execution": {
     "iopub.execute_input": "2024-05-02T06:40:53.333596Z",
     "iopub.status.busy": "2024-05-02T06:40:53.332936Z",
     "iopub.status.idle": "2024-05-02T06:40:53.424923Z",
     "shell.execute_reply": "2024-05-02T06:40:53.424549Z"
    }
   },
   "outputs": [
    {
     "name": "stdout",
     "output_type": "stream",
     "text": [
      "X_test_scaled shape\n",
      "(1118, 2)\n",
      "y_test shape\n",
      "(1118,)\n",
      "accuracy: 0.9534883720930233\n",
      "share of correct predictions: 0.9534883720930233\n",
      "assertion that they match:\n"
     ]
    }
   ],
   "source": [
    "# Get predictions\n",
    "get_model_predictions(best_model, X_test_scaled, y_test, custom_mapping, model_name, target_column, df)"
   ]
  }
 ],
 "metadata": {
  "kernelspec": {
   "display_name": "capstone",
   "language": "python",
   "name": "python3"
  },
  "language_info": {
   "codemirror_mode": {
    "name": "ipython",
    "version": 3
   },
   "file_extension": ".py",
   "mimetype": "text/x-python",
   "name": "python",
   "nbconvert_exporter": "python",
   "pygments_lexer": "ipython3",
   "version": "3.11.8"
  }
 },
 "nbformat": 4,
 "nbformat_minor": 2
}
