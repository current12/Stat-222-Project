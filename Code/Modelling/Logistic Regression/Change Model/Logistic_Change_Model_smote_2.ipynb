{
 "cells": [
  {
   "cell_type": "markdown",
   "metadata": {},
   "source": [
    "# Model 2\n"
   ]
  },
  {
   "cell_type": "code",
   "execution_count": 1,
   "metadata": {
    "execution": {
     "iopub.execute_input": "2024-05-02T06:51:59.166706Z",
     "iopub.status.busy": "2024-05-02T06:51:59.166407Z",
     "iopub.status.idle": "2024-05-02T06:52:00.699558Z",
     "shell.execute_reply": "2024-05-02T06:52:00.699074Z"
    }
   },
   "outputs": [],
   "source": [
    "# Packages\n",
    "import sys\n",
    "import os\n",
    "# Add the parent directory to sys.path\n",
    "sys.path.append(os.path.abspath('..'))\n",
    "# Import module\n",
    "from Logistic_Regression_Functions import *\n",
    "\n",
    "# Model name\n",
    "model_name = 'smote_rating_change_model_2'"
   ]
  },
  {
   "cell_type": "code",
   "execution_count": 2,
   "metadata": {
    "execution": {
     "iopub.execute_input": "2024-05-02T06:52:00.702221Z",
     "iopub.status.busy": "2024-05-02T06:52:00.701854Z",
     "iopub.status.idle": "2024-05-02T06:52:02.089672Z",
     "shell.execute_reply": "2024-05-02T06:52:02.089057Z"
    }
   },
   "outputs": [],
   "source": [
    "# Load the data\n",
    "df = load_data()"
   ]
  },
  {
   "cell_type": "code",
   "execution_count": 3,
   "metadata": {
    "execution": {
     "iopub.execute_input": "2024-05-02T06:52:02.092710Z",
     "iopub.status.busy": "2024-05-02T06:52:02.092314Z",
     "iopub.status.idle": "2024-05-02T06:52:02.362156Z",
     "shell.execute_reply": "2024-05-02T06:52:02.361510Z"
    }
   },
   "outputs": [],
   "source": [
    "# Get the column names and mapping\n",
    "numeric_feature_columns, cat_feature_columns, target_column, custom_mapping = get_column_names_and_mapping_change(model_name)"
   ]
  },
  {
   "cell_type": "code",
   "execution_count": 4,
   "metadata": {
    "execution": {
     "iopub.execute_input": "2024-05-02T06:52:02.364987Z",
     "iopub.status.busy": "2024-05-02T06:52:02.364833Z",
     "iopub.status.idle": "2024-05-02T06:52:02.406428Z",
     "shell.execute_reply": "2024-05-02T06:52:02.405585Z"
    }
   },
   "outputs": [
    {
     "name": "stdout",
     "output_type": "stream",
     "text": [
      "feature names: \n",
      "['num__EBIT' 'num__common_plus_preferred_stock' 'num__workingCapital'\n",
      " 'num__Ratio_A' 'num__Ratio_B' 'num__Ratio_C' 'num__Ratio_D'\n",
      " 'num__Ratio_E' 'num__cashAndCashEquivalents' 'num__shortTermInvestments'\n",
      " 'num__cashAndShortTermInvestments' 'num__netReceivables'\n",
      " 'num__inventory_balance_sheet' 'num__otherCurrentAssets'\n",
      " 'num__totalCurrentAssets' 'num__propertyPlantEquipmentNet'\n",
      " 'num__goodwill' 'num__intangibleAssets'\n",
      " 'num__goodwillAndIntangibleAssets' 'num__longTermInvestments'\n",
      " 'num__taxAssets' 'num__otherNonCurrentAssets'\n",
      " 'num__totalNonCurrentAssets' 'num__otherAssets' 'num__totalAssets'\n",
      " 'num__accountPayables' 'num__shortTermDebt' 'num__taxPayables'\n",
      " 'num__deferredRevenue' 'num__otherCurrentLiabilities'\n",
      " 'num__totalCurrentLiabilities' 'num__longTermDebt'\n",
      " 'num__deferredRevenueNonCurrent' 'num__deferredTaxLiabilitiesNonCurrent'\n",
      " 'num__otherNonCurrentLiabilities' 'num__totalNonCurrentLiabilities'\n",
      " 'num__otherLiabilities' 'num__capitalLeaseObligations'\n",
      " 'num__totalLiabilities' 'num__preferredStock' 'num__commonStock'\n",
      " 'num__retainedEarnings' 'num__accumulatedOtherComprehensiveIncomeLoss'\n",
      " 'num__othertotalStockholdersEquity' 'num__totalStockholdersEquity'\n",
      " 'num__totalEquity' 'num__totalLiabilitiesAndStockholdersEquity'\n",
      " 'num__minorityInterest' 'num__totalLiabilitiesAndTotalEquity'\n",
      " 'num__totalInvestments' 'num__totalDebt' 'num__netDebt'\n",
      " 'num__netIncome_cash_flow_statement'\n",
      " 'num__depreciationAndAmortization_cash_flow_statement'\n",
      " 'num__deferredIncomeTax' 'num__stockBasedCompensation'\n",
      " 'num__changeInWorkingCapital' 'num__accountsReceivables'\n",
      " 'num__inventory_cash_flow_statement' 'num__accountsPayables'\n",
      " 'num__otherWorkingCapital' 'num__otherNonCashItems'\n",
      " 'num__netCashProvidedByOperatingActivities'\n",
      " 'num__investmentsInPropertyPlantAndEquipment' 'num__acquisitionsNet'\n",
      " 'num__purchasesOfInvestments' 'num__salesMaturitiesOfInvestments'\n",
      " 'num__otherInvestingActivites' 'num__netCashUsedForInvestingActivites'\n",
      " 'num__debtRepayment' 'num__commonStockIssued'\n",
      " 'num__commonStockRepurchased' 'num__dividendsPaid'\n",
      " 'num__otherFinancingActivites'\n",
      " 'num__netCashUsedProvidedByFinancingActivities'\n",
      " 'num__effectOfForexChangesOnCash' 'num__netChangeInCash'\n",
      " 'num__cashAtEndOfPeriod' 'num__cashAtBeginningOfPeriod'\n",
      " 'num__operatingCashFlow' 'num__capitalExpenditure' 'num__freeCashFlow'\n",
      " 'num__revenue' 'num__costOfRevenue' 'num__grossProfit'\n",
      " 'num__grossProfitRatio' 'num__researchAndDevelopmentExpenses'\n",
      " 'num__generalAndAdministrativeExpenses'\n",
      " 'num__sellingAndMarketingExpenses'\n",
      " 'num__sellingGeneralAndAdministrativeExpenses' 'num__otherExpenses'\n",
      " 'num__operatingExpenses' 'num__costAndExpenses' 'num__interestIncome'\n",
      " 'num__interestExpense'\n",
      " 'num__depreciationAndAmortization_income_statement' 'num__ebitda'\n",
      " 'num__ebitdaratio' 'num__operatingIncome' 'num__operatingIncomeRatio'\n",
      " 'num__totalOtherIncomeExpensesNet' 'num__incomeBeforeTax'\n",
      " 'num__incomeBeforeTaxRatio' 'num__incomeTaxExpense'\n",
      " 'num__netIncome_income_statement' 'num__netIncomeRatio' 'num__eps'\n",
      " 'num__epsdiluted' 'num__weightedAverageShsOut'\n",
      " 'num__weightedAverageShsOutDil' 'num__marketCap' 'num__Ratio_A_diff'\n",
      " 'num__Ratio_B_diff' 'num__Ratio_C_diff' 'num__Ratio_D_diff'\n",
      " 'num__Ratio_E_diff' 'num__grossProfitRatio_diff' 'num__ebitdaratio_diff'\n",
      " 'num__operatingIncomeRatio_diff' 'num__incomeBeforeTaxRatio_diff'\n",
      " 'num__netIncomeRatio_diff' 'num__currentRatio' 'num__quickRatio'\n",
      " 'num__cashRatio' 'num__returnOnAssets' 'num__returnOnEquity'\n",
      " 'num__returnOnCapitalEmployed' 'num__EBITtoRevenue' 'num__debtRatio'\n",
      " 'num__debtRatioAlt' 'num__debtEquityRatio' 'num__equityMultiplier'\n",
      " 'num__enterpriseValueMultiplier' 'num__operatingCashFlowPerShare'\n",
      " 'num__freeCashFlowPerShare' 'num__cashPerShare'\n",
      " 'num__operatingCashFlowToSales' 'num__freeCashFlowToOperatingCashFlow'\n",
      " 'num__currentRatio_diff' 'num__quickRatio_diff' 'num__cashRatio_diff'\n",
      " 'num__returnOnAssets_diff' 'num__returnOnEquity_diff'\n",
      " 'num__returnOnCapitalEmployed_diff' 'num__EBITtoRevenue_diff'\n",
      " 'num__debtRatio_diff' 'num__debtRatioAlt_diff'\n",
      " 'num__debtEquityRatio_diff' 'num__equityMultiplier_diff'\n",
      " 'num__enterpriseValueMultiplier_diff'\n",
      " 'num__operatingCashFlowPerShare_diff' 'num__freeCashFlowPerShare_diff'\n",
      " 'num__cashPerShare_diff' 'num__operatingCashFlowToSales_diff'\n",
      " 'num__freeCashFlowToOperatingCashFlow_diff'\n",
      " 'cat__Sector_Communication Services' 'cat__Sector_Consumer Discretionary'\n",
      " 'cat__Sector_Consumer Staples' 'cat__Sector_Energy'\n",
      " 'cat__Sector_Financials' 'cat__Sector_Health Care'\n",
      " 'cat__Sector_Industrials' 'cat__Sector_Information Technology'\n",
      " 'cat__Sector_Materials' 'cat__Sector_Real Estate' 'cat__Sector_Utilities']\n"
     ]
    }
   ],
   "source": [
    "# Create matrices\n",
    "X_train_scaled, X_test_scaled, y_train, y_test, _ = prepare_matrices(df, numeric_feature_columns, cat_feature_columns, target_column, custom_mapping)"
   ]
  },
  {
   "cell_type": "code",
   "execution_count": 5,
   "metadata": {
    "execution": {
     "iopub.execute_input": "2024-05-02T06:52:02.455004Z",
     "iopub.status.busy": "2024-05-02T06:52:02.454814Z",
     "iopub.status.idle": "2024-05-02T06:52:02.749085Z",
     "shell.execute_reply": "2024-05-02T06:52:02.748537Z"
    }
   },
   "outputs": [
    {
     "name": "stdout",
     "output_type": "stream",
     "text": [
      "{-1: 100, 0: 4156, 1: 135}\n",
      "{-1: 2000, 0: 4156, 1: 2000}\n"
     ]
    }
   ],
   "source": [
    "#SMOTE\n",
    "from imblearn.over_sampling import SMOTE\n",
    "unique, count = np.unique(y_train, return_counts=True)\n",
    "dict_value_count = {k:v for (k, v) in zip(unique, count)}\n",
    "print(dict_value_count)\n",
    "sm = SMOTE(sampling_strategy={-1:2000, 1: 2000})\n",
    "X_train_sm, y_train_sm = sm.fit_resample(X_train_scaled, y_train)\n",
    "unique, count = np.unique(y_train_sm, return_counts=True)\n",
    "dict_value_count = {k:v for (k, v) in zip(unique, count)}\n",
    "print(dict_value_count)"
   ]
  },
  {
   "cell_type": "code",
   "execution_count": 6,
   "metadata": {
    "execution": {
     "iopub.execute_input": "2024-05-02T06:52:02.751184Z",
     "iopub.status.busy": "2024-05-02T06:52:02.750719Z",
     "iopub.status.idle": "2024-05-02T06:58:25.177160Z",
     "shell.execute_reply": "2024-05-02T06:58:25.176597Z"
    }
   },
   "outputs": [
    {
     "name": "stdout",
     "output_type": "stream",
     "text": [
      "Tuned hyperparameters: {'C': 1, 'class_weight': None, 'l1_ratio': 0.5, 'multi_class': 'ovr', 'penalty': 'elasticnet', 'solver': 'saga'}\n",
      "Train accuracy of best model:  0.6597596861206474\n",
      "Best mean CV accuracy: 0.5972278825693367\n",
      "Coefficients: [[ 1.66193798e-01  1.57857117e-01 -2.03086918e-01  3.90770957e-01\n",
      "  -3.28476545e-01  2.89488370e-01 -4.46733810e-02  5.58914540e-01\n",
      "  -3.74076762e-01 -2.29273197e-01  0.00000000e+00 -9.39562740e-02\n",
      "   3.93492246e-01 -8.65140847e-02 -5.17046825e-01  5.42515234e-01\n",
      "   5.53981122e-01 -2.32949355e-01 -3.72548571e-01 -1.35320565e-02\n",
      "  -4.06606360e-01  4.87482480e-02  2.65049993e-01  2.97428754e-01\n",
      "  -2.27258529e-01  2.78817198e-01  2.23761546e-01  3.99038599e-01\n",
      "  -1.73268952e-01 -5.35648039e-03 -4.42733231e-01  1.36355848e+00\n",
      "   2.51509085e-02 -2.20616451e-01 -1.63338875e-01  3.44959023e-01\n",
      "  -6.84279122e-01 -1.37680054e+00 -1.11134224e+00 -1.10048144e-01\n",
      "   1.68415283e-01 -3.96851775e-01 -3.33819126e-01 -1.63317978e-01\n",
      "   3.43846455e-01  6.65051035e-02  2.87031380e-04 -4.18960088e-01\n",
      "   2.87031380e-04 -2.23048386e-02 -2.34259526e-01 -8.15686646e-01\n",
      "   6.99344190e-01  5.11975280e-01 -1.58765702e-01 -5.50452576e-01\n",
      "   1.28230358e-01 -9.98919478e-02  2.86639281e-01  2.42939509e-01\n",
      "  -2.96764910e-01  2.12359226e-01  1.00849085e-01  3.04015201e-01\n",
      "  -7.02930212e-02  1.20249899e-01  5.06095269e-01  6.75676877e-02\n",
      "   5.15557349e-01  4.69757228e-02  9.95438761e-02 -1.32426945e-01\n",
      "  -3.10253337e-01  1.73608958e-01  3.68187150e-01  1.87624092e-01\n",
      "   6.95378072e-02 -1.46751105e-02 -2.57664222e-01  1.00849085e-01\n",
      "  -1.80749176e-02 -3.99164794e-01  2.41100914e-01  9.48691947e-02\n",
      "   6.11340582e-01  2.53454102e-01  2.41192617e-01 -1.47106582e-02\n",
      "  -6.12540133e-04  2.10880158e-01  4.42642558e-01  2.12731738e-01\n",
      "  -2.44443676e-01 -1.70869068e-01 -5.84676039e-02 -1.26464786e-01\n",
      "   5.36853348e-02  8.02306526e-01 -2.56128756e-01 -3.44015434e-01\n",
      "   5.64772710e-02 -9.65472517e-02  5.36315900e-01 -1.64143688e-01\n",
      "   6.21012394e-02  2.99990901e-01 -2.99907481e-01 -1.99584746e-01\n",
      "  -9.78701074e-01  6.40063177e-01 -2.25210683e-01 -7.04004479e-02\n",
      "  -9.22559819e-02 -1.92513907e-03  3.14810636e-01 -9.80873102e-02\n",
      "  -2.08805157e-01 -2.36088076e-01 -2.94636493e-01 -1.66442759e-02\n",
      "   1.09198731e-01 -2.73896318e-01  6.04736100e-01 -3.42426367e-01\n",
      "  -3.59594558e-01 -4.54265393e-01 -3.07468205e-01 -7.56470090e-01\n",
      "   4.02826068e-01  2.27764225e-01 -5.78274574e-02  4.42498390e-01\n",
      "  -2.56430275e-01 -5.53132882e-01  5.49966185e-01 -1.12617181e-02\n",
      "  -3.75873469e-01  2.01214111e-01 -3.58853022e-01  1.50972862e-01\n",
      "   2.34878169e-01  1.51598054e-01  1.15984221e-01  1.64568863e-01\n",
      "  -3.13602058e-01 -2.45688156e-01  2.04614995e-01 -3.76716094e-01\n",
      "   1.35335275e-01  1.63784184e-02 -3.34646615e-01 -9.54944940e-02\n",
      "  -1.02308632e-01  2.24306497e-01 -2.87070223e-01 -5.93625532e-01\n",
      "   4.62701923e-01 -1.23933717e-01  1.89318204e-01 -9.88370972e-01\n",
      "  -5.29680806e-01 -1.04365087e-01  1.57296551e-01  1.33115268e+00\n",
      "  -2.61780613e+00  7.38015396e-01]\n",
      " [-1.65639422e-01 -1.16401378e-01  2.09624149e-01 -3.83607536e-01\n",
      "   1.66624017e-01 -7.25561650e-02  1.44102681e-01 -3.13487152e-01\n",
      "   4.63701177e-02  7.83896376e-02 -2.89445112e-01 -3.63019659e-01\n",
      "  -2.80938701e-01  1.40086450e-01  4.09740756e-01 -3.49103602e-01\n",
      "  -1.41921657e-01  1.05292063e-01  2.58846544e-01  5.82401632e-02\n",
      "   3.25323296e-01  2.47895765e-01 -3.91271621e-01 -8.03256494e-01\n",
      "   5.30157363e-01 -2.37625605e-01 -5.87405021e-02  1.76745888e-02\n",
      "   8.88494110e-02 -2.07118388e-01  2.93402899e-01 -7.85836490e-01\n",
      "  -5.40241160e-02  1.79432356e-01 -7.56668243e-02  3.56856395e-01\n",
      "   6.18313907e-01  3.48159999e-01 -1.95508570e-01  1.34104575e-01\n",
      "  -1.27996484e-01  1.52848216e-01  8.32680563e-02 -1.50811540e-01\n",
      "  -1.35801145e-01  0.00000000e+00  7.55222110e-02  3.01482267e-01\n",
      "   7.55222110e-02  7.79714891e-02  4.56871158e-01  3.70976161e-01\n",
      "  -3.83260311e-01 -7.96068397e-02 -6.04883103e-02  2.51849126e-02\n",
      "  -4.39687741e-01  8.99495744e-02 -6.04336208e-02  2.02158201e-01\n",
      "   1.90977911e-01 -1.17319499e-01  3.06347199e-01 -5.11959362e-01\n",
      "  -2.77931676e-02  1.90859029e-02 -1.04862949e-01 -8.43710294e-02\n",
      "   4.02798348e-02 -9.87945261e-02  4.68214419e-02  2.85938283e-02\n",
      "   5.66362134e-03 -1.80803552e-01  1.37183848e-01  1.34638681e-01\n",
      "  -1.17268209e-01 -4.54467556e-01  4.63885992e-01  3.06347199e-01\n",
      "   2.79403543e-01  5.72069270e-02  2.98120924e-01 -3.03495046e-02\n",
      "  -5.60945101e-01  2.32141431e-02  6.74228559e-03  7.43478358e-02\n",
      "   1.56231401e-01 -1.88957444e-01 -2.08908713e-01 -9.84609212e-02\n",
      "   1.50784451e-01 -2.32001854e-01 -6.27939986e-02 -2.57864764e-01\n",
      "  -2.48277739e-01 -4.19751301e-01  3.89427596e-01  3.40527605e-01\n",
      "   4.20505371e-02 -3.00706378e-01  1.32395595e-01  1.40350354e-01\n",
      "   5.40588531e-02 -6.63937027e-01 -1.36848449e-02  2.14401947e-01\n",
      "   1.10252318e+00 -9.74037820e-01  4.27351232e-01 -1.44930227e-01\n",
      "  -5.81289492e-02 -3.73208195e-01 -1.93156021e-01  4.62163115e-04\n",
      "   1.31267550e-01 -3.88369492e-02  2.59894991e-01  8.73886401e-03\n",
      "  -2.22610943e-01 -5.86720862e-02 -1.30398565e-01  1.36251842e-01\n",
      "   3.16138552e-02  1.95093330e-01  5.19694171e-01  1.95682242e-02\n",
      "  -4.54525325e-01  1.52561344e-01  1.84705160e-01 -3.80518832e-01\n",
      "   0.00000000e+00 -1.96082674e-01  2.05031701e-02  2.84443880e-01\n",
      "   4.02434894e-01 -1.10188370e-01  1.51952615e-01 -1.08358576e-01\n",
      "  -9.51814996e-02  2.24032972e-01 -1.81988110e-01  1.95171341e-02\n",
      "   2.45117233e-01  1.54460764e-01 -1.53507108e-01 -1.14203023e-01\n",
      "   2.16679141e-01  1.41602034e-02 -1.85667969e-01  1.89693115e-01\n",
      "   1.83323408e-02 -1.63433812e-01  1.10994611e-01  9.19309497e-01\n",
      "  -3.13721611e-01 -5.86671729e-01 -3.24279508e-02  5.57451468e-02\n",
      "   8.36498174e-01 -2.17626221e-01  4.34668834e-01 -5.94820462e-01\n",
      "   9.09920560e-01 -6.91179790e-01]\n",
      " [-3.55425401e-02  3.31120819e-02 -3.64159138e-01  3.67167928e-01\n",
      "   1.31681182e-01 -1.97630257e-01 -3.16403691e-02  6.23659792e-03\n",
      "   3.93838436e-01  1.88890161e-02  7.92772565e-01  7.00211922e-01\n",
      "   1.77581321e-01 -3.41138915e-01 -1.22194618e-01  3.57126601e-01\n",
      "  -1.31396382e-01  1.32658287e-01 -1.35167236e-01 -6.70508297e-02\n",
      "  -3.95519205e-01 -4.02655726e-01  3.50549108e-03  7.34914298e-01\n",
      "  -2.78130645e-01  4.90161157e-02 -1.51546470e-01 -4.48218233e-01\n",
      "  -4.19613162e-02  1.10912291e-01  2.51960788e-02  3.52926349e-01\n",
      "   1.51080154e-01  4.90742890e-02  3.06578137e-01 -1.10248825e+00\n",
      "  -3.78110631e-01 -2.15713983e-01  9.95049614e-01 -8.81651579e-02\n",
      "   4.18207016e-02  2.25838264e-01  1.22538377e-01  3.28802361e-01\n",
      "  -1.31753033e-01  0.00000000e+00 -1.87751363e-01 -2.47134903e-01\n",
      "  -1.87751363e-01 -9.49608208e-02 -5.40477058e-01 -1.57717706e-02\n",
      "  -1.86317846e-01 -3.53720887e-01  2.58482155e-01  4.03278656e-01\n",
      "   6.89357462e-01 -2.44305145e-02 -2.19367626e-01 -4.74039796e-01\n",
      "  -1.63630727e-01  5.53393796e-02 -6.20803444e-01  2.61176341e-01\n",
      "   4.64691436e-02 -1.70898726e-01 -2.43163629e-01  9.44115449e-02\n",
      "  -4.25376613e-01  8.18093624e-02 -1.13405103e-01  6.17841494e-02\n",
      "   2.50351696e-01  1.02927283e-01 -4.00545457e-01 -3.29304566e-01\n",
      "   7.99542023e-02  4.41624071e-01 -5.76422820e-01 -6.20803444e-01\n",
      "  -1.88579343e-01  5.22967737e-01 -8.11865033e-01  7.10969023e-02\n",
      "   3.82889379e-01 -3.50628992e-01 -3.25605917e-01 -1.21089821e-01\n",
      "  -3.51962715e-01  2.81579381e-01  1.00393819e-01 -1.76207261e-01\n",
      "  -2.84280759e-01  3.37817598e-01  1.32731590e-01  8.30838795e-01\n",
      "   5.87791509e-02 -1.12794181e-01  0.00000000e+00  0.00000000e+00\n",
      "  -1.56519405e-01  5.74948582e-01 -5.66955675e-01 -1.20295078e-01\n",
      "  -1.21935177e-01  6.62913430e-01  1.62253728e-01  3.28856867e-01\n",
      "  -1.30074176e+00  9.56589815e-01 -5.39913932e-01  1.34655900e-02\n",
      "   7.93648374e-02  6.02680030e-01 -9.60525482e-02  5.23664357e-02\n",
      "  -7.86867245e-02  2.02467649e-01  1.16978484e-02 -8.58571323e-02\n",
      "   1.83885099e-01  1.86531168e-02 -9.40740028e-02 -6.76745733e-02\n",
      "   1.93389118e-01  1.55792519e-01 -6.08122656e-01  8.32928231e-01\n",
      "   2.22568973e-01 -4.24102824e-01 -2.38303344e-01  1.91340441e-01\n",
      "   3.23610443e-01  4.01747228e-01 -5.10895414e-01 -9.64367897e-01\n",
      "  -3.55966750e-01 -7.24419850e-02  1.37178305e-01 -2.59772040e-03\n",
      "  -3.67332272e-03 -4.00820139e-01  1.64524070e-01  2.18694132e-02\n",
      "   1.19368914e-03 -1.24422455e-01  4.51655341e-02  5.84637558e-01\n",
      "  -4.00236191e-01 -7.03297224e-02  7.79315265e-01 -2.85938953e-01\n",
      "   1.43809802e-01  0.00000000e+00  1.44901357e-01 -1.11761336e+00\n",
      "   8.02162403e-02  6.41313273e-01 -8.24894188e-01  6.33998615e-01\n",
      "  -8.62287506e-01  2.31006207e-01 -7.83701654e-01 -4.97508309e-01\n",
      "   4.04833275e-01  2.42716277e-01]]\n",
      "Corresponding class: [-1  0  1]\n"
     ]
    }
   ],
   "source": [
    "# Train model\n",
    "best_model = train_model_with_grid_search(X_train_sm, y_train_sm, model_name)"
   ]
  },
  {
   "cell_type": "code",
   "execution_count": 7,
   "metadata": {
    "execution": {
     "iopub.execute_input": "2024-05-02T06:58:25.179493Z",
     "iopub.status.busy": "2024-05-02T06:58:25.179304Z",
     "iopub.status.idle": "2024-05-02T06:58:25.300649Z",
     "shell.execute_reply": "2024-05-02T06:58:25.300286Z"
    }
   },
   "outputs": [
    {
     "name": "stdout",
     "output_type": "stream",
     "text": [
      "X_test_scaled shape\n",
      "(1118, 166)\n",
      "y_test shape\n",
      "(1118,)\n",
      "accuracy: 0.7003577817531306\n",
      "share of correct predictions: 0.7003577817531306\n",
      "assertion that they match:\n"
     ]
    }
   ],
   "source": [
    "# Get predictions\n",
    "get_model_predictions(best_model, X_test_scaled, y_test, custom_mapping, model_name, target_column, df)"
   ]
  },
  {
   "cell_type": "code",
   "execution_count": 8,
   "metadata": {},
   "outputs": [
    {
     "name": "stdout",
     "output_type": "stream",
     "text": [
      "{'accuracy': 0.7003577817531306, 'f1_score': 0.7894981767964322, 'majority_baseline': 0.9534883720930233}\n",
      "Share of predictions exactly as the actual: 70.04%\n",
      "Share of predictions 1 or fewer ratings away from actual: 99.19%\n",
      "classification report:\n",
      "                                         precision    recall  f1-score   support\n",
      "\n",
      "Downgrade Since Last Fixed Quarter Date     0.0072    0.0500    0.0127        20\n",
      "        Same As Last Fixed Quarter Date     0.9512    0.7317    0.8271      1066\n",
      "  Upgrade Since Last Fixed Quarter Date     0.0125    0.0625    0.0208        32\n",
      "\n",
      "                               accuracy                         0.7004      1118\n",
      "                              macro avg     0.3237    0.2814    0.2869      1118\n",
      "                           weighted avg     0.9075    0.7004    0.7895      1118\n",
      "\n",
      "counts of y_test values\n",
      "Change Direction Since Last Fixed Quarter Date\n",
      "Same As Last Fixed Quarter Date            1066\n",
      "Upgrade Since Last Fixed Quarter Date        32\n",
      "Downgrade Since Last Fixed Quarter Date      20\n",
      "Name: count, dtype: int64\n",
      "start of y_pred\n",
      "smote_rating_change_model_2_predictions\n",
      "Same As Last Fixed Quarter Date            820\n",
      "Upgrade Since Last Fixed Quarter Date      160\n",
      "Downgrade Since Last Fixed Quarter Date    138\n",
      "Name: count, dtype: int64\n",
      "sorted custom mapping\n",
      "{'Downgrade Since Last Fixed Quarter Date': -1, 'Same As Last Fixed Quarter Date': 0, 'Upgrade Since Last Fixed Quarter Date': 1}\n",
      "label;  Downgrade Since Last Fixed Quarter Date\n",
      "label;  Same As Last Fixed Quarter Date\n",
      "label;  Upgrade Since Last Fixed Quarter Date\n",
      "actual labels\n",
      "['Downgrade', 'Same', 'Upgrade']\n"
     ]
    },
    {
     "data": {
      "image/png": "[encoded data removed]",
      "text/plain": [
       "<Figure size 1000x800 with 2 Axes>"
      ]
     },
     "metadata": {},
     "output_type": "display_data"
    }
   ],
   "source": [
    "create_model_figure_and_table_components(model_name, target_column, custom_mapping)"
   ]
  },
  {
   "cell_type": "code",
   "execution_count": null,
   "metadata": {},
   "outputs": [],
   "source": []
  }
 ],
 "metadata": {
  "kernelspec": {
   "display_name": "capstone",
   "language": "python",
   "name": "python3"
  },
  "language_info": {
   "codemirror_mode": {
    "name": "ipython",
    "version": 3
   },
   "file_extension": ".py",
   "mimetype": "text/x-python",
   "name": "python",
   "nbconvert_exporter": "python",
   "pygments_lexer": "ipython3",
   "version": "3.12.3"
  }
 },
 "nbformat": 4,
 "nbformat_minor": 2
}
