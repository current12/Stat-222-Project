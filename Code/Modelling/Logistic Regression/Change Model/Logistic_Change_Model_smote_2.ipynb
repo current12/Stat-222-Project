{
 "cells": [
  {
   "cell_type": "markdown",
   "metadata": {},
   "source": [
    "# Model 2\n"
   ]
  },
  {
   "cell_type": "code",
   "execution_count": 1,
   "metadata": {
    "execution": {
     "iopub.execute_input": "2024-04-29T04:49:05.132871Z",
     "iopub.status.busy": "2024-04-29T04:49:05.132619Z",
     "iopub.status.idle": "2024-04-29T04:49:07.128900Z",
     "shell.execute_reply": "2024-04-29T04:49:07.128491Z"
    }
   },
   "outputs": [],
   "source": [
    "# Packages\n",
    "import sys\n",
    "import os\n",
    "# Add the parent directory to sys.path\n",
    "sys.path.append(os.path.abspath('..'))\n",
    "# Import module\n",
    "from Logistic_Regression_Functions import *\n",
    "\n",
    "# Model name\n",
    "model_name = 'smote_rating_change_model_2'"
   ]
  },
  {
   "cell_type": "code",
   "execution_count": 2,
   "metadata": {
    "execution": {
     "iopub.execute_input": "2024-04-29T04:49:07.131948Z",
     "iopub.status.busy": "2024-04-29T04:49:07.131149Z",
     "iopub.status.idle": "2024-04-29T04:49:09.888619Z",
     "shell.execute_reply": "2024-04-29T04:49:09.888213Z"
    }
   },
   "outputs": [],
   "source": [
    "# Load the data\n",
    "df = load_data()"
   ]
  },
  {
   "cell_type": "code",
   "execution_count": 3,
   "metadata": {
    "execution": {
     "iopub.execute_input": "2024-04-29T04:49:09.891553Z",
     "iopub.status.busy": "2024-04-29T04:49:09.890888Z",
     "iopub.status.idle": "2024-04-29T04:49:10.271297Z",
     "shell.execute_reply": "2024-04-29T04:49:10.270893Z"
    }
   },
   "outputs": [],
   "source": [
    "# Get the column names and mapping\n",
    "numeric_feature_columns, cat_feature_columns, target_column, custom_mapping = get_column_names_and_mapping_change(model_name)"
   ]
  },
  {
   "cell_type": "code",
   "execution_count": 4,
   "metadata": {
    "execution": {
     "iopub.execute_input": "2024-04-29T04:49:10.274140Z",
     "iopub.status.busy": "2024-04-29T04:49:10.273431Z",
     "iopub.status.idle": "2024-04-29T04:49:10.330339Z",
     "shell.execute_reply": "2024-04-29T04:49:10.329816Z"
    }
   },
   "outputs": [
    {
     "name": "stdout",
     "output_type": "stream",
     "text": [
      "feature names: \n",
      "['num__EBIT' 'num__common_plus_preferred_stock' 'num__workingCapital'\n",
      " 'num__Ratio_A' 'num__Ratio_B' 'num__Ratio_C' 'num__Ratio_D'\n",
      " 'num__Ratio_E' 'num__cashAndCashEquivalents' 'num__shortTermInvestments'\n",
      " 'num__cashAndShortTermInvestments' 'num__netReceivables'\n",
      " 'num__inventory_balance_sheet' 'num__otherCurrentAssets'\n",
      " 'num__totalCurrentAssets' 'num__propertyPlantEquipmentNet'\n",
      " 'num__goodwill' 'num__intangibleAssets'\n",
      " 'num__goodwillAndIntangibleAssets' 'num__longTermInvestments'\n",
      " 'num__taxAssets' 'num__otherNonCurrentAssets'\n",
      " 'num__totalNonCurrentAssets' 'num__otherAssets' 'num__totalAssets'\n",
      " 'num__accountPayables' 'num__shortTermDebt' 'num__taxPayables'\n",
      " 'num__deferredRevenue' 'num__otherCurrentLiabilities'\n",
      " 'num__totalCurrentLiabilities' 'num__longTermDebt'\n",
      " 'num__deferredRevenueNonCurrent' 'num__deferredTaxLiabilitiesNonCurrent'\n",
      " 'num__otherNonCurrentLiabilities' 'num__totalNonCurrentLiabilities'\n",
      " 'num__otherLiabilities' 'num__capitalLeaseObligations'\n",
      " 'num__totalLiabilities' 'num__preferredStock' 'num__commonStock'\n",
      " 'num__retainedEarnings' 'num__accumulatedOtherComprehensiveIncomeLoss'\n",
      " 'num__othertotalStockholdersEquity' 'num__totalStockholdersEquity'\n",
      " 'num__totalEquity' 'num__totalLiabilitiesAndStockholdersEquity'\n",
      " 'num__minorityInterest' 'num__totalLiabilitiesAndTotalEquity'\n",
      " 'num__totalInvestments' 'num__totalDebt' 'num__netDebt'\n",
      " 'num__netIncome_cash_flow_statement'\n",
      " 'num__depreciationAndAmortization_cash_flow_statement'\n",
      " 'num__deferredIncomeTax' 'num__stockBasedCompensation'\n",
      " 'num__changeInWorkingCapital' 'num__accountsReceivables'\n",
      " 'num__inventory_cash_flow_statement' 'num__accountsPayables'\n",
      " 'num__otherWorkingCapital' 'num__otherNonCashItems'\n",
      " 'num__netCashProvidedByOperatingActivities'\n",
      " 'num__investmentsInPropertyPlantAndEquipment' 'num__acquisitionsNet'\n",
      " 'num__purchasesOfInvestments' 'num__salesMaturitiesOfInvestments'\n",
      " 'num__otherInvestingActivites' 'num__netCashUsedForInvestingActivites'\n",
      " 'num__debtRepayment' 'num__commonStockIssued'\n",
      " 'num__commonStockRepurchased' 'num__dividendsPaid'\n",
      " 'num__otherFinancingActivites'\n",
      " 'num__netCashUsedProvidedByFinancingActivities'\n",
      " 'num__effectOfForexChangesOnCash' 'num__netChangeInCash'\n",
      " 'num__cashAtEndOfPeriod' 'num__cashAtBeginningOfPeriod'\n",
      " 'num__operatingCashFlow' 'num__capitalExpenditure' 'num__freeCashFlow'\n",
      " 'num__revenue' 'num__costOfRevenue' 'num__grossProfit'\n",
      " 'num__grossProfitRatio' 'num__researchAndDevelopmentExpenses'\n",
      " 'num__generalAndAdministrativeExpenses'\n",
      " 'num__sellingAndMarketingExpenses'\n",
      " 'num__sellingGeneralAndAdministrativeExpenses' 'num__otherExpenses'\n",
      " 'num__operatingExpenses' 'num__costAndExpenses' 'num__interestIncome'\n",
      " 'num__interestExpense'\n",
      " 'num__depreciationAndAmortization_income_statement' 'num__ebitda'\n",
      " 'num__ebitdaratio' 'num__operatingIncome' 'num__operatingIncomeRatio'\n",
      " 'num__totalOtherIncomeExpensesNet' 'num__incomeBeforeTax'\n",
      " 'num__incomeBeforeTaxRatio' 'num__incomeTaxExpense'\n",
      " 'num__netIncome_income_statement' 'num__netIncomeRatio' 'num__eps'\n",
      " 'num__epsdiluted' 'num__weightedAverageShsOut'\n",
      " 'num__weightedAverageShsOutDil' 'num__marketCap' 'num__Ratio_A_diff'\n",
      " 'num__Ratio_B_diff' 'num__Ratio_C_diff' 'num__Ratio_D_diff'\n",
      " 'num__Ratio_E_diff' 'num__grossProfitRatio_diff' 'num__ebitdaratio_diff'\n",
      " 'num__operatingIncomeRatio_diff' 'num__incomeBeforeTaxRatio_diff'\n",
      " 'num__netIncomeRatio_diff' 'num__currentRatio' 'num__quickRatio'\n",
      " 'num__cashRatio' 'num__returnOnAssets' 'num__returnOnEquity'\n",
      " 'num__returnOnCapitalEmployed' 'num__EBITtoRevenue' 'num__debtRatio'\n",
      " 'num__debtRatioAlt' 'num__debtEquityRatio' 'num__equityMultiplier'\n",
      " 'num__enterpriseValueMultiplier' 'num__operatingCashFlowPerShare'\n",
      " 'num__freeCashFlowPerShare' 'num__cashPerShare'\n",
      " 'num__operatingCashFlowToSales' 'num__freeCashFlowToOperatingCashFlow'\n",
      " 'num__currentRatio_diff' 'num__quickRatio_diff' 'num__cashRatio_diff'\n",
      " 'num__returnOnAssets_diff' 'num__returnOnEquity_diff'\n",
      " 'num__returnOnCapitalEmployed_diff' 'num__EBITtoRevenue_diff'\n",
      " 'num__debtRatio_diff' 'num__debtRatioAlt_diff'\n",
      " 'num__debtEquityRatio_diff' 'num__equityMultiplier_diff'\n",
      " 'num__enterpriseValueMultiplier_diff'\n",
      " 'num__operatingCashFlowPerShare_diff' 'num__freeCashFlowPerShare_diff'\n",
      " 'num__cashPerShare_diff' 'num__operatingCashFlowToSales_diff'\n",
      " 'num__freeCashFlowToOperatingCashFlow_diff']\n"
     ]
    }
   ],
   "source": [
    "# Create matrices\n",
    "X_train_scaled, X_test_scaled, y_train, y_test, _ = prepare_matrices(df, numeric_feature_columns, cat_feature_columns, target_column, custom_mapping)"
   ]
  },
  {
   "cell_type": "code",
   "execution_count": 5,
   "metadata": {},
   "outputs": [
    {
     "name": "stdout",
     "output_type": "stream",
     "text": [
      "{-1: 100, 0: 4156, 1: 135}\n",
      "{-1: 1000, 0: 4156, 1: 1000}\n"
     ]
    }
   ],
   "source": [
    "#SMOTE\n",
    "from imblearn.over_sampling import SMOTE\n",
    "unique, count = np.unique(y_train, return_counts=True)\n",
    "dict_value_count = {k:v for (k, v) in zip(unique, count)}\n",
    "print(dict_value_count)\n",
    "sm = SMOTE(sampling_strategy={-1:1000, 1: 1000})\n",
    "X_train_sm, y_train_sm = sm.fit_resample(X_train_scaled, y_train)\n",
    "unique, count = np.unique(y_train_sm, return_counts=True)\n",
    "dict_value_count = {k:v for (k, v) in zip(unique, count)}\n",
    "print(dict_value_count)"
   ]
  },
  {
   "cell_type": "code",
   "execution_count": 36,
   "metadata": {
    "execution": {
     "iopub.execute_input": "2024-04-29T04:49:10.342853Z",
     "iopub.status.busy": "2024-04-29T04:49:10.342670Z",
     "iopub.status.idle": "2024-04-29T05:01:57.535968Z",
     "shell.execute_reply": "2024-04-29T05:01:57.535585Z"
    }
   },
   "outputs": [
    {
     "name": "stdout",
     "output_type": "stream",
     "text": [
      "Tuned hyperparameters: {'C': 0.001, 'class_weight': None, 'l1_ratio': 0.0, 'multi_class': 'ovr', 'penalty': 'elasticnet', 'solver': 'saga'}\n",
      "Train accuracy of best model:  0.6756406097956535\n",
      "Best mean CV accuracy: 0.6756405756867137\n",
      "Coefficients: [[-0.00077917  0.00014474]\n",
      " [-0.03863574 -0.06811877]\n",
      " [ 0.05094895  0.08603081]]\n",
      "Corresponding class: [-1  0  1]\n"
     ]
    }
   ],
   "source": [
    "# Train model\n",
    "best_model = train_model_with_grid_search(X_train_sm, y_train_sm, model_name)"
   ]
  },
  {
   "cell_type": "code",
   "execution_count": 37,
   "metadata": {
    "execution": {
     "iopub.execute_input": "2024-04-29T05:01:57.538607Z",
     "iopub.status.busy": "2024-04-29T05:01:57.537943Z",
     "iopub.status.idle": "2024-04-29T05:01:57.632655Z",
     "shell.execute_reply": "2024-04-29T05:01:57.632286Z"
    }
   },
   "outputs": [
    {
     "name": "stdout",
     "output_type": "stream",
     "text": [
      "X_test_scaled shape\n",
      "(1092, 2)\n",
      "y_test shape\n",
      "(1092,)\n",
      "accuracy: 0.9496336996336996\n",
      "share of correct predictions: 0.9496336996336996\n",
      "assertion that they match:\n"
     ]
    }
   ],
   "source": [
    "# Get predictions\n",
    "get_model_predictions(best_model, X_test_scaled, y_test, custom_mapping, model_name, target_column, df)"
   ]
  }
 ],
 "metadata": {
  "kernelspec": {
   "display_name": "capstone",
   "language": "python",
   "name": "python3"
  },
  "language_info": {
   "codemirror_mode": {
    "name": "ipython",
    "version": 3
   },
   "file_extension": ".py",
   "mimetype": "text/x-python",
   "name": "python",
   "nbconvert_exporter": "python",
   "pygments_lexer": "ipython3",
   "version": "3.12.3"
  }
 },
 "nbformat": 4,
 "nbformat_minor": 2
}
