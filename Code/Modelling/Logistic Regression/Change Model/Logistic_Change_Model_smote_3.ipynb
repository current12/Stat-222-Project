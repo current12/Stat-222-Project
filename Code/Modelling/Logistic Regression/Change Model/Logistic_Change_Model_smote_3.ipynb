{
 "cells": [
  {
   "cell_type": "markdown",
   "metadata": {},
   "source": [
    "# Model 3\n"
   ]
  },
  {
   "cell_type": "code",
   "execution_count": 1,
   "metadata": {
    "execution": {
     "iopub.execute_input": "2024-05-02T05:33:02.273727Z",
     "iopub.status.busy": "2024-05-02T05:33:02.272917Z",
     "iopub.status.idle": "2024-05-02T05:33:11.052384Z",
     "shell.execute_reply": "2024-05-02T05:33:11.051657Z"
    }
   },
   "outputs": [
    {
     "name": "stderr",
     "output_type": "stream",
     "text": [
      "Matplotlib is building the font cache; this may take a moment.\n"
     ]
    }
   ],
   "source": [
    "# Packages\n",
    "import sys\n",
    "import os\n",
    "# Add the parent directory to sys.path\n",
    "sys.path.append(os.path.abspath('..'))\n",
    "# Import module\n",
    "from Logistic_Regression_Functions import *\n",
    "\n",
    "# Model name\n",
    "model_name = 'smote_rating_change_model_3'"
   ]
  },
  {
   "cell_type": "code",
   "execution_count": 2,
   "metadata": {
    "execution": {
     "iopub.execute_input": "2024-05-02T05:33:11.057186Z",
     "iopub.status.busy": "2024-05-02T05:33:11.056875Z",
     "iopub.status.idle": "2024-05-02T05:33:14.689955Z",
     "shell.execute_reply": "2024-05-02T05:33:14.689017Z"
    }
   },
   "outputs": [],
   "source": [
    "# Load the data\n",
    "df = load_data()"
   ]
  },
  {
   "cell_type": "code",
   "execution_count": 3,
   "metadata": {
    "execution": {
     "iopub.execute_input": "2024-05-02T05:33:14.694911Z",
     "iopub.status.busy": "2024-05-02T05:33:14.694603Z",
     "iopub.status.idle": "2024-05-02T05:33:15.004979Z",
     "shell.execute_reply": "2024-05-02T05:33:15.004243Z"
    }
   },
   "outputs": [],
   "source": [
    "# Get the column names and mapping\n",
    "numeric_feature_columns, cat_feature_columns, target_column, custom_mapping = get_column_names_and_mapping_change(model_name)"
   ]
  },
  {
   "cell_type": "code",
   "execution_count": 4,
   "metadata": {
    "execution": {
     "iopub.execute_input": "2024-05-02T05:33:15.009437Z",
     "iopub.status.busy": "2024-05-02T05:33:15.009241Z",
     "iopub.status.idle": "2024-05-02T05:33:15.069627Z",
     "shell.execute_reply": "2024-05-02T05:33:15.068892Z"
    }
   },
   "outputs": [
    {
     "name": "stdout",
     "output_type": "stream",
     "text": [
      "feature names: \n",
      "['num__EBIT' 'num__common_plus_preferred_stock' 'num__workingCapital'\n",
      " 'num__Ratio_A' 'num__Ratio_B' 'num__Ratio_C' 'num__Ratio_D'\n",
      " 'num__Ratio_E' 'num__Positiv' 'num__Negativ' 'num__Strong' 'num__Weak'\n",
      " 'num__Active' 'num__Passive' 'num__Ovrst' 'num__Undrst'\n",
      " 'num__cashAndCashEquivalents' 'num__shortTermInvestments'\n",
      " 'num__cashAndShortTermInvestments' 'num__netReceivables'\n",
      " 'num__inventory_balance_sheet' 'num__otherCurrentAssets'\n",
      " 'num__totalCurrentAssets' 'num__propertyPlantEquipmentNet'\n",
      " 'num__goodwill' 'num__intangibleAssets'\n",
      " 'num__goodwillAndIntangibleAssets' 'num__longTermInvestments'\n",
      " 'num__taxAssets' 'num__otherNonCurrentAssets'\n",
      " 'num__totalNonCurrentAssets' 'num__otherAssets' 'num__totalAssets'\n",
      " 'num__accountPayables' 'num__shortTermDebt' 'num__taxPayables'\n",
      " 'num__deferredRevenue' 'num__otherCurrentLiabilities'\n",
      " 'num__totalCurrentLiabilities' 'num__longTermDebt'\n",
      " 'num__deferredRevenueNonCurrent' 'num__deferredTaxLiabilitiesNonCurrent'\n",
      " 'num__otherNonCurrentLiabilities' 'num__totalNonCurrentLiabilities'\n",
      " 'num__otherLiabilities' 'num__capitalLeaseObligations'\n",
      " 'num__totalLiabilities' 'num__preferredStock' 'num__commonStock'\n",
      " 'num__retainedEarnings' 'num__accumulatedOtherComprehensiveIncomeLoss'\n",
      " 'num__othertotalStockholdersEquity' 'num__totalStockholdersEquity'\n",
      " 'num__totalEquity' 'num__totalLiabilitiesAndStockholdersEquity'\n",
      " 'num__minorityInterest' 'num__totalLiabilitiesAndTotalEquity'\n",
      " 'num__totalInvestments' 'num__totalDebt' 'num__netDebt'\n",
      " 'num__netIncome_cash_flow_statement'\n",
      " 'num__depreciationAndAmortization_cash_flow_statement'\n",
      " 'num__deferredIncomeTax' 'num__stockBasedCompensation'\n",
      " 'num__changeInWorkingCapital' 'num__accountsReceivables'\n",
      " 'num__inventory_cash_flow_statement' 'num__accountsPayables'\n",
      " 'num__otherWorkingCapital' 'num__otherNonCashItems'\n",
      " 'num__netCashProvidedByOperatingActivities'\n",
      " 'num__investmentsInPropertyPlantAndEquipment' 'num__acquisitionsNet'\n",
      " 'num__purchasesOfInvestments' 'num__salesMaturitiesOfInvestments'\n",
      " 'num__otherInvestingActivites' 'num__netCashUsedForInvestingActivites'\n",
      " 'num__debtRepayment' 'num__commonStockIssued'\n",
      " 'num__commonStockRepurchased' 'num__dividendsPaid'\n",
      " 'num__otherFinancingActivites'\n",
      " 'num__netCashUsedProvidedByFinancingActivities'\n",
      " 'num__effectOfForexChangesOnCash' 'num__netChangeInCash'\n",
      " 'num__cashAtEndOfPeriod' 'num__cashAtBeginningOfPeriod'\n",
      " 'num__operatingCashFlow' 'num__capitalExpenditure' 'num__freeCashFlow'\n",
      " 'num__revenue' 'num__costOfRevenue' 'num__grossProfit'\n",
      " 'num__grossProfitRatio' 'num__researchAndDevelopmentExpenses'\n",
      " 'num__generalAndAdministrativeExpenses'\n",
      " 'num__sellingAndMarketingExpenses'\n",
      " 'num__sellingGeneralAndAdministrativeExpenses' 'num__otherExpenses'\n",
      " 'num__operatingExpenses' 'num__costAndExpenses' 'num__interestIncome'\n",
      " 'num__interestExpense'\n",
      " 'num__depreciationAndAmortization_income_statement' 'num__ebitda'\n",
      " 'num__ebitdaratio' 'num__operatingIncome' 'num__operatingIncomeRatio'\n",
      " 'num__totalOtherIncomeExpensesNet' 'num__incomeBeforeTax'\n",
      " 'num__incomeBeforeTaxRatio' 'num__incomeTaxExpense'\n",
      " 'num__netIncome_income_statement' 'num__netIncomeRatio' 'num__eps'\n",
      " 'num__epsdiluted' 'num__weightedAverageShsOut'\n",
      " 'num__weightedAverageShsOutDil' 'num__marketCap' 'num__num_transparency'\n",
      " 'num__gf_score' 'num__word_count' 'num__tone' 'num__num_q_by_len'\n",
      " 'num__pos_score_finbert' 'num__Ratio_A_diff' 'num__Ratio_B_diff'\n",
      " 'num__Ratio_C_diff' 'num__Ratio_D_diff' 'num__Ratio_E_diff'\n",
      " 'num__grossProfitRatio_diff' 'num__ebitdaratio_diff'\n",
      " 'num__operatingIncomeRatio_diff' 'num__incomeBeforeTaxRatio_diff'\n",
      " 'num__netIncomeRatio_diff' 'num__currentRatio' 'num__quickRatio'\n",
      " 'num__cashRatio' 'num__returnOnAssets' 'num__returnOnEquity'\n",
      " 'num__returnOnCapitalEmployed' 'num__EBITtoRevenue' 'num__debtRatio'\n",
      " 'num__debtRatioAlt' 'num__debtEquityRatio' 'num__equityMultiplier'\n",
      " 'num__enterpriseValueMultiplier' 'num__operatingCashFlowPerShare'\n",
      " 'num__freeCashFlowPerShare' 'num__cashPerShare'\n",
      " 'num__operatingCashFlowToSales' 'num__freeCashFlowToOperatingCashFlow'\n",
      " 'num__currentRatio_diff' 'num__quickRatio_diff' 'num__cashRatio_diff'\n",
      " 'num__returnOnAssets_diff' 'num__returnOnEquity_diff'\n",
      " 'num__returnOnCapitalEmployed_diff' 'num__EBITtoRevenue_diff'\n",
      " 'num__debtRatio_diff' 'num__debtRatioAlt_diff'\n",
      " 'num__debtEquityRatio_diff' 'num__equityMultiplier_diff'\n",
      " 'num__enterpriseValueMultiplier_diff'\n",
      " 'num__operatingCashFlowPerShare_diff' 'num__freeCashFlowPerShare_diff'\n",
      " 'num__cashPerShare_diff' 'num__operatingCashFlowToSales_diff'\n",
      " 'num__freeCashFlowToOperatingCashFlow_diff']\n"
     ]
    }
   ],
   "source": [
    "# Create matrices\n",
    "X_train_scaled, X_test_scaled, y_train, y_test, _ = prepare_matrices(df, numeric_feature_columns, cat_feature_columns, target_column, custom_mapping)"
   ]
  },
  {
   "cell_type": "code",
   "execution_count": 5,
   "metadata": {
    "execution": {
     "iopub.execute_input": "2024-05-02T05:33:15.074109Z",
     "iopub.status.busy": "2024-05-02T05:33:15.073941Z",
     "iopub.status.idle": "2024-05-02T05:33:15.589501Z",
     "shell.execute_reply": "2024-05-02T05:33:15.588924Z"
    }
   },
   "outputs": [
    {
     "name": "stdout",
     "output_type": "stream",
     "text": [
      "{-1: 100, 0: 4156, 1: 135}\n",
      "{-1: 1000, 0: 4156, 1: 1000}\n"
     ]
    }
   ],
   "source": [
    "#SMOTE\n",
    "from imblearn.over_sampling import SMOTE\n",
    "unique, count = np.unique(y_train, return_counts=True)\n",
    "dict_value_count = {k:v for (k, v) in zip(unique, count)}\n",
    "print(dict_value_count)\n",
    "sm = SMOTE(sampling_strategy={-1:1000, 1: 1000})\n",
    "X_train_sm, y_train_sm = sm.fit_resample(X_train_scaled, y_train)\n",
    "unique, count = np.unique(y_train_sm, return_counts=True)\n",
    "dict_value_count = {k:v for (k, v) in zip(unique, count)}\n",
    "print(dict_value_count)"
   ]
  },
  {
   "cell_type": "code",
   "execution_count": 6,
   "metadata": {
    "execution": {
     "iopub.execute_input": "2024-05-02T05:33:15.593640Z",
     "iopub.status.busy": "2024-05-02T05:33:15.592501Z",
     "iopub.status.idle": "2024-05-02T05:43:28.213718Z",
     "shell.execute_reply": "2024-05-02T05:43:28.213011Z"
    }
   },
   "outputs": [
    {
     "name": "stderr",
     "output_type": "stream",
     "text": [
      "/scratch/users/ijyliu/conda/envs/scf_general/lib/python3.11/site-packages/sklearn/linear_model/_sag.py:350: ConvergenceWarning: The max_iter was reached which means the coef_ did not converge\n",
      "  warnings.warn(\n",
      "/scratch/users/ijyliu/conda/envs/scf_general/lib/python3.11/site-packages/sklearn/linear_model/_sag.py:350: ConvergenceWarning: The max_iter was reached which means the coef_ did not converge\n",
      "  warnings.warn(\n",
      "/scratch/users/ijyliu/conda/envs/scf_general/lib/python3.11/site-packages/sklearn/linear_model/_sag.py:350: ConvergenceWarning: The max_iter was reached which means the coef_ did not converge\n",
      "  warnings.warn(\n"
     ]
    },
    {
     "name": "stderr",
     "output_type": "stream",
     "text": [
      "/scratch/users/ijyliu/conda/envs/scf_general/lib/python3.11/site-packages/sklearn/linear_model/_sag.py:350: ConvergenceWarning: The max_iter was reached which means the coef_ did not converge\n",
      "  warnings.warn(\n",
      "/scratch/users/ijyliu/conda/envs/scf_general/lib/python3.11/site-packages/sklearn/linear_model/_sag.py:350: ConvergenceWarning: The max_iter was reached which means the coef_ did not converge\n",
      "  warnings.warn(\n"
     ]
    },
    {
     "name": "stderr",
     "output_type": "stream",
     "text": [
      "/scratch/users/ijyliu/conda/envs/scf_general/lib/python3.11/site-packages/sklearn/linear_model/_sag.py:350: ConvergenceWarning: The max_iter was reached which means the coef_ did not converge\n",
      "  warnings.warn(\n",
      "/scratch/users/ijyliu/conda/envs/scf_general/lib/python3.11/site-packages/sklearn/linear_model/_sag.py:350: ConvergenceWarning: The max_iter was reached which means the coef_ did not converge\n",
      "  warnings.warn(\n",
      "/scratch/users/ijyliu/conda/envs/scf_general/lib/python3.11/site-packages/sklearn/linear_model/_sag.py:350: ConvergenceWarning: The max_iter was reached which means the coef_ did not converge\n",
      "  warnings.warn(\n"
     ]
    },
    {
     "name": "stderr",
     "output_type": "stream",
     "text": [
      "/scratch/users/ijyliu/conda/envs/scf_general/lib/python3.11/site-packages/sklearn/linear_model/_sag.py:350: ConvergenceWarning: The max_iter was reached which means the coef_ did not converge\n",
      "  warnings.warn(\n"
     ]
    },
    {
     "name": "stderr",
     "output_type": "stream",
     "text": [
      "/scratch/users/ijyliu/conda/envs/scf_general/lib/python3.11/site-packages/sklearn/linear_model/_sag.py:350: ConvergenceWarning: The max_iter was reached which means the coef_ did not converge\n",
      "  warnings.warn(\n"
     ]
    },
    {
     "name": "stderr",
     "output_type": "stream",
     "text": [
      "/scratch/users/ijyliu/conda/envs/scf_general/lib/python3.11/site-packages/sklearn/linear_model/_sag.py:350: ConvergenceWarning: The max_iter was reached which means the coef_ did not converge\n",
      "  warnings.warn(\n"
     ]
    },
    {
     "name": "stderr",
     "output_type": "stream",
     "text": [
      "/scratch/users/ijyliu/conda/envs/scf_general/lib/python3.11/site-packages/sklearn/linear_model/_sag.py:350: ConvergenceWarning: The max_iter was reached which means the coef_ did not converge\n",
      "  warnings.warn(\n"
     ]
    },
    {
     "name": "stderr",
     "output_type": "stream",
     "text": [
      "/scratch/users/ijyliu/conda/envs/scf_general/lib/python3.11/site-packages/sklearn/linear_model/_sag.py:350: ConvergenceWarning: The max_iter was reached which means the coef_ did not converge\n",
      "  warnings.warn(\n"
     ]
    },
    {
     "name": "stderr",
     "output_type": "stream",
     "text": [
      "/scratch/users/ijyliu/conda/envs/scf_general/lib/python3.11/site-packages/sklearn/linear_model/_sag.py:350: ConvergenceWarning: The max_iter was reached which means the coef_ did not converge\n",
      "  warnings.warn(\n"
     ]
    },
    {
     "name": "stderr",
     "output_type": "stream",
     "text": [
      "/scratch/users/ijyliu/conda/envs/scf_general/lib/python3.11/site-packages/sklearn/linear_model/_sag.py:350: ConvergenceWarning: The max_iter was reached which means the coef_ did not converge\n",
      "  warnings.warn(\n"
     ]
    },
    {
     "name": "stderr",
     "output_type": "stream",
     "text": [
      "/scratch/users/ijyliu/conda/envs/scf_general/lib/python3.11/site-packages/sklearn/linear_model/_sag.py:350: ConvergenceWarning: The max_iter was reached which means the coef_ did not converge\n",
      "  warnings.warn(\n"
     ]
    },
    {
     "name": "stderr",
     "output_type": "stream",
     "text": [
      "/scratch/users/ijyliu/conda/envs/scf_general/lib/python3.11/site-packages/sklearn/linear_model/_sag.py:350: ConvergenceWarning: The max_iter was reached which means the coef_ did not converge\n",
      "  warnings.warn(\n"
     ]
    },
    {
     "name": "stderr",
     "output_type": "stream",
     "text": [
      "/scratch/users/ijyliu/conda/envs/scf_general/lib/python3.11/site-packages/sklearn/linear_model/_sag.py:350: ConvergenceWarning: The max_iter was reached which means the coef_ did not converge\n",
      "  warnings.warn(\n"
     ]
    },
    {
     "name": "stderr",
     "output_type": "stream",
     "text": [
      "/scratch/users/ijyliu/conda/envs/scf_general/lib/python3.11/site-packages/sklearn/linear_model/_sag.py:350: ConvergenceWarning: The max_iter was reached which means the coef_ did not converge\n",
      "  warnings.warn(\n"
     ]
    },
    {
     "name": "stderr",
     "output_type": "stream",
     "text": [
      "/scratch/users/ijyliu/conda/envs/scf_general/lib/python3.11/site-packages/sklearn/linear_model/_sag.py:350: ConvergenceWarning: The max_iter was reached which means the coef_ did not converge\n",
      "  warnings.warn(\n"
     ]
    },
    {
     "name": "stderr",
     "output_type": "stream",
     "text": [
      "/scratch/users/ijyliu/conda/envs/scf_general/lib/python3.11/site-packages/sklearn/linear_model/_sag.py:350: ConvergenceWarning: The max_iter was reached which means the coef_ did not converge\n",
      "  warnings.warn(\n"
     ]
    },
    {
     "name": "stderr",
     "output_type": "stream",
     "text": [
      "/scratch/users/ijyliu/conda/envs/scf_general/lib/python3.11/site-packages/sklearn/linear_model/_sag.py:350: ConvergenceWarning: The max_iter was reached which means the coef_ did not converge\n",
      "  warnings.warn(\n"
     ]
    },
    {
     "name": "stderr",
     "output_type": "stream",
     "text": [
      "/scratch/users/ijyliu/conda/envs/scf_general/lib/python3.11/site-packages/sklearn/linear_model/_sag.py:350: ConvergenceWarning: The max_iter was reached which means the coef_ did not converge\n",
      "  warnings.warn(\n"
     ]
    },
    {
     "name": "stderr",
     "output_type": "stream",
     "text": [
      "/scratch/users/ijyliu/conda/envs/scf_general/lib/python3.11/site-packages/sklearn/linear_model/_sag.py:350: ConvergenceWarning: The max_iter was reached which means the coef_ did not converge\n",
      "  warnings.warn(\n"
     ]
    },
    {
     "name": "stderr",
     "output_type": "stream",
     "text": [
      "/scratch/users/ijyliu/conda/envs/scf_general/lib/python3.11/site-packages/sklearn/linear_model/_sag.py:350: ConvergenceWarning: The max_iter was reached which means the coef_ did not converge\n",
      "  warnings.warn(\n"
     ]
    },
    {
     "name": "stderr",
     "output_type": "stream",
     "text": [
      "/scratch/users/ijyliu/conda/envs/scf_general/lib/python3.11/site-packages/sklearn/linear_model/_sag.py:350: ConvergenceWarning: The max_iter was reached which means the coef_ did not converge\n",
      "  warnings.warn(\n"
     ]
    },
    {
     "name": "stderr",
     "output_type": "stream",
     "text": [
      "/scratch/users/ijyliu/conda/envs/scf_general/lib/python3.11/site-packages/sklearn/linear_model/_sag.py:350: ConvergenceWarning: The max_iter was reached which means the coef_ did not converge\n",
      "  warnings.warn(\n"
     ]
    },
    {
     "name": "stderr",
     "output_type": "stream",
     "text": [
      "/scratch/users/ijyliu/conda/envs/scf_general/lib/python3.11/site-packages/sklearn/linear_model/_sag.py:350: ConvergenceWarning: The max_iter was reached which means the coef_ did not converge\n",
      "  warnings.warn(\n"
     ]
    },
    {
     "name": "stderr",
     "output_type": "stream",
     "text": [
      "/scratch/users/ijyliu/conda/envs/scf_general/lib/python3.11/site-packages/sklearn/linear_model/_sag.py:350: ConvergenceWarning: The max_iter was reached which means the coef_ did not converge\n",
      "  warnings.warn(\n"
     ]
    },
    {
     "name": "stderr",
     "output_type": "stream",
     "text": [
      "/scratch/users/ijyliu/conda/envs/scf_general/lib/python3.11/site-packages/sklearn/linear_model/_sag.py:350: ConvergenceWarning: The max_iter was reached which means the coef_ did not converge\n",
      "  warnings.warn(\n"
     ]
    },
    {
     "name": "stderr",
     "output_type": "stream",
     "text": [
      "/scratch/users/ijyliu/conda/envs/scf_general/lib/python3.11/site-packages/sklearn/linear_model/_sag.py:350: ConvergenceWarning: The max_iter was reached which means the coef_ did not converge\n",
      "  warnings.warn(\n"
     ]
    },
    {
     "name": "stderr",
     "output_type": "stream",
     "text": [
      "/scratch/users/ijyliu/conda/envs/scf_general/lib/python3.11/site-packages/sklearn/linear_model/_sag.py:350: ConvergenceWarning: The max_iter was reached which means the coef_ did not converge\n",
      "  warnings.warn(\n"
     ]
    },
    {
     "name": "stderr",
     "output_type": "stream",
     "text": [
      "/scratch/users/ijyliu/conda/envs/scf_general/lib/python3.11/site-packages/sklearn/linear_model/_sag.py:350: ConvergenceWarning: The max_iter was reached which means the coef_ did not converge\n",
      "  warnings.warn(\n",
      "/scratch/users/ijyliu/conda/envs/scf_general/lib/python3.11/site-packages/sklearn/linear_model/_sag.py:350: ConvergenceWarning: The max_iter was reached which means the coef_ did not converge\n",
      "  warnings.warn(\n"
     ]
    },
    {
     "name": "stderr",
     "output_type": "stream",
     "text": [
      "/scratch/users/ijyliu/conda/envs/scf_general/lib/python3.11/site-packages/sklearn/linear_model/_sag.py:350: ConvergenceWarning: The max_iter was reached which means the coef_ did not converge\n",
      "  warnings.warn(\n"
     ]
    },
    {
     "name": "stderr",
     "output_type": "stream",
     "text": [
      "/scratch/users/ijyliu/conda/envs/scf_general/lib/python3.11/site-packages/sklearn/linear_model/_sag.py:350: ConvergenceWarning: The max_iter was reached which means the coef_ did not converge\n",
      "  warnings.warn(\n"
     ]
    },
    {
     "name": "stderr",
     "output_type": "stream",
     "text": [
      "/scratch/users/ijyliu/conda/envs/scf_general/lib/python3.11/site-packages/sklearn/linear_model/_sag.py:350: ConvergenceWarning: The max_iter was reached which means the coef_ did not converge\n",
      "  warnings.warn(\n",
      "/scratch/users/ijyliu/conda/envs/scf_general/lib/python3.11/site-packages/sklearn/linear_model/_sag.py:350: ConvergenceWarning: The max_iter was reached which means the coef_ did not converge\n",
      "  warnings.warn(\n"
     ]
    },
    {
     "name": "stderr",
     "output_type": "stream",
     "text": [
      "/scratch/users/ijyliu/conda/envs/scf_general/lib/python3.11/site-packages/sklearn/linear_model/_sag.py:350: ConvergenceWarning: The max_iter was reached which means the coef_ did not converge\n",
      "  warnings.warn(\n"
     ]
    },
    {
     "name": "stderr",
     "output_type": "stream",
     "text": [
      "/scratch/users/ijyliu/conda/envs/scf_general/lib/python3.11/site-packages/sklearn/linear_model/_sag.py:350: ConvergenceWarning: The max_iter was reached which means the coef_ did not converge\n",
      "  warnings.warn(\n"
     ]
    },
    {
     "name": "stderr",
     "output_type": "stream",
     "text": [
      "/scratch/users/ijyliu/conda/envs/scf_general/lib/python3.11/site-packages/sklearn/linear_model/_sag.py:350: ConvergenceWarning: The max_iter was reached which means the coef_ did not converge\n",
      "  warnings.warn(\n"
     ]
    },
    {
     "name": "stderr",
     "output_type": "stream",
     "text": [
      "/scratch/users/ijyliu/conda/envs/scf_general/lib/python3.11/site-packages/sklearn/linear_model/_sag.py:350: ConvergenceWarning: The max_iter was reached which means the coef_ did not converge\n",
      "  warnings.warn(\n"
     ]
    },
    {
     "name": "stderr",
     "output_type": "stream",
     "text": [
      "/scratch/users/ijyliu/conda/envs/scf_general/lib/python3.11/site-packages/sklearn/linear_model/_sag.py:350: ConvergenceWarning: The max_iter was reached which means the coef_ did not converge\n",
      "  warnings.warn(\n"
     ]
    },
    {
     "name": "stderr",
     "output_type": "stream",
     "text": [
      "/scratch/users/ijyliu/conda/envs/scf_general/lib/python3.11/site-packages/sklearn/linear_model/_sag.py:350: ConvergenceWarning: The max_iter was reached which means the coef_ did not converge\n",
      "  warnings.warn(\n"
     ]
    },
    {
     "name": "stderr",
     "output_type": "stream",
     "text": [
      "/scratch/users/ijyliu/conda/envs/scf_general/lib/python3.11/site-packages/sklearn/linear_model/_sag.py:350: ConvergenceWarning: The max_iter was reached which means the coef_ did not converge\n",
      "  warnings.warn(\n"
     ]
    },
    {
     "name": "stderr",
     "output_type": "stream",
     "text": [
      "/scratch/users/ijyliu/conda/envs/scf_general/lib/python3.11/site-packages/sklearn/linear_model/_sag.py:350: ConvergenceWarning: The max_iter was reached which means the coef_ did not converge\n",
      "  warnings.warn(\n"
     ]
    },
    {
     "name": "stderr",
     "output_type": "stream",
     "text": [
      "/scratch/users/ijyliu/conda/envs/scf_general/lib/python3.11/site-packages/sklearn/linear_model/_sag.py:350: ConvergenceWarning: The max_iter was reached which means the coef_ did not converge\n",
      "  warnings.warn(\n"
     ]
    },
    {
     "name": "stderr",
     "output_type": "stream",
     "text": [
      "/scratch/users/ijyliu/conda/envs/scf_general/lib/python3.11/site-packages/sklearn/linear_model/_sag.py:350: ConvergenceWarning: The max_iter was reached which means the coef_ did not converge\n",
      "  warnings.warn(\n"
     ]
    },
    {
     "name": "stderr",
     "output_type": "stream",
     "text": [
      "/scratch/users/ijyliu/conda/envs/scf_general/lib/python3.11/site-packages/sklearn/linear_model/_sag.py:350: ConvergenceWarning: The max_iter was reached which means the coef_ did not converge\n",
      "  warnings.warn(\n"
     ]
    },
    {
     "name": "stderr",
     "output_type": "stream",
     "text": [
      "/scratch/users/ijyliu/conda/envs/scf_general/lib/python3.11/site-packages/sklearn/linear_model/_sag.py:350: ConvergenceWarning: The max_iter was reached which means the coef_ did not converge\n",
      "  warnings.warn(\n"
     ]
    },
    {
     "name": "stderr",
     "output_type": "stream",
     "text": [
      "/scratch/users/ijyliu/conda/envs/scf_general/lib/python3.11/site-packages/sklearn/linear_model/_sag.py:350: ConvergenceWarning: The max_iter was reached which means the coef_ did not converge\n",
      "  warnings.warn(\n"
     ]
    },
    {
     "name": "stderr",
     "output_type": "stream",
     "text": [
      "/scratch/users/ijyliu/conda/envs/scf_general/lib/python3.11/site-packages/sklearn/linear_model/_sag.py:350: ConvergenceWarning: The max_iter was reached which means the coef_ did not converge\n",
      "  warnings.warn(\n"
     ]
    },
    {
     "name": "stderr",
     "output_type": "stream",
     "text": [
      "/scratch/users/ijyliu/conda/envs/scf_general/lib/python3.11/site-packages/sklearn/linear_model/_sag.py:350: ConvergenceWarning: The max_iter was reached which means the coef_ did not converge\n",
      "  warnings.warn(\n"
     ]
    },
    {
     "name": "stderr",
     "output_type": "stream",
     "text": [
      "/scratch/users/ijyliu/conda/envs/scf_general/lib/python3.11/site-packages/sklearn/linear_model/_sag.py:350: ConvergenceWarning: The max_iter was reached which means the coef_ did not converge\n",
      "  warnings.warn(\n"
     ]
    },
    {
     "name": "stderr",
     "output_type": "stream",
     "text": [
      "/scratch/users/ijyliu/conda/envs/scf_general/lib/python3.11/site-packages/sklearn/linear_model/_sag.py:350: ConvergenceWarning: The max_iter was reached which means the coef_ did not converge\n",
      "  warnings.warn(\n"
     ]
    },
    {
     "name": "stderr",
     "output_type": "stream",
     "text": [
      "/scratch/users/ijyliu/conda/envs/scf_general/lib/python3.11/site-packages/sklearn/linear_model/_sag.py:350: ConvergenceWarning: The max_iter was reached which means the coef_ did not converge\n",
      "  warnings.warn(\n"
     ]
    },
    {
     "name": "stderr",
     "output_type": "stream",
     "text": [
      "/scratch/users/ijyliu/conda/envs/scf_general/lib/python3.11/site-packages/sklearn/linear_model/_sag.py:350: ConvergenceWarning: The max_iter was reached which means the coef_ did not converge\n",
      "  warnings.warn(\n"
     ]
    },
    {
     "name": "stderr",
     "output_type": "stream",
     "text": [
      "/scratch/users/ijyliu/conda/envs/scf_general/lib/python3.11/site-packages/sklearn/linear_model/_sag.py:350: ConvergenceWarning: The max_iter was reached which means the coef_ did not converge\n",
      "  warnings.warn(\n"
     ]
    },
    {
     "name": "stderr",
     "output_type": "stream",
     "text": [
      "/scratch/users/ijyliu/conda/envs/scf_general/lib/python3.11/site-packages/sklearn/linear_model/_sag.py:350: ConvergenceWarning: The max_iter was reached which means the coef_ did not converge\n",
      "  warnings.warn(\n"
     ]
    },
    {
     "name": "stderr",
     "output_type": "stream",
     "text": [
      "/scratch/users/ijyliu/conda/envs/scf_general/lib/python3.11/site-packages/sklearn/linear_model/_sag.py:350: ConvergenceWarning: The max_iter was reached which means the coef_ did not converge\n",
      "  warnings.warn(\n"
     ]
    },
    {
     "name": "stderr",
     "output_type": "stream",
     "text": [
      "/scratch/users/ijyliu/conda/envs/scf_general/lib/python3.11/site-packages/sklearn/linear_model/_sag.py:350: ConvergenceWarning: The max_iter was reached which means the coef_ did not converge\n",
      "  warnings.warn(\n",
      "/scratch/users/ijyliu/conda/envs/scf_general/lib/python3.11/site-packages/sklearn/linear_model/_sag.py:350: ConvergenceWarning: The max_iter was reached which means the coef_ did not converge\n",
      "  warnings.warn(\n"
     ]
    },
    {
     "name": "stderr",
     "output_type": "stream",
     "text": [
      "/scratch/users/ijyliu/conda/envs/scf_general/lib/python3.11/site-packages/sklearn/linear_model/_sag.py:350: ConvergenceWarning: The max_iter was reached which means the coef_ did not converge\n",
      "  warnings.warn(\n"
     ]
    },
    {
     "name": "stderr",
     "output_type": "stream",
     "text": [
      "/scratch/users/ijyliu/conda/envs/scf_general/lib/python3.11/site-packages/sklearn/linear_model/_sag.py:350: ConvergenceWarning: The max_iter was reached which means the coef_ did not converge\n",
      "  warnings.warn(\n"
     ]
    },
    {
     "name": "stderr",
     "output_type": "stream",
     "text": [
      "/scratch/users/ijyliu/conda/envs/scf_general/lib/python3.11/site-packages/sklearn/linear_model/_sag.py:350: ConvergenceWarning: The max_iter was reached which means the coef_ did not converge\n",
      "  warnings.warn(\n"
     ]
    },
    {
     "name": "stderr",
     "output_type": "stream",
     "text": [
      "/scratch/users/ijyliu/conda/envs/scf_general/lib/python3.11/site-packages/sklearn/linear_model/_sag.py:350: ConvergenceWarning: The max_iter was reached which means the coef_ did not converge\n",
      "  warnings.warn(\n",
      "/scratch/users/ijyliu/conda/envs/scf_general/lib/python3.11/site-packages/sklearn/linear_model/_sag.py:350: ConvergenceWarning: The max_iter was reached which means the coef_ did not converge\n",
      "  warnings.warn(\n"
     ]
    },
    {
     "name": "stderr",
     "output_type": "stream",
     "text": [
      "/scratch/users/ijyliu/conda/envs/scf_general/lib/python3.11/site-packages/sklearn/linear_model/_sag.py:350: ConvergenceWarning: The max_iter was reached which means the coef_ did not converge\n",
      "  warnings.warn(\n"
     ]
    },
    {
     "name": "stderr",
     "output_type": "stream",
     "text": [
      "/scratch/users/ijyliu/conda/envs/scf_general/lib/python3.11/site-packages/sklearn/linear_model/_sag.py:350: ConvergenceWarning: The max_iter was reached which means the coef_ did not converge\n",
      "  warnings.warn(\n"
     ]
    },
    {
     "name": "stderr",
     "output_type": "stream",
     "text": [
      "/scratch/users/ijyliu/conda/envs/scf_general/lib/python3.11/site-packages/sklearn/linear_model/_sag.py:350: ConvergenceWarning: The max_iter was reached which means the coef_ did not converge\n",
      "  warnings.warn(\n"
     ]
    },
    {
     "name": "stderr",
     "output_type": "stream",
     "text": [
      "/scratch/users/ijyliu/conda/envs/scf_general/lib/python3.11/site-packages/sklearn/linear_model/_sag.py:350: ConvergenceWarning: The max_iter was reached which means the coef_ did not converge\n",
      "  warnings.warn(\n"
     ]
    },
    {
     "name": "stderr",
     "output_type": "stream",
     "text": [
      "/scratch/users/ijyliu/conda/envs/scf_general/lib/python3.11/site-packages/sklearn/linear_model/_sag.py:350: ConvergenceWarning: The max_iter was reached which means the coef_ did not converge\n",
      "  warnings.warn(\n",
      "/scratch/users/ijyliu/conda/envs/scf_general/lib/python3.11/site-packages/sklearn/linear_model/_sag.py:350: ConvergenceWarning: The max_iter was reached which means the coef_ did not converge\n",
      "  warnings.warn(\n"
     ]
    },
    {
     "name": "stderr",
     "output_type": "stream",
     "text": [
      "/scratch/users/ijyliu/conda/envs/scf_general/lib/python3.11/site-packages/sklearn/linear_model/_sag.py:350: ConvergenceWarning: The max_iter was reached which means the coef_ did not converge\n",
      "  warnings.warn(\n"
     ]
    },
    {
     "name": "stderr",
     "output_type": "stream",
     "text": [
      "/scratch/users/ijyliu/conda/envs/scf_general/lib/python3.11/site-packages/sklearn/linear_model/_sag.py:350: ConvergenceWarning: The max_iter was reached which means the coef_ did not converge\n",
      "  warnings.warn(\n"
     ]
    },
    {
     "name": "stderr",
     "output_type": "stream",
     "text": [
      "/scratch/users/ijyliu/conda/envs/scf_general/lib/python3.11/site-packages/sklearn/linear_model/_sag.py:350: ConvergenceWarning: The max_iter was reached which means the coef_ did not converge\n",
      "  warnings.warn(\n"
     ]
    },
    {
     "name": "stderr",
     "output_type": "stream",
     "text": [
      "/scratch/users/ijyliu/conda/envs/scf_general/lib/python3.11/site-packages/sklearn/linear_model/_sag.py:350: ConvergenceWarning: The max_iter was reached which means the coef_ did not converge\n",
      "  warnings.warn(\n"
     ]
    },
    {
     "name": "stderr",
     "output_type": "stream",
     "text": [
      "/scratch/users/ijyliu/conda/envs/scf_general/lib/python3.11/site-packages/sklearn/linear_model/_sag.py:350: ConvergenceWarning: The max_iter was reached which means the coef_ did not converge\n",
      "  warnings.warn(\n"
     ]
    },
    {
     "name": "stderr",
     "output_type": "stream",
     "text": [
      "/scratch/users/ijyliu/conda/envs/scf_general/lib/python3.11/site-packages/sklearn/linear_model/_sag.py:350: ConvergenceWarning: The max_iter was reached which means the coef_ did not converge\n",
      "  warnings.warn(\n"
     ]
    },
    {
     "name": "stderr",
     "output_type": "stream",
     "text": [
      "/scratch/users/ijyliu/conda/envs/scf_general/lib/python3.11/site-packages/sklearn/linear_model/_sag.py:350: ConvergenceWarning: The max_iter was reached which means the coef_ did not converge\n",
      "  warnings.warn(\n"
     ]
    },
    {
     "name": "stderr",
     "output_type": "stream",
     "text": [
      "/scratch/users/ijyliu/conda/envs/scf_general/lib/python3.11/site-packages/sklearn/linear_model/_sag.py:350: ConvergenceWarning: The max_iter was reached which means the coef_ did not converge\n",
      "  warnings.warn(\n"
     ]
    },
    {
     "name": "stderr",
     "output_type": "stream",
     "text": [
      "/scratch/users/ijyliu/conda/envs/scf_general/lib/python3.11/site-packages/sklearn/linear_model/_sag.py:350: ConvergenceWarning: The max_iter was reached which means the coef_ did not converge\n",
      "  warnings.warn(\n"
     ]
    },
    {
     "name": "stderr",
     "output_type": "stream",
     "text": [
      "/scratch/users/ijyliu/conda/envs/scf_general/lib/python3.11/site-packages/sklearn/linear_model/_sag.py:350: ConvergenceWarning: The max_iter was reached which means the coef_ did not converge\n",
      "  warnings.warn(\n"
     ]
    },
    {
     "name": "stderr",
     "output_type": "stream",
     "text": [
      "/scratch/users/ijyliu/conda/envs/scf_general/lib/python3.11/site-packages/sklearn/linear_model/_sag.py:350: ConvergenceWarning: The max_iter was reached which means the coef_ did not converge\n",
      "  warnings.warn(\n"
     ]
    },
    {
     "name": "stderr",
     "output_type": "stream",
     "text": [
      "/scratch/users/ijyliu/conda/envs/scf_general/lib/python3.11/site-packages/sklearn/linear_model/_sag.py:350: ConvergenceWarning: The max_iter was reached which means the coef_ did not converge\n",
      "  warnings.warn(\n"
     ]
    },
    {
     "name": "stderr",
     "output_type": "stream",
     "text": [
      "/scratch/users/ijyliu/conda/envs/scf_general/lib/python3.11/site-packages/sklearn/linear_model/_sag.py:350: ConvergenceWarning: The max_iter was reached which means the coef_ did not converge\n",
      "  warnings.warn(\n"
     ]
    },
    {
     "name": "stderr",
     "output_type": "stream",
     "text": [
      "/scratch/users/ijyliu/conda/envs/scf_general/lib/python3.11/site-packages/sklearn/linear_model/_sag.py:350: ConvergenceWarning: The max_iter was reached which means the coef_ did not converge\n",
      "  warnings.warn(\n"
     ]
    },
    {
     "name": "stderr",
     "output_type": "stream",
     "text": [
      "/scratch/users/ijyliu/conda/envs/scf_general/lib/python3.11/site-packages/sklearn/linear_model/_sag.py:350: ConvergenceWarning: The max_iter was reached which means the coef_ did not converge\n",
      "  warnings.warn(\n"
     ]
    },
    {
     "name": "stderr",
     "output_type": "stream",
     "text": [
      "/scratch/users/ijyliu/conda/envs/scf_general/lib/python3.11/site-packages/sklearn/linear_model/_sag.py:350: ConvergenceWarning: The max_iter was reached which means the coef_ did not converge\n",
      "  warnings.warn(\n"
     ]
    },
    {
     "name": "stderr",
     "output_type": "stream",
     "text": [
      "/scratch/users/ijyliu/conda/envs/scf_general/lib/python3.11/site-packages/sklearn/linear_model/_sag.py:350: ConvergenceWarning: The max_iter was reached which means the coef_ did not converge\n",
      "  warnings.warn(\n"
     ]
    },
    {
     "name": "stderr",
     "output_type": "stream",
     "text": [
      "/scratch/users/ijyliu/conda/envs/scf_general/lib/python3.11/site-packages/sklearn/linear_model/_sag.py:350: ConvergenceWarning: The max_iter was reached which means the coef_ did not converge\n",
      "  warnings.warn(\n"
     ]
    },
    {
     "name": "stderr",
     "output_type": "stream",
     "text": [
      "/scratch/users/ijyliu/conda/envs/scf_general/lib/python3.11/site-packages/sklearn/linear_model/_sag.py:350: ConvergenceWarning: The max_iter was reached which means the coef_ did not converge\n",
      "  warnings.warn(\n"
     ]
    },
    {
     "name": "stderr",
     "output_type": "stream",
     "text": [
      "/scratch/users/ijyliu/conda/envs/scf_general/lib/python3.11/site-packages/sklearn/linear_model/_sag.py:350: ConvergenceWarning: The max_iter was reached which means the coef_ did not converge\n",
      "  warnings.warn(\n"
     ]
    },
    {
     "name": "stderr",
     "output_type": "stream",
     "text": [
      "/scratch/users/ijyliu/conda/envs/scf_general/lib/python3.11/site-packages/sklearn/linear_model/_sag.py:350: ConvergenceWarning: The max_iter was reached which means the coef_ did not converge\n",
      "  warnings.warn(\n"
     ]
    },
    {
     "name": "stderr",
     "output_type": "stream",
     "text": [
      "/scratch/users/ijyliu/conda/envs/scf_general/lib/python3.11/site-packages/sklearn/linear_model/_sag.py:350: ConvergenceWarning: The max_iter was reached which means the coef_ did not converge\n",
      "  warnings.warn(\n"
     ]
    },
    {
     "name": "stderr",
     "output_type": "stream",
     "text": [
      "/scratch/users/ijyliu/conda/envs/scf_general/lib/python3.11/site-packages/sklearn/linear_model/_sag.py:350: ConvergenceWarning: The max_iter was reached which means the coef_ did not converge\n",
      "  warnings.warn(\n"
     ]
    },
    {
     "name": "stderr",
     "output_type": "stream",
     "text": [
      "/scratch/users/ijyliu/conda/envs/scf_general/lib/python3.11/site-packages/sklearn/linear_model/_sag.py:350: ConvergenceWarning: The max_iter was reached which means the coef_ did not converge\n",
      "  warnings.warn(\n"
     ]
    },
    {
     "name": "stderr",
     "output_type": "stream",
     "text": [
      "/scratch/users/ijyliu/conda/envs/scf_general/lib/python3.11/site-packages/sklearn/linear_model/_sag.py:350: ConvergenceWarning: The max_iter was reached which means the coef_ did not converge\n",
      "  warnings.warn(\n"
     ]
    },
    {
     "name": "stderr",
     "output_type": "stream",
     "text": [
      "/scratch/users/ijyliu/conda/envs/scf_general/lib/python3.11/site-packages/sklearn/linear_model/_sag.py:350: ConvergenceWarning: The max_iter was reached which means the coef_ did not converge\n",
      "  warnings.warn(\n"
     ]
    },
    {
     "name": "stderr",
     "output_type": "stream",
     "text": [
      "/scratch/users/ijyliu/conda/envs/scf_general/lib/python3.11/site-packages/sklearn/linear_model/_sag.py:350: ConvergenceWarning: The max_iter was reached which means the coef_ did not converge\n",
      "  warnings.warn(\n",
      "/scratch/users/ijyliu/conda/envs/scf_general/lib/python3.11/site-packages/sklearn/linear_model/_sag.py:350: ConvergenceWarning: The max_iter was reached which means the coef_ did not converge\n",
      "  warnings.warn(\n"
     ]
    },
    {
     "name": "stderr",
     "output_type": "stream",
     "text": [
      "/scratch/users/ijyliu/conda/envs/scf_general/lib/python3.11/site-packages/sklearn/linear_model/_sag.py:350: ConvergenceWarning: The max_iter was reached which means the coef_ did not converge\n",
      "  warnings.warn(\n"
     ]
    },
    {
     "name": "stderr",
     "output_type": "stream",
     "text": [
      "/scratch/users/ijyliu/conda/envs/scf_general/lib/python3.11/site-packages/sklearn/linear_model/_sag.py:350: ConvergenceWarning: The max_iter was reached which means the coef_ did not converge\n",
      "  warnings.warn(\n"
     ]
    },
    {
     "name": "stderr",
     "output_type": "stream",
     "text": [
      "/scratch/users/ijyliu/conda/envs/scf_general/lib/python3.11/site-packages/sklearn/linear_model/_sag.py:350: ConvergenceWarning: The max_iter was reached which means the coef_ did not converge\n",
      "  warnings.warn(\n"
     ]
    },
    {
     "name": "stderr",
     "output_type": "stream",
     "text": [
      "/scratch/users/ijyliu/conda/envs/scf_general/lib/python3.11/site-packages/sklearn/linear_model/_sag.py:350: ConvergenceWarning: The max_iter was reached which means the coef_ did not converge\n",
      "  warnings.warn(\n"
     ]
    },
    {
     "name": "stderr",
     "output_type": "stream",
     "text": [
      "/scratch/users/ijyliu/conda/envs/scf_general/lib/python3.11/site-packages/sklearn/linear_model/_sag.py:350: ConvergenceWarning: The max_iter was reached which means the coef_ did not converge\n",
      "  warnings.warn(\n"
     ]
    },
    {
     "name": "stderr",
     "output_type": "stream",
     "text": [
      "/scratch/users/ijyliu/conda/envs/scf_general/lib/python3.11/site-packages/sklearn/linear_model/_sag.py:350: ConvergenceWarning: The max_iter was reached which means the coef_ did not converge\n",
      "  warnings.warn(\n"
     ]
    },
    {
     "name": "stderr",
     "output_type": "stream",
     "text": [
      "/scratch/users/ijyliu/conda/envs/scf_general/lib/python3.11/site-packages/sklearn/linear_model/_sag.py:350: ConvergenceWarning: The max_iter was reached which means the coef_ did not converge\n",
      "  warnings.warn(\n"
     ]
    },
    {
     "name": "stderr",
     "output_type": "stream",
     "text": [
      "/scratch/users/ijyliu/conda/envs/scf_general/lib/python3.11/site-packages/sklearn/linear_model/_sag.py:350: ConvergenceWarning: The max_iter was reached which means the coef_ did not converge\n",
      "  warnings.warn(\n"
     ]
    },
    {
     "name": "stderr",
     "output_type": "stream",
     "text": [
      "/scratch/users/ijyliu/conda/envs/scf_general/lib/python3.11/site-packages/sklearn/linear_model/_sag.py:350: ConvergenceWarning: The max_iter was reached which means the coef_ did not converge\n",
      "  warnings.warn(\n"
     ]
    },
    {
     "name": "stderr",
     "output_type": "stream",
     "text": [
      "/scratch/users/ijyliu/conda/envs/scf_general/lib/python3.11/site-packages/sklearn/linear_model/_sag.py:350: ConvergenceWarning: The max_iter was reached which means the coef_ did not converge\n",
      "  warnings.warn(\n"
     ]
    },
    {
     "name": "stderr",
     "output_type": "stream",
     "text": [
      "/scratch/users/ijyliu/conda/envs/scf_general/lib/python3.11/site-packages/sklearn/linear_model/_sag.py:350: ConvergenceWarning: The max_iter was reached which means the coef_ did not converge\n",
      "  warnings.warn(\n"
     ]
    },
    {
     "name": "stderr",
     "output_type": "stream",
     "text": [
      "/scratch/users/ijyliu/conda/envs/scf_general/lib/python3.11/site-packages/sklearn/linear_model/_sag.py:350: ConvergenceWarning: The max_iter was reached which means the coef_ did not converge\n",
      "  warnings.warn(\n",
      "/scratch/users/ijyliu/conda/envs/scf_general/lib/python3.11/site-packages/sklearn/linear_model/_sag.py:350: ConvergenceWarning: The max_iter was reached which means the coef_ did not converge\n",
      "  warnings.warn(\n"
     ]
    },
    {
     "name": "stderr",
     "output_type": "stream",
     "text": [
      "/scratch/users/ijyliu/conda/envs/scf_general/lib/python3.11/site-packages/sklearn/linear_model/_sag.py:350: ConvergenceWarning: The max_iter was reached which means the coef_ did not converge\n",
      "  warnings.warn(\n"
     ]
    },
    {
     "name": "stderr",
     "output_type": "stream",
     "text": [
      "/scratch/users/ijyliu/conda/envs/scf_general/lib/python3.11/site-packages/sklearn/linear_model/_sag.py:350: ConvergenceWarning: The max_iter was reached which means the coef_ did not converge\n",
      "  warnings.warn(\n"
     ]
    },
    {
     "name": "stderr",
     "output_type": "stream",
     "text": [
      "/scratch/users/ijyliu/conda/envs/scf_general/lib/python3.11/site-packages/sklearn/linear_model/_sag.py:350: ConvergenceWarning: The max_iter was reached which means the coef_ did not converge\n",
      "  warnings.warn(\n"
     ]
    },
    {
     "name": "stderr",
     "output_type": "stream",
     "text": [
      "/scratch/users/ijyliu/conda/envs/scf_general/lib/python3.11/site-packages/sklearn/linear_model/_sag.py:350: ConvergenceWarning: The max_iter was reached which means the coef_ did not converge\n",
      "  warnings.warn(\n"
     ]
    },
    {
     "name": "stderr",
     "output_type": "stream",
     "text": [
      "/scratch/users/ijyliu/conda/envs/scf_general/lib/python3.11/site-packages/sklearn/linear_model/_sag.py:350: ConvergenceWarning: The max_iter was reached which means the coef_ did not converge\n",
      "  warnings.warn(\n"
     ]
    },
    {
     "name": "stderr",
     "output_type": "stream",
     "text": [
      "/scratch/users/ijyliu/conda/envs/scf_general/lib/python3.11/site-packages/sklearn/linear_model/_sag.py:350: ConvergenceWarning: The max_iter was reached which means the coef_ did not converge\n",
      "  warnings.warn(\n"
     ]
    },
    {
     "name": "stderr",
     "output_type": "stream",
     "text": [
      "/scratch/users/ijyliu/conda/envs/scf_general/lib/python3.11/site-packages/sklearn/linear_model/_sag.py:350: ConvergenceWarning: The max_iter was reached which means the coef_ did not converge\n",
      "  warnings.warn(\n"
     ]
    },
    {
     "name": "stderr",
     "output_type": "stream",
     "text": [
      "/scratch/users/ijyliu/conda/envs/scf_general/lib/python3.11/site-packages/sklearn/linear_model/_sag.py:350: ConvergenceWarning: The max_iter was reached which means the coef_ did not converge\n",
      "  warnings.warn(\n"
     ]
    },
    {
     "name": "stderr",
     "output_type": "stream",
     "text": [
      "/scratch/users/ijyliu/conda/envs/scf_general/lib/python3.11/site-packages/sklearn/linear_model/_sag.py:350: ConvergenceWarning: The max_iter was reached which means the coef_ did not converge\n",
      "  warnings.warn(\n"
     ]
    },
    {
     "name": "stderr",
     "output_type": "stream",
     "text": [
      "/scratch/users/ijyliu/conda/envs/scf_general/lib/python3.11/site-packages/sklearn/linear_model/_sag.py:350: ConvergenceWarning: The max_iter was reached which means the coef_ did not converge\n",
      "  warnings.warn(\n"
     ]
    },
    {
     "name": "stderr",
     "output_type": "stream",
     "text": [
      "/scratch/users/ijyliu/conda/envs/scf_general/lib/python3.11/site-packages/sklearn/linear_model/_sag.py:350: ConvergenceWarning: The max_iter was reached which means the coef_ did not converge\n",
      "  warnings.warn(\n"
     ]
    },
    {
     "name": "stderr",
     "output_type": "stream",
     "text": [
      "/scratch/users/ijyliu/conda/envs/scf_general/lib/python3.11/site-packages/sklearn/linear_model/_sag.py:350: ConvergenceWarning: The max_iter was reached which means the coef_ did not converge\n",
      "  warnings.warn(\n"
     ]
    },
    {
     "name": "stderr",
     "output_type": "stream",
     "text": [
      "/scratch/users/ijyliu/conda/envs/scf_general/lib/python3.11/site-packages/sklearn/linear_model/_sag.py:350: ConvergenceWarning: The max_iter was reached which means the coef_ did not converge\n",
      "  warnings.warn(\n"
     ]
    },
    {
     "name": "stderr",
     "output_type": "stream",
     "text": [
      "/scratch/users/ijyliu/conda/envs/scf_general/lib/python3.11/site-packages/sklearn/linear_model/_sag.py:350: ConvergenceWarning: The max_iter was reached which means the coef_ did not converge\n",
      "  warnings.warn(\n"
     ]
    },
    {
     "name": "stderr",
     "output_type": "stream",
     "text": [
      "/scratch/users/ijyliu/conda/envs/scf_general/lib/python3.11/site-packages/sklearn/linear_model/_sag.py:350: ConvergenceWarning: The max_iter was reached which means the coef_ did not converge\n",
      "  warnings.warn(\n"
     ]
    },
    {
     "name": "stderr",
     "output_type": "stream",
     "text": [
      "/scratch/users/ijyliu/conda/envs/scf_general/lib/python3.11/site-packages/sklearn/linear_model/_sag.py:350: ConvergenceWarning: The max_iter was reached which means the coef_ did not converge\n",
      "  warnings.warn(\n"
     ]
    },
    {
     "name": "stderr",
     "output_type": "stream",
     "text": [
      "/scratch/users/ijyliu/conda/envs/scf_general/lib/python3.11/site-packages/sklearn/linear_model/_sag.py:350: ConvergenceWarning: The max_iter was reached which means the coef_ did not converge\n",
      "  warnings.warn(\n"
     ]
    },
    {
     "name": "stderr",
     "output_type": "stream",
     "text": [
      "/scratch/users/ijyliu/conda/envs/scf_general/lib/python3.11/site-packages/sklearn/linear_model/_sag.py:350: ConvergenceWarning: The max_iter was reached which means the coef_ did not converge\n",
      "  warnings.warn(\n"
     ]
    },
    {
     "name": "stderr",
     "output_type": "stream",
     "text": [
      "/scratch/users/ijyliu/conda/envs/scf_general/lib/python3.11/site-packages/sklearn/linear_model/_sag.py:350: ConvergenceWarning: The max_iter was reached which means the coef_ did not converge\n",
      "  warnings.warn(\n"
     ]
    },
    {
     "name": "stdout",
     "output_type": "stream",
     "text": [
      "Tuned hyperparameters: {'C': 0.001, 'class_weight': None, 'l1_ratio': 0.0, 'multi_class': 'ovr', 'penalty': 'elasticnet', 'solver': 'saga'}\n",
      "Train accuracy of best model:  0.6848602988953866\n",
      "Best mean CV accuracy: 0.6773869306972475\n",
      "Coefficients: [[ 2.71716269e-02  5.45079713e-02 -4.54426100e-02 -2.13321610e-02\n",
      "  -4.36672015e-02  4.48865795e-02 -4.40769719e-02  9.95773013e-02\n",
      "   5.17249897e-02  2.29961326e-02 -6.28465046e-02  5.80292632e-02\n",
      "  -2.41514281e-02  4.29146654e-02 -2.91203427e-03 -2.67095722e-02\n",
      "  -3.62452123e-02 -1.01311300e-02 -3.82978607e-02 -2.91555959e-02\n",
      "   1.31611067e-03 -5.70179817e-03 -4.86413132e-02  3.46825174e-02\n",
      "   2.26380179e-03 -4.17821066e-02 -4.14979916e-02 -1.98210854e-03\n",
      "  -4.10848367e-02  1.73754347e-02  1.55385588e-02  2.89965662e-03\n",
      "  -1.82605695e-02 -3.51897311e-03  3.12766500e-02  5.22933531e-02\n",
      "  -1.71615312e-02 -1.15950250e-02 -2.42604126e-02  3.02951751e-02\n",
      "   2.91363210e-03 -1.20266774e-02  1.28814795e-02 -5.25041939e-03\n",
      "  -3.68257743e-02 -4.64122105e-02 -1.84734427e-02 -3.11427477e-02\n",
      "   5.59661946e-02  1.37370159e-02 -7.57080824e-02 -2.76540784e-02\n",
      "   8.54676104e-03  5.97218493e-03 -1.82016962e-02 -5.42443074e-02\n",
      "  -1.82016962e-02  7.07625188e-03  6.76244503e-03  1.13202864e-02\n",
      "   4.25357122e-02  3.13826697e-02 -6.41538937e-02 -5.42814996e-02\n",
      "   1.83650140e-03 -4.49727433e-02  5.38581346e-02  3.30915534e-02\n",
      "  -2.95964076e-02  2.85157559e-02 -1.01239023e-02  2.68539931e-02\n",
      "  -1.87949294e-02  3.55252761e-02  1.71246869e-02  4.44930028e-02\n",
      "   6.12891434e-02  9.67245124e-04 -4.74630924e-03 -9.53016966e-05\n",
      "  -4.14551256e-02  1.95875096e-02  4.58232793e-02  4.12905745e-02\n",
      "   7.63974070e-02 -3.40197811e-02 -5.66161907e-02 -1.01239023e-02\n",
      "   2.47416596e-02 -2.03140345e-02  1.19290848e-02  1.28357067e-02\n",
      "   3.81065819e-02  4.38723769e-02  6.53384289e-03 -2.75632893e-02\n",
      "  -1.93774332e-02  8.15001783e-03  4.20094483e-02  4.48798788e-02\n",
      "   1.49639920e-02 -5.05153288e-02  1.59590328e-02  2.22346787e-02\n",
      "   3.06205784e-02  3.44526962e-02  7.44291626e-03 -7.03397128e-03\n",
      "  -2.99329891e-03  2.25575163e-02  1.11246010e-02 -1.30931818e-02\n",
      "   3.14796430e-02  1.87153385e-02 -7.80431021e-02 -7.78800274e-02\n",
      "  -9.41197811e-03  2.08545089e-02 -8.89966641e-03  6.96300883e-03\n",
      "  -9.99627174e-02  2.04305674e-02 -3.47197559e-02  2.13713586e-02\n",
      "  -1.34763060e-01 -5.83254579e-02  1.07116162e-03  6.87281456e-03\n",
      "   3.45943986e-02 -3.48389652e-02 -2.66576446e-02 -3.27922822e-02\n",
      "  -3.25034102e-02 -1.29760019e-02  7.75199387e-04 -5.21856110e-03\n",
      "   2.99425727e-02 -6.89639995e-04 -9.79021100e-03 -6.47276638e-02\n",
      "  -2.61798635e-02 -3.29506187e-02  5.47512838e-02  3.13152267e-02\n",
      "   3.32604214e-02  3.08561890e-02 -6.78858563e-03 -4.93525268e-02\n",
      "   2.77174050e-03 -9.23192631e-03 -1.51912212e-02  1.95558890e-02\n",
      "   4.03767204e-03  2.87513596e-02  2.63718158e-02 -1.60608625e-02\n",
      "  -2.14667396e-02 -4.64154579e-02 -7.22131566e-02  1.12374459e-02\n",
      "   4.53256528e-02 -2.52880659e-02 -2.23750828e-02 -1.62066431e-02\n",
      "  -3.20143559e-02 -1.93415049e-03  3.11163307e-02 -2.49524746e-03\n",
      "  -4.43265273e-03]\n",
      " [-1.94058279e-02 -5.73183230e-02  5.62395088e-02  8.16506350e-03\n",
      "   5.84759373e-02 -4.49798908e-02  5.51745280e-02 -7.62964643e-02\n",
      "  -1.38029148e-02 -1.63030348e-02  3.74924477e-02 -4.94824570e-02\n",
      "   2.62709748e-02 -6.24186653e-02  2.22690700e-02  3.22667398e-02\n",
      "   1.13468904e-02  1.81251237e-02 -3.32037127e-02 -1.16014293e-02\n",
      "  -3.15325602e-02  5.16263533e-02  5.36166271e-02 -4.40610998e-02\n",
      "  -3.87077562e-03  3.01411638e-02  5.49308551e-02  1.80692543e-02\n",
      "   3.90837728e-02  1.93069201e-02 -1.23855633e-02 -2.69034081e-02\n",
      "   2.69676794e-02 -1.75556855e-03  1.64185870e-03  1.58862017e-02\n",
      "  -9.52932910e-03 -5.12676241e-02  2.12239426e-02 -3.21384761e-02\n",
      "  -3.35008675e-02  6.06328890e-03 -4.55600259e-02  2.36115160e-02\n",
      "   1.41329748e-02  5.92154305e-02  2.40217529e-02  3.79132901e-02\n",
      "  -5.90834047e-02 -8.53563550e-03  3.90907870e-02 -1.53675881e-02\n",
      "  -1.23169114e-02 -8.50946467e-03  2.63976472e-02  7.78154781e-02\n",
      "   2.63976472e-02  1.08393970e-02  7.70352759e-03  8.06662898e-03\n",
      "  -4.93723902e-02 -1.55262816e-02  8.25166603e-03 -1.33511145e-03\n",
      "  -4.99412441e-02  2.41715444e-02 -3.16909283e-03  7.23072308e-02\n",
      "   2.63295382e-02 -6.74601756e-03  3.74864780e-02 -3.16571490e-02\n",
      "   1.91622783e-03 -1.51107618e-02  6.59792309e-03 -4.80812892e-02\n",
      "  -2.98866527e-02  2.67176261e-03  2.97325698e-02 -3.82073068e-02\n",
      "   2.12735192e-02 -6.44497642e-02  2.89785918e-02  1.95470593e-02\n",
      "  -7.72068428e-02 -3.94470896e-03  4.63645412e-02  3.74864780e-02\n",
      "  -2.69953397e-02  2.02093911e-02  3.12283563e-03 -7.53610349e-03\n",
      "  -2.84333829e-02 -1.28031882e-02  2.25594778e-02  4.03223170e-02\n",
      "   7.19606556e-02 -3.45312121e-02 -4.09997082e-02 -1.20610491e-02\n",
      "   1.77073475e-03 -4.02497819e-02 -9.46912518e-03 -3.46740543e-02\n",
      "  -2.79538713e-02 -4.76421084e-02 -4.93261750e-03 -4.28842077e-03\n",
      "   3.71772970e-02 -4.45516054e-02 -1.70667255e-02 -9.18548956e-03\n",
      "  -4.37901997e-02 -3.69610797e-02  5.03304467e-02  5.22488348e-02\n",
      "   1.22698578e-02 -5.01155255e-02  2.69144663e-02 -6.37067118e-02\n",
      "   9.44229374e-02 -2.79310885e-02  7.30014943e-02 -1.02099693e-02\n",
      "   1.07348730e-01  3.25216210e-02 -2.59868446e-02 -6.75617468e-02\n",
      "  -4.61676499e-02 -8.77333666e-03  2.14192785e-02  1.00448937e-02\n",
      "   3.04696876e-02  4.05349600e-03 -2.13223424e-02 -5.37496286e-03\n",
      "   9.24114134e-03  2.53708568e-02 -3.94740112e-03  3.17660282e-02\n",
      "   2.91480318e-02 -1.45321218e-02 -5.07940348e-02  7.80021301e-03\n",
      "  -3.60682396e-02 -3.16233339e-02 -1.29358391e-02  3.01375545e-02\n",
      "   5.02761869e-03  4.87353801e-02  3.53946234e-02 -1.61180977e-02\n",
      "  -2.05235229e-02 -3.31458334e-02 -2.47216023e-02  1.26722975e-02\n",
      "  -2.34217757e-02  3.42367316e-02  4.08680986e-02  1.83958292e-02\n",
      "  -1.47547819e-02 -1.79102444e-03  8.96977663e-03 -2.49299416e-03\n",
      "  -2.02510599e-02 -1.96267989e-02  3.79951302e-03 -2.64001806e-02\n",
      "  -8.66943683e-04]\n",
      " [-5.29824565e-03  2.34176332e-02 -2.52859145e-02  1.36521632e-02\n",
      "  -2.50622407e-02  7.20835325e-03 -2.19393592e-02 -2.92285366e-03\n",
      "  -4.41142725e-02  1.02643144e-02  2.08130819e-02  1.02208449e-02\n",
      "  -4.51362527e-03  2.81409851e-02 -2.04115041e-02  9.22753097e-06\n",
      "   1.68502560e-02 -1.08265303e-02  6.40556791e-02  3.77481724e-02\n",
      "   3.18176427e-02 -5.68605481e-02 -1.45067152e-02  1.91928953e-02\n",
      "   1.01533162e-03  3.59460392e-03 -2.60189246e-02 -1.97872129e-02\n",
      "  -5.99425481e-03 -3.34881625e-02 -2.24691584e-03  2.93030841e-02\n",
      "  -1.44323118e-02  1.05407240e-04 -2.93031111e-02 -6.99599991e-02\n",
      "   3.55478515e-02  5.96934444e-02  3.29407920e-03  4.43363905e-03\n",
      "   3.71291627e-02  1.15051491e-02  3.94998432e-02 -1.78850318e-02\n",
      "   1.83033067e-02 -2.27152369e-02 -6.62132646e-03 -1.76183138e-02\n",
      "   2.42342485e-02  1.00066876e-02  1.73980944e-02  4.04387165e-02\n",
      "   5.54263777e-03  3.68927314e-03 -1.40234265e-02 -4.28368712e-02\n",
      "  -1.40234265e-02 -2.10400505e-02 -1.44214121e-02 -1.66226731e-02\n",
      "   1.55736829e-02 -1.34133542e-02  5.07764690e-02  4.91557699e-02\n",
      "   5.71232449e-02  1.92855375e-02 -4.91014767e-02 -1.15895935e-01\n",
      "  -1.42439523e-03 -1.81988779e-02 -3.09809439e-02  1.07980977e-02\n",
      "   1.68128454e-02 -1.00749071e-02 -2.82588372e-02  1.29795469e-02\n",
      "  -1.61646419e-02 -1.01699508e-02 -3.20279638e-02  4.38404013e-02\n",
      "   1.72092897e-02  6.14461564e-02 -7.31330318e-02 -5.79775492e-02\n",
      "   2.31251563e-02  2.95275857e-02 -4.23367372e-03 -3.09809439e-02\n",
      "   7.81107795e-03  1.66607451e-03 -1.88959733e-02 -5.84303275e-03\n",
      "  -9.89055747e-03 -2.53790154e-02 -3.37657295e-02 -1.69022847e-02\n",
      "  -7.20795788e-02  3.23506416e-02  9.63736753e-04 -3.18342916e-02\n",
      "  -1.91491255e-02  9.21482811e-02 -5.69377009e-03  1.41833648e-02\n",
      "   2.49517618e-05  2.88445453e-02  2.88085415e-03  3.04752623e-02\n",
      "  -3.96017071e-02  2.93967729e-02  2.40411689e-02  2.25200543e-02\n",
      "   1.91459346e-02  3.56190733e-02  4.22430432e-02  4.14061904e-02\n",
      "  -4.40174630e-03  3.78962533e-02 -1.49522442e-02  7.66131775e-02\n",
      "  -1.83641193e-02  1.04657293e-02 -6.86705356e-02  6.88705661e-03\n",
      "  -5.29362286e-03  1.62063345e-02  3.02020520e-02  7.18511728e-02\n",
      "   2.33450659e-02  5.11301659e-02  1.02952369e-03  1.82393838e-02\n",
      "   3.91753479e-03  9.06834303e-03  2.27394354e-02  6.84397568e-03\n",
      "  -4.08312674e-02 -3.21131698e-02  1.61324916e-02  3.78715614e-02\n",
      "  -8.05026278e-03  6.02110608e-02 -8.69700860e-04 -4.56098729e-02\n",
      "   1.41128499e-02  1.17618393e-02  2.83596191e-02 -5.12866657e-03\n",
      "  -1.58598118e-02 -6.60195870e-02 -2.30357341e-02 -3.09856428e-03\n",
      "   2.61326879e-02  1.34962981e-02  3.62382777e-03 -3.97736947e-04\n",
      "   4.98633394e-02  1.59525341e-03  2.27837818e-02 -3.35624881e-02\n",
      "  -3.31864545e-02  3.35853215e-02  1.80007485e-02  2.68657799e-02\n",
      "   5.43499221e-02  2.89543860e-02 -2.89008759e-02  3.39565764e-02\n",
      "   1.00659979e-02]]\n",
      "Corresponding class: [-1  0  1]\n"
     ]
    }
   ],
   "source": [
    "# Train model\n",
    "best_model = train_model_with_grid_search(X_train_sm, y_train_sm, model_name)"
   ]
  },
  {
   "cell_type": "code",
   "execution_count": 7,
   "metadata": {
    "execution": {
     "iopub.execute_input": "2024-05-02T05:43:28.218642Z",
     "iopub.status.busy": "2024-05-02T05:43:28.218187Z",
     "iopub.status.idle": "2024-05-02T05:43:28.364059Z",
     "shell.execute_reply": "2024-05-02T05:43:28.362687Z"
    }
   },
   "outputs": [
    {
     "name": "stdout",
     "output_type": "stream",
     "text": [
      "X_test_scaled shape\n",
      "(1118, 169)\n",
      "y_test shape\n",
      "(1118,)\n",
      "accuracy: 0.947227191413238\n",
      "share of correct predictions: 0.947227191413238\n",
      "assertion that they match:\n"
     ]
    }
   ],
   "source": [
    "# Get predictions\n",
    "get_model_predictions(best_model, X_test_scaled, y_test, custom_mapping, model_name, target_column, df)"
   ]
  }
 ],
 "metadata": {
  "kernelspec": {
   "display_name": "capstone",
   "language": "python",
   "name": "python3"
  },
  "language_info": {
   "codemirror_mode": {
    "name": "ipython",
    "version": 3
   },
   "file_extension": ".py",
   "mimetype": "text/x-python",
   "name": "python",
   "nbconvert_exporter": "python",
   "pygments_lexer": "ipython3",
   "version": "3.11.8"
  }
 },
 "nbformat": 4,
 "nbformat_minor": 2
}
