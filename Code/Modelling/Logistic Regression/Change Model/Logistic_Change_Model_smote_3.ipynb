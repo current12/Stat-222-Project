{
 "cells": [
  {
   "cell_type": "markdown",
   "metadata": {},
   "source": [
    "# Model 3\n"
   ]
  },
  {
   "cell_type": "code",
   "execution_count": 1,
   "metadata": {
    "execution": {
     "iopub.execute_input": "2024-05-02T06:49:42.255616Z",
     "iopub.status.busy": "2024-05-02T06:49:42.254373Z",
     "iopub.status.idle": "2024-05-02T06:49:43.533955Z",
     "shell.execute_reply": "2024-05-02T06:49:43.533038Z"
    }
   },
   "outputs": [],
   "source": [
    "# Packages\n",
    "import sys\n",
    "import os\n",
    "# Add the parent directory to sys.path\n",
    "sys.path.append(os.path.abspath('..'))\n",
    "# Import module\n",
    "from Logistic_Regression_Functions import *\n",
    "\n",
    "# Model name\n",
    "model_name = 'smote_rating_change_model_3'"
   ]
  },
  {
   "cell_type": "code",
   "execution_count": 2,
   "metadata": {
    "execution": {
     "iopub.execute_input": "2024-05-02T06:49:43.538697Z",
     "iopub.status.busy": "2024-05-02T06:49:43.538388Z",
     "iopub.status.idle": "2024-05-02T06:49:45.691610Z",
     "shell.execute_reply": "2024-05-02T06:49:45.690688Z"
    }
   },
   "outputs": [],
   "source": [
    "# Load the data\n",
    "df = load_data()"
   ]
  },
  {
   "cell_type": "code",
   "execution_count": 3,
   "metadata": {
    "execution": {
     "iopub.execute_input": "2024-05-02T06:49:45.694961Z",
     "iopub.status.busy": "2024-05-02T06:49:45.694631Z",
     "iopub.status.idle": "2024-05-02T06:49:45.975468Z",
     "shell.execute_reply": "2024-05-02T06:49:45.974764Z"
    }
   },
   "outputs": [],
   "source": [
    "# Get the column names and mapping\n",
    "numeric_feature_columns, cat_feature_columns, target_column, custom_mapping = get_column_names_and_mapping_change(model_name)"
   ]
  },
  {
   "cell_type": "code",
   "execution_count": 4,
   "metadata": {
    "execution": {
     "iopub.execute_input": "2024-05-02T06:49:45.979896Z",
     "iopub.status.busy": "2024-05-02T06:49:45.979710Z",
     "iopub.status.idle": "2024-05-02T06:49:46.059487Z",
     "shell.execute_reply": "2024-05-02T06:49:46.058709Z"
    }
   },
   "outputs": [
    {
     "name": "stdout",
     "output_type": "stream",
     "text": [
      "feature names: \n",
      "['num__EBIT' 'num__common_plus_preferred_stock' 'num__workingCapital'\n",
      " 'num__Ratio_A' 'num__Ratio_B' 'num__Ratio_C' 'num__Ratio_D'\n",
      " 'num__Ratio_E' 'num__Positiv' 'num__Negativ' 'num__Strong' 'num__Weak'\n",
      " 'num__Active' 'num__Passive' 'num__Ovrst' 'num__Undrst'\n",
      " 'num__cashAndCashEquivalents' 'num__shortTermInvestments'\n",
      " 'num__cashAndShortTermInvestments' 'num__netReceivables'\n",
      " 'num__inventory_balance_sheet' 'num__otherCurrentAssets'\n",
      " 'num__totalCurrentAssets' 'num__propertyPlantEquipmentNet'\n",
      " 'num__goodwill' 'num__intangibleAssets'\n",
      " 'num__goodwillAndIntangibleAssets' 'num__longTermInvestments'\n",
      " 'num__taxAssets' 'num__otherNonCurrentAssets'\n",
      " 'num__totalNonCurrentAssets' 'num__otherAssets' 'num__totalAssets'\n",
      " 'num__accountPayables' 'num__shortTermDebt' 'num__taxPayables'\n",
      " 'num__deferredRevenue' 'num__otherCurrentLiabilities'\n",
      " 'num__totalCurrentLiabilities' 'num__longTermDebt'\n",
      " 'num__deferredRevenueNonCurrent' 'num__deferredTaxLiabilitiesNonCurrent'\n",
      " 'num__otherNonCurrentLiabilities' 'num__totalNonCurrentLiabilities'\n",
      " 'num__otherLiabilities' 'num__capitalLeaseObligations'\n",
      " 'num__totalLiabilities' 'num__preferredStock' 'num__commonStock'\n",
      " 'num__retainedEarnings' 'num__accumulatedOtherComprehensiveIncomeLoss'\n",
      " 'num__othertotalStockholdersEquity' 'num__totalStockholdersEquity'\n",
      " 'num__totalEquity' 'num__totalLiabilitiesAndStockholdersEquity'\n",
      " 'num__minorityInterest' 'num__totalLiabilitiesAndTotalEquity'\n",
      " 'num__totalInvestments' 'num__totalDebt' 'num__netDebt'\n",
      " 'num__netIncome_cash_flow_statement'\n",
      " 'num__depreciationAndAmortization_cash_flow_statement'\n",
      " 'num__deferredIncomeTax' 'num__stockBasedCompensation'\n",
      " 'num__changeInWorkingCapital' 'num__accountsReceivables'\n",
      " 'num__inventory_cash_flow_statement' 'num__accountsPayables'\n",
      " 'num__otherWorkingCapital' 'num__otherNonCashItems'\n",
      " 'num__netCashProvidedByOperatingActivities'\n",
      " 'num__investmentsInPropertyPlantAndEquipment' 'num__acquisitionsNet'\n",
      " 'num__purchasesOfInvestments' 'num__salesMaturitiesOfInvestments'\n",
      " 'num__otherInvestingActivites' 'num__netCashUsedForInvestingActivites'\n",
      " 'num__debtRepayment' 'num__commonStockIssued'\n",
      " 'num__commonStockRepurchased' 'num__dividendsPaid'\n",
      " 'num__otherFinancingActivites'\n",
      " 'num__netCashUsedProvidedByFinancingActivities'\n",
      " 'num__effectOfForexChangesOnCash' 'num__netChangeInCash'\n",
      " 'num__cashAtEndOfPeriod' 'num__cashAtBeginningOfPeriod'\n",
      " 'num__operatingCashFlow' 'num__capitalExpenditure' 'num__freeCashFlow'\n",
      " 'num__revenue' 'num__costOfRevenue' 'num__grossProfit'\n",
      " 'num__grossProfitRatio' 'num__researchAndDevelopmentExpenses'\n",
      " 'num__generalAndAdministrativeExpenses'\n",
      " 'num__sellingAndMarketingExpenses'\n",
      " 'num__sellingGeneralAndAdministrativeExpenses' 'num__otherExpenses'\n",
      " 'num__operatingExpenses' 'num__costAndExpenses' 'num__interestIncome'\n",
      " 'num__interestExpense'\n",
      " 'num__depreciationAndAmortization_income_statement' 'num__ebitda'\n",
      " 'num__ebitdaratio' 'num__operatingIncome' 'num__operatingIncomeRatio'\n",
      " 'num__totalOtherIncomeExpensesNet' 'num__incomeBeforeTax'\n",
      " 'num__incomeBeforeTaxRatio' 'num__incomeTaxExpense'\n",
      " 'num__netIncome_income_statement' 'num__netIncomeRatio' 'num__eps'\n",
      " 'num__epsdiluted' 'num__weightedAverageShsOut'\n",
      " 'num__weightedAverageShsOutDil' 'num__marketCap' 'num__num_transparency'\n",
      " 'num__gf_score' 'num__word_count' 'num__tone' 'num__num_q_by_len'\n",
      " 'num__pos_score_finbert' 'num__Ratio_A_diff' 'num__Ratio_B_diff'\n",
      " 'num__Ratio_C_diff' 'num__Ratio_D_diff' 'num__Ratio_E_diff'\n",
      " 'num__grossProfitRatio_diff' 'num__ebitdaratio_diff'\n",
      " 'num__operatingIncomeRatio_diff' 'num__incomeBeforeTaxRatio_diff'\n",
      " 'num__netIncomeRatio_diff' 'num__currentRatio' 'num__quickRatio'\n",
      " 'num__cashRatio' 'num__returnOnAssets' 'num__returnOnEquity'\n",
      " 'num__returnOnCapitalEmployed' 'num__EBITtoRevenue' 'num__debtRatio'\n",
      " 'num__debtRatioAlt' 'num__debtEquityRatio' 'num__equityMultiplier'\n",
      " 'num__enterpriseValueMultiplier' 'num__operatingCashFlowPerShare'\n",
      " 'num__freeCashFlowPerShare' 'num__cashPerShare'\n",
      " 'num__operatingCashFlowToSales' 'num__freeCashFlowToOperatingCashFlow'\n",
      " 'num__currentRatio_diff' 'num__quickRatio_diff' 'num__cashRatio_diff'\n",
      " 'num__returnOnAssets_diff' 'num__returnOnEquity_diff'\n",
      " 'num__returnOnCapitalEmployed_diff' 'num__EBITtoRevenue_diff'\n",
      " 'num__debtRatio_diff' 'num__debtRatioAlt_diff'\n",
      " 'num__debtEquityRatio_diff' 'num__equityMultiplier_diff'\n",
      " 'num__enterpriseValueMultiplier_diff'\n",
      " 'num__operatingCashFlowPerShare_diff' 'num__freeCashFlowPerShare_diff'\n",
      " 'num__cashPerShare_diff' 'num__operatingCashFlowToSales_diff'\n",
      " 'num__freeCashFlowToOperatingCashFlow_diff'\n",
      " 'cat__Sector_Communication Services' 'cat__Sector_Consumer Discretionary'\n",
      " 'cat__Sector_Consumer Staples' 'cat__Sector_Energy'\n",
      " 'cat__Sector_Financials' 'cat__Sector_Health Care'\n",
      " 'cat__Sector_Industrials' 'cat__Sector_Information Technology'\n",
      " 'cat__Sector_Materials' 'cat__Sector_Real Estate' 'cat__Sector_Utilities']\n"
     ]
    }
   ],
   "source": [
    "# Create matrices\n",
    "X_train_scaled, X_test_scaled, y_train, y_test, _ = prepare_matrices(df, numeric_feature_columns, cat_feature_columns, target_column, custom_mapping)"
   ]
  },
  {
   "cell_type": "code",
   "execution_count": 5,
   "metadata": {
    "execution": {
     "iopub.execute_input": "2024-05-02T06:49:46.105696Z",
     "iopub.status.busy": "2024-05-02T06:49:46.105439Z",
     "iopub.status.idle": "2024-05-02T06:49:46.371027Z",
     "shell.execute_reply": "2024-05-02T06:49:46.370467Z"
    }
   },
   "outputs": [
    {
     "name": "stdout",
     "output_type": "stream",
     "text": [
      "{-1: 100, 0: 4156, 1: 135}\n",
      "{-1: 2000, 0: 4156, 1: 2000}\n"
     ]
    }
   ],
   "source": [
    "#SMOTE\n",
    "from imblearn.over_sampling import SMOTE\n",
    "unique, count = np.unique(y_train, return_counts=True)\n",
    "dict_value_count = {k:v for (k, v) in zip(unique, count)}\n",
    "print(dict_value_count)\n",
    "sm = SMOTE(sampling_strategy={-1:2000, 1: 2000})\n",
    "X_train_sm, y_train_sm = sm.fit_resample(X_train_scaled, y_train)\n",
    "unique, count = np.unique(y_train_sm, return_counts=True)\n",
    "dict_value_count = {k:v for (k, v) in zip(unique, count)}\n",
    "print(dict_value_count)"
   ]
  },
  {
   "cell_type": "code",
   "execution_count": 6,
   "metadata": {
    "execution": {
     "iopub.execute_input": "2024-05-02T06:49:46.373983Z",
     "iopub.status.busy": "2024-05-02T06:49:46.373135Z",
     "iopub.status.idle": "2024-05-02T07:00:54.740162Z",
     "shell.execute_reply": "2024-05-02T07:00:54.739482Z"
    }
   },
   "outputs": [
    {
     "name": "stdout",
     "output_type": "stream",
     "text": [
      "Tuned hyperparameters: {'C': 1, 'class_weight': None, 'multi_class': 'multinomial', 'penalty': None, 'solver': 'saga'}\n",
      "Train accuracy of best model:  0.7056154977930358\n",
      "Best mean CV accuracy: 0.6402627252617785\n",
      "Coefficients: [[ 1.47979498e-01  9.81366775e-02  1.10323892e-01  1.25106277e-01\n",
      "  -2.24596067e-01  2.55401674e-01  7.00119912e-02  5.18104241e-01\n",
      "   9.00284912e-01 -2.45748022e-01 -1.01209654e+00  6.35737818e-01\n",
      "  -5.25814581e-01  3.48040400e-01 -1.35642428e-01 -8.30533128e-01\n",
      "  -3.91502899e-01 -1.96358974e-01 -2.84709114e-01 -1.61022806e-01\n",
      "   2.49153964e-01 -6.47051242e-02 -2.91398620e-01  1.22474145e-01\n",
      "   3.98819395e-01 -1.84703502e-01 -9.22127299e-02  8.69418626e-03\n",
      "  -2.43113731e-01  3.28894899e-02  4.36293133e-01  3.41936120e-04\n",
      "  -8.32720003e-02  1.63680864e-01  1.40073051e-01  3.99757203e-01\n",
      "  -1.29875267e-02  8.43520932e-02 -4.88651435e-01  8.01439820e-01\n",
      "  -4.02867533e-03 -1.05698705e-01 -1.60389227e-01  9.24470316e-01\n",
      "  -3.89128765e-01 -1.59491790e+00 -1.20674627e+00 -1.25153712e-02\n",
      "   9.88084094e-02 -4.38973077e-01 -1.61288919e-01 -1.94453382e-01\n",
      "   2.90439074e-01 -6.89661621e-02  6.45036810e-02 -2.49702851e-01\n",
      "   6.45036810e-02 -7.89248665e-03 -7.81753538e-03 -8.02446383e-01\n",
      "   4.77856861e-01  2.98959716e-01 -2.23409261e-01 -4.23972760e-01\n",
      "   1.02769728e-02 -3.43969420e-02  1.68628292e-01  2.07006616e-01\n",
      "  -2.93418279e-01  1.02489837e-01  2.12997943e-01  1.39185698e-01\n",
      "  -6.80496659e-02  1.50551656e-01  3.31561632e-01 -5.11794671e-02\n",
      "   3.23119130e-01 -1.41906201e-02  6.27969874e-02 -7.13558261e-02\n",
      "  -2.37251638e-01  5.68384635e-02  2.78273603e-01  1.48567080e-01\n",
      "  -6.28927478e-03  5.02926709e-03 -4.72257936e-02  2.12997943e-01\n",
      "  -2.78647023e-02 -5.69634233e-01  3.10194364e-01  1.75886355e-02\n",
      "   3.77012881e-01  2.24375257e-01  1.60858802e-01 -5.38141641e-02\n",
      "   1.00916037e-01  2.32382254e-01  3.53468868e-01  2.15084586e-01\n",
      "  -3.00292468e-02 -2.23193416e-01 -5.13829764e-02 -2.13673171e-01\n",
      "   5.83787773e-02  7.00530111e-01 -4.91160353e-01 -2.09386688e-01\n",
      "   2.13541845e-02  1.92496380e-01  5.83418644e-01 -2.23819870e-02\n",
      "  -1.27892026e-01  2.38246667e-02 -2.79316961e-01 -1.97891334e-01\n",
      "  -3.26966146e-01  3.44016337e-01 -1.48204168e-01 -9.77944661e-02\n",
      "  -4.38680515e-01  8.50109315e-01  1.85356845e-01 -1.15844746e-01\n",
      "  -3.78472958e-01  1.35512973e-01 -1.16201729e-02 -9.78980493e-02\n",
      "   1.29434064e-01 -1.12339397e-01 -1.30583900e-01 -3.43860172e-01\n",
      "  -9.61687944e-02 -2.80218505e-01  2.27106265e-01 -4.21065005e-01\n",
      "   5.39545450e-01 -9.56887120e-02 -1.64823353e-01 -2.81972257e-01\n",
      "  -1.59311162e-01 -6.26230867e-01  3.67973593e-01  2.12348202e-01\n",
      "   1.12390917e-01  1.19738924e-01 -3.31885363e-01 -3.71436769e-01\n",
      "   4.49090983e-01  1.20287110e-01 -2.66307564e-01  1.21367837e-01\n",
      "  -1.34637007e-01  1.80347199e-01  4.62180006e-02  1.36238991e-01\n",
      "   2.57511027e-02 -7.59256497e-04 -2.74108958e-01 -1.33898920e-01\n",
      "   1.08522089e-01 -3.64030824e-01  1.85890547e-01  6.93274707e-02\n",
      "  -4.52353831e-01  3.83218605e-02 -7.78118951e-02  2.78625545e-01\n",
      "  -1.87422101e-01 -7.01987002e-02  4.81455281e-01  3.15471131e-01\n",
      "   4.55884062e-01 -1.24462411e+00 -3.02048472e-01 -3.57416873e-01\n",
      "   4.37620448e-01  7.90314614e-01 -2.15083496e+00  2.88340076e-01]\n",
      " [-1.28832693e-02 -1.20275153e-01  2.47518471e-01 -5.06357302e-01\n",
      "   5.24049865e-03 -1.32368829e-01  3.14280382e-02 -2.87325788e-01\n",
      "  -1.49007066e-01  1.60951088e-01  3.42040203e-01 -2.39381244e-01\n",
      "   4.15892390e-01 -1.23170820e-01  3.95538485e-01  6.04271488e-01\n",
      "   3.77531005e-02  7.84555391e-02 -3.59915352e-01 -2.83225340e-01\n",
      "  -2.92008278e-01  2.03698889e-01  3.94217819e-01 -4.07268510e-01\n",
      "  -2.38109300e-01  5.69882358e-02  2.23624411e-01  6.28991734e-02\n",
      "   3.73342978e-01  1.56044021e-01 -3.20083528e-01 -6.56217789e-01\n",
      "   3.81455857e-01 -1.37969020e-01 -2.28738504e-02  2.02942229e-02\n",
      "   2.50512041e-02 -1.86886875e-01  3.05005510e-01 -7.22301827e-01\n",
      "  -6.71913375e-02  7.37282550e-02 -1.07328612e-01  3.35170823e-01\n",
      "   6.30324129e-01  8.79184982e-01 -2.32917065e-02  1.11238314e-01\n",
      "  -1.25400080e-01  1.02358105e-01  1.05628840e-01 -1.12532861e-01\n",
      "  -1.19531622e-01  3.17488992e-02  1.16672217e-01  2.80702503e-01\n",
      "   1.16672217e-01  9.65639898e-02  3.50617591e-01  4.35183376e-01\n",
      "  -3.79338858e-01 -8.49541222e-03 -2.51579228e-02  3.63741083e-02\n",
      "  -4.03178104e-01  6.98644489e-02  1.86974659e-03  1.49789439e-01\n",
      "   3.28692917e-01 -7.04312133e-02  2.15172405e-01 -4.12469555e-01\n",
      "  -6.96388488e-03 -2.76572516e-02 -8.63376335e-02 -1.91709701e-02\n",
      "   1.11708146e-02 -9.05981486e-02  6.26598412e-03 -2.52013560e-02\n",
      "  -3.19617697e-02 -1.79605068e-01  6.35719790e-02  6.18803655e-02\n",
      "  -4.21225632e-02 -3.49333087e-01  4.25808292e-01  2.15172405e-01\n",
      "   2.83782858e-01  1.50593495e-01  3.29924696e-01 -4.90716506e-02\n",
      "  -5.68973209e-01  4.21925616e-02  4.04979255e-02  1.02076135e-01\n",
      "   1.12768038e-01 -2.69936953e-01 -2.14987421e-01 -3.11388806e-02\n",
      "   6.18307270e-02 -9.03169121e-02 -8.08242370e-02 -2.67665265e-01\n",
      "  -9.77649447e-02 -3.46547157e-01  3.60638269e-01  1.47310795e-01\n",
      "   2.05596554e-02 -6.12445408e-01  1.16087791e-01  1.56576912e-01\n",
      "   2.50131196e-01 -4.56962896e-01  3.59998137e-02 -1.24475423e-02\n",
      "   1.22471587e+00 -1.01794287e+00  5.09214758e-01 -7.49107563e-02\n",
      "   2.50077966e-01 -1.27975240e+00  5.24720114e-02  8.57217923e-02\n",
      "   2.30994210e-01  2.64101980e-04  1.63741011e-02 -3.28592983e-01\n",
      "  -9.97847937e-02  4.35992156e-03  1.17855758e-01  6.37356001e-02\n",
      "   1.53391824e-01  1.67148756e-01 -3.19375465e-01  1.69124541e-01\n",
      "  -2.27215401e-01  1.20277433e-01  8.78662325e-02  1.50372812e-01\n",
      "   6.79140408e-01 -1.43797847e-01 -3.08957965e-01  3.18414820e-03\n",
      "   2.30435444e-01 -4.16709822e-01 -4.06739936e-03  8.29772054e-02\n",
      "  -1.09268126e-01  3.77182287e-01  3.59308131e-01 -7.40011119e-02\n",
      "   2.52306332e-02 -4.67525987e-02 -8.49847845e-02  1.06353285e-01\n",
      "  -1.35788097e-01 -1.27026406e-01  1.89402174e-01  1.55311575e-01\n",
      "  -1.45156414e-01 -1.14241760e-01  1.61601299e-01 -1.18068969e-02\n",
      "  -1.78926046e-01  1.69682784e-01  1.96262469e-02 -1.69221911e-01\n",
      "   5.18961938e-02  2.61481464e-01 -3.41232475e-01 -4.55966820e-01\n",
      "   2.39477091e-03  5.56485512e-01  6.52654562e-01  1.10496051e-01\n",
      "   1.46967688e-01 -1.65215810e-01  1.11422543e+00 -1.91038617e-01]\n",
      " [-1.35096229e-01  2.21384755e-02 -3.57842363e-01  3.81251025e-01\n",
      "   2.19355568e-01 -1.23032845e-01 -1.01440029e-01 -2.30778453e-01\n",
      "  -7.51277846e-01  8.47969340e-02  6.70056336e-01 -3.96356573e-01\n",
      "   1.09922190e-01 -2.24869580e-01 -2.59896057e-01  2.26261640e-01\n",
      "   3.53749799e-01  1.17903435e-01  6.44624466e-01  4.44248146e-01\n",
      "   4.28543143e-02 -1.38993764e-01 -1.02819199e-01  2.84794365e-01\n",
      "  -1.60710095e-01  1.27715266e-01 -1.31411681e-01 -7.15933596e-02\n",
      "  -1.30229248e-01 -1.88933510e-01 -1.16209604e-01  6.55875853e-01\n",
      "  -2.98183857e-01 -2.57118441e-02 -1.17199201e-01 -4.20051426e-01\n",
      "  -1.20636774e-02  1.02534781e-01  1.83645925e-01 -7.91379924e-02\n",
      "   7.12200128e-02  3.19704503e-02  2.67717838e-01 -1.25964114e+00\n",
      "  -2.41195363e-01  7.15732914e-01  1.23003798e+00 -9.87229427e-02\n",
      "   2.65916710e-02  3.36614972e-01  5.56600799e-02  3.06986243e-01\n",
      "  -1.70907453e-01  3.72172629e-02 -1.81175898e-01 -3.09996518e-02\n",
      "  -1.81175898e-01 -8.86715032e-02 -3.42800055e-01  3.67263007e-01\n",
      "  -9.85180024e-02 -2.90464304e-01  2.48567184e-01  3.87598652e-01\n",
      "   3.92901132e-01 -3.54675069e-02 -1.70498039e-01 -3.56796055e-01\n",
      "  -3.52746372e-02 -3.20586235e-02 -4.28170348e-01  2.73283858e-01\n",
      "   7.50135508e-02 -1.22894404e-01 -2.45223999e-01  7.03504372e-02\n",
      "  -3.34289945e-01  1.04788769e-01 -6.90629715e-02  9.65571821e-02\n",
      "   2.69213408e-01  1.22766604e-01 -3.41845582e-01 -2.10447445e-01\n",
      "   4.84118380e-02  3.44303820e-01 -3.78582499e-01 -4.28170348e-01\n",
      "  -2.55918156e-01  4.19040737e-01 -6.40119061e-01  3.14830150e-02\n",
      "   1.91960328e-01 -2.66567818e-01 -2.01356727e-01 -4.82619711e-02\n",
      "  -2.13684075e-01  3.75546992e-02 -1.38481447e-01 -1.83945706e-01\n",
      "  -3.18014803e-02  3.13510328e-01  1.32207213e-01  4.81338436e-01\n",
      "   3.93861674e-02 -3.53982954e-01  1.30522083e-01  6.20758927e-02\n",
      "  -4.19138399e-02  4.19949028e-01 -6.99506435e-01 -1.34194925e-01\n",
      "  -1.22239169e-01  4.33138230e-01  2.43317148e-01  2.10338876e-01\n",
      "  -8.97749719e-01  6.73926537e-01 -3.61010589e-01  1.72705222e-01\n",
      "   1.88602549e-01  4.29643086e-01 -2.37828856e-01  3.01229536e-02\n",
      "   1.47478748e-01 -1.35777075e-01 -4.75392819e-03  4.26491032e-01\n",
      "  -2.96492699e-02  1.07979475e-01  1.27281423e-02  2.80124572e-01\n",
      "  -5.72230294e-02  1.13069749e-01  9.22691999e-02  2.51940465e-01\n",
      "  -3.12330050e-01 -2.45887208e-02  7.69571201e-02  1.31599445e-01\n",
      "  -5.19829246e-01  7.70028713e-01 -5.90156274e-02 -2.15532350e-01\n",
      "  -3.42826361e-01  2.96970897e-01  3.35952763e-01  2.88459564e-01\n",
      "  -3.39822857e-01 -4.97469397e-01 -9.30005665e-02 -4.73667254e-02\n",
      "   1.09406373e-01 -1.33594600e-01  3.87667839e-02 -2.42592275e-01\n",
      "   1.10036994e-01  1.27785662e-01  8.47067848e-02 -2.14126544e-02\n",
      "   3.66343249e-02  4.78272584e-01 -3.47491847e-01 -5.75205738e-02\n",
      "   6.31279877e-01 -2.08004644e-01  5.81856482e-02 -1.09403635e-01\n",
      "   1.35525907e-01 -1.91282764e-01 -1.40222806e-01  1.40495689e-01\n",
      "  -4.58278833e-01  6.88138602e-01 -3.50606090e-01  2.46920822e-01\n",
      "  -5.84588136e-01 -6.25098804e-01  1.03660952e+00 -9.73014590e-02]]\n",
      "Corresponding class: [-1  0  1]\n"
     ]
    }
   ],
   "source": [
    "# Train model\n",
    "best_model = train_model_with_grid_search(X_train_sm, y_train_sm, model_name)"
   ]
  },
  {
   "cell_type": "code",
   "execution_count": 7,
   "metadata": {
    "execution": {
     "iopub.execute_input": "2024-05-02T07:00:54.744513Z",
     "iopub.status.busy": "2024-05-02T07:00:54.744052Z",
     "iopub.status.idle": "2024-05-02T07:00:54.903425Z",
     "shell.execute_reply": "2024-05-02T07:00:54.902472Z"
    }
   },
   "outputs": [
    {
     "name": "stdout",
     "output_type": "stream",
     "text": [
      "X_test_scaled shape\n",
      "(1118, 180)\n",
      "y_test shape\n",
      "(1118,)\n",
      "accuracy: 0.7164579606440071\n",
      "share of correct predictions: 0.7164579606440071\n",
      "assertion that they match:\n"
     ]
    }
   ],
   "source": [
    "# Get predictions\n",
    "get_model_predictions(best_model, X_test_scaled, y_test, custom_mapping, model_name, target_column, df)"
   ]
  },
  {
   "cell_type": "code",
   "execution_count": 8,
   "metadata": {},
   "outputs": [
    {
     "name": "stdout",
     "output_type": "stream",
     "text": [
      "{'accuracy': 0.7164579606440071, 'f1_score': 0.8016944597891342, 'majority_baseline': 0.9534883720930233}\n",
      "Share of predictions exactly as the actual: 71.65%\n",
      "Share of predictions 1 or fewer ratings away from actual: 98.93%\n",
      "classification report:\n",
      "                                         precision    recall  f1-score   support\n",
      "\n",
      "Downgrade Since Last Fixed Quarter Date     0.0156    0.1000    0.0270        20\n",
      "        Same As Last Fixed Quarter Date     0.9590    0.7458    0.8391      1066\n",
      "  Upgrade Since Last Fixed Quarter Date     0.0248    0.1250    0.0415        32\n",
      "\n",
      "                               accuracy                         0.7165      1118\n",
      "                              macro avg     0.3332    0.3236    0.3025      1118\n",
      "                           weighted avg     0.9154    0.7165    0.8017      1118\n",
      "\n",
      "counts of y_test values\n",
      "Change Direction Since Last Fixed Quarter Date\n",
      "Same As Last Fixed Quarter Date            1066\n",
      "Upgrade Since Last Fixed Quarter Date        32\n",
      "Downgrade Since Last Fixed Quarter Date      20\n",
      "Name: count, dtype: int64\n",
      "start of y_pred\n",
      "smote_rating_change_model_3_predictions\n",
      "Same As Last Fixed Quarter Date            829\n",
      "Upgrade Since Last Fixed Quarter Date      161\n",
      "Downgrade Since Last Fixed Quarter Date    128\n",
      "Name: count, dtype: int64\n",
      "sorted custom mapping\n",
      "{'Downgrade Since Last Fixed Quarter Date': -1, 'Same As Last Fixed Quarter Date': 0, 'Upgrade Since Last Fixed Quarter Date': 1}\n",
      "label;  Downgrade Since Last Fixed Quarter Date\n",
      "label;  Same As Last Fixed Quarter Date\n",
      "label;  Upgrade Since Last Fixed Quarter Date\n",
      "actual labels\n",
      "['Downgrade', 'Same', 'Upgrade']\n"
     ]
    },
    {
     "data": {
      "image/png": "[encoded data removed]",
      "text/plain": [
       "<Figure size 1000x800 with 2 Axes>"
      ]
     },
     "metadata": {},
     "output_type": "display_data"
    }
   ],
   "source": [
    "create_model_figure_and_table_components(model_name, target_column, custom_mapping)"
   ]
  }
 ],
 "metadata": {
  "kernelspec": {
   "display_name": "capstone",
   "language": "python",
   "name": "python3"
  },
  "language_info": {
   "codemirror_mode": {
    "name": "ipython",
    "version": 3
   },
   "file_extension": ".py",
   "mimetype": "text/x-python",
   "name": "python",
   "nbconvert_exporter": "python",
   "pygments_lexer": "ipython3",
   "version": "3.12.3"
  }
 },
 "nbformat": 4,
 "nbformat_minor": 2
}
