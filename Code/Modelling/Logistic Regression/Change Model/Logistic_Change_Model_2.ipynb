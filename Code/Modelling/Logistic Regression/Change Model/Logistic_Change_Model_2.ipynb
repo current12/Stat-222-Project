{
 "cells": [
  {
   "cell_type": "markdown",
   "metadata": {},
   "source": [
    "# Model 2\n"
   ]
  },
  {
   "cell_type": "code",
   "execution_count": 1,
   "metadata": {
    "execution": {
     "iopub.execute_input": "2024-04-29T04:49:05.132871Z",
     "iopub.status.busy": "2024-04-29T04:49:05.132619Z",
     "iopub.status.idle": "2024-04-29T04:49:07.128900Z",
     "shell.execute_reply": "2024-04-29T04:49:07.128491Z"
    }
   },
   "outputs": [],
   "source": [
    "# Import module\n",
    "from Logistic_Change_Functions import *\n",
    "# Model name\n",
    "model_name = 'rating_change_model_2'"
   ]
  },
  {
   "cell_type": "code",
   "execution_count": 2,
   "metadata": {
    "execution": {
     "iopub.execute_input": "2024-04-29T04:49:07.131948Z",
     "iopub.status.busy": "2024-04-29T04:49:07.131149Z",
     "iopub.status.idle": "2024-04-29T04:49:09.888619Z",
     "shell.execute_reply": "2024-04-29T04:49:09.888213Z"
    }
   },
   "outputs": [],
   "source": [
    "# Load the data\n",
    "df = load_data()"
   ]
  },
  {
   "cell_type": "code",
   "execution_count": 3,
   "metadata": {
    "execution": {
     "iopub.execute_input": "2024-04-29T04:49:09.891553Z",
     "iopub.status.busy": "2024-04-29T04:49:09.890888Z",
     "iopub.status.idle": "2024-04-29T04:49:10.271297Z",
     "shell.execute_reply": "2024-04-29T04:49:10.270893Z"
    }
   },
   "outputs": [],
   "source": [
    "# Get the column names and mapping\n",
    "numeric_feature_columns, cat_feature_columns, target_column, custom_mapping = get_column_names_and_mapping(model_name)"
   ]
  },
  {
   "cell_type": "code",
   "execution_count": 7,
   "metadata": {
    "execution": {
     "iopub.execute_input": "2024-04-29T04:49:10.274140Z",
     "iopub.status.busy": "2024-04-29T04:49:10.273431Z",
     "iopub.status.idle": "2024-04-29T04:49:10.330339Z",
     "shell.execute_reply": "2024-04-29T04:49:10.329816Z"
    }
   },
   "outputs": [
    {
     "name": "stdout",
     "output_type": "stream",
     "text": [
      "feature names: \n",
      "['num__EBIT' 'num__common_plus_preferred_stock' 'num__workingCapital'\n",
      " 'num__Ratio_A' 'num__Ratio_B' 'num__Ratio_C' 'num__Ratio_D'\n",
      " 'num__Ratio_E' 'num__cashAndCashEquivalents' 'num__shortTermInvestments'\n",
      " 'num__cashAndShortTermInvestments' 'num__netReceivables'\n",
      " 'num__inventory_balance_sheet' 'num__otherCurrentAssets'\n",
      " 'num__totalCurrentAssets' 'num__propertyPlantEquipmentNet'\n",
      " 'num__goodwill' 'num__intangibleAssets'\n",
      " 'num__goodwillAndIntangibleAssets' 'num__longTermInvestments'\n",
      " 'num__taxAssets' 'num__otherNonCurrentAssets'\n",
      " 'num__totalNonCurrentAssets' 'num__otherAssets' 'num__totalAssets'\n",
      " 'num__accountPayables' 'num__shortTermDebt' 'num__taxPayables'\n",
      " 'num__deferredRevenue' 'num__otherCurrentLiabilities'\n",
      " 'num__totalCurrentLiabilities' 'num__longTermDebt'\n",
      " 'num__deferredRevenueNonCurrent' 'num__deferredTaxLiabilitiesNonCurrent'\n",
      " 'num__otherNonCurrentLiabilities' 'num__totalNonCurrentLiabilities'\n",
      " 'num__otherLiabilities' 'num__capitalLeaseObligations'\n",
      " 'num__totalLiabilities' 'num__preferredStock' 'num__commonStock'\n",
      " 'num__retainedEarnings' 'num__accumulatedOtherComprehensiveIncomeLoss'\n",
      " 'num__othertotalStockholdersEquity' 'num__totalStockholdersEquity'\n",
      " 'num__totalEquity' 'num__totalLiabilitiesAndStockholdersEquity'\n",
      " 'num__minorityInterest' 'num__totalLiabilitiesAndTotalEquity'\n",
      " 'num__totalInvestments' 'num__totalDebt' 'num__netDebt'\n",
      " 'num__netIncome_cash_flow_statement'\n",
      " 'num__depreciationAndAmortization_cash_flow_statement'\n",
      " 'num__deferredIncomeTax' 'num__stockBasedCompensation'\n",
      " 'num__changeInWorkingCapital' 'num__accountsReceivables'\n",
      " 'num__inventory_cash_flow_statement' 'num__accountsPayables'\n",
      " 'num__otherWorkingCapital' 'num__otherNonCashItems'\n",
      " 'num__netCashProvidedByOperatingActivities'\n",
      " 'num__investmentsInPropertyPlantAndEquipment' 'num__acquisitionsNet'\n",
      " 'num__purchasesOfInvestments' 'num__salesMaturitiesOfInvestments'\n",
      " 'num__otherInvestingActivites' 'num__netCashUsedForInvestingActivites'\n",
      " 'num__debtRepayment' 'num__commonStockIssued'\n",
      " 'num__commonStockRepurchased' 'num__dividendsPaid'\n",
      " 'num__otherFinancingActivites'\n",
      " 'num__netCashUsedProvidedByFinancingActivities'\n",
      " 'num__effectOfForexChangesOnCash' 'num__netChangeInCash'\n",
      " 'num__cashAtEndOfPeriod' 'num__cashAtBeginningOfPeriod'\n",
      " 'num__operatingCashFlow' 'num__capitalExpenditure' 'num__freeCashFlow'\n",
      " 'num__revenue' 'num__costOfRevenue' 'num__grossProfit'\n",
      " 'num__grossProfitRatio' 'num__researchAndDevelopmentExpenses'\n",
      " 'num__generalAndAdministrativeExpenses'\n",
      " 'num__sellingAndMarketingExpenses'\n",
      " 'num__sellingGeneralAndAdministrativeExpenses' 'num__otherExpenses'\n",
      " 'num__operatingExpenses' 'num__costAndExpenses' 'num__interestIncome'\n",
      " 'num__interestExpense'\n",
      " 'num__depreciationAndAmortization_income_statement' 'num__ebitda'\n",
      " 'num__ebitdaratio' 'num__operatingIncome' 'num__operatingIncomeRatio'\n",
      " 'num__totalOtherIncomeExpensesNet' 'num__incomeBeforeTax'\n",
      " 'num__incomeBeforeTaxRatio' 'num__incomeTaxExpense'\n",
      " 'num__netIncome_income_statement' 'num__netIncomeRatio' 'num__eps'\n",
      " 'num__epsdiluted' 'num__weightedAverageShsOut'\n",
      " 'num__weightedAverageShsOutDil' 'num__marketCap' 'num__Ratio_A_diff'\n",
      " 'num__Ratio_B_diff' 'num__Ratio_C_diff' 'num__Ratio_D_diff'\n",
      " 'num__Ratio_E_diff' 'num__grossProfitRatio_diff' 'num__ebitdaratio_diff'\n",
      " 'num__operatingIncomeRatio_diff' 'num__incomeBeforeTaxRatio_diff'\n",
      " 'num__netIncomeRatio_diff']\n"
     ]
    }
   ],
   "source": [
    "# Create matrices\n",
    "X_train_scaled, X_test_scaled, y_train, y_test, _ = prepare_matrices(df, numeric_feature_columns, cat_feature_columns, target_column, custom_mapping)"
   ]
  },
  {
   "cell_type": "code",
   "execution_count": 8,
   "metadata": {
    "execution": {
     "iopub.execute_input": "2024-04-29T04:49:10.342853Z",
     "iopub.status.busy": "2024-04-29T04:49:10.342670Z",
     "iopub.status.idle": "2024-04-29T05:01:57.535968Z",
     "shell.execute_reply": "2024-04-29T05:01:57.535585Z"
    }
   },
   "outputs": [
    {
     "name": "stdout",
     "output_type": "stream",
     "text": [
      "Tuned hyperparameters: {'C': 0.001, 'class_weight': None, 'l1_ratio': 0.0, 'multi_class': 'ovr', 'penalty': 'elasticnet', 'solver': 'saga'}\n",
      "Best mean CV accuracy: 0.9474643189574931\n",
      "Coefficients: [[ 3.74284137e-03  1.20563363e-02 -6.49721107e-03 -1.20290640e-02\n",
      "  -9.58344271e-03  7.64014396e-03 -7.63610325e-04  1.18085384e-02\n",
      "  -4.60128230e-03  3.99021056e-03 -5.48023637e-03  7.95994268e-03\n",
      "   8.34227378e-03 -8.24865748e-04 -5.99343624e-04  6.53430372e-03\n",
      "   7.30127537e-03 -3.31360025e-03 -1.41208807e-03 -8.52694849e-03\n",
      "   2.72066118e-03  8.96477367e-03  4.00294697e-03 -7.04682239e-04\n",
      "   6.29735197e-05  1.09415423e-03  1.06899821e-02  1.01333457e-02\n",
      "   7.45366279e-03  4.33699980e-03  5.06693864e-03  5.76471274e-03\n",
      "   1.18861335e-02  7.49001001e-03  4.93933697e-03 -2.83334081e-04\n",
      "  -9.16916705e-04 -2.85639541e-03 -7.72870690e-04 -4.01540868e-03\n",
      "   1.22463196e-02  8.45395050e-03 -1.56989145e-02 -1.05171169e-02\n",
      "   1.67390107e-03  1.06626341e-03  7.18898351e-05 -5.87352667e-03\n",
      "   7.18898351e-05  3.51893323e-03  2.50531562e-03 -2.67988981e-03\n",
      "   5.04211243e-03  8.67984182e-03 -2.08597566e-02 -1.71601223e-04\n",
      "  -6.25531782e-03 -8.85876324e-03 -2.82304019e-03  3.64977384e-03\n",
      "   9.34031180e-05  2.09432928e-02 -1.74189100e-03 -1.84885258e-03\n",
      "  -1.70889074e-03  9.34543164e-03 -9.52098778e-05  4.53547400e-03\n",
      "   5.89820113e-04 -1.21309416e-02 -1.54049089e-04 -1.78280482e-02\n",
      "  -6.68838996e-03  1.03299755e-02 -1.12970187e-02  1.28447327e-02\n",
      "   1.46529115e-02 -4.43363130e-03 -8.39319709e-03 -1.74189100e-03\n",
      "  -2.36741174e-03 -1.37140558e-02  1.73232392e-03 -5.01430692e-03\n",
      "   8.69699640e-03  6.70560655e-03 -5.48135418e-03 -6.62229990e-03\n",
      "  -1.00870595e-02  1.33448756e-02  1.58701374e-02  8.32255254e-03\n",
      "  -2.61481477e-04  1.59766492e-02  6.27468076e-03  9.67290449e-03\n",
      "   6.27425159e-03  8.51310899e-03 -6.04915654e-03 -9.58814678e-03\n",
      "  -1.82638540e-02  2.17316038e-05 -6.62725957e-03 -1.01372024e-02\n",
      "   1.76948555e-03 -6.27222634e-03 -2.65227484e-02 -2.66248771e-02\n",
      "   1.30478142e-03  1.11896405e-02  5.84585338e-03 -2.26633528e-02\n",
      "   8.13799728e-03  6.38571369e-03  2.00017058e-02  1.20190394e-02\n",
      "  -6.35767709e-03 -1.21894840e-02 -1.13629956e-02 -7.20810582e-03\n",
      "  -6.52065826e-03]\n",
      " [-2.54246662e-03 -9.32526072e-03  1.42723032e-02  7.29101249e-04\n",
      "   8.01173023e-03 -1.20521014e-02 -8.08363190e-03 -1.76629048e-02\n",
      "   7.24774246e-03  3.42995031e-03 -1.33718981e-02 -6.56552640e-03\n",
      "  -2.75758502e-02  5.69971828e-03  8.20922668e-03 -1.67856745e-02\n",
      "   5.19136898e-04  1.08736621e-02  1.36006862e-02  5.89368375e-03\n",
      "   1.39748781e-03 -1.25516544e-02 -7.56461524e-03 -1.08316353e-02\n",
      "   9.92326325e-04 -5.39898447e-04 -6.35429656e-03  3.26059025e-03\n",
      "  -1.46772546e-02 -1.66300164e-02 -1.78502812e-03 -1.43487812e-02\n",
      "  -2.40848089e-02 -1.61282573e-02 -5.70470276e-03  2.32206669e-03\n",
      "  -9.59978491e-03  6.36691340e-03  2.75234973e-04  9.42384139e-03\n",
      "  -9.75891481e-03 -1.56302977e-03  1.06710766e-02  1.23738872e-02\n",
      "   6.29473737e-03  7.48468814e-03  9.64599809e-04  7.47203866e-03\n",
      "   9.64599809e-04 -6.38982362e-03 -7.52720463e-03  3.61532145e-03\n",
      "  -7.71409729e-03 -4.72713373e-03  1.06197444e-02 -6.65580436e-03\n",
      "  -3.65904300e-03  9.71508989e-03  1.27097989e-02  2.03408626e-02\n",
      "   1.56773102e-03 -1.82529881e-02  1.29120914e-02  7.42733050e-03\n",
      "  -1.48024678e-02 -8.92301561e-03  5.01235931e-03 -4.42754610e-04\n",
      "  -1.63008526e-03  2.51460218e-02  5.33066652e-03  1.03191846e-02\n",
      "   4.44990270e-03 -2.13816791e-02  2.92048748e-02 -5.16557000e-04\n",
      "  -2.83702157e-02  1.36841167e-03  1.85285884e-02  1.29120914e-02\n",
      "   8.64271586e-03  1.10351645e-02  1.26503628e-03  1.05413907e-02\n",
      "  -5.77525913e-03 -9.19607499e-03  1.65700423e-02  9.08480664e-03\n",
      "   2.05463595e-02 -2.09049411e-02 -3.28288203e-02 -7.84665885e-03\n",
      "   4.10499887e-03 -3.26098998e-02 -3.38278385e-03 -9.42932352e-03\n",
      "  -5.16031855e-03 -1.90755516e-02  8.62557510e-03  4.03246405e-03\n",
      "   3.21035209e-02 -5.34499093e-03  1.63120772e-03  2.68118425e-03\n",
      "  -6.37282727e-03 -3.51503902e-03  1.50922571e-02  1.53386650e-02\n",
      "   5.54763716e-03 -1.48675238e-02 -7.43953110e-03  1.81714251e-02\n",
      "  -1.31408264e-02 -1.96502389e-02 -2.16525905e-02 -2.25689600e-02\n",
      "   5.23808582e-03  4.30498174e-03  1.01629309e-02  2.90839314e-03\n",
      "  -4.68140398e-03]\n",
      " [ 4.57967348e-05  4.97707942e-04 -1.07222978e-02  1.01652980e-02\n",
      "   3.59426574e-04  6.71154866e-03  7.12538803e-03  8.69766793e-03\n",
      "  -2.75554649e-03 -6.19686197e-03  2.01561895e-02  2.50281121e-03\n",
      "   2.34198026e-02 -3.80476408e-03 -6.83957382e-03  1.41244454e-02\n",
      "  -4.88016722e-03 -8.18928529e-03 -1.21338164e-02  3.55093376e-03\n",
      "  -1.12462114e-03  6.52751381e-03  7.42521902e-03  1.35186569e-02\n",
      "   1.41969286e-03  9.03171170e-04 -7.99413195e-04 -1.12279610e-02\n",
      "   1.03759202e-02  1.73588147e-02  4.29546541e-04  1.16852395e-02\n",
      "   1.59616308e-02  1.22695769e-02  4.48076693e-03  1.40309483e-03\n",
      "   1.30659344e-02 -3.43341025e-03  3.51053599e-03 -6.14796071e-03\n",
      "   7.77018015e-04 -4.11509864e-03  2.48695288e-03 -3.22008035e-03\n",
      "  -7.28254635e-03 -7.92107621e-03  1.45304995e-03 -1.66289580e-03\n",
      "   1.45304995e-03  5.13046841e-03  8.56561917e-03  1.25905703e-03\n",
      "   3.45731645e-03 -9.03419778e-04  9.24435028e-03  9.61325071e-03\n",
      "   9.89310446e-03 -2.10791969e-03 -1.18774725e-02 -2.55255613e-02\n",
      "  -2.23494895e-03  8.54301566e-04 -1.05965334e-02 -8.20872053e-03\n",
      "   1.70568490e-02  2.70157549e-05 -5.08186764e-03 -3.26271227e-03\n",
      "   2.16949337e-04 -1.67738093e-02 -4.91757236e-03  5.00622339e-03\n",
      "   8.31022405e-04  1.46820152e-02 -2.03404418e-02 -1.14039336e-02\n",
      "   1.57144847e-02  3.01293918e-03 -1.05546663e-02 -1.05965334e-02\n",
      "  -8.91742650e-03  2.76588261e-03 -6.84747557e-04 -4.93875314e-03\n",
      "  -4.50758324e-04  4.70798437e-03 -1.26129219e-02 -2.01345770e-03\n",
      "  -1.22837548e-02  1.05642145e-02  1.93225869e-02  2.72865983e-03\n",
      "  -1.89103957e-03  2.15347315e-02 -5.60199844e-04  3.21334578e-03\n",
      "   1.04933765e-03  1.20528637e-02 -1.63469389e-03  7.12796383e-03\n",
      "  -1.86126850e-02  6.03803714e-03  5.78257175e-03  8.39665735e-03\n",
      "   5.40208499e-03  1.07884761e-02  1.30708087e-02  1.29936674e-02\n",
      "  -3.85073398e-03  7.20395763e-03  6.62563538e-03  1.62040439e-03\n",
      "   5.91741933e-03  1.53155571e-02  3.85683929e-03  1.32882907e-02\n",
      "   1.61455453e-05  5.99985658e-03  1.10455469e-03  3.55893682e-03\n",
      "   1.08402555e-02]]\n",
      "Corresponding class: [-1  0  1]\n"
     ]
    }
   ],
   "source": [
    "# Train model\n",
    "best_model = train_model_with_grid_search(X_train_scaled, y_train, model_name)"
   ]
  },
  {
   "cell_type": "code",
   "execution_count": 9,
   "metadata": {
    "execution": {
     "iopub.execute_input": "2024-04-29T05:01:57.538607Z",
     "iopub.status.busy": "2024-04-29T05:01:57.537943Z",
     "iopub.status.idle": "2024-04-29T05:01:57.632655Z",
     "shell.execute_reply": "2024-04-29T05:01:57.632286Z"
    }
   },
   "outputs": [
    {
     "name": "stdout",
     "output_type": "stream",
     "text": [
      "X_test_scaled shape\n",
      "(1092, 121)\n",
      "y_test shape\n",
      "(1092,)\n",
      "accuracy: 0.9496336996336996\n",
      "share of correct predictions: 0.9496336996336996\n",
      "assertion that they match:\n"
     ]
    }
   ],
   "source": [
    "# Get predictions\n",
    "get_model_predictions(best_model, X_test_scaled, y_test, custom_mapping, model_name, target_column, df)"
   ]
  }
 ],
 "metadata": {
  "kernelspec": {
   "display_name": "capstone",
   "language": "python",
   "name": "python3"
  },
  "language_info": {
   "codemirror_mode": {
    "name": "ipython",
    "version": 3
   },
   "file_extension": ".py",
   "mimetype": "text/x-python",
   "name": "python",
   "nbconvert_exporter": "python",
   "pygments_lexer": "ipython3",
   "version": "3.12.3"
  }
 },
 "nbformat": 4,
 "nbformat_minor": 2
}
