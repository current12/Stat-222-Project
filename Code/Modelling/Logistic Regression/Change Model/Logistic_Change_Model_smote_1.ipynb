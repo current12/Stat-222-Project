{
 "cells": [
  {
   "cell_type": "markdown",
   "metadata": {},
   "source": [
    "# Model 1\n"
   ]
  },
  {
   "cell_type": "code",
   "execution_count": 1,
   "metadata": {
    "execution": {
     "iopub.execute_input": "2024-05-02T06:42:57.370839Z",
     "iopub.status.busy": "2024-05-02T06:42:57.370315Z",
     "iopub.status.idle": "2024-05-02T06:42:59.418253Z",
     "shell.execute_reply": "2024-05-02T06:42:59.417839Z"
    }
   },
   "outputs": [],
   "source": [
    "# Packages\n",
    "import sys\n",
    "import os\n",
    "# Add the parent directory to sys.path\n",
    "sys.path.append(os.path.abspath('..'))\n",
    "# Import module\n",
    "from Logistic_Regression_Functions import *\n",
    "\n",
    "# Model name\n",
    "model_name = 'smote_rating_change_model_1'"
   ]
  },
  {
   "cell_type": "code",
   "execution_count": 2,
   "metadata": {
    "execution": {
     "iopub.execute_input": "2024-05-02T06:42:59.421173Z",
     "iopub.status.busy": "2024-05-02T06:42:59.420434Z",
     "iopub.status.idle": "2024-05-02T06:43:00.709594Z",
     "shell.execute_reply": "2024-05-02T06:43:00.709177Z"
    }
   },
   "outputs": [],
   "source": [
    "# Load the data\n",
    "df = load_data()"
   ]
  },
  {
   "cell_type": "code",
   "execution_count": 3,
   "metadata": {
    "execution": {
     "iopub.execute_input": "2024-05-02T06:43:00.712532Z",
     "iopub.status.busy": "2024-05-02T06:43:00.711864Z",
     "iopub.status.idle": "2024-05-02T06:43:01.002510Z",
     "shell.execute_reply": "2024-05-02T06:43:01.002104Z"
    }
   },
   "outputs": [],
   "source": [
    "# Get the column names and mapping\n",
    "numeric_feature_columns, cat_feature_columns, target_column, custom_mapping = get_column_names_and_mapping_change(model_name)"
   ]
  },
  {
   "cell_type": "code",
   "execution_count": 4,
   "metadata": {
    "execution": {
     "iopub.execute_input": "2024-05-02T06:43:01.005323Z",
     "iopub.status.busy": "2024-05-02T06:43:01.004660Z",
     "iopub.status.idle": "2024-05-02T06:43:01.042321Z",
     "shell.execute_reply": "2024-05-02T06:43:01.041816Z"
    }
   },
   "outputs": [
    {
     "name": "stdout",
     "output_type": "stream",
     "text": [
      "feature names: \n",
      "['num__Altman_Z' 'num__Altman_Z_diff']\n"
     ]
    }
   ],
   "source": [
    "# Create matrices\n",
    "X_train_scaled, X_test_scaled, y_train, y_test, _ = prepare_matrices(df, numeric_feature_columns, cat_feature_columns, target_column, custom_mapping)"
   ]
  },
  {
   "cell_type": "code",
   "execution_count": 5,
   "metadata": {
    "execution": {
     "iopub.execute_input": "2024-05-02T06:43:01.056462Z",
     "iopub.status.busy": "2024-05-02T06:43:01.056281Z",
     "iopub.status.idle": "2024-05-02T06:43:01.234860Z",
     "shell.execute_reply": "2024-05-02T06:43:01.234490Z"
    }
   },
   "outputs": [
    {
     "name": "stdout",
     "output_type": "stream",
     "text": [
      "{-1: 100, 0: 4156, 1: 135}\n",
      "{-1: 1000, 0: 4156, 1: 1000}\n"
     ]
    }
   ],
   "source": [
    "from imblearn.over_sampling import SMOTE\n",
    "unique, count = np.unique(y_train, return_counts=True)\n",
    "dict_value_count = {k:v for (k, v) in zip(unique, count)}\n",
    "print(dict_value_count)\n",
    "sm = SMOTE(sampling_strategy={-1:1000, 1: 1000})\n",
    "X_train_sm, y_train_sm = sm.fit_resample(X_train_scaled, y_train)\n",
    "unique, count = np.unique(y_train_sm, return_counts=True)\n",
    "dict_value_count = {k:v for (k, v) in zip(unique, count)}\n",
    "print(dict_value_count)"
   ]
  },
  {
   "cell_type": "code",
   "execution_count": 6,
   "metadata": {
    "execution": {
     "iopub.execute_input": "2024-05-02T06:43:01.237567Z",
     "iopub.status.busy": "2024-05-02T06:43:01.236825Z",
     "iopub.status.idle": "2024-05-02T06:43:01.242826Z",
     "shell.execute_reply": "2024-05-02T06:43:01.242472Z"
    }
   },
   "outputs": [
    {
     "data": {
      "text/plain": [
       "0.2940844275024707"
      ]
     },
     "execution_count": 6,
     "metadata": {},
     "output_type": "execute_result"
    }
   ],
   "source": [
    "4166/(10000+4166)"
   ]
  },
  {
   "cell_type": "code",
   "execution_count": 7,
   "metadata": {
    "execution": {
     "iopub.execute_input": "2024-05-02T06:43:01.245257Z",
     "iopub.status.busy": "2024-05-02T06:43:01.244601Z",
     "iopub.status.idle": "2024-05-02T06:43:07.920850Z",
     "shell.execute_reply": "2024-05-02T06:43:07.920479Z"
    }
   },
   "outputs": [
    {
     "name": "stdout",
     "output_type": "stream",
     "text": [
      "Tuned hyperparameters: {'C': 0.001, 'class_weight': None, 'l1_ratio': 0.0, 'multi_class': 'ovr', 'penalty': 'elasticnet', 'solver': 'saga'}\n",
      "Train accuracy of best model:  0.6751137102014295\n",
      "Best mean CV accuracy: 0.6751136759260236\n",
      "Coefficients: [[-0.00299336 -0.04094964]\n",
      " [-0.05906144 -0.01627431]\n",
      " [ 0.07776741  0.06241605]]\n",
      "Corresponding class: [-1  0  1]\n"
     ]
    }
   ],
   "source": [
    "# Train model\n",
    "best_model = train_model_with_grid_search(X_train_sm, y_train_sm, model_name)"
   ]
  },
  {
   "cell_type": "code",
   "execution_count": 8,
   "metadata": {
    "execution": {
     "iopub.execute_input": "2024-05-02T06:43:07.923446Z",
     "iopub.status.busy": "2024-05-02T06:43:07.922781Z",
     "iopub.status.idle": "2024-05-02T06:43:08.015708Z",
     "shell.execute_reply": "2024-05-02T06:43:08.015332Z"
    }
   },
   "outputs": [
    {
     "name": "stdout",
     "output_type": "stream",
     "text": [
      "X_test_scaled shape\n",
      "(1118, 2)\n",
      "y_test shape\n",
      "(1118,)\n",
      "accuracy: 0.9534883720930233\n",
      "share of correct predictions: 0.9534883720930233\n",
      "assertion that they match:\n"
     ]
    }
   ],
   "source": [
    "# Get predictions\n",
    "get_model_predictions(best_model, X_test_scaled, y_test, custom_mapping, model_name, target_column, df)"
   ]
  }
 ],
 "metadata": {
  "kernelspec": {
   "display_name": "capstone",
   "language": "python",
   "name": "python3"
  },
  "language_info": {
   "codemirror_mode": {
    "name": "ipython",
    "version": 3
   },
   "file_extension": ".py",
   "mimetype": "text/x-python",
   "name": "python",
   "nbconvert_exporter": "python",
   "pygments_lexer": "ipython3",
   "version": "3.11.8"
  }
 },
 "nbformat": 4,
 "nbformat_minor": 2
}
