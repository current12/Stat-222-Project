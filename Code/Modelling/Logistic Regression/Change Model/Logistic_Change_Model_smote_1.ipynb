{
 "cells": [
  {
   "cell_type": "markdown",
   "metadata": {},
   "source": [
    "# Model 1\n"
   ]
  },
  {
   "cell_type": "code",
   "execution_count": 31,
   "metadata": {
    "execution": {
     "iopub.execute_input": "2024-04-29T04:49:05.132871Z",
     "iopub.status.busy": "2024-04-29T04:49:05.132619Z",
     "iopub.status.idle": "2024-04-29T04:49:07.128900Z",
     "shell.execute_reply": "2024-04-29T04:49:07.128491Z"
    }
   },
   "outputs": [],
   "source": [
    "# Packages\n",
    "import sys\n",
    "import os\n",
    "# Add the parent directory to sys.path\n",
    "sys.path.append(os.path.abspath('..'))\n",
    "# Import module\n",
    "from Logistic_Regression_Functions import *\n",
    "\n",
    "# Model name\n",
    "model_name = 'smote_rating_change_model_1'"
   ]
  },
  {
   "cell_type": "code",
   "execution_count": 32,
   "metadata": {
    "execution": {
     "iopub.execute_input": "2024-04-29T04:49:07.131948Z",
     "iopub.status.busy": "2024-04-29T04:49:07.131149Z",
     "iopub.status.idle": "2024-04-29T04:49:09.888619Z",
     "shell.execute_reply": "2024-04-29T04:49:09.888213Z"
    }
   },
   "outputs": [],
   "source": [
    "# Load the data\n",
    "df = load_data()"
   ]
  },
  {
   "cell_type": "code",
   "execution_count": 33,
   "metadata": {
    "execution": {
     "iopub.execute_input": "2024-04-29T04:49:09.891553Z",
     "iopub.status.busy": "2024-04-29T04:49:09.890888Z",
     "iopub.status.idle": "2024-04-29T04:49:10.271297Z",
     "shell.execute_reply": "2024-04-29T04:49:10.270893Z"
    }
   },
   "outputs": [],
   "source": [
    "# Get the column names and mapping\n",
    "numeric_feature_columns, cat_feature_columns, target_column, custom_mapping = get_column_names_and_mapping_change(model_name)"
   ]
  },
  {
   "cell_type": "code",
   "execution_count": 34,
   "metadata": {
    "execution": {
     "iopub.execute_input": "2024-04-29T04:49:10.274140Z",
     "iopub.status.busy": "2024-04-29T04:49:10.273431Z",
     "iopub.status.idle": "2024-04-29T04:49:10.330339Z",
     "shell.execute_reply": "2024-04-29T04:49:10.329816Z"
    }
   },
   "outputs": [
    {
     "name": "stdout",
     "output_type": "stream",
     "text": [
      "feature names: \n",
      "['num__Altman_Z' 'num__Altman_Z_diff']\n"
     ]
    }
   ],
   "source": [
    "# Create matrices\n",
    "X_train_scaled, X_test_scaled, y_train, y_test, _ = prepare_matrices(df, numeric_feature_columns, cat_feature_columns, target_column, custom_mapping)"
   ]
  },
  {
   "cell_type": "code",
   "execution_count": 35,
   "metadata": {},
   "outputs": [
    {
     "name": "stdout",
     "output_type": "stream",
     "text": [
      "{-1: 96, 0: 4166, 1: 135}\n",
      "{-1: 1000, 0: 4166, 1: 1000}\n"
     ]
    }
   ],
   "source": [
    "from imblearn.over_sampling import SMOTE\n",
    "unique, count = np.unique(y_train, return_counts=True)\n",
    "dict_value_count = {k:v for (k, v) in zip(unique, count)}\n",
    "print(dict_value_count)\n",
    "sm = SMOTE(sampling_strategy={-1:1000, 1: 1000})\n",
    "X_train_sm, y_train_sm = sm.fit_resample(X_train_scaled, y_train)\n",
    "unique, count = np.unique(y_train_sm, return_counts=True)\n",
    "dict_value_count = {k:v for (k, v) in zip(unique, count)}\n",
    "print(dict_value_count)"
   ]
  },
  {
   "cell_type": "code",
   "execution_count": 26,
   "metadata": {},
   "outputs": [
    {
     "data": {
      "text/plain": [
       "0.35295778624876467"
      ]
     },
     "execution_count": 26,
     "metadata": {},
     "output_type": "execute_result"
    }
   ],
   "source": [
    "4166/(10000+4166)"
   ]
  },
  {
   "cell_type": "code",
   "execution_count": 36,
   "metadata": {
    "execution": {
     "iopub.execute_input": "2024-04-29T04:49:10.342853Z",
     "iopub.status.busy": "2024-04-29T04:49:10.342670Z",
     "iopub.status.idle": "2024-04-29T05:01:57.535968Z",
     "shell.execute_reply": "2024-04-29T05:01:57.535585Z"
    }
   },
   "outputs": [
    {
     "name": "stdout",
     "output_type": "stream",
     "text": [
      "Tuned hyperparameters: {'C': 0.001, 'class_weight': None, 'l1_ratio': 0.0, 'multi_class': 'ovr', 'penalty': 'elasticnet', 'solver': 'saga'}\n",
      "Train accuracy of best model:  0.6756406097956535\n",
      "Best mean CV accuracy: 0.6756405756867137\n",
      "Coefficients: [[-0.00077917  0.00014474]\n",
      " [-0.03863574 -0.06811877]\n",
      " [ 0.05094895  0.08603081]]\n",
      "Corresponding class: [-1  0  1]\n"
     ]
    }
   ],
   "source": [
    "# Train model\n",
    "best_model = train_model_with_grid_search(X_train_sm, y_train_sm, model_name)"
   ]
  },
  {
   "cell_type": "code",
   "execution_count": 37,
   "metadata": {
    "execution": {
     "iopub.execute_input": "2024-04-29T05:01:57.538607Z",
     "iopub.status.busy": "2024-04-29T05:01:57.537943Z",
     "iopub.status.idle": "2024-04-29T05:01:57.632655Z",
     "shell.execute_reply": "2024-04-29T05:01:57.632286Z"
    }
   },
   "outputs": [
    {
     "name": "stdout",
     "output_type": "stream",
     "text": [
      "X_test_scaled shape\n",
      "(1092, 2)\n",
      "y_test shape\n",
      "(1092,)\n",
      "accuracy: 0.9496336996336996\n",
      "share of correct predictions: 0.9496336996336996\n",
      "assertion that they match:\n"
     ]
    }
   ],
   "source": [
    "# Get predictions\n",
    "get_model_predictions(best_model, X_test_scaled, y_test, custom_mapping, model_name, target_column, df)"
   ]
  }
 ],
 "metadata": {
  "kernelspec": {
   "display_name": "capstone",
   "language": "python",
   "name": "python3"
  },
  "language_info": {
   "codemirror_mode": {
    "name": "ipython",
    "version": 3
   },
   "file_extension": ".py",
   "mimetype": "text/x-python",
   "name": "python",
   "nbconvert_exporter": "python",
   "pygments_lexer": "ipython3",
   "version": "3.12.3"
  }
 },
 "nbformat": 4,
 "nbformat_minor": 2
}
