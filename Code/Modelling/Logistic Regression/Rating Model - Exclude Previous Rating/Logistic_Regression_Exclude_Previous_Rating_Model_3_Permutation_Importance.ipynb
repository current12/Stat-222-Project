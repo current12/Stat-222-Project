{
 "cells": [
  {
   "cell_type": "markdown",
   "metadata": {},
   "source": [
    "# Model 3 Permutation Importance"
   ]
  },
  {
   "cell_type": "code",
   "execution_count": 1,
   "metadata": {
    "execution": {
     "iopub.execute_input": "2024-04-05T15:44:10.860865Z",
     "iopub.status.busy": "2024-04-05T15:44:10.859813Z",
     "iopub.status.idle": "2024-04-05T15:44:12.901816Z",
     "shell.execute_reply": "2024-04-05T15:44:12.900975Z"
    }
   },
   "outputs": [],
   "source": [
    "# Packages\n",
    "import sys\n",
    "import os\n",
    "from sklearn.inspection import permutation_importance\n",
    "# Add the parent directory to sys.path\n",
    "sys.path.append(os.path.abspath('..'))\n",
    "# Import module\n",
    "from Logistic_Regression_Functions import *\n",
    "# Model name\n",
    "model_name = 'exclude_previous_rating_model_3'"
   ]
  },
  {
   "cell_type": "markdown",
   "metadata": {},
   "source": [
    "## Standard Model Code"
   ]
  },
  {
   "cell_type": "code",
   "execution_count": 2,
   "metadata": {},
   "outputs": [],
   "source": [
    "# Load the data\n",
    "df = load_data()"
   ]
  },
  {
   "cell_type": "code",
   "execution_count": 3,
   "metadata": {
    "execution": {
     "iopub.execute_input": "2024-04-05T15:44:15.747743Z",
     "iopub.status.busy": "2024-04-05T15:44:15.747210Z",
     "iopub.status.idle": "2024-04-05T15:44:15.755415Z",
     "shell.execute_reply": "2024-04-05T15:44:15.754374Z"
    }
   },
   "outputs": [],
   "source": [
    "# Get the column names and mapping\n",
    "numeric_feature_columns, cat_feature_columns, target_column, custom_mapping = get_column_names_and_mapping(model_name)"
   ]
  },
  {
   "cell_type": "code",
   "execution_count": 4,
   "metadata": {
    "execution": {
     "iopub.execute_input": "2024-04-05T15:44:15.760463Z",
     "iopub.status.busy": "2024-04-05T15:44:15.759975Z",
     "iopub.status.idle": "2024-04-05T15:44:15.839954Z",
     "shell.execute_reply": "2024-04-05T15:44:15.839159Z"
    }
   },
   "outputs": [
    {
     "name": "stdout",
     "output_type": "stream",
     "text": [
      "preprocessor\n",
      "['num__EBIT' 'num__common_plus_preferred_stock' 'num__workingCapital' ...\n",
      " 'cat__Sector_Materials' 'cat__Sector_Real Estate' 'cat__Sector_Utilities']\n"
     ]
    }
   ],
   "source": [
    "# Create matrices\n",
    "_, X_test_scaled, _, y_test = prepare_matrices(df, numeric_feature_columns, cat_feature_columns, target_column, custom_mapping)\n"
   ]
  },
  {
   "cell_type": "markdown",
   "metadata": {},
   "source": [
    "## Load Trained Model"
   ]
  },
  {
   "cell_type": "code",
   "execution_count": 5,
   "metadata": {
    "execution": {
     "iopub.execute_input": "2024-04-05T15:44:15.918655Z",
     "iopub.status.busy": "2024-04-05T15:44:15.918240Z",
     "iopub.status.idle": "2024-04-05T15:44:15.931078Z",
     "shell.execute_reply": "2024-04-05T15:44:15.930328Z"
    }
   },
   "outputs": [
    {
     "data": {
      "text/html": [
       "<style>#sk-container-id-1 {color: black;}#sk-container-id-1 pre{padding: 0;}#sk-container-id-1 div.sk-toggleable {background-color: white;}#sk-container-id-1 label.sk-toggleable__label {cursor: pointer;display: block;width: 100%;margin-bottom: 0;padding: 0.3em;box-sizing: border-box;text-align: center;}#sk-container-id-1 label.sk-toggleable__label-arrow:before {content: \"▸\";float: left;margin-right: 0.25em;color: #696969;}#sk-container-id-1 label.sk-toggleable__label-arrow:hover:before {color: black;}#sk-container-id-1 div.sk-estimator:hover label.sk-toggleable__label-arrow:before {color: black;}#sk-container-id-1 div.sk-toggleable__content {max-height: 0;max-width: 0;overflow: hidden;text-align: left;background-color: #f0f8ff;}#sk-container-id-1 div.sk-toggleable__content pre {margin: 0.2em;color: black;border-radius: 0.25em;background-color: #f0f8ff;}#sk-container-id-1 input.sk-toggleable__control:checked~div.sk-toggleable__content {max-height: 200px;max-width: 100%;overflow: auto;}#sk-container-id-1 input.sk-toggleable__control:checked~label.sk-toggleable__label-arrow:before {content: \"▾\";}#sk-container-id-1 div.sk-estimator input.sk-toggleable__control:checked~label.sk-toggleable__label {background-color: #d4ebff;}#sk-container-id-1 div.sk-label input.sk-toggleable__control:checked~label.sk-toggleable__label {background-color: #d4ebff;}#sk-container-id-1 input.sk-hidden--visually {border: 0;clip: rect(1px 1px 1px 1px);clip: rect(1px, 1px, 1px, 1px);height: 1px;margin: -1px;overflow: hidden;padding: 0;position: absolute;width: 1px;}#sk-container-id-1 div.sk-estimator {font-family: monospace;background-color: #f0f8ff;border: 1px dotted black;border-radius: 0.25em;box-sizing: border-box;margin-bottom: 0.5em;}#sk-container-id-1 div.sk-estimator:hover {background-color: #d4ebff;}#sk-container-id-1 div.sk-parallel-item::after {content: \"\";width: 100%;border-bottom: 1px solid gray;flex-grow: 1;}#sk-container-id-1 div.sk-label:hover label.sk-toggleable__label {background-color: #d4ebff;}#sk-container-id-1 div.sk-serial::before {content: \"\";position: absolute;border-left: 1px solid gray;box-sizing: border-box;top: 0;bottom: 0;left: 50%;z-index: 0;}#sk-container-id-1 div.sk-serial {display: flex;flex-direction: column;align-items: center;background-color: white;padding-right: 0.2em;padding-left: 0.2em;position: relative;}#sk-container-id-1 div.sk-item {position: relative;z-index: 1;}#sk-container-id-1 div.sk-parallel {display: flex;align-items: stretch;justify-content: center;background-color: white;position: relative;}#sk-container-id-1 div.sk-item::before, #sk-container-id-1 div.sk-parallel-item::before {content: \"\";position: absolute;border-left: 1px solid gray;box-sizing: border-box;top: 0;bottom: 0;left: 50%;z-index: -1;}#sk-container-id-1 div.sk-parallel-item {display: flex;flex-direction: column;z-index: 1;position: relative;background-color: white;}#sk-container-id-1 div.sk-parallel-item:first-child::after {align-self: flex-end;width: 50%;}#sk-container-id-1 div.sk-parallel-item:last-child::after {align-self: flex-start;width: 50%;}#sk-container-id-1 div.sk-parallel-item:only-child::after {width: 0;}#sk-container-id-1 div.sk-dashed-wrapped {border: 1px dashed gray;margin: 0 0.4em 0.5em 0.4em;box-sizing: border-box;padding-bottom: 0.4em;background-color: white;}#sk-container-id-1 div.sk-label label {font-family: monospace;font-weight: bold;display: inline-block;line-height: 1.2em;}#sk-container-id-1 div.sk-label-container {text-align: center;}#sk-container-id-1 div.sk-container {/* jupyter's `normalize.less` sets `[hidden] { display: none; }` but bootstrap.min.css set `[hidden] { display: none !important; }` so we also need the `!important` here to be able to override the default hidden behavior on the sphinx rendered scikit-learn.org. See: https://github.com/scikit-learn/scikit-learn/issues/21755 */display: inline-block !important;position: relative;}#sk-container-id-1 div.sk-text-repr-fallback {display: none;}</style><div id=\"sk-container-id-1\" class=\"sk-top-container\"><div class=\"sk-text-repr-fallback\"><pre>LogisticRegression(C=0.1, l1_ratio=1.0, max_iter=1000,\n",
       "                   multi_class=&#x27;multinomial&#x27;, penalty=&#x27;elasticnet&#x27;,\n",
       "                   solver=&#x27;saga&#x27;)</pre><b>In a Jupyter environment, please rerun this cell to show the HTML representation or trust the notebook. <br />On GitHub, the HTML representation is unable to render, please try loading this page with nbviewer.org.</b></div><div class=\"sk-container\" hidden><div class=\"sk-item\"><div class=\"sk-estimator sk-toggleable\"><input class=\"sk-toggleable__control sk-hidden--visually\" id=\"sk-estimator-id-1\" type=\"checkbox\" checked><label for=\"sk-estimator-id-1\" class=\"sk-toggleable__label sk-toggleable__label-arrow\">LogisticRegression</label><div class=\"sk-toggleable__content\"><pre>LogisticRegression(C=0.1, l1_ratio=1.0, max_iter=1000,\n",
       "                   multi_class=&#x27;multinomial&#x27;, penalty=&#x27;elasticnet&#x27;,\n",
       "                   solver=&#x27;saga&#x27;)</pre></div></div></div></div></div>"
      ],
      "text/plain": [
       "LogisticRegression(C=0.1, l1_ratio=1.0, max_iter=1000,\n",
       "                   multi_class='multinomial', penalty='elasticnet',\n",
       "                   solver='saga')"
      ]
     },
     "execution_count": 5,
     "metadata": {},
     "output_type": "execute_result"
    }
   ],
   "source": [
    "# Load trained model\n",
    "model = joblib.load('../../../../Output/Modelling/Logistic Regression/' + model_name + '/' + model_name + '_best_estimator.pkl')\n",
    "model"
   ]
  },
  {
   "cell_type": "markdown",
   "metadata": {},
   "source": [
    "## Permutation Importance"
   ]
  },
  {
   "cell_type": "code",
   "execution_count": 9,
   "metadata": {
    "execution": {
     "iopub.execute_input": "2024-04-05T15:44:15.935772Z",
     "iopub.status.busy": "2024-04-05T15:44:15.935522Z",
     "iopub.status.idle": "2024-04-05T15:44:39.674842Z",
     "shell.execute_reply": "2024-04-05T15:44:39.673559Z"
    }
   },
   "outputs": [],
   "source": [
    "# Perform permutation importance\n",
    "result = permutation_importance(model, X_test_scaled, y_test, n_repeats=1000, random_state=222, n_jobs=-1)\n",
    "\n",
    "# Check lengths\n",
    "print('shape X: ', X_test_scaled.shape)\n",
    "print('num + cat: ', len(numeric_feature_columns + cat_feature_columns))\n",
    "print('importances: ', len(result.importances_mean))\n",
    "print('stds: ', len(result.importances_std))\n",
    "\n",
    "# Expanded feature column names\n",
    "# Version for include previous rating\n",
    "if 'include_previous_rating' in model_name:\n",
    "    expanded_cat_cols = ['cat__rating_on_previous_fixed_quarter_date_A',\n",
    "    'cat__rating_on_previous_fixed_quarter_date_AA',\n",
    "    'cat__rating_on_previous_fixed_quarter_date_AAA',\n",
    "    'cat__rating_on_previous_fixed_quarter_date_B',\n",
    "    'cat__rating_on_previous_fixed_quarter_date_BB',\n",
    "    'cat__rating_on_previous_fixed_quarter_date_BBB',\n",
    "    'cat__rating_on_previous_fixed_quarter_date_C',\n",
    "    'cat__rating_on_previous_fixed_quarter_date_CC',\n",
    "    'cat__rating_on_previous_fixed_quarter_date_CCC',\n",
    "    'cat__rating_on_previous_fixed_quarter_date_D',\n",
    "    'cat__Sector_Communication Services',\n",
    "    'cat__Sector_Consumer Discretionary',\n",
    "    'cat__Sector_Consumer Staples',\n",
    "    'cat__Sector_Energy',\n",
    "    'cat__Sector_Financials', \n",
    "    'cat__Sector_Health Care',\n",
    "    'cat__Sector_Industrials', \n",
    "    'cat__Sector_Information Technology',\n",
    "    'cat__Sector_Materials',\n",
    "    'cat__Sector_Real Estate',\n",
    "    'cat__Sector_Utilities']\n",
    "# Version for exclude previous rating\n",
    "if 'exclude_previous_rating' in model_name:\n",
    "    expanded_cat_cols = ['cat__rating_on_previous_fixed_quarter_date_A',\n",
    "    'cat__rating_on_previous_fixed_quarter_date_AA',\n",
    "    'cat__rating_on_previous_fixed_quarter_date_AAA',\n",
    "    'cat__rating_on_previous_fixed_quarter_date_B',\n",
    "    'cat__rating_on_previous_fixed_quarter_date_BB',\n",
    "    'cat__rating_on_previous_fixed_quarter_date_BBB',\n",
    "    'cat__rating_on_previous_fixed_quarter_date_C',\n",
    "    'cat__rating_on_previous_fixed_quarter_date_CC',\n",
    "    'cat__rating_on_previous_fixed_quarter_date_CCC',\n",
    "    'cat__rating_on_previous_fixed_quarter_date_D']\n",
    "\n",
    "print('with expanded')\n",
    "print(len(numeric_feature_columns + expanded_cat_cols))\n",
    "\n",
    "print('importances mean')\n",
    "print(result.importances_mean)\n",
    "\n",
    "print('imp std')\n",
    "print(result.importances_std)\n",
    "\n",
    "# Put column name, mean and std in a dataframe\n",
    "result = pd.DataFrame({'feature': numeric_feature_columns + expanded_cat_cols, 'mean': result.importances_mean, 'std': result.importances_std})\n",
    "\n",
    "# Output to disk\n",
    "result.to_parquet('../../../../Output/Modelling/Logistic Regression/' + model_name + '/' + model_name + '_permutation_importance.parquet', index=False)\n",
    "\n",
    "result"
   ]
  }
 ],
 "metadata": {
  "kernelspec": {
   "display_name": "capstone",
   "language": "python",
   "name": "python3"
  },
  "language_info": {
   "codemirror_mode": {
    "name": "ipython",
    "version": 3
   },
   "file_extension": ".py",
   "mimetype": "text/x-python",
   "name": "python",
   "nbconvert_exporter": "python",
   "pygments_lexer": "ipython3",
   "version": "3.11.8"
  }
 },
 "nbformat": 4,
 "nbformat_minor": 2
}
