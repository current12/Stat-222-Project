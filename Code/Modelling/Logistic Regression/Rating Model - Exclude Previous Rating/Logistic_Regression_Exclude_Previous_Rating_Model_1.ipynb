{
 "cells": [
  {
   "cell_type": "markdown",
   "metadata": {},
   "source": [
    "# Model 1\n"
   ]
  },
  {
   "cell_type": "code",
   "execution_count": 1,
   "metadata": {
    "execution": {
     "iopub.execute_input": "2024-04-26T20:07:07.507947Z",
     "iopub.status.busy": "2024-04-26T20:07:07.507649Z",
     "iopub.status.idle": "2024-04-26T20:07:09.081900Z",
     "shell.execute_reply": "2024-04-26T20:07:09.081141Z"
    }
   },
   "outputs": [],
   "source": [
    "# Packages\n",
    "import sys\n",
    "import os\n",
    "# Add the parent directory to sys.path\n",
    "sys.path.append(os.path.abspath('..'))\n",
    "# Import module\n",
    "from Logistic_Regression_Functions import *\n",
    "# Model name\n",
    "model_name = 'exclude_previous_rating_model_1'"
   ]
  },
  {
   "cell_type": "code",
   "execution_count": 2,
   "metadata": {
    "execution": {
     "iopub.execute_input": "2024-04-26T20:07:09.084469Z",
     "iopub.status.busy": "2024-04-26T20:07:09.084174Z",
     "iopub.status.idle": "2024-04-26T20:07:10.609662Z",
     "shell.execute_reply": "2024-04-26T20:07:10.608815Z"
    }
   },
   "outputs": [],
   "source": [
    "# Load the data\n",
    "df = load_data()"
   ]
  },
  {
   "cell_type": "code",
   "execution_count": 3,
   "metadata": {
    "execution": {
     "iopub.execute_input": "2024-04-26T20:07:10.613708Z",
     "iopub.status.busy": "2024-04-26T20:07:10.613168Z",
     "iopub.status.idle": "2024-04-26T20:07:10.896179Z",
     "shell.execute_reply": "2024-04-26T20:07:10.895416Z"
    }
   },
   "outputs": [],
   "source": [
    "# Get the column names and mapping\n",
    "numeric_feature_columns, cat_feature_columns, target_column, custom_mapping = get_column_names_and_mapping(model_name)"
   ]
  },
  {
   "cell_type": "code",
   "execution_count": 4,
   "metadata": {
    "execution": {
     "iopub.execute_input": "2024-04-26T20:07:10.898515Z",
     "iopub.status.busy": "2024-04-26T20:07:10.898368Z",
     "iopub.status.idle": "2024-04-26T20:07:10.913487Z",
     "shell.execute_reply": "2024-04-26T20:07:10.912923Z"
    }
   },
   "outputs": [
    {
     "name": "stdout",
     "output_type": "stream",
     "text": [
      "feature names: \n",
      "['num__Altman_Z']\n"
     ]
    }
   ],
   "source": [
    "# Create matrices\n",
    "X_train_scaled, X_test_scaled, y_train, y_test, _ = prepare_matrices(df, numeric_feature_columns, cat_feature_columns, target_column, custom_mapping)\n"
   ]
  },
  {
   "cell_type": "code",
   "execution_count": 5,
   "metadata": {
    "execution": {
     "iopub.execute_input": "2024-04-26T20:07:10.948371Z",
     "iopub.status.busy": "2024-04-26T20:07:10.948152Z",
     "iopub.status.idle": "2024-04-26T20:07:30.822982Z",
     "shell.execute_reply": "2024-04-26T20:07:30.822327Z"
    }
   },
   "outputs": [
    {
     "name": "stdout",
     "output_type": "stream",
     "text": [
      "Tuned hyperparameters: {'C': 0.1, 'class_weight': None, 'l1_ratio': 0.25, 'multi_class': 'multinomial', 'penalty': 'elasticnet', 'solver': 'saga'}\n",
      "Best mean CV accuracy: 0.3638938876822836\n",
      "Coefficients: [[ 0.91689407]\n",
      " [ 1.06144558]\n",
      " [ 0.6461242 ]\n",
      " [ 0.55742198]\n",
      " [ 0.        ]\n",
      " [-1.00165087]\n",
      " [-1.15701399]\n",
      " [ 0.        ]\n",
      " [-0.5160959 ]\n",
      " [-0.07797555]]\n"
     ]
    }
   ],
   "source": [
    "# Train model\n",
    "best_model = train_model_with_grid_search(X_train_scaled, y_train, model_name)"
   ]
  },
  {
   "cell_type": "code",
   "execution_count": 6,
   "metadata": {
    "execution": {
     "iopub.execute_input": "2024-04-26T20:07:30.825216Z",
     "iopub.status.busy": "2024-04-26T20:07:30.825051Z",
     "iopub.status.idle": "2024-04-26T20:07:31.686639Z",
     "shell.execute_reply": "2024-04-26T20:07:31.686094Z"
    }
   },
   "outputs": [
    {
     "name": "stdout",
     "output_type": "stream",
     "text": [
      "checking accuracy and correct predictions match\n",
      "0.3507326007326007 0.3507326007326007\n"
     ]
    }
   ],
   "source": [
    "# Get predictions\n",
    "get_model_predictions(best_model, X_test_scaled, y_test, custom_mapping, model_name, target_column, df)"
   ]
  }
 ],
 "metadata": {
  "kernelspec": {
   "display_name": "capstone",
   "language": "python",
   "name": "python3"
  },
  "language_info": {
   "codemirror_mode": {
    "name": "ipython",
    "version": 3
   },
   "file_extension": ".py",
   "mimetype": "text/x-python",
   "name": "python",
   "nbconvert_exporter": "python",
   "pygments_lexer": "ipython3",
   "version": "3.11.8"
  }
 },
 "nbformat": 4,
 "nbformat_minor": 2
}
