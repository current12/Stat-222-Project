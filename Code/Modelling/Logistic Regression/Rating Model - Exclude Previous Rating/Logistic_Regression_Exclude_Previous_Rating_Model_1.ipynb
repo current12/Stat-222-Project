{
 "cells": [
  {
   "cell_type": "markdown",
   "metadata": {},
   "source": [
    "# Model 1\n"
   ]
  },
  {
   "cell_type": "code",
   "execution_count": 1,
   "metadata": {
    "execution": {
     "iopub.execute_input": "2024-04-29T04:50:11.111786Z",
     "iopub.status.busy": "2024-04-29T04:50:11.111645Z",
     "iopub.status.idle": "2024-04-29T04:50:13.005816Z",
     "shell.execute_reply": "2024-04-29T04:50:13.005347Z"
    }
   },
   "outputs": [],
   "source": [
    "# Packages\n",
    "import sys\n",
    "import os\n",
    "# Add the parent directory to sys.path\n",
    "sys.path.append(os.path.abspath('..'))\n",
    "# Import module\n",
    "from Logistic_Regression_Functions import *\n",
    "# Model name\n",
    "model_name = 'exclude_previous_rating_model_1'"
   ]
  },
  {
   "cell_type": "code",
   "execution_count": 2,
   "metadata": {
    "execution": {
     "iopub.execute_input": "2024-04-29T04:50:13.008732Z",
     "iopub.status.busy": "2024-04-29T04:50:13.008002Z",
     "iopub.status.idle": "2024-04-29T04:50:14.313084Z",
     "shell.execute_reply": "2024-04-29T04:50:14.312670Z"
    }
   },
   "outputs": [],
   "source": [
    "# Load the data\n",
    "df = load_data()"
   ]
  },
  {
   "cell_type": "code",
   "execution_count": 3,
   "metadata": {
    "execution": {
     "iopub.execute_input": "2024-04-29T04:50:14.316136Z",
     "iopub.status.busy": "2024-04-29T04:50:14.315415Z",
     "iopub.status.idle": "2024-04-29T04:50:14.614770Z",
     "shell.execute_reply": "2024-04-29T04:50:14.614361Z"
    }
   },
   "outputs": [],
   "source": [
    "# Get the column names and mapping\n",
    "numeric_feature_columns, cat_feature_columns, target_column, custom_mapping = get_column_names_and_mapping(model_name)"
   ]
  },
  {
   "cell_type": "code",
   "execution_count": 4,
   "metadata": {
    "execution": {
     "iopub.execute_input": "2024-04-29T04:50:14.617581Z",
     "iopub.status.busy": "2024-04-29T04:50:14.616919Z",
     "iopub.status.idle": "2024-04-29T04:50:14.650242Z",
     "shell.execute_reply": "2024-04-29T04:50:14.649795Z"
    }
   },
   "outputs": [
    {
     "name": "stdout",
     "output_type": "stream",
     "text": [
      "feature names: \n",
      "['num__Altman_Z']\n"
     ]
    }
   ],
   "source": [
    "# Create matrices\n",
    "X_train_scaled, X_test_scaled, y_train, y_test, _ = prepare_matrices(df, numeric_feature_columns, cat_feature_columns, target_column, custom_mapping)\n"
   ]
  },
  {
   "cell_type": "code",
   "execution_count": 5,
   "metadata": {
    "execution": {
     "iopub.execute_input": "2024-04-29T04:50:14.667767Z",
     "iopub.status.busy": "2024-04-29T04:50:14.667586Z",
     "iopub.status.idle": "2024-04-29T04:53:51.098034Z",
     "shell.execute_reply": "2024-04-29T04:53:51.097615Z"
    }
   },
   "outputs": [
    {
     "name": "stdout",
     "output_type": "stream",
     "text": [
      "Tuned hyperparameters: {'C': 0.1, 'class_weight': None, 'l1_ratio': 0.25, 'multi_class': 'multinomial', 'penalty': 'elasticnet', 'solver': 'saga'}\n",
      "Train accuracy of best model:  0.36138276097339095\n",
      "Best mean CV accuracy: 0.3638938876822836\n",
      "Coefficients: [[ 0.91692996]\n",
      " [ 1.06147299]\n",
      " [ 0.64615861]\n",
      " [ 0.55746748]\n",
      " [ 0.        ]\n",
      " [-1.0016601 ]\n",
      " [-1.1570297 ]\n",
      " [ 0.        ]\n",
      " [-0.51603245]\n",
      " [-0.07774177]]\n"
     ]
    }
   ],
   "source": [
    "# Train model\n",
    "best_model = train_model_with_grid_search(X_train_scaled, y_train, model_name)"
   ]
  },
  {
   "cell_type": "code",
   "execution_count": 6,
   "metadata": {
    "execution": {
     "iopub.execute_input": "2024-04-29T04:53:51.100636Z",
     "iopub.status.busy": "2024-04-29T04:53:51.099968Z",
     "iopub.status.idle": "2024-04-29T04:53:51.285940Z",
     "shell.execute_reply": "2024-04-29T04:53:51.285523Z"
    }
   },
   "outputs": [
    {
     "name": "stdout",
     "output_type": "stream",
     "text": [
      "X_test_scaled shape\n",
      "(1092, 1)\n",
      "y_test shape\n",
      "(1092,)\n",
      "accuracy: 0.3498168498168498\n",
      "share of correct predictions: 0.3498168498168498\n",
      "assertion that they match:\n"
     ]
    }
   ],
   "source": [
    "# Get predictions\n",
    "get_model_predictions(best_model, X_test_scaled, y_test, custom_mapping, model_name, target_column, df)"
   ]
  }
 ],
 "metadata": {
  "kernelspec": {
   "display_name": "capstone",
   "language": "python",
   "name": "python3"
  },
  "language_info": {
   "codemirror_mode": {
    "name": "ipython",
    "version": 3
   },
   "file_extension": ".py",
   "mimetype": "text/x-python",
   "name": "python",
   "nbconvert_exporter": "python",
   "pygments_lexer": "ipython3",
   "version": "3.11.8"
  }
 },
 "nbformat": 4,
 "nbformat_minor": 2
}
