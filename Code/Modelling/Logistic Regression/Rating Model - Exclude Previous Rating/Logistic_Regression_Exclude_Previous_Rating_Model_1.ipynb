{
 "cells": [
  {
   "cell_type": "markdown",
   "metadata": {},
   "source": [
    "# Model 1\n"
   ]
  },
  {
   "cell_type": "code",
   "execution_count": 1,
   "metadata": {
    "execution": {
     "iopub.execute_input": "2024-05-02T02:12:51.577040Z",
     "iopub.status.busy": "2024-05-02T02:12:51.576646Z",
     "iopub.status.idle": "2024-05-02T02:12:53.849555Z",
     "shell.execute_reply": "2024-05-02T02:12:53.849146Z"
    }
   },
   "outputs": [],
   "source": [
    "# Packages\n",
    "import sys\n",
    "import os\n",
    "# Add the parent directory to sys.path\n",
    "sys.path.append(os.path.abspath('..'))\n",
    "# Import module\n",
    "from Logistic_Regression_Functions import *\n",
    "# Model name\n",
    "model_name = 'exclude_previous_rating_model_1'"
   ]
  },
  {
   "cell_type": "code",
   "execution_count": 2,
   "metadata": {
    "execution": {
     "iopub.execute_input": "2024-05-02T02:12:53.852510Z",
     "iopub.status.busy": "2024-05-02T02:12:53.851772Z",
     "iopub.status.idle": "2024-05-02T02:12:56.542351Z",
     "shell.execute_reply": "2024-05-02T02:12:56.541939Z"
    }
   },
   "outputs": [],
   "source": [
    "# Load the data\n",
    "df = load_data()"
   ]
  },
  {
   "cell_type": "code",
   "execution_count": 3,
   "metadata": {
    "execution": {
     "iopub.execute_input": "2024-05-02T02:12:56.545246Z",
     "iopub.status.busy": "2024-05-02T02:12:56.544578Z",
     "iopub.status.idle": "2024-05-02T02:12:57.096279Z",
     "shell.execute_reply": "2024-05-02T02:12:57.095842Z"
    }
   },
   "outputs": [],
   "source": [
    "# Get the column names and mapping\n",
    "numeric_feature_columns, cat_feature_columns, target_column, custom_mapping = get_column_names_and_mapping(model_name)"
   ]
  },
  {
   "cell_type": "code",
   "execution_count": 4,
   "metadata": {
    "execution": {
     "iopub.execute_input": "2024-05-02T02:12:57.099226Z",
     "iopub.status.busy": "2024-05-02T02:12:57.098522Z",
     "iopub.status.idle": "2024-05-02T02:12:57.125238Z",
     "shell.execute_reply": "2024-05-02T02:12:57.124822Z"
    }
   },
   "outputs": [
    {
     "name": "stdout",
     "output_type": "stream",
     "text": [
      "feature names: \n",
      "['num__Altman_Z']\n"
     ]
    }
   ],
   "source": [
    "# Create matrices\n",
    "X_train_scaled, X_test_scaled, y_train, y_test, _ = prepare_matrices(df, numeric_feature_columns, cat_feature_columns, target_column, custom_mapping)\n"
   ]
  },
  {
   "cell_type": "code",
   "execution_count": 5,
   "metadata": {
    "execution": {
     "iopub.execute_input": "2024-05-02T02:12:57.153114Z",
     "iopub.status.busy": "2024-05-02T02:12:57.152923Z",
     "iopub.status.idle": "2024-05-02T02:16:14.857891Z",
     "shell.execute_reply": "2024-05-02T02:16:14.857486Z"
    }
   },
   "outputs": [
    {
     "name": "stdout",
     "output_type": "stream",
     "text": [
      "Tuned hyperparameters: {'C': 10, 'class_weight': 'balanced', 'l1_ratio': 0.0, 'multi_class': 'multinomial', 'penalty': 'elasticnet', 'solver': 'saga'}\n",
      "Train accuracy of best model:  0.17649738100660442\n",
      "Best mean CV accuracy: 0.19699052298506536\n",
      "Coefficients: [[ 1.74898141]\n",
      " [ 1.72812777]\n",
      " [ 1.34776221]\n",
      " [ 1.21058686]\n",
      " [ 0.61675659]\n",
      " [-0.4618629 ]\n",
      " [-1.15778807]\n",
      " [-0.35426413]\n",
      " [-3.7076241 ]\n",
      " [-0.97067565]]\n",
      "Corresponding class: [0 1 2 3 4 5 6 7 8 9]\n"
     ]
    }
   ],
   "source": [
    "# Train model\n",
    "best_model = train_model_with_grid_search(X_train_scaled, y_train, model_name)"
   ]
  },
  {
   "cell_type": "code",
   "execution_count": 6,
   "metadata": {
    "execution": {
     "iopub.execute_input": "2024-05-02T02:16:14.860555Z",
     "iopub.status.busy": "2024-05-02T02:16:14.859883Z",
     "iopub.status.idle": "2024-05-02T02:16:14.969515Z",
     "shell.execute_reply": "2024-05-02T02:16:14.969136Z"
    }
   },
   "outputs": [
    {
     "name": "stdout",
     "output_type": "stream",
     "text": [
      "X_test_scaled shape\n",
      "(1118, 1)\n",
      "y_test shape\n",
      "(1118,)\n",
      "accuracy: 0.19230769230769232\n",
      "share of correct predictions: 0.19230769230769232\n",
      "assertion that they match:\n"
     ]
    }
   ],
   "source": [
    "# Get predictions\n",
    "get_model_predictions(best_model, X_test_scaled, y_test, custom_mapping, model_name, target_column, df)"
   ]
  }
 ],
 "metadata": {
  "kernelspec": {
   "display_name": "capstone",
   "language": "python",
   "name": "python3"
  },
  "language_info": {
   "codemirror_mode": {
    "name": "ipython",
    "version": 3
   },
   "file_extension": ".py",
   "mimetype": "text/x-python",
   "name": "python",
   "nbconvert_exporter": "python",
   "pygments_lexer": "ipython3",
   "version": "3.11.8"
  }
 },
 "nbformat": 4,
 "nbformat_minor": 2
}
