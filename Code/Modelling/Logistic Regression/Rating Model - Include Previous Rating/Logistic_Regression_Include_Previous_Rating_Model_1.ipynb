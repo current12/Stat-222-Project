{
 "cells": [
  {
   "cell_type": "markdown",
   "metadata": {},
   "source": [
    "# Model 1\n"
   ]
  },
  {
   "cell_type": "code",
   "execution_count": 1,
   "metadata": {
    "execution": {
     "iopub.execute_input": "2024-04-29T04:49:05.132871Z",
     "iopub.status.busy": "2024-04-29T04:49:05.132619Z",
     "iopub.status.idle": "2024-04-29T04:49:07.128900Z",
     "shell.execute_reply": "2024-04-29T04:49:07.128491Z"
    }
   },
   "outputs": [],
   "source": [
    "# Packages\n",
    "import sys\n",
    "import os\n",
    "# Add the parent directory to sys.path\n",
    "sys.path.append(os.path.abspath('..'))\n",
    "# Import module\n",
    "from Logistic_Regression_Functions import *\n",
    "# Model name\n",
    "model_name = 'include_previous_rating_model_1'"
   ]
  },
  {
   "cell_type": "code",
   "execution_count": 2,
   "metadata": {
    "execution": {
     "iopub.execute_input": "2024-04-29T04:49:07.131948Z",
     "iopub.status.busy": "2024-04-29T04:49:07.131149Z",
     "iopub.status.idle": "2024-04-29T04:49:09.888619Z",
     "shell.execute_reply": "2024-04-29T04:49:09.888213Z"
    }
   },
   "outputs": [],
   "source": [
    "# Load the data\n",
    "df = load_data()"
   ]
  },
  {
   "cell_type": "code",
   "execution_count": 3,
   "metadata": {
    "execution": {
     "iopub.execute_input": "2024-04-29T04:49:09.891553Z",
     "iopub.status.busy": "2024-04-29T04:49:09.890888Z",
     "iopub.status.idle": "2024-04-29T04:49:10.271297Z",
     "shell.execute_reply": "2024-04-29T04:49:10.270893Z"
    }
   },
   "outputs": [],
   "source": [
    "# Get the column names and mapping\n",
    "numeric_feature_columns, cat_feature_columns, target_column, custom_mapping = get_column_names_and_mapping(model_name)"
   ]
  },
  {
   "cell_type": "code",
   "execution_count": 4,
   "metadata": {
    "execution": {
     "iopub.execute_input": "2024-04-29T04:49:10.274140Z",
     "iopub.status.busy": "2024-04-29T04:49:10.273431Z",
     "iopub.status.idle": "2024-04-29T04:49:10.330339Z",
     "shell.execute_reply": "2024-04-29T04:49:10.329816Z"
    }
   },
   "outputs": [
    {
     "name": "stdout",
     "output_type": "stream",
     "text": [
      "feature names: \n",
      "['num__Altman_Z' 'cat__rating_on_previous_fixed_quarter_date_A'\n",
      " 'cat__rating_on_previous_fixed_quarter_date_AA'\n",
      " 'cat__rating_on_previous_fixed_quarter_date_AAA'\n",
      " 'cat__rating_on_previous_fixed_quarter_date_B'\n",
      " 'cat__rating_on_previous_fixed_quarter_date_BB'\n",
      " 'cat__rating_on_previous_fixed_quarter_date_BBB'\n",
      " 'cat__rating_on_previous_fixed_quarter_date_C'\n",
      " 'cat__rating_on_previous_fixed_quarter_date_CC'\n",
      " 'cat__rating_on_previous_fixed_quarter_date_CCC'\n",
      " 'cat__rating_on_previous_fixed_quarter_date_D']\n"
     ]
    }
   ],
   "source": [
    "# Create matrices\n",
    "X_train_scaled, X_test_scaled, y_train, y_test, _ = prepare_matrices(df, numeric_feature_columns, cat_feature_columns, target_column, custom_mapping)\n"
   ]
  },
  {
   "cell_type": "code",
   "execution_count": 5,
   "metadata": {
    "execution": {
     "iopub.execute_input": "2024-04-29T04:49:10.342853Z",
     "iopub.status.busy": "2024-04-29T04:49:10.342670Z",
     "iopub.status.idle": "2024-04-29T05:01:57.535968Z",
     "shell.execute_reply": "2024-04-29T05:01:57.535585Z"
    }
   },
   "outputs": [
    {
     "name": "stdout",
     "output_type": "stream",
     "text": [
      "Tuned hyperparameters: {'C': 1, 'class_weight': None, 'multi_class': 'ovr', 'penalty': None, 'solver': 'saga'}\n",
      "Best mean CV accuracy: 0.9474606991415865\n",
      "Coefficients: [[  0.14022966  -4.47703102  -3.19912307   2.62148599 -10.28021276\n",
      "  -10.91854275 -11.20995798  -5.81455922  -5.78051882  -8.3669688\n",
      "   -5.37928978]\n",
      " [  0.09684966  -3.58515408   2.44136735  -3.34282439 -10.38082705\n",
      "  -10.99925598  -6.86056767  -5.94056684  -5.87305112  -8.47619607\n",
      "   -5.49344781]\n",
      " [ -0.07985839   3.0743484   -2.04640374  -2.08569557 -10.51425584\n",
      "  -11.05776212  -2.99058971  -6.16358261  -5.98099149  -8.63743592\n",
      "   -5.67149511]\n",
      " [  0.16623653  -2.75603785  -4.87141016  -8.59451281  -5.18777943\n",
      "   -3.56935615   3.51634386  -5.91797568  -5.90015663  -8.47802334\n",
      "   -5.48837421]\n",
      " [ -0.02243745 -10.70199177  -9.14756767  -8.3948788   -2.63385384\n",
      "    3.84497714  -4.18398597  -6.10302541  -5.95506739  -2.73587449\n",
      "   -5.62419489]\n",
      " [ -0.42416286 -10.63359196  -8.83267813  -8.21401532   3.07270754\n",
      "   -3.97031338  -5.6644954   -6.52002052  -1.56605687  -2.58598862\n",
      "   -5.93600729]\n",
      " [ -0.53599917 -10.63842958  -8.79205506  -8.20443087  -5.00851322\n",
      "   -6.06766864 -11.21137658  -6.61448658  -1.67043371   2.10791623\n",
      "   -6.00588745]\n",
      " [  0.50898867 -10.9349752   -9.73058209  -8.93171773  -5.66784836\n",
      "  -10.94271335 -11.37770782  -5.49449629   1.09069006  -3.63679936\n",
      "   -5.13520764]\n",
      " [ -1.28551053 -10.84465762  -8.75866821  -8.35733961 -11.32550815\n",
      "  -11.46739624 -11.37373751   6.01827547  -2.26443635  -9.48024743\n",
      "   -6.51828985]\n",
      " [  0.02085683 -10.59287688  -9.07304051  -8.30758234 -10.32532853\n",
      "  -10.91255885 -11.15217771  -5.92525347  -5.80771317  -8.43384978\n",
      "    6.58702061]]\n"
     ]
    }
   ],
   "source": [
    "# Train model\n",
    "best_model = train_model_with_grid_search(X_train_scaled, y_train, model_name)"
   ]
  },
  {
   "cell_type": "code",
   "execution_count": 6,
   "metadata": {
    "execution": {
     "iopub.execute_input": "2024-04-29T05:01:57.538607Z",
     "iopub.status.busy": "2024-04-29T05:01:57.537943Z",
     "iopub.status.idle": "2024-04-29T05:01:57.632655Z",
     "shell.execute_reply": "2024-04-29T05:01:57.632286Z"
    }
   },
   "outputs": [
    {
     "name": "stdout",
     "output_type": "stream",
     "text": [
      "X_test_scaled shape\n",
      "(1092, 11)\n",
      "y_test shape\n",
      "(1092,)\n",
      "accuracy: 0.9496336996336996\n",
      "share of correct predictions: 0.9496336996336996\n",
      "assertion that they match:\n"
     ]
    }
   ],
   "source": [
    "# Get predictions\n",
    "get_model_predictions(best_model, X_test_scaled, y_test, custom_mapping, model_name, target_column, df)"
   ]
  }
 ],
 "metadata": {
  "kernelspec": {
   "display_name": "capstone",
   "language": "python",
   "name": "python3"
  },
  "language_info": {
   "codemirror_mode": {
    "name": "ipython",
    "version": 3
   },
   "file_extension": ".py",
   "mimetype": "text/x-python",
   "name": "python",
   "nbconvert_exporter": "python",
   "pygments_lexer": "ipython3",
   "version": "3.11.8"
  }
 },
 "nbformat": 4,
 "nbformat_minor": 2
}
