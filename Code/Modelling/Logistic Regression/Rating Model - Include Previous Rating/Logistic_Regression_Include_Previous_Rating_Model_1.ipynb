{
 "cells": [
  {
   "cell_type": "markdown",
   "metadata": {},
   "source": [
    "# Model 1\n"
   ]
  },
  {
   "cell_type": "code",
   "execution_count": 1,
   "metadata": {
    "execution": {
     "iopub.execute_input": "2024-05-02T02:13:10.807576Z",
     "iopub.status.busy": "2024-05-02T02:13:10.807438Z",
     "iopub.status.idle": "2024-05-02T02:13:12.395412Z",
     "shell.execute_reply": "2024-05-02T02:13:12.395004Z"
    }
   },
   "outputs": [],
   "source": [
    "# Packages\n",
    "import sys\n",
    "import os\n",
    "# Add the parent directory to sys.path\n",
    "sys.path.append(os.path.abspath('..'))\n",
    "# Import module\n",
    "from Logistic_Regression_Functions import *\n",
    "# Model name\n",
    "model_name = 'include_previous_rating_model_1'"
   ]
  },
  {
   "cell_type": "code",
   "execution_count": 2,
   "metadata": {
    "execution": {
     "iopub.execute_input": "2024-05-02T02:13:12.398370Z",
     "iopub.status.busy": "2024-05-02T02:13:12.397583Z",
     "iopub.status.idle": "2024-05-02T02:13:13.689720Z",
     "shell.execute_reply": "2024-05-02T02:13:13.689304Z"
    }
   },
   "outputs": [],
   "source": [
    "# Load the data\n",
    "df = load_data()"
   ]
  },
  {
   "cell_type": "code",
   "execution_count": 3,
   "metadata": {
    "execution": {
     "iopub.execute_input": "2024-05-02T02:13:13.692646Z",
     "iopub.status.busy": "2024-05-02T02:13:13.691981Z",
     "iopub.status.idle": "2024-05-02T02:13:13.972003Z",
     "shell.execute_reply": "2024-05-02T02:13:13.971601Z"
    }
   },
   "outputs": [],
   "source": [
    "# Get the column names and mapping\n",
    "numeric_feature_columns, cat_feature_columns, target_column, custom_mapping = get_column_names_and_mapping(model_name)"
   ]
  },
  {
   "cell_type": "code",
   "execution_count": 4,
   "metadata": {
    "execution": {
     "iopub.execute_input": "2024-05-02T02:13:13.974845Z",
     "iopub.status.busy": "2024-05-02T02:13:13.974177Z",
     "iopub.status.idle": "2024-05-02T02:13:14.003502Z",
     "shell.execute_reply": "2024-05-02T02:13:14.003125Z"
    }
   },
   "outputs": [
    {
     "name": "stdout",
     "output_type": "stream",
     "text": [
      "feature names: \n",
      "['num__Altman_Z' 'cat__rating_on_previous_fixed_quarter_date_A'\n",
      " 'cat__rating_on_previous_fixed_quarter_date_AA'\n",
      " 'cat__rating_on_previous_fixed_quarter_date_AAA'\n",
      " 'cat__rating_on_previous_fixed_quarter_date_B'\n",
      " 'cat__rating_on_previous_fixed_quarter_date_BB'\n",
      " 'cat__rating_on_previous_fixed_quarter_date_BBB'\n",
      " 'cat__rating_on_previous_fixed_quarter_date_C'\n",
      " 'cat__rating_on_previous_fixed_quarter_date_CC'\n",
      " 'cat__rating_on_previous_fixed_quarter_date_CCC'\n",
      " 'cat__rating_on_previous_fixed_quarter_date_D']\n"
     ]
    }
   ],
   "source": [
    "# Create matrices\n",
    "X_train_scaled, X_test_scaled, y_train, y_test, _ = prepare_matrices(df, numeric_feature_columns, cat_feature_columns, target_column, custom_mapping)\n"
   ]
  },
  {
   "cell_type": "code",
   "execution_count": 5,
   "metadata": {
    "execution": {
     "iopub.execute_input": "2024-05-02T02:13:14.034821Z",
     "iopub.status.busy": "2024-05-02T02:13:14.034640Z",
     "iopub.status.idle": "2024-05-02T02:20:41.175983Z",
     "shell.execute_reply": "2024-05-02T02:20:41.175602Z"
    }
   },
   "outputs": [
    {
     "name": "stdout",
     "output_type": "stream",
     "text": [
      "Tuned hyperparameters: {'C': 0.01, 'class_weight': 'balanced', 'l1_ratio': 0.75, 'multi_class': 'multinomial', 'penalty': 'elasticnet', 'solver': 'saga'}\n",
      "Train accuracy of best model:  0.7271692097472102\n",
      "Best mean CV accuracy: 0.9446562541301592\n",
      "Coefficients: [[ 1.42475069e+00  0.00000000e+00  0.00000000e+00  2.79013540e+00\n",
      "  -7.56397370e-03  0.00000000e+00 -1.31355557e-03  0.00000000e+00\n",
      "   2.58928560e-01  6.52913041e-03  0.00000000e+00]\n",
      " [ 1.33741694e+00  0.00000000e+00  2.50717582e+00  0.00000000e+00\n",
      "  -4.22942189e-03  0.00000000e+00 -2.78749507e-04  0.00000000e+00\n",
      "   3.10203757e-01  6.57630523e-03  0.00000000e+00]\n",
      " [ 5.00022622e-01  2.72969459e+00  0.00000000e+00  0.00000000e+00\n",
      "   0.00000000e+00  0.00000000e+00  0.00000000e+00  0.00000000e+00\n",
      "   2.96291839e-01  8.60309965e-03  0.00000000e+00]\n",
      " [ 2.52672576e-01  0.00000000e+00  0.00000000e+00  0.00000000e+00\n",
      "   0.00000000e+00  0.00000000e+00  2.97321649e+00  0.00000000e+00\n",
      "   3.03305389e-01  8.55913807e-03  0.00000000e+00]\n",
      " [-9.26001361e-03  0.00000000e+00  0.00000000e+00  0.00000000e+00\n",
      "   0.00000000e+00  3.22879428e+00  0.00000000e+00  0.00000000e+00\n",
      "   2.45893777e-01  7.43020366e-03  0.00000000e+00]\n",
      " [ 2.95753073e+00  0.00000000e+00 -3.01485511e-01 -8.29996253e-02\n",
      "   8.38412567e-01  0.00000000e+00  0.00000000e+00  0.00000000e+00\n",
      "   1.91665130e-01  6.00185002e-03  0.00000000e+00]\n",
      " [-3.13577469e-01  0.00000000e+00  0.00000000e+00  0.00000000e+00\n",
      "  -1.17866995e-01  0.00000000e+00  0.00000000e+00  0.00000000e+00\n",
      "   2.69046573e-01  3.42635151e+00  0.00000000e+00]\n",
      " [ 2.86973902e-02  0.00000000e+00  0.00000000e+00  0.00000000e+00\n",
      "   0.00000000e+00  0.00000000e+00  0.00000000e+00  0.00000000e+00\n",
      "   1.99470479e+00  2.63847472e-02  0.00000000e+00]\n",
      " [-8.35965629e+00 -3.20212582e-01 -1.00544430e-01 -5.15108884e-01\n",
      "   2.43821169e+00 -6.38096046e-01 -2.21253323e-01  4.29574486e+00\n",
      "  -3.60593193e+00 -9.60650323e-01  0.00000000e+00]\n",
      " [-1.52313162e-02  0.00000000e+00  0.00000000e+00  0.00000000e+00\n",
      "  -1.81028501e-01  0.00000000e+00  0.00000000e+00  0.00000000e+00\n",
      "   3.79065393e-01 -1.75521630e-01  4.39377038e+00]]\n",
      "Corresponding class: [0 1 2 3 4 5 6 7 8 9]\n"
     ]
    }
   ],
   "source": [
    "# Train model\n",
    "best_model = train_model_with_grid_search(X_train_scaled, y_train, model_name)"
   ]
  },
  {
   "cell_type": "code",
   "execution_count": 6,
   "metadata": {
    "execution": {
     "iopub.execute_input": "2024-05-02T02:20:41.178599Z",
     "iopub.status.busy": "2024-05-02T02:20:41.177934Z",
     "iopub.status.idle": "2024-05-02T02:20:41.277243Z",
     "shell.execute_reply": "2024-05-02T02:20:41.276872Z"
    }
   },
   "outputs": [
    {
     "name": "stdout",
     "output_type": "stream",
     "text": [
      "X_test_scaled shape\n",
      "(1118, 11)\n",
      "y_test shape\n",
      "(1118,)\n",
      "accuracy: 0.7441860465116279\n",
      "share of correct predictions: 0.7441860465116279\n",
      "assertion that they match:\n"
     ]
    }
   ],
   "source": [
    "# Get predictions\n",
    "get_model_predictions(best_model, X_test_scaled, y_test, custom_mapping, model_name, target_column, df)"
   ]
  }
 ],
 "metadata": {
  "kernelspec": {
   "display_name": "capstone",
   "language": "python",
   "name": "python3"
  },
  "language_info": {
   "codemirror_mode": {
    "name": "ipython",
    "version": 3
   },
   "file_extension": ".py",
   "mimetype": "text/x-python",
   "name": "python",
   "nbconvert_exporter": "python",
   "pygments_lexer": "ipython3",
   "version": "3.11.8"
  }
 },
 "nbformat": 4,
 "nbformat_minor": 2
}
