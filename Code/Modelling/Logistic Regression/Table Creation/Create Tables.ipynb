{
 "cells": [
  {
   "cell_type": "markdown",
   "metadata": {},
   "source": [
    "# Create Tables"
   ]
  },
  {
   "cell_type": "code",
   "execution_count": 38,
   "metadata": {},
   "outputs": [],
   "source": [
    "# Packages\n",
    "import pandas as pd"
   ]
  },
  {
   "cell_type": "markdown",
   "metadata": {},
   "source": [
    "## List of Models"
   ]
  },
  {
   "cell_type": "code",
   "execution_count": 39,
   "metadata": {},
   "outputs": [],
   "source": [
    "models = ['rating_model_1', 'rating_model_2', 'rating_model_3', 'rating_model_4', 'change_model']\n",
    "# set most_complex_model \n",
    "most_complex_model = models[0]"
   ]
  },
  {
   "cell_type": "markdown",
   "metadata": {},
   "source": [
    "## Model Comparison"
   ]
  },
  {
   "cell_type": "code",
   "execution_count": 40,
   "metadata": {},
   "outputs": [
    {
     "name": "stdout",
     "output_type": "stream",
     "text": [
      "{'accuracy': 0.36, 'f1_score': 0.26, 'majority_baseline': 0.32}\n"
     ]
    }
   ],
   "source": [
    "# Load acc_f1_majority from pickle - '../../../../Output/Modelling/Logistic Regression/rating_model_1/rating_model_1_acc_f1_majority.pkl'\n",
    "acc_f1_majority = pd.read_pickle('../../../../Output/Modelling/Logistic Regression/rating_model_1/rating_model_1_acc_f1_majority.pkl')\n",
    "# Version with each item rounded to 2 decimal places\n",
    "acc_f1_majority_rounded = {k: round(v, 2) for k, v in acc_f1_majority.items()}\n",
    "print(acc_f1_majority_rounded)"
   ]
  },
  {
   "cell_type": "markdown",
   "metadata": {},
   "source": [
    "## Most Complex Classification Rep"
   ]
  },
  {
   "cell_type": "code",
   "execution_count": 41,
   "metadata": {},
   "outputs": [
    {
     "name": "stdout",
     "output_type": "stream",
     "text": [
      "              precision    recall  f1-score   support\n",
      "\n",
      "         AAA       0.00      0.00      0.00        19\n",
      "          AA       0.00      0.00      0.00        43\n",
      "           A       0.00      0.00      0.00       219\n",
      "         BBB       0.36      0.83      0.51       356\n",
      "          BB       0.33      0.32      0.32       313\n",
      "           B       0.75      0.06      0.12       144\n",
      "         CCC       0.00      0.00      0.00        27\n",
      "          CC       0.00      0.00      0.00         1\n",
      "           C       0.00      0.00      0.00         3\n",
      "           D       0.00      0.00      0.00         2\n",
      "\n",
      "    accuracy                           0.36      1127\n",
      "   macro avg       0.14      0.12      0.09      1127\n",
      "weighted avg       0.30      0.36      0.26      1127\n",
      "\n",
      "  Rating Precision Recall F1-Score Support\n",
      "0    AAA      0.00   0.00     0.00      19\n",
      "1     AA      0.00   0.00     0.00      43\n",
      "2      A      0.00   0.00     0.00     219\n",
      "3    BBB      0.36   0.83     0.51     356\n",
      "4     BB      0.33   0.32     0.32     313\n",
      "5      B      0.75   0.06     0.12     144\n",
      "6    CCC      0.00   0.00     0.00      27\n",
      "7     CC      0.00   0.00     0.00       1\n",
      "8      C      0.00   0.00     0.00       3\n",
      "9      D      0.00   0.00     0.00       2\n"
     ]
    }
   ],
   "source": [
    "# Load classificiation report from pickle\n",
    "classification_report = pd.read_pickle('../../../../Output/Modelling/Logistic Regression/' + most_complex_model + '/' + most_complex_model + '_classification_report.pkl')\n",
    "print(classification_report)\n",
    "\n",
    "# Convert classification report string to dataframe\n",
    "classification_report_lines = classification_report.split('\\n')\n",
    "# split on spaces within and drop blanks\n",
    "classification_report_data = [line.split() for line in classification_report_lines if line]\n",
    "# drop lists begining with 'precision', 'accuracy', 'macro', 'weighted'\n",
    "classification_report_data = [line for line in classification_report_data if line[0] not in ['precision', 'accuracy', 'macro', 'weighted']]\n",
    "# Stack list of rows into dataframe\n",
    "classification_report_data = pd.DataFrame(classification_report_data)\n",
    "# Set columns to \"Rating\", \"Precision\", \"Recall\", \"F1-Score\", \"Support\"\n",
    "classification_report_data.columns = ['Rating', 'Precision', 'Recall', 'F1-Score', 'Support']\n",
    "print(classification_report_data)\n",
    "\n",
    "# Export to Excel\n",
    "classification_report_data.to_excel('../../../../Output/Modelling/Logistic Regression/Tables/Most_Complex_Model_Classification_Report.xlsx', index=False)\n",
    "\n",
    "# Export to Latex\n",
    "classification_report_data.to_latex('../../../../Output/Modelling/Logistic Regression/Tables/Most_Complex_Model_Classification_Report.tex', index=False)"
   ]
  },
  {
   "cell_type": "markdown",
   "metadata": {},
   "source": [
    "## Most Complex Hyperparameters"
   ]
  },
  {
   "cell_type": "code",
   "execution_count": 42,
   "metadata": {},
   "outputs": [
    {
     "name": "stdout",
     "output_type": "stream",
     "text": [
      "{'C': 0.01, 'class_weight': None, 'l1_ratio': 0.25, 'multi_class': 'ovr', 'penalty': 'elasticnet', 'solver': 'saga'}\n",
      "      C Class Weighting Strategy  L1 Ratio Multi-Class Strategy      Penalty  \\\n",
      "0  0.01                     None      0.25          One vs Rest  Elastic Net   \n",
      "\n",
      "  Solver  \n",
      "0   SAGA  \n"
     ]
    }
   ],
   "source": [
    "# Load pickle '../../../../Output/Modelling/Logistic Regression/' + most_complex_model + '/' + most_complex_model + '_best_params.pkl'\n",
    "best_params = pd.read_pickle('../../../../Output/Modelling/Logistic Regression/' + most_complex_model + '/' + most_complex_model + '_best_params.pkl')\n",
    "print(best_params)\n",
    "\n",
    "# Convert to dataframe\n",
    "best_params = pd.DataFrame(best_params, index=[0])\n",
    "# Set columns to \"C\", \"Class Weighting Strategy\", \"L1 Ratio\", \"Multi-Class Strategy\", \"Penalty\", \"Solver\"\n",
    "best_params.columns = ['C', 'Class Weighting Strategy', 'L1 Ratio', 'Multi-Class Strategy', 'Penalty', 'Solver']\n",
    "# Replace 'Multi-Class Strategy' values\n",
    "best_params['Multi-Class Strategy'] = best_params['Multi-Class Strategy'].replace({'ovr': 'One vs Rest', 'multinomial': 'Multinomial'})\n",
    "# Replace 'Penalty' values\n",
    "best_params['Penalty'] = best_params['Penalty'].replace({'l1': 'L1', 'l2': 'L2', 'elasticnet': 'Elastic Net', 'none': 'None'})\n",
    "# Replace 'Solver' values\n",
    "best_params['Solver'] = best_params['Solver'].replace({'newton-cg': 'Newton Conjugate Gradient', 'lbfgs': 'Limited Memory Broyden–Fletcher–Goldfarb–Shanno', 'liblinear': 'Library for Large Linear Classification', 'sag': 'Stochastic Average Gradient', 'saga': 'SAGA'})\n",
    "# Replace Class Weighting Strategy values\n",
    "best_params['Class Weighting Strategy'] = best_params['Class Weighting Strategy'].replace({'balanced': 'Balanced', None: 'None'})\n",
    "print(best_params)\n",
    "\n",
    "# Export to Excel\n",
    "best_params.to_excel('../../../../Output/Modelling/Logistic Regression/Tables/Most_Complex_Model_Best_Params.xlsx', index=False)\n",
    "\n",
    "# Export to Latex\n",
    "best_params.to_latex('../../../../Output/Modelling/Logistic Regression/Tables/Most_Complex_Model_Best_Params.tex', index=False)"
   ]
  }
 ],
 "metadata": {
  "kernelspec": {
   "display_name": "capstone",
   "language": "python",
   "name": "python3"
  },
  "language_info": {
   "codemirror_mode": {
    "name": "ipython",
    "version": 3
   },
   "file_extension": ".py",
   "mimetype": "text/x-python",
   "name": "python",
   "nbconvert_exporter": "python",
   "pygments_lexer": "ipython3",
   "version": "3.11.8"
  }
 },
 "nbformat": 4,
 "nbformat_minor": 2
}
