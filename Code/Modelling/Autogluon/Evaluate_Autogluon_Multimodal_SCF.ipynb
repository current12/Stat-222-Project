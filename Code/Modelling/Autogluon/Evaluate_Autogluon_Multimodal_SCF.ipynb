{
 "cells": [
  {
   "cell_type": "markdown",
   "metadata": {},
   "source": [
    "# Evaluate Autogluon Multimodal SCF\n",
    "\n",
    "Use the Autogluon AutoML library to predict ratings using both tabular data and earnings call transcripts."
   ]
  },
  {
   "cell_type": "code",
   "execution_count": 1,
   "metadata": {
    "execution": {
     "iopub.execute_input": "2024-03-30T04:41:14.994725Z",
     "iopub.status.busy": "2024-03-30T04:41:14.993833Z",
     "iopub.status.idle": "2024-03-30T04:41:15.005574Z",
     "shell.execute_reply": "2024-03-30T04:41:15.004564Z"
    }
   },
   "outputs": [],
   "source": [
    "# Set model name\n",
    "model_name = 'Autogluon_Multimodal_SCF'"
   ]
  },
  {
   "cell_type": "code",
   "execution_count": 2,
   "metadata": {
    "execution": {
     "iopub.execute_input": "2024-03-30T04:41:15.010894Z",
     "iopub.status.busy": "2024-03-30T04:41:15.010149Z",
     "iopub.status.idle": "2024-03-30T04:41:22.826588Z",
     "shell.execute_reply": "2024-03-30T04:41:22.825766Z"
    }
   },
   "outputs": [
    {
     "name": "stderr",
     "output_type": "stream",
     "text": [
      "/scratch/users/ijyliu/conda/envs/scf_general/lib/python3.11/site-packages/tqdm/auto.py:21: TqdmWarning: IProgress not found. Please update jupyter and ipywidgets. See https://ipywidgets.readthedocs.io/en/stable/user_install.html\n",
      "  from .autonotebook import tqdm as notebook_tqdm\n"
     ]
    },
    {
     "name": "stderr",
     "output_type": "stream",
     "text": [
      "/scratch/users/ijyliu/conda/envs/scf_general/lib/python3.11/site-packages/transformers/utils/hub.py:124: FutureWarning: Using `TRANSFORMERS_CACHE` is deprecated and will be removed in v5 of Transformers. Use `HF_HOME` instead.\n",
      "  warnings.warn(\n"
     ]
    }
   ],
   "source": [
    "# Packages\n",
    "import pandas as pd\n",
    "from autogluon.multimodal import MultiModalPredictor\n",
    "import os\n",
    "import numpy as np"
   ]
  },
  {
   "cell_type": "code",
   "execution_count": 3,
   "metadata": {
    "execution": {
     "iopub.execute_input": "2024-03-30T04:41:22.831788Z",
     "iopub.status.busy": "2024-03-30T04:41:22.831383Z",
     "iopub.status.idle": "2024-03-30T04:41:22.835274Z",
     "shell.execute_reply": "2024-03-30T04:41:22.834568Z"
    }
   },
   "outputs": [],
   "source": [
    "# Set seed\n",
    "np.random.seed(222)"
   ]
  },
  {
   "cell_type": "markdown",
   "metadata": {},
   "source": [
    "## Load Data"
   ]
  },
  {
   "cell_type": "code",
   "execution_count": 4,
   "metadata": {
    "execution": {
     "iopub.execute_input": "2024-03-30T04:41:22.839223Z",
     "iopub.status.busy": "2024-03-30T04:41:22.839049Z",
     "iopub.status.idle": "2024-03-30T04:41:25.382064Z",
     "shell.execute_reply": "2024-03-30T04:41:25.380938Z"
    }
   },
   "outputs": [
    {
     "name": "stdout",
     "output_type": "stream",
     "text": [
      "dataframe\n",
      "    ticker fixed_quarter_date earnings_call_date Rating rating_date  \\\n",
      "0      NEE         2013-01-01         2012-10-24    BBB  2012-09-14   \n",
      "1      NEE         2013-04-01         2013-01-29    BBB  2013-03-22   \n",
      "2      NEE         2013-07-01         2013-04-30    BBB  2013-03-22   \n",
      "3      NEE         2013-10-01         2013-07-30    BBB  2013-03-22   \n",
      "4      NEE         2014-01-01         2013-11-01    BBB  2013-03-22   \n",
      "..     ...                ...                ...    ...         ...   \n",
      "830     KW         2013-10-01         2013-08-07     BB  2013-03-28   \n",
      "831     KW         2014-01-01         2013-11-06     BB  2013-03-28   \n",
      "832     KW         2014-04-01         2014-02-27     BB  2014-03-19   \n",
      "833     KW         2014-07-01         2014-05-09     BB  2014-03-19   \n",
      "834     KW         2014-10-01         2014-08-08     BB  2014-03-19   \n",
      "\n",
      "     Rating Rank AAA is 10 Next Rating Next Rating Date Previous Rating  \\\n",
      "0                        7         BBB       2013-03-22             BBB   \n",
      "1                        7         BBB       2014-04-02             BBB   \n",
      "2                        7         BBB       2014-04-02             BBB   \n",
      "3                        7         BBB       2014-04-02             BBB   \n",
      "4                        7         BBB       2014-04-02             BBB   \n",
      "..                     ...         ...              ...             ...   \n",
      "830                      6          BB       2014-03-19            None   \n",
      "831                      6          BB       2014-03-19            None   \n",
      "832                      6          BB       2014-12-12              BB   \n",
      "833                      6          BB       2014-12-12              BB   \n",
      "834                      6          BB       2014-12-12              BB   \n",
      "\n",
      "    Previous Rating Date  ...   Ratio_E  Altman_Z  filingDate  \\\n",
      "0             2012-03-27  ...  0.170946  0.669668  2012-10-26   \n",
      "1             2012-09-14  ...  0.167337  0.624721  2013-02-28   \n",
      "2             2012-09-14  ...  0.168805  0.654462  2013-05-02   \n",
      "3             2012-09-14  ...  0.170339  0.701862  2013-07-31   \n",
      "4             2012-09-14  ...  0.171634  0.720160  2013-11-01   \n",
      "..                   ...  ...       ...       ...         ...   \n",
      "830                 None  ... -0.014725       NaN  2013-08-08   \n",
      "831                 None  ... -0.019528       NaN  2013-11-07   \n",
      "832           2013-03-28  ... -0.023460  1.301995  2014-03-03   \n",
      "833           2013-03-28  ... -0.009053  1.143340  2014-05-12   \n",
      "834           2013-03-28  ... -0.002204  0.794889  2014-08-08   \n",
      "\n",
      "     rating_on_previous_fixed_quarter_date  Investment_Grade  \\\n",
      "0                                      BBB              True   \n",
      "1                                      BBB              True   \n",
      "2                                      BBB              True   \n",
      "3                                      BBB              True   \n",
      "4                                      BBB              True   \n",
      "..                                     ...               ...   \n",
      "830                                     BB             False   \n",
      "831                                     BB             False   \n",
      "832                                     BB             False   \n",
      "833                                     BB             False   \n",
      "834                                     BB             False   \n",
      "\n",
      "     rating_on_previous_fixed_quarter_date AAA is 10  \\\n",
      "0                                                7.0   \n",
      "1                                                7.0   \n",
      "2                                                7.0   \n",
      "3                                                7.0   \n",
      "4                                                7.0   \n",
      "..                                               ...   \n",
      "830                                              6.0   \n",
      "831                                              6.0   \n",
      "832                                              6.0   \n",
      "833                                              6.0   \n",
      "834                                              6.0   \n",
      "\n",
      "     Change Direction Since Last Fixed Quarter Date  \\\n",
      "0                   Same As Last Fixed Quarter Date   \n",
      "1                   Same As Last Fixed Quarter Date   \n",
      "2                   Same As Last Fixed Quarter Date   \n",
      "3                   Same As Last Fixed Quarter Date   \n",
      "4                   Same As Last Fixed Quarter Date   \n",
      "..                                              ...   \n",
      "830                 Same As Last Fixed Quarter Date   \n",
      "831                 Same As Last Fixed Quarter Date   \n",
      "832                 Same As Last Fixed Quarter Date   \n",
      "833                 Same As Last Fixed Quarter Date   \n",
      "834                 Same As Last Fixed Quarter Date   \n",
      "\n",
      "    Change Since Last Fixed Quarter Date       Sector train_test_80_20  \n",
      "0                                    0.0    Utilities            train  \n",
      "1                                    0.0    Utilities            train  \n",
      "2                                    0.0    Utilities            train  \n",
      "3                                    0.0    Utilities            train  \n",
      "4                                    0.0    Utilities            train  \n",
      "..                                   ...          ...              ...  \n",
      "830                                  0.0  Real Estate             test  \n",
      "831                                  0.0  Real Estate            train  \n",
      "832                                  0.0  Real Estate            train  \n",
      "833                                  0.0  Real Estate            train  \n",
      "834                                  0.0  Real Estate             test  \n",
      "\n",
      "[6683 rows x 143 columns]\n"
     ]
    }
   ],
   "source": [
    "# list of files in '../../../Data/All_Data/All_Data_Fixed_Quarter_Dates'\n",
    "file_list = [f for f in os.listdir(r'../../../Data/All_Data/All_Data_Fixed_Quarter_Dates') if f.endswith('.parquet')]\n",
    "# read in all parquet files\n",
    "df = pd.concat([pd.read_parquet(r'../../../Data/All_Data/All_Data_Fixed_Quarter_Dates/' + f) for f in file_list])\n",
    "print('dataframe')\n",
    "print(df)"
   ]
  },
  {
   "cell_type": "code",
   "execution_count": 5,
   "metadata": {
    "execution": {
     "iopub.execute_input": "2024-03-30T04:41:25.387430Z",
     "iopub.status.busy": "2024-03-30T04:41:25.386978Z",
     "iopub.status.idle": "2024-03-30T04:41:25.395054Z",
     "shell.execute_reply": "2024-03-30T04:41:25.394020Z"
    }
   },
   "outputs": [
    {
     "name": "stdout",
     "output_type": "stream",
     "text": [
      "column names\n",
      "ticker\n",
      "fixed_quarter_date\n",
      "earnings_call_date\n",
      "Rating\n",
      "rating_date\n",
      "Rating Rank AAA is 10\n",
      "Next Rating\n",
      "Next Rating Date\n",
      "Previous Rating\n",
      "Previous Rating Date\n",
      "next_rating_date_or_end_of_data\n",
      "credit_rating_year\n",
      "previous_fixed_quarter_date\n",
      "days_since_call_on_fixed_quarter\n",
      "days_since_rating\n",
      "for_quarter\n",
      "for_year\n",
      "transcript\n",
      "reportedCurrency\n",
      "acceptedDate_balance_sheet\n",
      "cashAndCashEquivalents\n",
      "shortTermInvestments\n",
      "cashAndShortTermInvestments\n",
      "netReceivables\n",
      "inventory_balance_sheet\n",
      "otherCurrentAssets\n",
      "totalCurrentAssets\n",
      "propertyPlantEquipmentNet\n",
      "goodwill\n",
      "intangibleAssets\n",
      "goodwillAndIntangibleAssets\n",
      "longTermInvestments\n",
      "taxAssets\n",
      "otherNonCurrentAssets\n",
      "totalNonCurrentAssets\n",
      "otherAssets\n",
      "totalAssets\n",
      "accountPayables\n",
      "shortTermDebt\n",
      "taxPayables\n",
      "deferredRevenue\n",
      "otherCurrentLiabilities\n",
      "totalCurrentLiabilities\n",
      "longTermDebt\n",
      "deferredRevenueNonCurrent\n",
      "deferredTaxLiabilitiesNonCurrent\n",
      "otherNonCurrentLiabilities\n",
      "totalNonCurrentLiabilities\n",
      "otherLiabilities\n",
      "capitalLeaseObligations\n",
      "totalLiabilities\n",
      "preferredStock\n",
      "commonStock\n",
      "retainedEarnings\n",
      "accumulatedOtherComprehensiveIncomeLoss\n",
      "othertotalStockholdersEquity\n",
      "totalStockholdersEquity\n",
      "totalEquity\n",
      "totalLiabilitiesAndStockholdersEquity\n",
      "minorityInterest\n",
      "totalLiabilitiesAndTotalEquity\n",
      "totalInvestments\n",
      "totalDebt\n",
      "netDebt\n",
      "acceptedDate_cash_flow_statement\n",
      "netIncome_cash_flow_statement\n",
      "depreciationAndAmortization_cash_flow_statement\n",
      "deferredIncomeTax\n",
      "stockBasedCompensation\n",
      "changeInWorkingCapital\n",
      "accountsReceivables\n",
      "inventory_cash_flow_statement\n",
      "accountsPayables\n",
      "otherWorkingCapital\n",
      "otherNonCashItems\n",
      "netCashProvidedByOperatingActivities\n",
      "investmentsInPropertyPlantAndEquipment\n",
      "acquisitionsNet\n",
      "purchasesOfInvestments\n",
      "salesMaturitiesOfInvestments\n",
      "otherInvestingActivites\n",
      "netCashUsedForInvestingActivites\n",
      "debtRepayment\n",
      "commonStockIssued\n",
      "commonStockRepurchased\n",
      "dividendsPaid\n",
      "otherFinancingActivites\n",
      "netCashUsedProvidedByFinancingActivities\n",
      "effectOfForexChangesOnCash\n",
      "netChangeInCash\n",
      "cashAtEndOfPeriod\n",
      "cashAtBeginningOfPeriod\n",
      "operatingCashFlow\n",
      "capitalExpenditure\n",
      "freeCashFlow\n",
      "acceptedDate_income_statement\n",
      "revenue\n",
      "costOfRevenue\n",
      "grossProfit\n",
      "grossProfitRatio\n",
      "researchAndDevelopmentExpenses\n",
      "generalAndAdministrativeExpenses\n",
      "sellingAndMarketingExpenses\n",
      "sellingGeneralAndAdministrativeExpenses\n",
      "otherExpenses\n",
      "operatingExpenses\n",
      "costAndExpenses\n",
      "interestIncome\n",
      "interestExpense\n",
      "depreciationAndAmortization_income_statement\n",
      "ebitda\n",
      "ebitdaratio\n",
      "operatingIncome\n",
      "operatingIncomeRatio\n",
      "totalOtherIncomeExpensesNet\n",
      "incomeBeforeTax\n",
      "incomeBeforeTaxRatio\n",
      "incomeTaxExpense\n",
      "netIncome_income_statement\n",
      "netIncomeRatio\n",
      "eps\n",
      "epsdiluted\n",
      "weightedAverageShsOut\n",
      "weightedAverageShsOutDil\n",
      "financial_statement_date\n",
      "marketCap\n",
      "EBIT\n",
      "common_plus_preferred_stock\n",
      "workingCapital\n",
      "Ratio_A\n",
      "Ratio_B\n",
      "Ratio_C\n",
      "Ratio_D\n",
      "Ratio_E\n",
      "Altman_Z\n",
      "filingDate\n",
      "rating_on_previous_fixed_quarter_date\n",
      "Investment_Grade\n",
      "rating_on_previous_fixed_quarter_date AAA is 10\n",
      "Change Direction Since Last Fixed Quarter Date\n",
      "Change Since Last Fixed Quarter Date\n",
      "Sector\n",
      "train_test_80_20\n"
     ]
    }
   ],
   "source": [
    "# Print out column names\n",
    "print('column names')\n",
    "for col in df.columns:\n",
    "    print(col)"
   ]
  },
  {
   "cell_type": "code",
   "execution_count": 6,
   "metadata": {
    "execution": {
     "iopub.execute_input": "2024-03-30T04:41:25.400852Z",
     "iopub.status.busy": "2024-03-30T04:41:25.400165Z",
     "iopub.status.idle": "2024-03-30T04:41:25.416155Z",
     "shell.execute_reply": "2024-03-30T04:41:25.415076Z"
    }
   },
   "outputs": [],
   "source": [
    "# Removing columns: 'Rating Rank AAA is 10', 'Investment_Grade', 'Change Direction Since Last Fixed Quarter Date', 'Change Since Last Fixed Quarter Date', 'Next Rating', 'Next Rating Date', 'next_rating_date_or_end_of_data'\n",
    "df = df.drop(columns=['Rating Rank AAA is 10', \n",
    "                      'Investment_Grade', \n",
    "                      'Change Direction Since Last Fixed Quarter Date', \n",
    "                      'Change Since Last Fixed Quarter Date', \n",
    "                      'Next Rating', \n",
    "                      'Next Rating Date', \n",
    "                      'next_rating_date_or_end_of_data'])"
   ]
  },
  {
   "cell_type": "code",
   "execution_count": 7,
   "metadata": {
    "execution": {
     "iopub.execute_input": "2024-03-30T04:41:25.421423Z",
     "iopub.status.busy": "2024-03-30T04:41:25.420996Z",
     "iopub.status.idle": "2024-03-30T04:41:25.434395Z",
     "shell.execute_reply": "2024-03-30T04:41:25.433353Z"
    }
   },
   "outputs": [],
   "source": [
    "# Get test df\n",
    "test_df = df[df['train_test_80_20'] == 'test'].reset_index(drop=True)"
   ]
  },
  {
   "cell_type": "markdown",
   "metadata": {},
   "source": [
    "## Load Model"
   ]
  },
  {
   "cell_type": "code",
   "execution_count": 8,
   "metadata": {
    "execution": {
     "iopub.execute_input": "2024-03-30T04:41:25.439303Z",
     "iopub.status.busy": "2024-03-30T04:41:25.438854Z",
     "iopub.status.idle": "2024-03-30T04:41:27.779988Z",
     "shell.execute_reply": "2024-03-30T04:41:27.779489Z"
    }
   },
   "outputs": [
    {
     "name": "stderr",
     "output_type": "stream",
     "text": [
      "Load pretrained checkpoint: /accounts/grad/ijyliu/Box/STAT 222 Capstone/Autogluon/Autogluon_Multimodal_SCF/model.ckpt\n"
     ]
    },
    {
     "data": {
      "text/plain": [
       "<autogluon.multimodal.predictor.MultiModalPredictor at 0x7f50e42de610>"
      ]
     },
     "execution_count": 8,
     "metadata": {},
     "output_type": "execute_result"
    }
   ],
   "source": [
    "# Load model\n",
    "predictor = MultiModalPredictor.load(os.path.expanduser('~/Box/STAT 222 Capstone/Autogluon/Autogluon_Multimodal_SCF'))\n",
    "predictor"
   ]
  },
  {
   "cell_type": "markdown",
   "metadata": {},
   "source": [
    "## Make Predictions"
   ]
  },
  {
   "cell_type": "code",
   "execution_count": 9,
   "metadata": {
    "execution": {
     "iopub.execute_input": "2024-03-30T04:41:27.782258Z",
     "iopub.status.busy": "2024-03-30T04:41:27.781993Z",
     "iopub.status.idle": "2024-03-30T04:41:45.584406Z",
     "shell.execute_reply": "2024-03-30T04:41:45.583566Z"
    }
   },
   "outputs": [
    {
     "name": "stderr",
     "output_type": "stream",
     "text": [
      "You are using a CUDA device ('NVIDIA A100 80GB PCIe') that has Tensor Cores. To properly utilize them, you should set `torch.set_float32_matmul_precision('medium' | 'high')` which will trade-off precision for performance. For more details, read https://pytorch.org/docs/stable/generated/torch.set_float32_matmul_precision.html#torch.set_float32_matmul_precision\n"
     ]
    },
    {
     "name": "stderr",
     "output_type": "stream",
     "text": [
      "SLURM auto-requeueing enabled. Setting signal handlers.\n"
     ]
    },
    {
     "name": "stdout",
     "output_type": "stream",
     "text": [
      "\r",
      "Predicting: 0it [00:00, ?it/s]"
     ]
    },
    {
     "name": "stdout",
     "output_type": "stream",
     "text": [
      "\r",
      "Predicting:   0%|          | 0/40 [00:00<?, ?it/s]"
     ]
    },
    {
     "name": "stdout",
     "output_type": "stream",
     "text": [
      "\r",
      "Predicting DataLoader 0:   0%|          | 0/40 [00:00<?, ?it/s]"
     ]
    },
    {
     "name": "stdout",
     "output_type": "stream",
     "text": [
      "\r",
      "Predicting DataLoader 0:   2%|▎         | 1/40 [00:00<00:30,  1.29it/s]"
     ]
    },
    {
     "name": "stdout",
     "output_type": "stream",
     "text": [
      "\r",
      "Predicting DataLoader 0:   5%|▌         | 2/40 [00:00<00:16,  2.24it/s]"
     ]
    },
    {
     "name": "stdout",
     "output_type": "stream",
     "text": [
      "\r",
      "Predicting DataLoader 0:   8%|▊         | 3/40 [00:01<00:12,  2.87it/s]"
     ]
    },
    {
     "name": "stdout",
     "output_type": "stream",
     "text": [
      "\r",
      "Predicting DataLoader 0:  10%|█         | 4/40 [00:01<00:10,  3.45it/s]"
     ]
    },
    {
     "name": "stdout",
     "output_type": "stream",
     "text": [
      "\r",
      "Predicting DataLoader 0:  12%|█▎        | 5/40 [00:01<00:12,  2.85it/s]"
     ]
    },
    {
     "name": "stdout",
     "output_type": "stream",
     "text": [
      "\r",
      "Predicting DataLoader 0:  15%|█▌        | 6/40 [00:01<00:10,  3.21it/s]"
     ]
    },
    {
     "name": "stdout",
     "output_type": "stream",
     "text": [
      "\r",
      "Predicting DataLoader 0:  18%|█▊        | 7/40 [00:02<00:11,  2.78it/s]"
     ]
    },
    {
     "name": "stdout",
     "output_type": "stream",
     "text": [
      "\r",
      "Predicting DataLoader 0:  20%|██        | 8/40 [00:02<00:10,  3.00it/s]"
     ]
    },
    {
     "name": "stdout",
     "output_type": "stream",
     "text": [
      "\r",
      "Predicting DataLoader 0:  22%|██▎       | 9/40 [00:03<00:11,  2.70it/s]"
     ]
    },
    {
     "name": "stdout",
     "output_type": "stream",
     "text": [
      "\r",
      "Predicting DataLoader 0:  25%|██▌       | 10/40 [00:03<00:10,  2.90it/s]"
     ]
    },
    {
     "name": "stdout",
     "output_type": "stream",
     "text": [
      "\r",
      "Predicting DataLoader 0:  28%|██▊       | 11/40 [00:04<00:10,  2.67it/s]"
     ]
    },
    {
     "name": "stdout",
     "output_type": "stream",
     "text": [
      "\r",
      "Predicting DataLoader 0:  30%|███       | 12/40 [00:04<00:09,  2.84it/s]"
     ]
    },
    {
     "name": "stdout",
     "output_type": "stream",
     "text": [
      "\r",
      "Predicting DataLoader 0:  32%|███▎      | 13/40 [00:04<00:10,  2.67it/s]"
     ]
    },
    {
     "name": "stdout",
     "output_type": "stream",
     "text": [
      "\r",
      "Predicting DataLoader 0:  35%|███▌      | 14/40 [00:04<00:09,  2.81it/s]"
     ]
    },
    {
     "name": "stdout",
     "output_type": "stream",
     "text": [
      "\r",
      "Predicting DataLoader 0:  38%|███▊      | 15/40 [00:05<00:09,  2.64it/s]"
     ]
    },
    {
     "name": "stdout",
     "output_type": "stream",
     "text": [
      "\r",
      "Predicting DataLoader 0:  40%|████      | 16/40 [00:05<00:08,  2.76it/s]"
     ]
    },
    {
     "name": "stdout",
     "output_type": "stream",
     "text": [
      "\r",
      "Predicting DataLoader 0:  42%|████▎     | 17/40 [00:06<00:08,  2.69it/s]"
     ]
    },
    {
     "name": "stdout",
     "output_type": "stream",
     "text": [
      "\r",
      "Predicting DataLoader 0:  45%|████▌     | 18/40 [00:06<00:07,  2.80it/s]"
     ]
    },
    {
     "name": "stdout",
     "output_type": "stream",
     "text": [
      "\r",
      "Predicting DataLoader 0:  48%|████▊     | 19/40 [00:07<00:07,  2.71it/s]"
     ]
    },
    {
     "name": "stdout",
     "output_type": "stream",
     "text": [
      "\r",
      "Predicting DataLoader 0:  50%|█████     | 20/40 [00:07<00:07,  2.81it/s]"
     ]
    },
    {
     "name": "stdout",
     "output_type": "stream",
     "text": [
      "\r",
      "Predicting DataLoader 0:  52%|█████▎    | 21/40 [00:07<00:07,  2.69it/s]"
     ]
    },
    {
     "name": "stdout",
     "output_type": "stream",
     "text": [
      "\r",
      "Predicting DataLoader 0:  55%|█████▌    | 22/40 [00:07<00:06,  2.78it/s]"
     ]
    },
    {
     "name": "stdout",
     "output_type": "stream",
     "text": [
      "\r",
      "Predicting DataLoader 0:  57%|█████▊    | 23/40 [00:08<00:06,  2.69it/s]"
     ]
    },
    {
     "name": "stdout",
     "output_type": "stream",
     "text": [
      "\r",
      "Predicting DataLoader 0:  60%|██████    | 24/40 [00:08<00:05,  2.74it/s]"
     ]
    },
    {
     "name": "stdout",
     "output_type": "stream",
     "text": [
      "\r",
      "Predicting DataLoader 0:  62%|██████▎   | 25/40 [00:09<00:05,  2.68it/s]"
     ]
    },
    {
     "name": "stdout",
     "output_type": "stream",
     "text": [
      "\r",
      "Predicting DataLoader 0:  65%|██████▌   | 26/40 [00:09<00:05,  2.70it/s]"
     ]
    },
    {
     "name": "stdout",
     "output_type": "stream",
     "text": [
      "\r",
      "Predicting DataLoader 0:  68%|██████▊   | 27/40 [00:10<00:04,  2.67it/s]"
     ]
    },
    {
     "name": "stdout",
     "output_type": "stream",
     "text": [
      "\r",
      "Predicting DataLoader 0:  70%|███████   | 28/40 [00:10<00:04,  2.68it/s]"
     ]
    },
    {
     "name": "stdout",
     "output_type": "stream",
     "text": [
      "\r",
      "Predicting DataLoader 0:  72%|███████▎  | 29/40 [00:10<00:04,  2.68it/s]"
     ]
    },
    {
     "name": "stdout",
     "output_type": "stream",
     "text": [
      "\r",
      "Predicting DataLoader 0:  75%|███████▌  | 30/40 [00:11<00:03,  2.66it/s]"
     ]
    },
    {
     "name": "stdout",
     "output_type": "stream",
     "text": [
      "\r",
      "Predicting DataLoader 0:  78%|███████▊  | 31/40 [00:11<00:03,  2.65it/s]"
     ]
    },
    {
     "name": "stdout",
     "output_type": "stream",
     "text": [
      "\r",
      "Predicting DataLoader 0:  80%|████████  | 32/40 [00:12<00:03,  2.65it/s]"
     ]
    },
    {
     "name": "stdout",
     "output_type": "stream",
     "text": [
      "\r",
      "Predicting DataLoader 0:  82%|████████▎ | 33/40 [00:12<00:02,  2.68it/s]"
     ]
    },
    {
     "name": "stdout",
     "output_type": "stream",
     "text": [
      "\r",
      "Predicting DataLoader 0:  85%|████████▌ | 34/40 [00:12<00:02,  2.63it/s]"
     ]
    },
    {
     "name": "stdout",
     "output_type": "stream",
     "text": [
      "\r",
      "Predicting DataLoader 0:  88%|████████▊ | 35/40 [00:13<00:01,  2.67it/s]"
     ]
    },
    {
     "name": "stdout",
     "output_type": "stream",
     "text": [
      "\r",
      "Predicting DataLoader 0:  90%|█████████ | 36/40 [00:13<00:01,  2.64it/s]"
     ]
    },
    {
     "name": "stdout",
     "output_type": "stream",
     "text": [
      "\r",
      "Predicting DataLoader 0:  92%|█████████▎| 37/40 [00:13<00:01,  2.66it/s]"
     ]
    },
    {
     "name": "stdout",
     "output_type": "stream",
     "text": [
      "\r",
      "Predicting DataLoader 0:  95%|█████████▌| 38/40 [00:14<00:00,  2.65it/s]"
     ]
    },
    {
     "name": "stdout",
     "output_type": "stream",
     "text": [
      "\r",
      "Predicting DataLoader 0:  98%|█████████▊| 39/40 [00:14<00:00,  2.64it/s]"
     ]
    },
    {
     "name": "stdout",
     "output_type": "stream",
     "text": [
      "\r",
      "Predicting DataLoader 0: 100%|██████████| 40/40 [00:14<00:00,  2.70it/s]"
     ]
    },
    {
     "name": "stdout",
     "output_type": "stream",
     "text": [
      "\r",
      "Predicting DataLoader 0: 100%|██████████| 40/40 [00:14<00:00,  2.70it/s]"
     ]
    },
    {
     "name": "stdout",
     "output_type": "stream",
     "text": [
      "\n"
     ]
    },
    {
     "data": {
      "text/html": [
       "<div>\n",
       "<style scoped>\n",
       "    .dataframe tbody tr th:only-of-type {\n",
       "        vertical-align: middle;\n",
       "    }\n",
       "\n",
       "    .dataframe tbody tr th {\n",
       "        vertical-align: top;\n",
       "    }\n",
       "\n",
       "    .dataframe thead th {\n",
       "        text-align: right;\n",
       "    }\n",
       "</style>\n",
       "<table border=\"1\" class=\"dataframe\">\n",
       "  <thead>\n",
       "    <tr style=\"text-align: right;\">\n",
       "      <th></th>\n",
       "      <th>ticker</th>\n",
       "      <th>fixed_quarter_date</th>\n",
       "      <th>Rating</th>\n",
       "    </tr>\n",
       "  </thead>\n",
       "  <tbody>\n",
       "    <tr>\n",
       "      <th>0</th>\n",
       "      <td>NEE</td>\n",
       "      <td>2014-07-01</td>\n",
       "      <td>BBB</td>\n",
       "    </tr>\n",
       "    <tr>\n",
       "      <th>1</th>\n",
       "      <td>NEE</td>\n",
       "      <td>2016-04-01</td>\n",
       "      <td>BBB</td>\n",
       "    </tr>\n",
       "    <tr>\n",
       "      <th>2</th>\n",
       "      <td>NEM</td>\n",
       "      <td>2013-01-01</td>\n",
       "      <td>BBB</td>\n",
       "    </tr>\n",
       "    <tr>\n",
       "      <th>3</th>\n",
       "      <td>NEM</td>\n",
       "      <td>2015-01-01</td>\n",
       "      <td>BBB</td>\n",
       "    </tr>\n",
       "    <tr>\n",
       "      <th>4</th>\n",
       "      <td>NEM</td>\n",
       "      <td>2015-07-01</td>\n",
       "      <td>BBB</td>\n",
       "    </tr>\n",
       "    <tr>\n",
       "      <th>...</th>\n",
       "      <td>...</td>\n",
       "      <td>...</td>\n",
       "      <td>...</td>\n",
       "    </tr>\n",
       "    <tr>\n",
       "      <th>1258</th>\n",
       "      <td>KTOS</td>\n",
       "      <td>2014-07-01</td>\n",
       "      <td>BB</td>\n",
       "    </tr>\n",
       "    <tr>\n",
       "      <th>1259</th>\n",
       "      <td>KTOS</td>\n",
       "      <td>2016-07-01</td>\n",
       "      <td>B</td>\n",
       "    </tr>\n",
       "    <tr>\n",
       "      <th>1260</th>\n",
       "      <td>KTOS</td>\n",
       "      <td>2016-10-01</td>\n",
       "      <td>B</td>\n",
       "    </tr>\n",
       "    <tr>\n",
       "      <th>1261</th>\n",
       "      <td>KW</td>\n",
       "      <td>2013-10-01</td>\n",
       "      <td>BB</td>\n",
       "    </tr>\n",
       "    <tr>\n",
       "      <th>1262</th>\n",
       "      <td>KW</td>\n",
       "      <td>2014-10-01</td>\n",
       "      <td>BB</td>\n",
       "    </tr>\n",
       "  </tbody>\n",
       "</table>\n",
       "<p>1263 rows × 3 columns</p>\n",
       "</div>"
      ],
      "text/plain": [
       "     ticker fixed_quarter_date Rating\n",
       "0       NEE         2014-07-01    BBB\n",
       "1       NEE         2016-04-01    BBB\n",
       "2       NEM         2013-01-01    BBB\n",
       "3       NEM         2015-01-01    BBB\n",
       "4       NEM         2015-07-01    BBB\n",
       "...     ...                ...    ...\n",
       "1258   KTOS         2014-07-01     BB\n",
       "1259   KTOS         2016-07-01      B\n",
       "1260   KTOS         2016-10-01      B\n",
       "1261     KW         2013-10-01     BB\n",
       "1262     KW         2014-10-01     BB\n",
       "\n",
       "[1263 rows x 3 columns]"
      ]
     },
     "execution_count": 9,
     "metadata": {},
     "output_type": "execute_result"
    }
   ],
   "source": [
    "# Apply test\n",
    "predictions = predictor.predict(test_df)\n",
    "# Concatenate with test data values of 'ticker' and 'fixed_quarter_date'\n",
    "# Use index values to line up\n",
    "predictions = pd.concat([test_df[['ticker', 'fixed_quarter_date']], predictions], axis=1)\n",
    "# Save to Excel\n",
    "predictions.to_excel('../../../Data/Predictions/Autogluon/' + model_name + '_predictions.xlsx', index=False)\n",
    "predictions"
   ]
  },
  {
   "cell_type": "markdown",
   "metadata": {},
   "source": [
    "## Evaluation and Leaderboard"
   ]
  },
  {
   "cell_type": "code",
   "execution_count": 10,
   "metadata": {
    "execution": {
     "iopub.execute_input": "2024-03-30T04:41:45.589617Z",
     "iopub.status.busy": "2024-03-30T04:41:45.589300Z",
     "iopub.status.idle": "2024-03-30T04:42:02.057848Z",
     "shell.execute_reply": "2024-03-30T04:42:02.057322Z"
    }
   },
   "outputs": [
    {
     "name": "stderr",
     "output_type": "stream",
     "text": [
      "SLURM auto-requeueing enabled. Setting signal handlers.\n"
     ]
    },
    {
     "name": "stdout",
     "output_type": "stream",
     "text": [
      "\r",
      "Predicting: 0it [00:00, ?it/s]"
     ]
    },
    {
     "name": "stdout",
     "output_type": "stream",
     "text": [
      "\r",
      "Predicting:   0%|          | 0/40 [00:00<?, ?it/s]"
     ]
    },
    {
     "name": "stdout",
     "output_type": "stream",
     "text": [
      "\r",
      "Predicting DataLoader 0:   0%|          | 0/40 [00:00<?, ?it/s]"
     ]
    },
    {
     "name": "stdout",
     "output_type": "stream",
     "text": [
      "\r",
      "Predicting DataLoader 0:   2%|▎         | 1/40 [00:00<00:03,  9.77it/s]"
     ]
    },
    {
     "name": "stdout",
     "output_type": "stream",
     "text": [
      "\r",
      "Predicting DataLoader 0:   5%|▌         | 2/40 [00:00<00:11,  3.22it/s]"
     ]
    },
    {
     "name": "stdout",
     "output_type": "stream",
     "text": [
      "\r",
      "Predicting DataLoader 0:   8%|▊         | 3/40 [00:00<00:09,  3.80it/s]"
     ]
    },
    {
     "name": "stdout",
     "output_type": "stream",
     "text": [
      "\r",
      "Predicting DataLoader 0:  10%|█         | 4/40 [00:01<00:12,  2.90it/s]"
     ]
    },
    {
     "name": "stdout",
     "output_type": "stream",
     "text": [
      "\r",
      "Predicting DataLoader 0:  12%|█▎        | 5/40 [00:01<00:10,  3.34it/s]"
     ]
    },
    {
     "name": "stdout",
     "output_type": "stream",
     "text": [
      "\r",
      "Predicting DataLoader 0:  15%|█▌        | 6/40 [00:02<00:12,  2.74it/s]"
     ]
    },
    {
     "name": "stdout",
     "output_type": "stream",
     "text": [
      "\r",
      "Predicting DataLoader 0:  18%|█▊        | 7/40 [00:02<00:10,  3.04it/s]"
     ]
    },
    {
     "name": "stdout",
     "output_type": "stream",
     "text": [
      "\r",
      "Predicting DataLoader 0:  20%|██        | 8/40 [00:03<00:12,  2.65it/s]"
     ]
    },
    {
     "name": "stdout",
     "output_type": "stream",
     "text": [
      "\r",
      "Predicting DataLoader 0:  22%|██▎       | 9/40 [00:03<00:10,  2.87it/s]"
     ]
    },
    {
     "name": "stdout",
     "output_type": "stream",
     "text": [
      "\r",
      "Predicting DataLoader 0:  25%|██▌       | 10/40 [00:03<00:11,  2.71it/s]"
     ]
    },
    {
     "name": "stdout",
     "output_type": "stream",
     "text": [
      "\r",
      "Predicting DataLoader 0:  28%|██▊       | 11/40 [00:03<00:10,  2.86it/s]"
     ]
    },
    {
     "name": "stdout",
     "output_type": "stream",
     "text": [
      "\r",
      "Predicting DataLoader 0:  30%|███       | 12/40 [00:04<00:10,  2.72it/s]"
     ]
    },
    {
     "name": "stdout",
     "output_type": "stream",
     "text": [
      "\r",
      "Predicting DataLoader 0:  32%|███▎      | 13/40 [00:04<00:09,  2.83it/s]"
     ]
    },
    {
     "name": "stdout",
     "output_type": "stream",
     "text": [
      "\r",
      "Predicting DataLoader 0:  35%|███▌      | 14/40 [00:05<00:09,  2.70it/s]"
     ]
    },
    {
     "name": "stdout",
     "output_type": "stream",
     "text": [
      "\r",
      "Predicting DataLoader 0:  38%|███▊      | 15/40 [00:05<00:08,  2.78it/s]"
     ]
    },
    {
     "name": "stdout",
     "output_type": "stream",
     "text": [
      "\r",
      "Predicting DataLoader 0:  40%|████      | 16/40 [00:05<00:08,  2.68it/s]"
     ]
    },
    {
     "name": "stdout",
     "output_type": "stream",
     "text": [
      "\r",
      "Predicting DataLoader 0:  42%|████▎     | 17/40 [00:06<00:08,  2.79it/s]"
     ]
    },
    {
     "name": "stdout",
     "output_type": "stream",
     "text": [
      "\r",
      "Predicting DataLoader 0:  45%|████▌     | 18/40 [00:06<00:08,  2.68it/s]"
     ]
    },
    {
     "name": "stdout",
     "output_type": "stream",
     "text": [
      "\r",
      "Predicting DataLoader 0:  48%|████▊     | 19/40 [00:06<00:07,  2.78it/s]"
     ]
    },
    {
     "name": "stdout",
     "output_type": "stream",
     "text": [
      "\r",
      "Predicting DataLoader 0:  50%|█████     | 20/40 [00:07<00:07,  2.67it/s]"
     ]
    },
    {
     "name": "stdout",
     "output_type": "stream",
     "text": [
      "\r",
      "Predicting DataLoader 0:  52%|█████▎    | 21/40 [00:07<00:06,  2.76it/s]"
     ]
    },
    {
     "name": "stdout",
     "output_type": "stream",
     "text": [
      "\r",
      "Predicting DataLoader 0:  55%|█████▌    | 22/40 [00:08<00:06,  2.65it/s]"
     ]
    },
    {
     "name": "stdout",
     "output_type": "stream",
     "text": [
      "\r",
      "Predicting DataLoader 0:  57%|█████▊    | 23/40 [00:08<00:06,  2.73it/s]"
     ]
    },
    {
     "name": "stdout",
     "output_type": "stream",
     "text": [
      "\r",
      "Predicting DataLoader 0:  60%|██████    | 24/40 [00:09<00:06,  2.63it/s]"
     ]
    },
    {
     "name": "stdout",
     "output_type": "stream",
     "text": [
      "\r",
      "Predicting DataLoader 0:  62%|██████▎   | 25/40 [00:09<00:05,  2.71it/s]"
     ]
    },
    {
     "name": "stdout",
     "output_type": "stream",
     "text": [
      "\r",
      "Predicting DataLoader 0:  65%|██████▌   | 26/40 [00:09<00:05,  2.60it/s]"
     ]
    },
    {
     "name": "stdout",
     "output_type": "stream",
     "text": [
      "\r",
      "Predicting DataLoader 0:  68%|██████▊   | 27/40 [00:10<00:04,  2.67it/s]"
     ]
    },
    {
     "name": "stdout",
     "output_type": "stream",
     "text": [
      "\r",
      "Predicting DataLoader 0:  70%|███████   | 28/40 [00:10<00:04,  2.59it/s]"
     ]
    },
    {
     "name": "stdout",
     "output_type": "stream",
     "text": [
      "\r",
      "Predicting DataLoader 0:  72%|███████▎  | 29/40 [00:10<00:04,  2.65it/s]"
     ]
    },
    {
     "name": "stdout",
     "output_type": "stream",
     "text": [
      "\r",
      "Predicting DataLoader 0:  75%|███████▌  | 30/40 [00:11<00:03,  2.58it/s]"
     ]
    },
    {
     "name": "stdout",
     "output_type": "stream",
     "text": [
      "\r",
      "Predicting DataLoader 0:  78%|███████▊  | 31/40 [00:11<00:03,  2.64it/s]"
     ]
    },
    {
     "name": "stdout",
     "output_type": "stream",
     "text": [
      "\r",
      "Predicting DataLoader 0:  80%|████████  | 32/40 [00:12<00:03,  2.56it/s]"
     ]
    },
    {
     "name": "stdout",
     "output_type": "stream",
     "text": [
      "\r",
      "Predicting DataLoader 0:  82%|████████▎ | 33/40 [00:12<00:02,  2.62it/s]"
     ]
    },
    {
     "name": "stdout",
     "output_type": "stream",
     "text": [
      "\r",
      "Predicting DataLoader 0:  85%|████████▌ | 34/40 [00:13<00:02,  2.55it/s]"
     ]
    },
    {
     "name": "stdout",
     "output_type": "stream",
     "text": [
      "\r",
      "Predicting DataLoader 0:  88%|████████▊ | 35/40 [00:13<00:01,  2.60it/s]"
     ]
    },
    {
     "name": "stdout",
     "output_type": "stream",
     "text": [
      "\r",
      "Predicting DataLoader 0:  90%|█████████ | 36/40 [00:14<00:01,  2.57it/s]"
     ]
    },
    {
     "name": "stdout",
     "output_type": "stream",
     "text": [
      "\r",
      "Predicting DataLoader 0:  92%|█████████▎| 37/40 [00:14<00:01,  2.62it/s]"
     ]
    },
    {
     "name": "stdout",
     "output_type": "stream",
     "text": [
      "\r",
      "Predicting DataLoader 0:  95%|█████████▌| 38/40 [00:14<00:00,  2.58it/s]"
     ]
    },
    {
     "name": "stdout",
     "output_type": "stream",
     "text": [
      "\r",
      "Predicting DataLoader 0:  98%|█████████▊| 39/40 [00:14<00:00,  2.63it/s]"
     ]
    },
    {
     "name": "stdout",
     "output_type": "stream",
     "text": [
      "\r",
      "Predicting DataLoader 0: 100%|██████████| 40/40 [00:15<00:00,  2.66it/s]"
     ]
    },
    {
     "name": "stdout",
     "output_type": "stream",
     "text": [
      "\r",
      "Predicting DataLoader 0: 100%|██████████| 40/40 [00:15<00:00,  2.66it/s]"
     ]
    },
    {
     "name": "stdout",
     "output_type": "stream",
     "text": [
      "\n"
     ]
    },
    {
     "data": {
      "text/plain": [
       "{'accuracy': 0.9097387173396675}"
      ]
     },
     "execution_count": 10,
     "metadata": {},
     "output_type": "execute_result"
    }
   ],
   "source": [
    "# Evaluation\n",
    "predictor.evaluate(test_df)"
   ]
  },
  {
   "cell_type": "code",
   "execution_count": 11,
   "metadata": {
    "execution": {
     "iopub.execute_input": "2024-03-30T04:42:02.063353Z",
     "iopub.status.busy": "2024-03-30T04:42:02.063112Z",
     "iopub.status.idle": "2024-03-30T04:42:02.067225Z",
     "shell.execute_reply": "2024-03-30T04:42:02.066739Z"
    }
   },
   "outputs": [
    {
     "name": "stdout",
     "output_type": "stream",
     "text": [
      "Leaderboard not available\n"
     ]
    }
   ],
   "source": [
    "# Leaderboard of models\n",
    "# Not sure this will work\n",
    "try:\n",
    "    leaderboard = predictor.leaderboard(test_df)\n",
    "    # Save to Excel\n",
    "    leaderboard.to_excel('../../../Output/Modelling/Autogluon/' + model_name + '_leaderboard.xlsx', index=False)\n",
    "    leaderboard\n",
    "except:\n",
    "    print('Leaderboard not available')\n",
    "    pass"
   ]
  },
  {
   "cell_type": "code",
   "execution_count": 12,
   "metadata": {
    "execution": {
     "iopub.execute_input": "2024-03-30T04:42:02.072825Z",
     "iopub.status.busy": "2024-03-30T04:42:02.072605Z",
     "iopub.status.idle": "2024-03-30T04:42:02.076329Z",
     "shell.execute_reply": "2024-03-30T04:42:02.075836Z"
    }
   },
   "outputs": [
    {
     "name": "stdout",
     "output_type": "stream",
     "text": [
      "Leaderboard not available\n"
     ]
    }
   ],
   "source": [
    "# Keep columns model, score_test and output to LaTeX\n",
    "# Rename to 'Model' and 'Test Accuracy'\n",
    "try:\n",
    "    leaderboard[['model', 'score_test']].rename(columns={'model': 'Model', 'score_test': 'Test Accuracy'}).to_latex('../../../Output/Modelling/Autogluon/' + model_name + '_leaderboard.tex', index=False)\n",
    "except:\n",
    "    print('Leaderboard not available')\n",
    "    pass"
   ]
  },
  {
   "cell_type": "markdown",
   "metadata": {},
   "source": [
    "## Hyperparameters"
   ]
  },
  {
   "cell_type": "code",
   "execution_count": 13,
   "metadata": {
    "execution": {
     "iopub.execute_input": "2024-03-30T04:42:02.082406Z",
     "iopub.status.busy": "2024-03-30T04:42:02.081954Z",
     "iopub.status.idle": "2024-03-30T04:42:02.087107Z",
     "shell.execute_reply": "2024-03-30T04:42:02.086636Z"
    }
   },
   "outputs": [
    {
     "name": "stdout",
     "output_type": "stream",
     "text": [
      "Hyperparameters not available\n"
     ]
    }
   ],
   "source": [
    "# Model info including hyperparameters\n",
    "# Not sure this will work\n",
    "try:\n",
    "    pred_info = predictor.info()\n",
    "    # Get model hyperparameters\n",
    "    list_of_models = pred_info['model_info'].keys()\n",
    "    # List of dataframes to fill\n",
    "    list_of_dfs = []\n",
    "    # Iterate over models\n",
    "    for model in list_of_models:\n",
    "        # Get hyperparameters\n",
    "        hyperparameters = pred_info['model_info'][model]['hyperparameters']\n",
    "        # Convert to dataframe\n",
    "        df = pd.DataFrame.from_dict(hyperparameters, orient='index')\n",
    "        # Add model name\n",
    "        df['model'] = model\n",
    "        # Append to list\n",
    "        list_of_dfs.append(df)\n",
    "    # Concatenate all dataframes\n",
    "    hyperparameters_df = pd.concat(list_of_dfs).reset_index().rename(columns={'index': 'hyperparameter', 0: 'value'})[['model', 'hyperparameter', 'value']]\n",
    "    # Save to Excel\n",
    "    hyperparameters_df.to_excel('../../../Output/Modelling/Autogluon/' + model_name + '_hyperparameters.xlsx', index=False)\n",
    "    hyperparameters_df\n",
    "except:\n",
    "    print('Hyperparameters not available')\n",
    "    pass\n"
   ]
  },
  {
   "cell_type": "markdown",
   "metadata": {},
   "source": [
    "## Feature Importance via Permutation"
   ]
  },
  {
   "cell_type": "code",
   "execution_count": 14,
   "metadata": {
    "execution": {
     "iopub.execute_input": "2024-03-30T04:42:02.092026Z",
     "iopub.status.busy": "2024-03-30T04:42:02.091779Z",
     "iopub.status.idle": "2024-03-30T04:42:02.096539Z",
     "shell.execute_reply": "2024-03-30T04:42:02.096055Z"
    }
   },
   "outputs": [
    {
     "name": "stdout",
     "output_type": "stream",
     "text": [
      "Feature importance not available\n"
     ]
    }
   ],
   "source": [
    "# Feature importance\n",
    "# Not sure this will work\n",
    "try:\n",
    "    # Feature importance\n",
    "    fi = predictor.feature_importance(test_df)\n",
    "    # Save to Excel\n",
    "    fi.to_excel('../../../Output/Modelling/Autogluon/' + model_name + '_feature_importance.xlsx', index=False)\n",
    "    # Output 10 most important items to LaTeX\n",
    "    # Rename importance to 'Average Drop in Accuracy'\n",
    "    # Rename stddev to 'Standard Deviation'\n",
    "    # Rename pvalue to 'P-Value'\n",
    "    fi.reset_index().rename(columns={'index': 'feature'})[['feature', 'importance', 'stddev', 'p_value']].rename(columns={'feature': 'Feature', 'importance': 'Average Drop in Accuracy', 'stddev': 'Standard Deviation', 'p_value': 'P-Value'}).head(10).to_latex('../../../Output/Modelling/Autogluon/' + model_name + '_feature_importance.tex', index=False)\n",
    "    # Print entire df\n",
    "    pd.set_option('display.max_rows', None)\n",
    "    fi\n",
    "except:\n",
    "    print('Feature importance not available')\n",
    "    pass"
   ]
  }
 ],
 "metadata": {
  "kernelspec": {
   "display_name": "capstone",
   "language": "python",
   "name": "python3"
  },
  "language_info": {
   "codemirror_mode": {
    "name": "ipython",
    "version": 3
   },
   "file_extension": ".py",
   "mimetype": "text/x-python",
   "name": "python",
   "nbconvert_exporter": "python",
   "pygments_lexer": "ipython3",
   "version": "3.11.8"
  }
 },
 "nbformat": 4,
 "nbformat_minor": 2
}
