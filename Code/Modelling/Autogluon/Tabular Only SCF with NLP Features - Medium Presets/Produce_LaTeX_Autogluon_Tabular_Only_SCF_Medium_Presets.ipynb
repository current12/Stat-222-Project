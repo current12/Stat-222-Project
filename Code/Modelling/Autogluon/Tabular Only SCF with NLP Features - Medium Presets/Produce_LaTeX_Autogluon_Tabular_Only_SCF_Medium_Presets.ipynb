{
 "cells": [
  {
   "cell_type": "markdown",
   "metadata": {},
   "source": [
    "# Produce LaTeX - Autogluon Tabular Only SCF Medium Presets"
   ]
  },
  {
   "cell_type": "code",
   "execution_count": null,
   "metadata": {},
   "outputs": [],
   "source": [
    "# Packages\n",
    "import pandas as pd"
   ]
  },
  {
   "cell_type": "markdown",
   "metadata": {},
   "source": [
    "## Leaderboard"
   ]
  },
  {
   "cell_type": "code",
   "execution_count": null,
   "metadata": {},
   "outputs": [],
   "source": [
    "# Load '../../../../Output/Modelling/Autogluon/Autogluon_Tabular_Only_SCF_Medium_Presets_leaderboard.xlsx'\n",
    "leaderboard = pd.read_excel('../../../../Output/Modelling/Autogluon/Autogluon_Tabular_Only_SCF_Medium_Presets_leaderboard.xlsx')\n",
    "leaderboard"
   ]
  },
  {
   "cell_type": "code",
   "execution_count": null,
   "metadata": {},
   "outputs": [],
   "source": [
    "# Keep columns model, score_test and output to LaTeX\n",
    "# Rename to 'Model' and 'Test Accuracy'\n",
    "lt_lb = leaderboard[['model', 'score_test']].rename(columns={'model': 'Model', 'score_test': 'Test Accuracy'})\n",
    "# Clean up column values, being sure to remove underscores\n",
    "lt_lb"
   ]
  },
  {
   "cell_type": "code",
   "execution_count": null,
   "metadata": {},
   "outputs": [],
   "source": [
    "# Output\n",
    "lt_lb.to_latex('../../../Output/Modelling/Autogluon/Autogluon_Tabular_Only_SCF_Medium_Presets_leaderboard.tex', index=False)"
   ]
  },
  {
   "cell_type": "markdown",
   "metadata": {},
   "source": [
    "## Feature Importance"
   ]
  },
  {
   "cell_type": "code",
   "execution_count": null,
   "metadata": {},
   "outputs": [],
   "source": [
    "fi = pd.read_excel('../../../Output/Modelling/Autogluon/Autogluon_Tabular_Only_SCF_Medium_Presets_feature_importance.xlsx', index=False)\n",
    "fi"
   ]
  },
  {
   "cell_type": "code",
   "execution_count": null,
   "metadata": {},
   "outputs": [],
   "source": [
    "# Output 10 most important items to LaTeX\n",
    "# Rename importance to 'Average Drop in Accuracy'\n",
    "# Rename stddev to 'Standard Deviation'\n",
    "# Rename pvalue to 'P-Value'\n",
    "fi_latex = fi.reset_index().rename(columns={'index': 'feature'})[['feature', 'importance', 'stddev', 'p_value']].rename(columns={'feature': 'Feature', 'importance': 'Average Drop in Accuracy', 'stddev': 'Standard Deviation', 'p_value': 'P-Value'}).head(10)\n",
    "\n",
    "# Clean up column values, being sure to remove underscores\n",
    "\n",
    "fi_latex"
   ]
  },
  {
   "cell_type": "code",
   "execution_count": null,
   "metadata": {},
   "outputs": [],
   "source": [
    "# Output\n",
    "fi_latex.to_latex('../../../Output/Modelling/Autogluon/Autogluon_Tabular_Only_SCF_Medium_Presets_feature_importance.tex', index=False)"
   ]
  }
 ],
 "metadata": {
  "language_info": {
   "name": "python"
  }
 },
 "nbformat": 4,
 "nbformat_minor": 2
}
