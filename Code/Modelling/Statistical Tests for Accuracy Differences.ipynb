{
 "cells": [
  {
   "cell_type": "markdown",
   "metadata": {},
   "source": [
    "# Statistical Tests for Accuracy Differences\n",
    "\n",
    "Run McNemar's test to see if accuracy differences are significant."
   ]
  },
  {
   "cell_type": "code",
   "execution_count": 32,
   "metadata": {},
   "outputs": [],
   "source": [
    "import pandas as pd\n",
    "from statsmodels.stats.contingency_tables import mcnemar"
   ]
  },
  {
   "cell_type": "markdown",
   "metadata": {},
   "source": [
    "## Function"
   ]
  },
  {
   "cell_type": "code",
   "execution_count": 33,
   "metadata": {},
   "outputs": [],
   "source": [
    "def run_test(merged_data):\n",
    "    '''\n",
    "    Run McNemar's Test on two models' predictions.\n",
    "\n",
    "    Parameters:\n",
    "    - merged_data: a pandas DataFrame with columns 'ticker', 'fixed_quarter_date', and 'correct_model_1' and 'correct_model_2', which are boolean values indicating whether the prediction was correct for each model.\n",
    "    '''\n",
    "\n",
    "    print('model 1 accuracy: ' + str(merged_data['correct_model_1'].mean()))\n",
    "    print('model 2 accuracy: ' + str(merged_data['correct_model_2'].mean()))\n",
    "\n",
    "    # Fill contingency table cells\n",
    "    m1_correct_m2_correct = merged_data[(merged_data['correct_model_1'] == True) & (merged_data['correct_model_2'] == True)].shape[0]\n",
    "    m1_correct_m2_incorrect = merged_data[(merged_data['correct_model_1'] == True) & (merged_data['correct_model_2'] == False)].shape[0]\n",
    "    m1_incorrect_m2_correct = merged_data[(merged_data['correct_model_1'] == False) & (merged_data['correct_model_2'] == True)].shape[0]\n",
    "    m1_incorrect_m2_incorrect = merged_data[(merged_data['correct_model_1'] == False) & (merged_data['correct_model_2'] == False)].shape[0]\n",
    "    \n",
    "    # Create a contingency table\n",
    "    # Rows for m1 correct and incorrect\n",
    "    # Columns for m2 correct and incorrect\n",
    "    contingency_table = [[m1_correct_m2_correct, m1_correct_m2_incorrect], \n",
    "                         [m1_incorrect_m2_correct, m1_incorrect_m2_incorrect]]\n",
    "  \n",
    "    print('McNemar\\'s Test contingency table:')\n",
    "    print(contingency_table)\n",
    "\n",
    "    # McNemar's Test, non-exact, without any continuity correction \n",
    "    print('Test results, non-exact, no continuity correction:')\n",
    "    print(mcnemar(contingency_table, exact=False, correction=False)) \n",
    "\n",
    "    # McNemar's Test, non-exact, with continuity correction\n",
    "    print('Test results, non-exact, with continuity correction:')\n",
    "    print(mcnemar(contingency_table, exact=False, correction=True))\n",
    "\n",
    "    # McNemar's Test, exact, without any continuity correction\n",
    "    print('Test results, exact, no continuity correction:')\n",
    "    print(mcnemar(contingency_table, exact=True, correction=False))\n",
    "\n",
    "    # ncc_result = mcnemar(contingency_table, exact=True, correction=False)\n",
    "    # ncc_statistic = ncc_result.statistic\n",
    "    # ncc_p_value = ncc_result.pvalue\n",
    "\n",
    "def test_models(model_1_short_path, model_2_short_path):\n",
    "\n",
    "    print('running for ' + model_1_short_path + ' and ' + model_2_short_path)\n",
    "\n",
    "    # Load first model from '../../Data/Predictions/' + model_1_short_path\n",
    "    model_1_data = pd.read_excel('../../Data/Predictions/' + model_1_short_path)\n",
    "    print(model_1_data.head())\n",
    "    # Third column is true, last is predicted, add column for 'correct'\n",
    "    model_1_data['correct'] = model_1_data.iloc[:, 2] == model_1_data.iloc[:, 3]\n",
    "    # Load second model from '../../Data/Predictions/' + model_2_short_path\n",
    "    model_2_data = pd.read_excel('../../Data/Predictions/' + model_2_short_path)\n",
    "    print(model_2_data.head())\n",
    "    # Third column is true, last is predicted, add column for 'correct'\n",
    "    model_2_data['correct'] = model_2_data.iloc[:, 2] == model_2_data.iloc[:, 3]\n",
    "    # Merge the two datasets on 'ticker' and 'fixed_quarter_date'\n",
    "    merged_data = pd.merge(model_1_data, model_2_data, on=['ticker', 'fixed_quarter_date'], suffixes=('_model_1', '_model_2'))\n",
    "\n",
    "    # Run test\n",
    "    run_test(merged_data)"
   ]
  },
  {
   "cell_type": "markdown",
   "metadata": {},
   "source": [
    "## Run Tests"
   ]
  },
  {
   "cell_type": "code",
   "execution_count": 34,
   "metadata": {},
   "outputs": [
    {
     "name": "stdout",
     "output_type": "stream",
     "text": [
      "running for Logistic Regression/include_previous_rating_model_2/include_previous_rating_model_2_predictions.xlsx and Logistic Regression/include_previous_rating_model_3/include_previous_rating_model_3_predictions.xlsx\n",
      "  ticker fixed_quarter_date Rating include_previous_rating_model_2_predictions\n",
      "0   AAPL         2016-07-01     AA                                          AA\n",
      "1   ABBV         2015-04-01      A                                           A\n",
      "2   ABBV         2016-04-01      A                                           A\n",
      "3    ABC         2012-04-01      A                                           A\n",
      "4    ABC         2013-01-01      A                                           A\n",
      "  ticker fixed_quarter_date Rating include_previous_rating_model_3_predictions\n",
      "0   AAPL         2016-07-01     AA                                          AA\n",
      "1   ABBV         2015-04-01      A                                           A\n",
      "2   ABBV         2016-04-01      A                                           A\n",
      "3    ABC         2012-04-01      A                                           A\n",
      "4    ABC         2013-01-01      A                                           A\n",
      "model 1 accuracy: 0.9508050089445438\n",
      "model 2 accuracy: 0.9508050089445438\n",
      "McNemar's Test contingency table:\n",
      "[[1063, 0], [0, 55]]\n",
      "Test results, non-exact, no continuity correction:\n",
      "pvalue      nan\n",
      "statistic   nan\n",
      "Test results, non-exact, with continuity correction:\n",
      "pvalue      0.0\n",
      "statistic   inf\n",
      "Test results, exact, no continuity correction:\n",
      "pvalue      1.0\n",
      "statistic   0.0\n"
     ]
    },
    {
     "name": "stderr",
     "output_type": "stream",
     "text": [
      "c:\\Users\\ijyli\\miniforge3\\envs\\capstone\\Lib\\site-packages\\statsmodels\\stats\\contingency_tables.py:1348: RuntimeWarning: invalid value encountered in scalar divide\n",
      "  statistic = (np.abs(n1 - n2) - corr)**2 / (1. * (n1 + n2))\n",
      "c:\\Users\\ijyli\\miniforge3\\envs\\capstone\\Lib\\site-packages\\statsmodels\\stats\\contingency_tables.py:1348: RuntimeWarning: divide by zero encountered in scalar divide\n",
      "  statistic = (np.abs(n1 - n2) - corr)**2 / (1. * (n1 + n2))\n"
     ]
    }
   ],
   "source": [
    "test_models('Logistic Regression/include_previous_rating_model_2/include_previous_rating_model_2_predictions.xlsx',\n",
    "            'Logistic Regression/include_previous_rating_model_3/include_previous_rating_model_3_predictions.xlsx')"
   ]
  },
  {
   "cell_type": "code",
   "execution_count": 35,
   "metadata": {},
   "outputs": [
    {
     "name": "stdout",
     "output_type": "stream",
     "text": [
      "running for Logistic Regression/exclude_previous_rating_model_2/exclude_previous_rating_model_2_predictions.xlsx and Logistic Regression/exclude_previous_rating_model_3/exclude_previous_rating_model_3_predictions.xlsx\n",
      "  ticker fixed_quarter_date Rating exclude_previous_rating_model_2_predictions\n",
      "0   AAPL         2016-07-01     AA                                          AA\n",
      "1   ABBV         2015-04-01      A                                          AA\n",
      "2   ABBV         2016-04-01      A                                          AA\n",
      "3    ABC         2012-04-01      A                                           A\n",
      "4    ABC         2013-01-01      A                                           A\n",
      "  ticker fixed_quarter_date Rating exclude_previous_rating_model_3_predictions\n",
      "0   AAPL         2016-07-01     AA                                          AA\n",
      "1   ABBV         2015-04-01      A                                          AA\n",
      "2   ABBV         2016-04-01      A                                         AAA\n",
      "3    ABC         2012-04-01      A                                           A\n",
      "4    ABC         2013-01-01      A                                           A\n",
      "model 1 accuracy: 0.6225402504472272\n",
      "model 2 accuracy: 0.6332737030411449\n",
      "McNemar's Test contingency table:\n",
      "[[633, 63], [75, 347]]\n",
      "Test results, non-exact, no continuity correction:\n",
      "pvalue      0.3070138980338223\n",
      "statistic   1.0434782608695652\n",
      "Test results, non-exact, with continuity correction:\n",
      "pvalue      0.3490764476262922\n",
      "statistic   0.8768115942028986\n",
      "Test results, exact, no continuity correction:\n",
      "pvalue      0.34911516637678097\n",
      "statistic   63.0\n"
     ]
    }
   ],
   "source": [
    "test_models('Logistic Regression/exclude_previous_rating_model_2/exclude_previous_rating_model_2_predictions.xlsx',\n",
    "            'Logistic Regression/exclude_previous_rating_model_3/exclude_previous_rating_model_3_predictions.xlsx')"
   ]
  },
  {
   "cell_type": "code",
   "execution_count": 36,
   "metadata": {},
   "outputs": [
    {
     "name": "stdout",
     "output_type": "stream",
     "text": [
      "running for Logistic Regression/smote_rating_change_model_2/smote_rating_change_model_2_predictions.xlsx and Logistic Regression/smote_rating_change_model_3/smote_rating_change_model_3_predictions.xlsx\n",
      "  ticker fixed_quarter_date Change Direction Since Last Fixed Quarter Date  \\\n",
      "0   AAPL         2016-07-01                Same As Last Fixed Quarter Date   \n",
      "1   ABBV         2015-04-01                Same As Last Fixed Quarter Date   \n",
      "2   ABBV         2016-04-01                Same As Last Fixed Quarter Date   \n",
      "3    ABC         2012-04-01                Same As Last Fixed Quarter Date   \n",
      "4    ABC         2013-01-01                Same As Last Fixed Quarter Date   \n",
      "\n",
      "   smote_rating_change_model_2_predictions  \n",
      "0          Same As Last Fixed Quarter Date  \n",
      "1  Downgrade Since Last Fixed Quarter Date  \n",
      "2          Same As Last Fixed Quarter Date  \n",
      "3          Same As Last Fixed Quarter Date  \n",
      "4          Same As Last Fixed Quarter Date  \n",
      "  ticker fixed_quarter_date Change Direction Since Last Fixed Quarter Date  \\\n",
      "0   AAPL         2016-07-01                Same As Last Fixed Quarter Date   \n",
      "1   ABBV         2015-04-01                Same As Last Fixed Quarter Date   \n",
      "2   ABBV         2016-04-01                Same As Last Fixed Quarter Date   \n",
      "3    ABC         2012-04-01                Same As Last Fixed Quarter Date   \n",
      "4    ABC         2013-01-01                Same As Last Fixed Quarter Date   \n",
      "\n",
      "   smote_rating_change_model_3_predictions  \n",
      "0          Same As Last Fixed Quarter Date  \n",
      "1  Downgrade Since Last Fixed Quarter Date  \n",
      "2          Same As Last Fixed Quarter Date  \n",
      "3          Same As Last Fixed Quarter Date  \n",
      "4          Same As Last Fixed Quarter Date  \n",
      "model 1 accuracy: 0.7003577817531306\n",
      "model 2 accuracy: 0.7164579606440071\n",
      "McNemar's Test contingency table:\n",
      "[[707, 76], [94, 241]]\n",
      "Test results, non-exact, no continuity correction:\n",
      "pvalue      0.16742137180281572\n",
      "statistic   1.9058823529411764\n",
      "Test results, non-exact, with continuity correction:\n",
      "pvalue      0.19228797711151613\n",
      "statistic   1.7\n",
      "Test results, exact, no continuity correction:\n",
      "pvalue      0.19213646543397744\n",
      "statistic   76.0\n"
     ]
    }
   ],
   "source": [
    "test_models('Logistic Regression/smote_rating_change_model_2/smote_rating_change_model_2_predictions.xlsx',\n",
    "            'Logistic Regression/smote_rating_change_model_3/smote_rating_change_model_3_predictions.xlsx')"
   ]
  },
  {
   "cell_type": "code",
   "execution_count": 37,
   "metadata": {},
   "outputs": [
    {
     "name": "stdout",
     "output_type": "stream",
     "text": [
      "running for Logistic Regression/smote_rating_change_model_2/smote_rating_change_model_2_predictions.xlsx and Logistic Regression/smote_rating_change_model_3/smote_rating_change_model_3_predictions.xlsx\n",
      "  ticker fixed_quarter_date Change Direction Since Last Fixed Quarter Date  \\\n",
      "0   AAPL         2016-07-01                Same As Last Fixed Quarter Date   \n",
      "1   ABBV         2015-04-01                Same As Last Fixed Quarter Date   \n",
      "2   ABBV         2016-04-01                Same As Last Fixed Quarter Date   \n",
      "3    ABC         2012-04-01                Same As Last Fixed Quarter Date   \n",
      "4    ABC         2013-01-01                Same As Last Fixed Quarter Date   \n",
      "\n",
      "   smote_rating_change_model_2_predictions  \n",
      "0          Same As Last Fixed Quarter Date  \n",
      "1  Downgrade Since Last Fixed Quarter Date  \n",
      "2          Same As Last Fixed Quarter Date  \n",
      "3          Same As Last Fixed Quarter Date  \n",
      "4          Same As Last Fixed Quarter Date  \n",
      "  ticker fixed_quarter_date Change Direction Since Last Fixed Quarter Date  \\\n",
      "0   AAPL         2016-07-01                Same As Last Fixed Quarter Date   \n",
      "1   ABBV         2015-04-01                Same As Last Fixed Quarter Date   \n",
      "2   ABBV         2016-04-01                Same As Last Fixed Quarter Date   \n",
      "3    ABC         2012-04-01                Same As Last Fixed Quarter Date   \n",
      "4    ABC         2013-01-01                Same As Last Fixed Quarter Date   \n",
      "\n",
      "   smote_rating_change_model_3_predictions  \n",
      "0          Same As Last Fixed Quarter Date  \n",
      "1  Downgrade Since Last Fixed Quarter Date  \n",
      "2          Same As Last Fixed Quarter Date  \n",
      "3          Same As Last Fixed Quarter Date  \n",
      "4          Same As Last Fixed Quarter Date  \n",
      "model 1 accuracy: 0.7003577817531306\n",
      "model 2 accuracy: 0.7164579606440071\n",
      "McNemar's Test contingency table:\n",
      "[[707, 76], [94, 241]]\n",
      "Test results, non-exact, no continuity correction:\n",
      "pvalue      0.16742137180281572\n",
      "statistic   1.9058823529411764\n",
      "Test results, non-exact, with continuity correction:\n",
      "pvalue      0.19228797711151613\n",
      "statistic   1.7\n",
      "Test results, exact, no continuity correction:\n",
      "pvalue      0.19213646543397744\n",
      "statistic   76.0\n"
     ]
    }
   ],
   "source": [
    "test_models('Logistic Regression/smote_rating_change_model_2/smote_rating_change_model_2_predictions.xlsx',\n",
    "            'Logistic Regression/smote_rating_change_model_3/smote_rating_change_model_3_predictions.xlsx')"
   ]
  },
  {
   "cell_type": "code",
   "execution_count": 38,
   "metadata": {},
   "outputs": [
    {
     "name": "stdout",
     "output_type": "stream",
     "text": [
      "running for XGBoost/include_previous_rating_model_2/include_previous_rating_model_2_predictions.xlsx and XGBoost/include_previous_rating_model_3/include_previous_rating_model_3_predictions.xlsx\n",
      "  ticker fixed_quarter_date Rating include_previous_rating_model_2_predictions\n",
      "0   AAPL         2016-07-01     AA                                          AA\n",
      "1   ABBV         2015-04-01      A                                           A\n",
      "2   ABBV         2016-04-01      A                                           A\n",
      "3    ABC         2012-04-01      A                                           A\n",
      "4    ABC         2013-01-01      A                                           A\n",
      "  ticker fixed_quarter_date Rating include_previous_rating_model_3_predictions\n",
      "0   AAPL         2016-07-01     AA                                          AA\n",
      "1   ABBV         2015-04-01      A                                           A\n",
      "2   ABBV         2016-04-01      A                                           A\n",
      "3    ABC         2012-04-01      A                                           A\n",
      "4    ABC         2013-01-01      A                                           A\n",
      "model 1 accuracy: 0.9534883720930233\n",
      "model 2 accuracy: 0.9534883720930233\n",
      "McNemar's Test contingency table:\n",
      "[[1066, 0], [0, 52]]\n",
      "Test results, non-exact, no continuity correction:\n",
      "pvalue      nan\n",
      "statistic   nan\n",
      "Test results, non-exact, with continuity correction:\n",
      "pvalue      0.0\n",
      "statistic   inf\n",
      "Test results, exact, no continuity correction:\n",
      "pvalue      1.0\n",
      "statistic   0.0\n"
     ]
    },
    {
     "name": "stderr",
     "output_type": "stream",
     "text": [
      "c:\\Users\\ijyli\\miniforge3\\envs\\capstone\\Lib\\site-packages\\statsmodels\\stats\\contingency_tables.py:1348: RuntimeWarning: invalid value encountered in scalar divide\n",
      "  statistic = (np.abs(n1 - n2) - corr)**2 / (1. * (n1 + n2))\n",
      "c:\\Users\\ijyli\\miniforge3\\envs\\capstone\\Lib\\site-packages\\statsmodels\\stats\\contingency_tables.py:1348: RuntimeWarning: divide by zero encountered in scalar divide\n",
      "  statistic = (np.abs(n1 - n2) - corr)**2 / (1. * (n1 + n2))\n"
     ]
    }
   ],
   "source": [
    "test_models('XGBoost/include_previous_rating_model_2/include_previous_rating_model_2_predictions.xlsx',\n",
    "            'XGBoost/include_previous_rating_model_3/include_previous_rating_model_3_predictions.xlsx')"
   ]
  },
  {
   "cell_type": "code",
   "execution_count": 39,
   "metadata": {},
   "outputs": [
    {
     "name": "stdout",
     "output_type": "stream",
     "text": [
      "running for XGBoost/exclude_previous_rating_model_2/exclude_previous_rating_model_2_predictions.xlsx and XGBoost/exclude_previous_rating_model_3/exclude_previous_rating_model_3_predictions.xlsx\n",
      "  ticker fixed_quarter_date Rating exclude_previous_rating_model_2_predictions\n",
      "0   AAPL         2016-07-01     AA                                          AA\n",
      "1   ABBV         2015-04-01      A                                           A\n",
      "2   ABBV         2016-04-01      A                                           A\n",
      "3    ABC         2012-04-01      A                                          BB\n",
      "4    ABC         2013-01-01      A                                           A\n",
      "  ticker fixed_quarter_date Rating exclude_previous_rating_model_3_predictions\n",
      "0   AAPL         2016-07-01     AA                                          AA\n",
      "1   ABBV         2015-04-01      A                                           A\n",
      "2   ABBV         2016-04-01      A                                           A\n",
      "3    ABC         2012-04-01      A                                           A\n",
      "4    ABC         2013-01-01      A                                           A\n",
      "model 1 accuracy: 0.7629695885509838\n",
      "model 2 accuracy: 0.9033989266547406\n",
      "McNemar's Test contingency table:\n",
      "[[834, 19], [176, 89]]\n",
      "Test results, non-exact, no continuity correction:\n",
      "pvalue      2.5070476423857516e-29\n",
      "statistic   126.40512820512821\n",
      "Test results, non-exact, with continuity correction:\n",
      "pvalue      5.629168852358394e-29\n",
      "statistic   124.8\n",
      "Test results, exact, no continuity correction:\n",
      "pvalue      4.7996549529545174e-33\n",
      "statistic   19.0\n"
     ]
    }
   ],
   "source": [
    "test_models('XGBoost/exclude_previous_rating_model_2/exclude_previous_rating_model_2_predictions.xlsx',\n",
    "            'XGBoost/exclude_previous_rating_model_3/exclude_previous_rating_model_3_predictions.xlsx')"
   ]
  },
  {
   "cell_type": "code",
   "execution_count": 40,
   "metadata": {},
   "outputs": [
    {
     "name": "stdout",
     "output_type": "stream",
     "text": [
      "running for XGBoost/rating_change_model_2/rating_change_model_2_predictions.xlsx and XGBoost/rating_change_model_3/rating_change_model_3_predictions.xlsx\n",
      "  ticker fixed_quarter_date Change Direction Since Last Fixed Quarter Date  \\\n",
      "0   AAPL         2016-07-01                Same As Last Fixed Quarter Date   \n",
      "1   ABBV         2015-04-01                Same As Last Fixed Quarter Date   \n",
      "2   ABBV         2016-04-01                Same As Last Fixed Quarter Date   \n",
      "3    ABC         2012-04-01                Same As Last Fixed Quarter Date   \n",
      "4    ABC         2013-01-01                Same As Last Fixed Quarter Date   \n",
      "\n",
      "  rating_change_model_2_predictions  \n",
      "0   Same As Last Fixed Quarter Date  \n",
      "1   Same As Last Fixed Quarter Date  \n",
      "2   Same As Last Fixed Quarter Date  \n",
      "3   Same As Last Fixed Quarter Date  \n",
      "4   Same As Last Fixed Quarter Date  \n",
      "  ticker fixed_quarter_date Change Direction Since Last Fixed Quarter Date  \\\n",
      "0   AAPL         2016-07-01                Same As Last Fixed Quarter Date   \n",
      "1   ABBV         2015-04-01                Same As Last Fixed Quarter Date   \n",
      "2   ABBV         2016-04-01                Same As Last Fixed Quarter Date   \n",
      "3    ABC         2012-04-01                Same As Last Fixed Quarter Date   \n",
      "4    ABC         2013-01-01                Same As Last Fixed Quarter Date   \n",
      "\n",
      "  rating_change_model_3_predictions  \n",
      "0   Same As Last Fixed Quarter Date  \n",
      "1   Same As Last Fixed Quarter Date  \n",
      "2   Same As Last Fixed Quarter Date  \n",
      "3   Same As Last Fixed Quarter Date  \n",
      "4   Same As Last Fixed Quarter Date  \n",
      "model 1 accuracy: 0.9516994633273703\n",
      "model 2 accuracy: 0.9534883720930233\n",
      "McNemar's Test contingency table:\n",
      "[[1064, 0], [2, 52]]\n",
      "Test results, non-exact, no continuity correction:\n",
      "pvalue      0.15729920705028105\n",
      "statistic   2.0\n",
      "Test results, non-exact, with continuity correction:\n",
      "pvalue      0.47950012218695337\n",
      "statistic   0.5\n",
      "Test results, exact, no continuity correction:\n",
      "pvalue      0.5\n",
      "statistic   0.0\n"
     ]
    }
   ],
   "source": [
    "test_models('XGBoost/rating_change_model_2/rating_change_model_2_predictions.xlsx',\n",
    "            'XGBoost/rating_change_model_3/rating_change_model_3_predictions.xlsx')"
   ]
  },
  {
   "cell_type": "code",
   "execution_count": 41,
   "metadata": {},
   "outputs": [
    {
     "name": "stdout",
     "output_type": "stream",
     "text": [
      "running for XGBoost/smote_rating_change_model_2/smote_rating_change_model_2_predictions.xlsx and XGBoost/smote_rating_change_model_3/smote_rating_change_model_3_predictions.xlsx\n",
      "  ticker fixed_quarter_date Change Direction Since Last Fixed Quarter Date  \\\n",
      "0   AAPL         2016-07-01                Same As Last Fixed Quarter Date   \n",
      "1   ABBV         2015-04-01                Same As Last Fixed Quarter Date   \n",
      "2   ABBV         2016-04-01                Same As Last Fixed Quarter Date   \n",
      "3    ABC         2012-04-01                Same As Last Fixed Quarter Date   \n",
      "4    ABC         2013-01-01                Same As Last Fixed Quarter Date   \n",
      "\n",
      "  smote_rating_change_model_2_predictions  \n",
      "0         Same As Last Fixed Quarter Date  \n",
      "1         Same As Last Fixed Quarter Date  \n",
      "2         Same As Last Fixed Quarter Date  \n",
      "3         Same As Last Fixed Quarter Date  \n",
      "4         Same As Last Fixed Quarter Date  \n",
      "  ticker fixed_quarter_date Change Direction Since Last Fixed Quarter Date  \\\n",
      "0   AAPL         2016-07-01                Same As Last Fixed Quarter Date   \n",
      "1   ABBV         2015-04-01                Same As Last Fixed Quarter Date   \n",
      "2   ABBV         2016-04-01                Same As Last Fixed Quarter Date   \n",
      "3    ABC         2012-04-01                Same As Last Fixed Quarter Date   \n",
      "4    ABC         2013-01-01                Same As Last Fixed Quarter Date   \n",
      "\n",
      "  smote_rating_change_model_3_predictions  \n",
      "0         Same As Last Fixed Quarter Date  \n",
      "1         Same As Last Fixed Quarter Date  \n",
      "2         Same As Last Fixed Quarter Date  \n",
      "3         Same As Last Fixed Quarter Date  \n",
      "4         Same As Last Fixed Quarter Date  \n",
      "model 1 accuracy: 0.945438282647585\n",
      "model 2 accuracy: 0.9490161001788909\n",
      "McNemar's Test contingency table:\n",
      "[[1055, 2], [6, 55]]\n",
      "Test results, non-exact, no continuity correction:\n",
      "pvalue      0.15729920705028105\n",
      "statistic   2.0\n",
      "Test results, non-exact, with continuity correction:\n",
      "pvalue      0.2888443663464818\n",
      "statistic   1.125\n",
      "Test results, exact, no continuity correction:\n",
      "pvalue      0.2890625\n",
      "statistic   2.0\n"
     ]
    }
   ],
   "source": [
    "test_models('XGBoost/smote_rating_change_model_2/smote_rating_change_model_2_predictions.xlsx',\n",
    "            'XGBoost/smote_rating_change_model_3/smote_rating_change_model_3_predictions.xlsx')"
   ]
  },
  {
   "cell_type": "markdown",
   "metadata": {},
   "source": [
    "### Graph NN Tests"
   ]
  },
  {
   "cell_type": "code",
   "execution_count": 42,
   "metadata": {},
   "outputs": [
    {
     "name": "stdout",
     "output_type": "stream",
     "text": [
      "  target pred               node\n",
      "0     AA   AA  AAPL : 2016-07-01\n",
      "1      A    A  ABBV : 2015-04-01\n",
      "2      A    A  ABBV : 2016-04-01\n",
      "3      A  BBB   ABC : 2013-04-01\n",
      "4      A    A   ABC : 2013-07-01\n"
     ]
    }
   ],
   "source": [
    "# Reformatted GNN data\n",
    "\n",
    "# Example\n",
    "inductive_gnn_test = pd.read_excel('../../Data/Predictions/Graph Neural Network/Inductive/exclude_previous_rating_model_2_predictions.xlsx')\n",
    "print(inductive_gnn_test.head())\n",
    "\n",
    "def reformat_gnn_data(short_path):\n",
    "    # Load GNN data\n",
    "    gnn_df = pd.read_excel('../../Data/Predictions/Graph Neural Network/' + short_path)\n",
    "    # Split node on ' : ' into 'ticker' and 'fixed_quarter_date'\n",
    "    gnn_df[['ticker', 'fixed_quarter_date']] = gnn_df['node'].str.split(' : ', expand=True)\n",
    "    # Keep only 'ticker', 'fixed_quarter_date', 'target', pred\n",
    "    gnn_df = gnn_df[['ticker', 'fixed_quarter_date', 'target', 'pred']]\n",
    "    # Save to new file\n",
    "    # New path - replace / with /reformatted_\n",
    "    new_path = short_path.replace('/', '/reformatted_')\n",
    "    gnn_df.to_excel('../../Data/Predictions/Graph Neural Network/' + new_path, index=False)\n",
    "\n",
    "reformat_gnn_data('Transductive/exclude_previous_rating_model_2_predictions.xlsx')\n",
    "reformat_gnn_data('Transductive/exclude_previous_rating_model_3_predictions.xlsx')\n",
    "reformat_gnn_data('Inductive/exclude_previous_rating_model_2_predictions.xlsx')\n",
    "reformat_gnn_data('Inductive/exclude_previous_rating_model_3_predictions.xlsx')"
   ]
  },
  {
   "cell_type": "markdown",
   "metadata": {},
   "source": [
    "#### Internal GNN Comparisons"
   ]
  },
  {
   "cell_type": "code",
   "execution_count": 43,
   "metadata": {},
   "outputs": [
    {
     "name": "stdout",
     "output_type": "stream",
     "text": [
      "running for Graph Neural Network/Transductive/reformatted_exclude_previous_rating_model_2_predictions.xlsx and Graph Neural Network/Transductive/reformatted_exclude_previous_rating_model_3_predictions.xlsx\n",
      "  ticker fixed_quarter_date target pred\n",
      "0   AAPL         2016-07-01     AA   AA\n",
      "1   ABBV         2015-04-01      A   AA\n",
      "2   ABBV         2016-04-01      A    A\n",
      "3    ABC         2013-04-01      A  BBB\n",
      "4    ABC         2013-07-01      A    A\n",
      "  ticker fixed_quarter_date target pred\n",
      "0   AAPL         2016-07-01     AA   AA\n",
      "1   ABBV         2015-04-01      A    A\n",
      "2   ABBV         2016-04-01      A    A\n",
      "3    ABC         2013-04-01      A  BBB\n",
      "4    ABC         2013-07-01      A    A\n",
      "model 1 accuracy: 0.6034912718204489\n",
      "model 2 accuracy: 0.6209476309226932\n",
      "McNemar's Test contingency table:\n",
      "[[216, 26], [33, 126]]\n",
      "Test results, non-exact, no continuity correction:\n",
      "pvalue      0.3621255394916624\n",
      "statistic   0.8305084745762712\n",
      "Test results, non-exact, with continuity correction:\n",
      "pvalue      0.43472400072864315\n",
      "statistic   0.6101694915254238\n",
      "Test results, exact, no continuity correction:\n",
      "pvalue      0.43499280512215344\n",
      "statistic   26.0\n"
     ]
    }
   ],
   "source": [
    "# Test models\n",
    "test_models('Graph Neural Network/Transductive/reformatted_exclude_previous_rating_model_2_predictions.xlsx',\n",
    "            'Graph Neural Network/Transductive/reformatted_exclude_previous_rating_model_3_predictions.xlsx')"
   ]
  },
  {
   "cell_type": "code",
   "execution_count": 44,
   "metadata": {},
   "outputs": [
    {
     "name": "stdout",
     "output_type": "stream",
     "text": [
      "running for Graph Neural Network/Inductive/reformatted_exclude_previous_rating_model_2_predictions.xlsx and Graph Neural Network/Inductive/reformatted_exclude_previous_rating_model_3_predictions.xlsx\n",
      "  ticker fixed_quarter_date target pred\n",
      "0   AAPL         2016-07-01     AA   AA\n",
      "1   ABBV         2015-04-01      A    A\n",
      "2   ABBV         2016-04-01      A    A\n",
      "3    ABC         2013-04-01      A  BBB\n",
      "4    ABC         2013-07-01      A    A\n",
      "  ticker fixed_quarter_date target pred\n",
      "0   AAPL         2016-07-01     AA   AA\n",
      "1   ABBV         2015-04-01      A    A\n",
      "2   ABBV         2016-04-01      A    A\n",
      "3    ABC         2013-04-01      A  BBB\n",
      "4    ABC         2013-07-01      A    A\n",
      "model 1 accuracy: 0.6259351620947631\n",
      "model 2 accuracy: 0.6159600997506235\n",
      "McNemar's Test contingency table:\n",
      "[[220, 31], [27, 123]]\n",
      "Test results, non-exact, no continuity correction:\n",
      "pvalue      0.5994262792958636\n",
      "statistic   0.27586206896551724\n",
      "Test results, non-exact, with continuity correction:\n",
      "pvalue      0.6936406217837585\n",
      "statistic   0.15517241379310345\n",
      "Test results, exact, no continuity correction:\n",
      "pvalue      0.6940040940761318\n",
      "statistic   27.0\n"
     ]
    }
   ],
   "source": [
    "# Test models\n",
    "test_models('Graph Neural Network/Inductive/reformatted_exclude_previous_rating_model_2_predictions.xlsx',\n",
    "            'Graph Neural Network/Inductive/reformatted_exclude_previous_rating_model_3_predictions.xlsx')"
   ]
  },
  {
   "cell_type": "markdown",
   "metadata": {},
   "source": [
    "#### GNN and Other Classifiers"
   ]
  },
  {
   "cell_type": "code",
   "execution_count": 45,
   "metadata": {},
   "outputs": [
    {
     "name": "stdout",
     "output_type": "stream",
     "text": [
      "running for Graph Neural Network/Inductive/reformatted_exclude_previous_rating_model_3_predictions.xlsx and Graph Neural Network/Other Classifiers on GNN Data/lr_retrain_predictions.xlsx\n",
      "  ticker fixed_quarter_date target pred\n",
      "0   AAPL         2016-07-01     AA   AA\n",
      "1   ABBV         2015-04-01      A    A\n",
      "2   ABBV         2016-04-01      A    A\n",
      "3    ABC         2013-04-01      A  BBB\n",
      "4    ABC         2013-07-01      A    A\n",
      "  ticker fixed_quarter_date Rating prediction\n",
      "0   AAPL         2016-07-01     AA         AA\n",
      "1   ABBV         2015-04-01      A         AA\n",
      "2   ABBV         2016-04-01      A          A\n",
      "3    ABC         2013-04-01      A          A\n",
      "4    ABC         2013-07-01      A          A\n",
      "model 1 accuracy: 0.6159600997506235\n",
      "model 2 accuracy: 0.6234413965087282\n",
      "McNemar's Test contingency table:\n",
      "[[209, 38], [41, 113]]\n",
      "Test results, non-exact, no continuity correction:\n",
      "pvalue      0.7357201366272508\n",
      "statistic   0.11392405063291139\n",
      "Test results, non-exact, with continuity correction:\n",
      "pvalue      0.8219655979326043\n",
      "statistic   0.05063291139240506\n",
      "Test results, exact, no continuity correction:\n",
      "pvalue      0.8221442424521863\n",
      "statistic   38.0\n"
     ]
    }
   ],
   "source": [
    "test_models('Graph Neural Network/Inductive/reformatted_exclude_previous_rating_model_3_predictions.xlsx',\n",
    "            'Graph Neural Network/Other Classifiers on GNN Data/lr_retrain_predictions.xlsx')"
   ]
  },
  {
   "cell_type": "code",
   "execution_count": 46,
   "metadata": {},
   "outputs": [
    {
     "name": "stdout",
     "output_type": "stream",
     "text": [
      "running for Graph Neural Network/Inductive/reformatted_exclude_previous_rating_model_3_predictions.xlsx and Graph Neural Network/Other Classifiers on GNN Data/xgb_retrain_predictions.xlsx\n",
      "  ticker fixed_quarter_date target pred\n",
      "0   AAPL         2016-07-01     AA   AA\n",
      "1   ABBV         2015-04-01      A    A\n",
      "2   ABBV         2016-04-01      A    A\n",
      "3    ABC         2013-04-01      A  BBB\n",
      "4    ABC         2013-07-01      A    A\n",
      "  ticker fixed_quarter_date Rating prediction\n",
      "0   AAPL         2016-07-01     AA         AA\n",
      "1   ABBV         2015-04-01      A          A\n",
      "2   ABBV         2016-04-01      A          A\n",
      "3    ABC         2013-04-01      A          A\n",
      "4    ABC         2013-07-01      A          A\n",
      "model 1 accuracy: 0.6159600997506235\n",
      "model 2 accuracy: 0.8229426433915212\n",
      "McNemar's Test contingency table:\n",
      "[[234, 13], [96, 58]]\n",
      "Test results, non-exact, no continuity correction:\n",
      "pvalue      1.865745065507734e-15\n",
      "statistic   63.20183486238532\n",
      "Test results, non-exact, with continuity correction:\n",
      "pvalue      4.024103640207776e-15\n",
      "statistic   61.68807339449541\n",
      "Test results, exact, no continuity correction:\n",
      "pvalue      8.303445016382138e-17\n",
      "statistic   13.0\n"
     ]
    }
   ],
   "source": [
    "test_models('Graph Neural Network/Inductive/reformatted_exclude_previous_rating_model_3_predictions.xlsx',\n",
    "            'Graph Neural Network/Other Classifiers on GNN Data/xgb_retrain_predictions.xlsx')"
   ]
  },
  {
   "cell_type": "code",
   "execution_count": 47,
   "metadata": {},
   "outputs": [
    {
     "name": "stdout",
     "output_type": "stream",
     "text": [
      "running for Graph Neural Network/Transductive/reformatted_exclude_previous_rating_model_3_predictions.xlsx and Graph Neural Network/Other Classifiers on GNN Data/lr_retrain_predictions.xlsx\n",
      "  ticker fixed_quarter_date target pred\n",
      "0   AAPL         2016-07-01     AA   AA\n",
      "1   ABBV         2015-04-01      A    A\n",
      "2   ABBV         2016-04-01      A    A\n",
      "3    ABC         2013-04-01      A  BBB\n",
      "4    ABC         2013-07-01      A    A\n",
      "  ticker fixed_quarter_date Rating prediction\n",
      "0   AAPL         2016-07-01     AA         AA\n",
      "1   ABBV         2015-04-01      A         AA\n",
      "2   ABBV         2016-04-01      A          A\n",
      "3    ABC         2013-04-01      A          A\n",
      "4    ABC         2013-07-01      A          A\n",
      "model 1 accuracy: 0.6209476309226932\n",
      "model 2 accuracy: 0.6234413965087282\n",
      "McNemar's Test contingency table:\n",
      "[[202, 47], [48, 104]]\n",
      "Test results, non-exact, no continuity correction:\n",
      "pvalue      0.9182821610274703\n",
      "statistic   0.010526315789473684\n",
      "Test results, non-exact, with continuity correction:\n",
      "pvalue      1.0\n",
      "statistic   0.0\n",
      "Test results, exact, no continuity correction:\n",
      "pvalue      1.0\n",
      "statistic   47.0\n"
     ]
    }
   ],
   "source": [
    "test_models('Graph Neural Network/Transductive/reformatted_exclude_previous_rating_model_3_predictions.xlsx',\n",
    "            'Graph Neural Network/Other Classifiers on GNN Data/lr_retrain_predictions.xlsx')"
   ]
  },
  {
   "cell_type": "code",
   "execution_count": 48,
   "metadata": {},
   "outputs": [
    {
     "name": "stdout",
     "output_type": "stream",
     "text": [
      "running for Graph Neural Network/Transductive/reformatted_exclude_previous_rating_model_3_predictions.xlsx and Graph Neural Network/Other Classifiers on GNN Data/xgb_retrain_predictions.xlsx\n",
      "  ticker fixed_quarter_date target pred\n",
      "0   AAPL         2016-07-01     AA   AA\n",
      "1   ABBV         2015-04-01      A    A\n",
      "2   ABBV         2016-04-01      A    A\n",
      "3    ABC         2013-04-01      A  BBB\n",
      "4    ABC         2013-07-01      A    A\n",
      "  ticker fixed_quarter_date Rating prediction\n",
      "0   AAPL         2016-07-01     AA         AA\n",
      "1   ABBV         2015-04-01      A          A\n",
      "2   ABBV         2016-04-01      A          A\n",
      "3    ABC         2013-04-01      A          A\n",
      "4    ABC         2013-07-01      A          A\n",
      "model 1 accuracy: 0.6209476309226932\n",
      "model 2 accuracy: 0.8229426433915212\n",
      "McNemar's Test contingency table:\n",
      "[[236, 13], [94, 58]]\n",
      "Test results, non-exact, no continuity correction:\n",
      "pvalue      4.856801898137302e-15\n",
      "statistic   61.3177570093458\n",
      "Test results, non-exact, with continuity correction:\n",
      "pvalue      1.0430760369792842e-14\n",
      "statistic   59.81308411214953\n",
      "Test results, exact, no continuity correction:\n",
      "pvalue      2.5812862792321837e-16\n",
      "statistic   13.0\n"
     ]
    }
   ],
   "source": [
    "test_models('Graph Neural Network/Transductive/reformatted_exclude_previous_rating_model_3_predictions.xlsx',\n",
    "            'Graph Neural Network/Other Classifiers on GNN Data/xgb_retrain_predictions.xlsx')"
   ]
  },
  {
   "cell_type": "code",
   "execution_count": 49,
   "metadata": {},
   "outputs": [
    {
     "name": "stdout",
     "output_type": "stream",
     "text": [
      "running for Graph Neural Network/Inductive/reformatted_exclude_previous_rating_model_3_predictions.xlsx and Graph Neural Network/Other Classifiers on GNN Data/lr_pretrained_predictions.xlsx\n",
      "  ticker fixed_quarter_date target pred\n",
      "0   AAPL         2016-07-01     AA   AA\n",
      "1   ABBV         2015-04-01      A    A\n",
      "2   ABBV         2016-04-01      A    A\n",
      "3    ABC         2013-04-01      A  BBB\n",
      "4    ABC         2013-07-01      A    A\n",
      "  ticker fixed_quarter_date Rating exclude_previous_rating_model_3_predictions\n",
      "0   AAPL         2016-07-01     AA                                          AA\n",
      "1   ABBV         2015-04-01      A                                          AA\n",
      "2   ABBV         2016-04-01      A                                         AAA\n",
      "3    ABC         2013-04-01      A                                           A\n",
      "4    ABC         2013-07-01      A                                           A\n",
      "model 1 accuracy: 0.6159600997506235\n",
      "model 2 accuracy: 0.6683291770573566\n",
      "McNemar's Test contingency table:\n",
      "[[198, 49], [70, 84]]\n",
      "Test results, non-exact, no continuity correction:\n",
      "pvalue      0.05422099630917656\n",
      "statistic   3.7058823529411766\n",
      "Test results, non-exact, with continuity correction:\n",
      "pvalue      0.06674355431693438\n",
      "statistic   3.361344537815126\n",
      "Test results, exact, no continuity correction:\n",
      "pvalue      0.06629133125279607\n",
      "statistic   49.0\n"
     ]
    }
   ],
   "source": [
    "test_models('Graph Neural Network/Inductive/reformatted_exclude_previous_rating_model_3_predictions.xlsx',\n",
    "            'Graph Neural Network/Other Classifiers on GNN Data/lr_pretrained_predictions.xlsx')"
   ]
  },
  {
   "cell_type": "code",
   "execution_count": 50,
   "metadata": {},
   "outputs": [
    {
     "name": "stdout",
     "output_type": "stream",
     "text": [
      "running for Graph Neural Network/Inductive/reformatted_exclude_previous_rating_model_3_predictions.xlsx and Graph Neural Network/Other Classifiers on GNN Data/xgb_pretrained_predictions.xlsx\n",
      "  ticker fixed_quarter_date target pred\n",
      "0   AAPL         2016-07-01     AA   AA\n",
      "1   ABBV         2015-04-01      A    A\n",
      "2   ABBV         2016-04-01      A    A\n",
      "3    ABC         2013-04-01      A  BBB\n",
      "4    ABC         2013-07-01      A    A\n",
      "  ticker fixed_quarter_date Rating exclude_previous_rating_model_3_predictions\n",
      "0   AAPL         2016-07-01     AA                                          AA\n",
      "1   ABBV         2015-04-01      A                                           A\n",
      "2   ABBV         2016-04-01      A                                           A\n",
      "3    ABC         2013-04-01      A                                           A\n",
      "4    ABC         2013-07-01      A                                           A\n",
      "model 1 accuracy: 0.6159600997506235\n",
      "model 2 accuracy: 0.8927680798004988\n",
      "McNemar's Test contingency table:\n",
      "[[238, 9], [120, 34]]\n",
      "Test results, non-exact, no continuity correction:\n",
      "pvalue      1.470251791908585e-22\n",
      "statistic   95.51162790697674\n",
      "Test results, non-exact, with continuity correction:\n",
      "pvalue      3.493453580961607e-22\n",
      "statistic   93.7984496124031\n",
      "Test results, exact, no continuity correction:\n",
      "pvalue      6.501235288164661e-26\n",
      "statistic   9.0\n"
     ]
    }
   ],
   "source": [
    "test_models('Graph Neural Network/Inductive/reformatted_exclude_previous_rating_model_3_predictions.xlsx',\n",
    "            'Graph Neural Network/Other Classifiers on GNN Data/xgb_pretrained_predictions.xlsx')"
   ]
  },
  {
   "cell_type": "code",
   "execution_count": 51,
   "metadata": {},
   "outputs": [
    {
     "name": "stdout",
     "output_type": "stream",
     "text": [
      "running for Graph Neural Network/Transductive/reformatted_exclude_previous_rating_model_3_predictions.xlsx and Graph Neural Network/Other Classifiers on GNN Data/lr_pretrained_predictions.xlsx\n",
      "  ticker fixed_quarter_date target pred\n",
      "0   AAPL         2016-07-01     AA   AA\n",
      "1   ABBV         2015-04-01      A    A\n",
      "2   ABBV         2016-04-01      A    A\n",
      "3    ABC         2013-04-01      A  BBB\n",
      "4    ABC         2013-07-01      A    A\n",
      "  ticker fixed_quarter_date Rating exclude_previous_rating_model_3_predictions\n",
      "0   AAPL         2016-07-01     AA                                          AA\n",
      "1   ABBV         2015-04-01      A                                          AA\n",
      "2   ABBV         2016-04-01      A                                         AAA\n",
      "3    ABC         2013-04-01      A                                           A\n",
      "4    ABC         2013-07-01      A                                           A\n",
      "model 1 accuracy: 0.6209476309226932\n",
      "model 2 accuracy: 0.6683291770573566\n",
      "McNemar's Test contingency table:\n",
      "[[193, 56], [75, 77]]\n",
      "Test results, non-exact, no continuity correction:\n",
      "pvalue      0.09690686701850447\n",
      "statistic   2.7557251908396947\n",
      "Test results, non-exact, with continuity correction:\n",
      "pvalue      0.11579587487387692\n",
      "statistic   2.4732824427480917\n",
      "Test results, exact, no continuity correction:\n",
      "pvalue      0.1154544882922597\n",
      "statistic   56.0\n"
     ]
    }
   ],
   "source": [
    "test_models('Graph Neural Network/Transductive/reformatted_exclude_previous_rating_model_3_predictions.xlsx',\n",
    "            'Graph Neural Network/Other Classifiers on GNN Data/lr_pretrained_predictions.xlsx')"
   ]
  },
  {
   "cell_type": "code",
   "execution_count": 52,
   "metadata": {},
   "outputs": [
    {
     "name": "stdout",
     "output_type": "stream",
     "text": [
      "running for Graph Neural Network/Transductive/reformatted_exclude_previous_rating_model_3_predictions.xlsx and Graph Neural Network/Other Classifiers on GNN Data/xgb_pretrained_predictions.xlsx\n",
      "  ticker fixed_quarter_date target pred\n",
      "0   AAPL         2016-07-01     AA   AA\n",
      "1   ABBV         2015-04-01      A    A\n",
      "2   ABBV         2016-04-01      A    A\n",
      "3    ABC         2013-04-01      A  BBB\n",
      "4    ABC         2013-07-01      A    A\n",
      "  ticker fixed_quarter_date Rating exclude_previous_rating_model_3_predictions\n",
      "0   AAPL         2016-07-01     AA                                          AA\n",
      "1   ABBV         2015-04-01      A                                           A\n",
      "2   ABBV         2016-04-01      A                                           A\n",
      "3    ABC         2013-04-01      A                                           A\n",
      "4    ABC         2013-07-01      A                                           A\n",
      "model 1 accuracy: 0.6209476309226932\n",
      "model 2 accuracy: 0.8927680798004988\n",
      "McNemar's Test contingency table:\n",
      "[[240, 9], [118, 34]]\n",
      "Test results, non-exact, no continuity correction:\n",
      "pvalue      3.9583137285950927e-22\n",
      "statistic   93.55118110236221\n",
      "Test results, non-exact, with continuity correction:\n",
      "pvalue      9.38559957803573e-22\n",
      "statistic   91.84251968503936\n",
      "Test results, exact, no continuity correction:\n",
      "pvalue      2.2519524486033766e-25\n",
      "statistic   9.0\n"
     ]
    }
   ],
   "source": [
    "test_models('Graph Neural Network/Transductive/reformatted_exclude_previous_rating_model_3_predictions.xlsx',\n",
    "            'Graph Neural Network/Other Classifiers on GNN Data/xgb_pretrained_predictions.xlsx')"
   ]
  }
 ],
 "metadata": {
  "kernelspec": {
   "display_name": "capstone",
   "language": "python",
   "name": "python3"
  },
  "language_info": {
   "codemirror_mode": {
    "name": "ipython",
    "version": 3
   },
   "file_extension": ".py",
   "mimetype": "text/x-python",
   "name": "python",
   "nbconvert_exporter": "python",
   "pygments_lexer": "ipython3",
   "version": "3.11.8"
  }
 },
 "nbformat": 4,
 "nbformat_minor": 2
}
