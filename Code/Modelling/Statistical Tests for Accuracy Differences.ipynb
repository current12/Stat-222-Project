{
 "cells": [
  {
   "cell_type": "markdown",
   "metadata": {},
   "source": [
    "# Statistical Tests for Accuracy Differences\n",
    "\n",
    "Run McNemar's test to see if accuracy differences are significant."
   ]
  },
  {
   "cell_type": "code",
   "execution_count": 11,
   "metadata": {},
   "outputs": [],
   "source": [
    "import pandas as pd\n",
    "from statsmodels.stats.contingency_tables import mcnemar"
   ]
  },
  {
   "cell_type": "markdown",
   "metadata": {},
   "source": [
    "## Function"
   ]
  },
  {
   "cell_type": "code",
   "execution_count": 12,
   "metadata": {},
   "outputs": [],
   "source": [
    "def run_test(merged_data):\n",
    "\n",
    "    # Fill contingency table cells\n",
    "    m1_correct_m2_correct = merged_data[(merged_data['correct_model_1'] == True) & (merged_data['correct_model_2'] == True)].shape[0]\n",
    "    m1_correct_m2_incorrect = merged_data[(merged_data['correct_model_1'] == True) & (merged_data['correct_model_2'] == False)].shape[0]\n",
    "    m1_incorrect_m2_correct = merged_data[(merged_data['correct_model_1'] == False) & (merged_data['correct_model_2'] == True)].shape[0]\n",
    "    m1_incorrect_m2_incorrect = merged_data[(merged_data['correct_model_1'] == False) & (merged_data['correct_model_2'] == False)].shape[0]\n",
    "    \n",
    "    # Create a contingency table\n",
    "    # Rows for m1 correct and incorrect\n",
    "    # Columns for m2 correct and incorrect\n",
    "    contingency_table = [[m1_correct_m2_correct, m1_correct_m2_incorrect], \n",
    "                         [m1_incorrect_m2_correct, m1_incorrect_m2_incorrect]]\n",
    "  \n",
    "    print('McNemar\\'s Test contingency table:')\n",
    "    print(contingency_table)\n",
    "\n",
    "    # McNemar's Test, non-exact, without any continuity correction \n",
    "    print('Test results, non-exact, no continuity correction:')\n",
    "    print(mcnemar(contingency_table, exact=False, correction=False)) \n",
    "\n",
    "    # McNemar's Test, non-exact, with continuity correction\n",
    "    print('Test results, non-exact, with continuity correction:')\n",
    "    print(mcnemar(contingency_table, exact=False, correction=True))\n",
    "\n",
    "    # McNemar's Test, exact, without any continuity correction\n",
    "    print('Test results, exact, no continuity correction:')\n",
    "    print(mcnemar(contingency_table, exact=True, correction=False))\n",
    "\n",
    "    # ncc_result = mcnemar(contingency_table, exact=True, correction=False)\n",
    "    # ncc_statistic = ncc_result.statistic\n",
    "    # ncc_p_value = ncc_result.pvalue\n",
    "\n",
    "def test_models(model_1_short_path, model_2_short_path):\n",
    "\n",
    "    print('running for ' + model_1_short_path + ' and ' + model_2_short_path)\n",
    "\n",
    "    # Load first model from '../../Data/Predictions/' + model_1_short_path\n",
    "    model_1_data = pd.read_excel('../../Data/Predictions/' + model_1_short_path)\n",
    "    print(model_1_data.head())\n",
    "    # Third column is true, last is predicted, add column for 'correct'\n",
    "    model_1_data['correct'] = model_1_data.iloc[:, 2] == model_1_data.iloc[:, 3]\n",
    "    # Load second model from '../../Data/Predictions/' + model_2_short_path\n",
    "    model_2_data = pd.read_excel('../../Data/Predictions/' + model_2_short_path)\n",
    "    print(model_2_data.head())\n",
    "    # Third column is true, last is predicted, add column for 'correct'\n",
    "    model_2_data['correct'] = model_2_data.iloc[:, 2] == model_2_data.iloc[:, 3]\n",
    "    # Merge the two datasets on 'ticker' and 'fixed_quarter_date'\n",
    "    merged_data = pd.merge(model_1_data, model_2_data, on=['ticker', 'fixed_quarter_date'], suffixes=('_model_1', '_model_2'))\n",
    "\n",
    "    # Run test\n",
    "    run_test(merged_data)"
   ]
  },
  {
   "cell_type": "markdown",
   "metadata": {},
   "source": [
    "## Run Tests"
   ]
  },
  {
   "cell_type": "code",
   "execution_count": 13,
   "metadata": {},
   "outputs": [
    {
     "name": "stdout",
     "output_type": "stream",
     "text": [
      "running for Logistic Regression/include_previous_rating_model_2/include_previous_rating_model_2_predictions.xlsx and Logistic Regression/include_previous_rating_model_3/include_previous_rating_model_3_predictions.xlsx\n",
      "  ticker fixed_quarter_date Rating include_previous_rating_model_2_predictions\n",
      "0   AAPL         2016-07-01     AA                                          AA\n",
      "1   ABBV         2015-04-01      A                                           A\n",
      "2   ABBV         2016-04-01      A                                           A\n",
      "3    ABC         2012-04-01      A                                           A\n",
      "4    ABC         2013-01-01      A                                           A\n",
      "  ticker fixed_quarter_date Rating include_previous_rating_model_3_predictions\n",
      "0   AAPL         2016-07-01     AA                                          AA\n",
      "1   ABBV         2015-04-01      A                                           A\n",
      "2   ABBV         2016-04-01      A                                           A\n",
      "3    ABC         2012-04-01      A                                           A\n",
      "4    ABC         2013-01-01      A                                           A\n",
      "McNemar's Test contingency table:\n",
      "[[1063, 0], [0, 55]]\n",
      "Test results, non-exact, no continuity correction:\n",
      "pvalue      nan\n",
      "statistic   nan\n",
      "Test results, non-exact, with continuity correction:\n",
      "pvalue      0.0\n",
      "statistic   inf\n",
      "Test results, exact, no continuity correction:\n",
      "pvalue      1.0\n",
      "statistic   0.0\n"
     ]
    },
    {
     "name": "stderr",
     "output_type": "stream",
     "text": [
      "c:\\Users\\ijyli\\miniforge3\\envs\\capstone\\Lib\\site-packages\\statsmodels\\stats\\contingency_tables.py:1348: RuntimeWarning: invalid value encountered in scalar divide\n",
      "  statistic = (np.abs(n1 - n2) - corr)**2 / (1. * (n1 + n2))\n",
      "c:\\Users\\ijyli\\miniforge3\\envs\\capstone\\Lib\\site-packages\\statsmodels\\stats\\contingency_tables.py:1348: RuntimeWarning: divide by zero encountered in scalar divide\n",
      "  statistic = (np.abs(n1 - n2) - corr)**2 / (1. * (n1 + n2))\n"
     ]
    }
   ],
   "source": [
    "test_models('Logistic Regression/include_previous_rating_model_2/include_previous_rating_model_2_predictions.xlsx',\n",
    "            'Logistic Regression/include_previous_rating_model_3/include_previous_rating_model_3_predictions.xlsx')"
   ]
  },
  {
   "cell_type": "code",
   "execution_count": 14,
   "metadata": {},
   "outputs": [
    {
     "name": "stdout",
     "output_type": "stream",
     "text": [
      "running for Logistic Regression/exclude_previous_rating_model_2/exclude_previous_rating_model_2_predictions.xlsx and Logistic Regression/exclude_previous_rating_model_3/exclude_previous_rating_model_3_predictions.xlsx\n",
      "  ticker fixed_quarter_date Rating exclude_previous_rating_model_2_predictions\n",
      "0   AAPL         2016-07-01     AA                                          AA\n",
      "1   ABBV         2015-04-01      A                                          AA\n",
      "2   ABBV         2016-04-01      A                                          AA\n",
      "3    ABC         2012-04-01      A                                           A\n",
      "4    ABC         2013-01-01      A                                           A\n",
      "  ticker fixed_quarter_date Rating exclude_previous_rating_model_3_predictions\n",
      "0   AAPL         2016-07-01     AA                                          AA\n",
      "1   ABBV         2015-04-01      A                                          AA\n",
      "2   ABBV         2016-04-01      A                                         AAA\n",
      "3    ABC         2012-04-01      A                                           A\n",
      "4    ABC         2013-01-01      A                                           A\n",
      "McNemar's Test contingency table:\n",
      "[[633, 63], [75, 347]]\n",
      "Test results, non-exact, no continuity correction:\n",
      "pvalue      0.3070138980338223\n",
      "statistic   1.0434782608695652\n",
      "Test results, non-exact, with continuity correction:\n",
      "pvalue      0.3490764476262922\n",
      "statistic   0.8768115942028986\n",
      "Test results, exact, no continuity correction:\n",
      "pvalue      0.34911516637678097\n",
      "statistic   63.0\n"
     ]
    }
   ],
   "source": [
    "test_models('Logistic Regression/exclude_previous_rating_model_2/exclude_previous_rating_model_2_predictions.xlsx',\n",
    "            'Logistic Regression/exclude_previous_rating_model_3/exclude_previous_rating_model_3_predictions.xlsx')"
   ]
  },
  {
   "cell_type": "code",
   "execution_count": 15,
   "metadata": {},
   "outputs": [
    {
     "name": "stdout",
     "output_type": "stream",
     "text": [
      "running for Logistic Regression/smote_rating_change_model_2/smote_rating_change_model_2_predictions.xlsx and Logistic Regression/smote_rating_change_model_3/smote_rating_change_model_3_predictions.xlsx\n",
      "  ticker fixed_quarter_date Change Direction Since Last Fixed Quarter Date  \\\n",
      "0   AAPL         2016-07-01                Same As Last Fixed Quarter Date   \n",
      "1   ABBV         2015-04-01                Same As Last Fixed Quarter Date   \n",
      "2   ABBV         2016-04-01                Same As Last Fixed Quarter Date   \n",
      "3    ABC         2012-04-01                Same As Last Fixed Quarter Date   \n",
      "4    ABC         2013-01-01                Same As Last Fixed Quarter Date   \n",
      "\n",
      "   smote_rating_change_model_2_predictions  \n",
      "0          Same As Last Fixed Quarter Date  \n",
      "1  Downgrade Since Last Fixed Quarter Date  \n",
      "2          Same As Last Fixed Quarter Date  \n",
      "3          Same As Last Fixed Quarter Date  \n",
      "4          Same As Last Fixed Quarter Date  \n",
      "  ticker fixed_quarter_date Change Direction Since Last Fixed Quarter Date  \\\n",
      "0   AAPL         2016-07-01                Same As Last Fixed Quarter Date   \n",
      "1   ABBV         2015-04-01                Same As Last Fixed Quarter Date   \n",
      "2   ABBV         2016-04-01                Same As Last Fixed Quarter Date   \n",
      "3    ABC         2012-04-01                Same As Last Fixed Quarter Date   \n",
      "4    ABC         2013-01-01                Same As Last Fixed Quarter Date   \n",
      "\n",
      "   smote_rating_change_model_3_predictions  \n",
      "0          Same As Last Fixed Quarter Date  \n",
      "1  Downgrade Since Last Fixed Quarter Date  \n",
      "2          Same As Last Fixed Quarter Date  \n",
      "3          Same As Last Fixed Quarter Date  \n",
      "4          Same As Last Fixed Quarter Date  \n",
      "McNemar's Test contingency table:\n",
      "[[707, 76], [94, 241]]\n",
      "Test results, non-exact, no continuity correction:\n",
      "pvalue      0.16742137180281572\n",
      "statistic   1.9058823529411764\n",
      "Test results, non-exact, with continuity correction:\n",
      "pvalue      0.19228797711151613\n",
      "statistic   1.7\n",
      "Test results, exact, no continuity correction:\n",
      "pvalue      0.19213646543397744\n",
      "statistic   76.0\n"
     ]
    }
   ],
   "source": [
    "test_models('Logistic Regression/smote_rating_change_model_2/smote_rating_change_model_2_predictions.xlsx',\n",
    "            'Logistic Regression/smote_rating_change_model_3/smote_rating_change_model_3_predictions.xlsx')"
   ]
  },
  {
   "cell_type": "code",
   "execution_count": 16,
   "metadata": {},
   "outputs": [
    {
     "name": "stdout",
     "output_type": "stream",
     "text": [
      "running for Logistic Regression/smote_rating_change_model_2/smote_rating_change_model_2_predictions.xlsx and Logistic Regression/smote_rating_change_model_3/smote_rating_change_model_3_predictions.xlsx\n",
      "  ticker fixed_quarter_date Change Direction Since Last Fixed Quarter Date  \\\n",
      "0   AAPL         2016-07-01                Same As Last Fixed Quarter Date   \n",
      "1   ABBV         2015-04-01                Same As Last Fixed Quarter Date   \n",
      "2   ABBV         2016-04-01                Same As Last Fixed Quarter Date   \n",
      "3    ABC         2012-04-01                Same As Last Fixed Quarter Date   \n",
      "4    ABC         2013-01-01                Same As Last Fixed Quarter Date   \n",
      "\n",
      "   smote_rating_change_model_2_predictions  \n",
      "0          Same As Last Fixed Quarter Date  \n",
      "1  Downgrade Since Last Fixed Quarter Date  \n",
      "2          Same As Last Fixed Quarter Date  \n",
      "3          Same As Last Fixed Quarter Date  \n",
      "4          Same As Last Fixed Quarter Date  \n",
      "  ticker fixed_quarter_date Change Direction Since Last Fixed Quarter Date  \\\n",
      "0   AAPL         2016-07-01                Same As Last Fixed Quarter Date   \n",
      "1   ABBV         2015-04-01                Same As Last Fixed Quarter Date   \n",
      "2   ABBV         2016-04-01                Same As Last Fixed Quarter Date   \n",
      "3    ABC         2012-04-01                Same As Last Fixed Quarter Date   \n",
      "4    ABC         2013-01-01                Same As Last Fixed Quarter Date   \n",
      "\n",
      "   smote_rating_change_model_3_predictions  \n",
      "0          Same As Last Fixed Quarter Date  \n",
      "1  Downgrade Since Last Fixed Quarter Date  \n",
      "2          Same As Last Fixed Quarter Date  \n",
      "3          Same As Last Fixed Quarter Date  \n",
      "4          Same As Last Fixed Quarter Date  \n",
      "McNemar's Test contingency table:\n",
      "[[707, 76], [94, 241]]\n",
      "Test results, non-exact, no continuity correction:\n",
      "pvalue      0.16742137180281572\n",
      "statistic   1.9058823529411764\n",
      "Test results, non-exact, with continuity correction:\n",
      "pvalue      0.19228797711151613\n",
      "statistic   1.7\n",
      "Test results, exact, no continuity correction:\n",
      "pvalue      0.19213646543397744\n",
      "statistic   76.0\n"
     ]
    }
   ],
   "source": [
    "test_models('Logistic Regression/smote_rating_change_model_2/smote_rating_change_model_2_predictions.xlsx',\n",
    "            'Logistic Regression/smote_rating_change_model_3/smote_rating_change_model_3_predictions.xlsx')"
   ]
  },
  {
   "cell_type": "code",
   "execution_count": 17,
   "metadata": {},
   "outputs": [
    {
     "name": "stdout",
     "output_type": "stream",
     "text": [
      "running for XGBoost/include_previous_rating_model_2/include_previous_rating_model_2_predictions.xlsx and XGBoost/include_previous_rating_model_3/include_previous_rating_model_3_predictions.xlsx\n",
      "  ticker fixed_quarter_date Rating include_previous_rating_model_2_predictions\n",
      "0   AAPL         2016-07-01     AA                                          AA\n",
      "1   ABBV         2015-04-01      A                                           A\n",
      "2   ABBV         2016-04-01      A                                           A\n",
      "3    ABC         2012-04-01      A                                           A\n",
      "4    ABC         2013-01-01      A                                           A\n",
      "  ticker fixed_quarter_date Rating include_previous_rating_model_3_predictions\n",
      "0   AAPL         2016-07-01     AA                                          AA\n",
      "1   ABBV         2015-04-01      A                                           A\n",
      "2   ABBV         2016-04-01      A                                           A\n",
      "3    ABC         2012-04-01      A                                           A\n",
      "4    ABC         2013-01-01      A                                           A\n",
      "McNemar's Test contingency table:\n",
      "[[1066, 0], [0, 52]]\n",
      "Test results, non-exact, no continuity correction:\n",
      "pvalue      nan\n",
      "statistic   nan\n",
      "Test results, non-exact, with continuity correction:\n",
      "pvalue      0.0\n",
      "statistic   inf\n",
      "Test results, exact, no continuity correction:\n",
      "pvalue      1.0\n",
      "statistic   0.0\n"
     ]
    },
    {
     "name": "stderr",
     "output_type": "stream",
     "text": [
      "c:\\Users\\ijyli\\miniforge3\\envs\\capstone\\Lib\\site-packages\\statsmodels\\stats\\contingency_tables.py:1348: RuntimeWarning: invalid value encountered in scalar divide\n",
      "  statistic = (np.abs(n1 - n2) - corr)**2 / (1. * (n1 + n2))\n",
      "c:\\Users\\ijyli\\miniforge3\\envs\\capstone\\Lib\\site-packages\\statsmodels\\stats\\contingency_tables.py:1348: RuntimeWarning: divide by zero encountered in scalar divide\n",
      "  statistic = (np.abs(n1 - n2) - corr)**2 / (1. * (n1 + n2))\n"
     ]
    }
   ],
   "source": [
    "test_models('XGBoost/include_previous_rating_model_2/include_previous_rating_model_2_predictions.xlsx',\n",
    "            'XGBoost/include_previous_rating_model_3/include_previous_rating_model_3_predictions.xlsx')"
   ]
  },
  {
   "cell_type": "code",
   "execution_count": 18,
   "metadata": {},
   "outputs": [
    {
     "name": "stdout",
     "output_type": "stream",
     "text": [
      "running for XGBoost/exclude_previous_rating_model_2/exclude_previous_rating_model_2_predictions.xlsx and XGBoost/exclude_previous_rating_model_3/exclude_previous_rating_model_3_predictions.xlsx\n",
      "  ticker fixed_quarter_date Rating exclude_previous_rating_model_2_predictions\n",
      "0   AAPL         2016-07-01     AA                                          AA\n",
      "1   ABBV         2015-04-01      A                                           A\n",
      "2   ABBV         2016-04-01      A                                           A\n",
      "3    ABC         2012-04-01      A                                          BB\n",
      "4    ABC         2013-01-01      A                                           A\n",
      "  ticker fixed_quarter_date Rating exclude_previous_rating_model_3_predictions\n",
      "0   AAPL         2016-07-01     AA                                          AA\n",
      "1   ABBV         2015-04-01      A                                           A\n",
      "2   ABBV         2016-04-01      A                                           A\n",
      "3    ABC         2012-04-01      A                                           A\n",
      "4    ABC         2013-01-01      A                                           A\n",
      "McNemar's Test contingency table:\n",
      "[[834, 19], [176, 89]]\n",
      "Test results, non-exact, no continuity correction:\n",
      "pvalue      2.5070476423857516e-29\n",
      "statistic   126.40512820512821\n",
      "Test results, non-exact, with continuity correction:\n",
      "pvalue      5.629168852358394e-29\n",
      "statistic   124.8\n",
      "Test results, exact, no continuity correction:\n",
      "pvalue      4.7996549529545174e-33\n",
      "statistic   19.0\n"
     ]
    }
   ],
   "source": [
    "test_models('XGBoost/exclude_previous_rating_model_2/exclude_previous_rating_model_2_predictions.xlsx',\n",
    "            'XGBoost/exclude_previous_rating_model_3/exclude_previous_rating_model_3_predictions.xlsx')"
   ]
  },
  {
   "cell_type": "code",
   "execution_count": 19,
   "metadata": {},
   "outputs": [
    {
     "name": "stdout",
     "output_type": "stream",
     "text": [
      "running for XGBoost/rating_change_model_2/rating_change_model_2_predictions.xlsx and XGBoost/rating_change_model_3/rating_change_model_3_predictions.xlsx\n",
      "  ticker fixed_quarter_date Change Direction Since Last Fixed Quarter Date  \\\n",
      "0   AAPL         2016-07-01                Same As Last Fixed Quarter Date   \n",
      "1   ABBV         2015-04-01                Same As Last Fixed Quarter Date   \n",
      "2   ABBV         2016-04-01                Same As Last Fixed Quarter Date   \n",
      "3    ABC         2012-04-01                Same As Last Fixed Quarter Date   \n",
      "4    ABC         2013-01-01                Same As Last Fixed Quarter Date   \n",
      "\n",
      "  rating_change_model_2_predictions  \n",
      "0   Same As Last Fixed Quarter Date  \n",
      "1   Same As Last Fixed Quarter Date  \n",
      "2   Same As Last Fixed Quarter Date  \n",
      "3   Same As Last Fixed Quarter Date  \n",
      "4   Same As Last Fixed Quarter Date  \n",
      "  ticker fixed_quarter_date Change Direction Since Last Fixed Quarter Date  \\\n",
      "0   AAPL         2016-07-01                Same As Last Fixed Quarter Date   \n",
      "1   ABBV         2015-04-01                Same As Last Fixed Quarter Date   \n",
      "2   ABBV         2016-04-01                Same As Last Fixed Quarter Date   \n",
      "3    ABC         2012-04-01                Same As Last Fixed Quarter Date   \n",
      "4    ABC         2013-01-01                Same As Last Fixed Quarter Date   \n",
      "\n",
      "  rating_change_model_3_predictions  \n",
      "0   Same As Last Fixed Quarter Date  \n",
      "1   Same As Last Fixed Quarter Date  \n",
      "2   Same As Last Fixed Quarter Date  \n",
      "3   Same As Last Fixed Quarter Date  \n",
      "4   Same As Last Fixed Quarter Date  \n",
      "McNemar's Test contingency table:\n",
      "[[1064, 0], [2, 52]]\n",
      "Test results, non-exact, no continuity correction:\n",
      "pvalue      0.15729920705028105\n",
      "statistic   2.0\n",
      "Test results, non-exact, with continuity correction:\n",
      "pvalue      0.47950012218695337\n",
      "statistic   0.5\n",
      "Test results, exact, no continuity correction:\n",
      "pvalue      0.5\n",
      "statistic   0.0\n"
     ]
    }
   ],
   "source": [
    "test_models('XGBoost/rating_change_model_2/rating_change_model_2_predictions.xlsx',\n",
    "            'XGBoost/rating_change_model_3/rating_change_model_3_predictions.xlsx')"
   ]
  },
  {
   "cell_type": "code",
   "execution_count": 20,
   "metadata": {},
   "outputs": [
    {
     "name": "stdout",
     "output_type": "stream",
     "text": [
      "running for XGBoost/smote_rating_change_model_2/smote_rating_change_model_2_predictions.xlsx and XGBoost/smote_rating_change_model_3/smote_rating_change_model_3_predictions.xlsx\n",
      "  ticker fixed_quarter_date Change Direction Since Last Fixed Quarter Date  \\\n",
      "0   AAPL         2016-07-01                Same As Last Fixed Quarter Date   \n",
      "1   ABBV         2015-04-01                Same As Last Fixed Quarter Date   \n",
      "2   ABBV         2016-04-01                Same As Last Fixed Quarter Date   \n",
      "3    ABC         2012-04-01                Same As Last Fixed Quarter Date   \n",
      "4    ABC         2013-01-01                Same As Last Fixed Quarter Date   \n",
      "\n",
      "  smote_rating_change_model_2_predictions  \n",
      "0         Same As Last Fixed Quarter Date  \n",
      "1         Same As Last Fixed Quarter Date  \n",
      "2         Same As Last Fixed Quarter Date  \n",
      "3         Same As Last Fixed Quarter Date  \n",
      "4         Same As Last Fixed Quarter Date  \n",
      "  ticker fixed_quarter_date Change Direction Since Last Fixed Quarter Date  \\\n",
      "0   AAPL         2016-07-01                Same As Last Fixed Quarter Date   \n",
      "1   ABBV         2015-04-01                Same As Last Fixed Quarter Date   \n",
      "2   ABBV         2016-04-01                Same As Last Fixed Quarter Date   \n",
      "3    ABC         2012-04-01                Same As Last Fixed Quarter Date   \n",
      "4    ABC         2013-01-01                Same As Last Fixed Quarter Date   \n",
      "\n",
      "  smote_rating_change_model_3_predictions  \n",
      "0         Same As Last Fixed Quarter Date  \n",
      "1         Same As Last Fixed Quarter Date  \n",
      "2         Same As Last Fixed Quarter Date  \n",
      "3         Same As Last Fixed Quarter Date  \n",
      "4         Same As Last Fixed Quarter Date  \n",
      "McNemar's Test contingency table:\n",
      "[[1055, 2], [6, 55]]\n",
      "Test results, non-exact, no continuity correction:\n",
      "pvalue      0.15729920705028105\n",
      "statistic   2.0\n",
      "Test results, non-exact, with continuity correction:\n",
      "pvalue      0.2888443663464818\n",
      "statistic   1.125\n",
      "Test results, exact, no continuity correction:\n",
      "pvalue      0.2890625\n",
      "statistic   2.0\n"
     ]
    }
   ],
   "source": [
    "test_models('XGBoost/smote_rating_change_model_2/smote_rating_change_model_2_predictions.xlsx',\n",
    "            'XGBoost/smote_rating_change_model_3/smote_rating_change_model_3_predictions.xlsx')"
   ]
  },
  {
   "cell_type": "markdown",
   "metadata": {},
   "source": [
    "### Graph NN Tests"
   ]
  },
  {
   "cell_type": "code",
   "execution_count": null,
   "metadata": {},
   "outputs": [],
   "source": []
  }
 ],
 "metadata": {
  "kernelspec": {
   "display_name": "capstone",
   "language": "python",
   "name": "python3"
  },
  "language_info": {
   "codemirror_mode": {
    "name": "ipython",
    "version": 3
   },
   "file_extension": ".py",
   "mimetype": "text/x-python",
   "name": "python",
   "nbconvert_exporter": "python",
   "pygments_lexer": "ipython3",
   "version": "3.11.8"
  }
 },
 "nbformat": 4,
 "nbformat_minor": 2
}
