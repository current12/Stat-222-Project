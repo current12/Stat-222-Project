{
 "cells": [
  {
   "cell_type": "markdown",
   "metadata": {},
   "source": [
    "# Model 3 Permutation Importance"
   ]
  },
  {
   "cell_type": "code",
   "execution_count": 1,
   "metadata": {
    "execution": {
     "iopub.execute_input": "2024-04-29T05:32:45.736682Z",
     "iopub.status.busy": "2024-04-29T05:32:45.736377Z",
     "iopub.status.idle": "2024-04-29T05:32:47.117590Z",
     "shell.execute_reply": "2024-04-29T05:32:47.117164Z"
    }
   },
   "outputs": [],
   "source": [
    "# Packages\n",
    "import sys\n",
    "import os\n",
    "from sklearn.inspection import permutation_importance\n",
    "# Add the parent directory to sys.path\n",
    "sys.path.append(os.path.abspath('..'))\n",
    "# Import module\n",
    "from XGBoost_Functions import *\n",
    "# Model name\n",
    "model_name = 'include_previous_rating_model_3'\n"
   ]
  },
  {
   "cell_type": "markdown",
   "metadata": {},
   "source": [
    "## Standard Model Code"
   ]
  },
  {
   "cell_type": "code",
   "execution_count": 2,
   "metadata": {
    "execution": {
     "iopub.execute_input": "2024-04-29T05:32:47.119758Z",
     "iopub.status.busy": "2024-04-29T05:32:47.119582Z",
     "iopub.status.idle": "2024-04-29T05:32:48.427776Z",
     "shell.execute_reply": "2024-04-29T05:32:48.427017Z"
    }
   },
   "outputs": [],
   "source": [
    "# Load the data\n",
    "df = load_data()"
   ]
  },
  {
   "cell_type": "code",
   "execution_count": 3,
   "metadata": {
    "execution": {
     "iopub.execute_input": "2024-04-29T05:32:48.430921Z",
     "iopub.status.busy": "2024-04-29T05:32:48.430529Z",
     "iopub.status.idle": "2024-04-29T05:32:48.597921Z",
     "shell.execute_reply": "2024-04-29T05:32:48.597215Z"
    }
   },
   "outputs": [],
   "source": [
    "# Get the column names and mapping\n",
    "numeric_feature_columns, cat_feature_columns, target_column, custom_mapping = get_column_names_and_mapping(model_name)"
   ]
  },
  {
   "cell_type": "code",
   "execution_count": 4,
   "metadata": {
    "execution": {
     "iopub.execute_input": "2024-04-29T05:32:48.600528Z",
     "iopub.status.busy": "2024-04-29T05:32:48.600397Z",
     "iopub.status.idle": "2024-04-29T05:32:48.637778Z",
     "shell.execute_reply": "2024-04-29T05:32:48.636987Z"
    }
   },
   "outputs": [
    {
     "name": "stdout",
     "output_type": "stream",
     "text": [
      "feature names: \n",
      "['num__EBIT' 'num__common_plus_preferred_stock' 'num__workingCapital'\n",
      " 'num__Ratio_A' 'num__Ratio_B' 'num__Ratio_C' 'num__Ratio_D'\n",
      " 'num__Ratio_E' 'num__Positiv' 'num__Negativ' 'num__Strong' 'num__Weak'\n",
      " 'num__Active' 'num__Passive' 'num__Ovrst' 'num__Undrst'\n",
      " 'num__cashAndCashEquivalents' 'num__shortTermInvestments'\n",
      " 'num__cashAndShortTermInvestments' 'num__netReceivables'\n",
      " 'num__inventory_balance_sheet' 'num__otherCurrentAssets'\n",
      " 'num__totalCurrentAssets' 'num__propertyPlantEquipmentNet'\n",
      " 'num__goodwill' 'num__intangibleAssets'\n",
      " 'num__goodwillAndIntangibleAssets' 'num__longTermInvestments'\n",
      " 'num__taxAssets' 'num__otherNonCurrentAssets'\n",
      " 'num__totalNonCurrentAssets' 'num__otherAssets' 'num__totalAssets'\n",
      " 'num__accountPayables' 'num__shortTermDebt' 'num__taxPayables'\n",
      " 'num__deferredRevenue' 'num__otherCurrentLiabilities'\n",
      " 'num__totalCurrentLiabilities' 'num__longTermDebt'\n",
      " 'num__deferredRevenueNonCurrent' 'num__deferredTaxLiabilitiesNonCurrent'\n",
      " 'num__otherNonCurrentLiabilities' 'num__totalNonCurrentLiabilities'\n",
      " 'num__otherLiabilities' 'num__capitalLeaseObligations'\n",
      " 'num__totalLiabilities' 'num__preferredStock' 'num__commonStock'\n",
      " 'num__retainedEarnings' 'num__accumulatedOtherComprehensiveIncomeLoss'\n",
      " 'num__othertotalStockholdersEquity' 'num__totalStockholdersEquity'\n",
      " 'num__totalEquity' 'num__totalLiabilitiesAndStockholdersEquity'\n",
      " 'num__minorityInterest' 'num__totalLiabilitiesAndTotalEquity'\n",
      " 'num__totalInvestments' 'num__totalDebt' 'num__netDebt'\n",
      " 'num__netIncome_cash_flow_statement'\n",
      " 'num__depreciationAndAmortization_cash_flow_statement'\n",
      " 'num__deferredIncomeTax' 'num__stockBasedCompensation'\n",
      " 'num__changeInWorkingCapital' 'num__accountsReceivables'\n",
      " 'num__inventory_cash_flow_statement' 'num__accountsPayables'\n",
      " 'num__otherWorkingCapital' 'num__otherNonCashItems'\n",
      " 'num__netCashProvidedByOperatingActivities'\n",
      " 'num__investmentsInPropertyPlantAndEquipment' 'num__acquisitionsNet'\n",
      " 'num__purchasesOfInvestments' 'num__salesMaturitiesOfInvestments'\n",
      " 'num__otherInvestingActivites' 'num__netCashUsedForInvestingActivites'\n",
      " 'num__debtRepayment' 'num__commonStockIssued'\n",
      " 'num__commonStockRepurchased' 'num__dividendsPaid'\n",
      " 'num__otherFinancingActivites'\n",
      " 'num__netCashUsedProvidedByFinancingActivities'\n",
      " 'num__effectOfForexChangesOnCash' 'num__netChangeInCash'\n",
      " 'num__cashAtEndOfPeriod' 'num__cashAtBeginningOfPeriod'\n",
      " 'num__operatingCashFlow' 'num__capitalExpenditure' 'num__freeCashFlow'\n",
      " 'num__revenue' 'num__costOfRevenue' 'num__grossProfit'\n",
      " 'num__grossProfitRatio' 'num__researchAndDevelopmentExpenses'\n",
      " 'num__generalAndAdministrativeExpenses'\n",
      " 'num__sellingAndMarketingExpenses'\n",
      " 'num__sellingGeneralAndAdministrativeExpenses' 'num__otherExpenses'\n",
      " 'num__operatingExpenses' 'num__costAndExpenses' 'num__interestIncome'\n",
      " 'num__interestExpense'\n",
      " 'num__depreciationAndAmortization_income_statement' 'num__ebitda'\n",
      " 'num__ebitdaratio' 'num__operatingIncome' 'num__operatingIncomeRatio'\n",
      " 'num__totalOtherIncomeExpensesNet' 'num__incomeBeforeTax'\n",
      " 'num__incomeBeforeTaxRatio' 'num__incomeTaxExpense'\n",
      " 'num__netIncome_income_statement' 'num__netIncomeRatio' 'num__eps'\n",
      " 'num__epsdiluted' 'num__weightedAverageShsOut'\n",
      " 'num__weightedAverageShsOutDil' 'num__marketCap' 'num__num_transparency'\n",
      " 'num__gf_score' 'num__word_count' 'num__tone' 'num__num_q_by_len'\n",
      " 'num__pos_score_finbert' 'num__currentRatio' 'num__quickRatio'\n",
      " 'num__cashRatio' 'num__returnOnAssets' 'num__returnOnEquity'\n",
      " 'num__returnOnCapitalEmployed' 'num__EBITtoRevenue' 'num__debtRatio'\n",
      " 'num__debtRatioAlt' 'num__debtEquityRatio' 'num__equityMultiplier'\n",
      " 'num__enterpriseValueMultiplier' 'num__operatingCashFlowPerShare'\n",
      " 'num__freeCashFlowPerShare' 'num__cashPerShare'\n",
      " 'num__operatingCashFlowToSales' 'num__freeCashFlowToOperatingCashFlow'\n",
      " 'cat__Sector_Communication Services' 'cat__Sector_Consumer Discretionary'\n",
      " 'cat__Sector_Consumer Staples' 'cat__Sector_Energy'\n",
      " 'cat__Sector_Financials' 'cat__Sector_Health Care'\n",
      " 'cat__Sector_Industrials' 'cat__Sector_Information Technology'\n",
      " 'cat__Sector_Materials' 'cat__Sector_Real Estate' 'cat__Sector_Utilities'\n",
      " 'cat__rating_on_previous_fixed_quarter_date_A'\n",
      " 'cat__rating_on_previous_fixed_quarter_date_AA'\n",
      " 'cat__rating_on_previous_fixed_quarter_date_AAA'\n",
      " 'cat__rating_on_previous_fixed_quarter_date_B'\n",
      " 'cat__rating_on_previous_fixed_quarter_date_BB'\n",
      " 'cat__rating_on_previous_fixed_quarter_date_BBB'\n",
      " 'cat__rating_on_previous_fixed_quarter_date_C'\n",
      " 'cat__rating_on_previous_fixed_quarter_date_CC'\n",
      " 'cat__rating_on_previous_fixed_quarter_date_CCC'\n",
      " 'cat__rating_on_previous_fixed_quarter_date_D']\n"
     ]
    }
   ],
   "source": [
    "# Create matrices\n",
    "_, X_test_scaled, _, y_test, feature_names = prepare_matrices(df, numeric_feature_columns, cat_feature_columns, target_column, custom_mapping)"
   ]
  },
  {
   "cell_type": "markdown",
   "metadata": {},
   "source": [
    "## Load Trained Model"
   ]
  },
  {
   "cell_type": "code",
   "execution_count": 5,
   "metadata": {
    "execution": {
     "iopub.execute_input": "2024-04-29T05:32:48.685423Z",
     "iopub.status.busy": "2024-04-29T05:32:48.685261Z",
     "iopub.status.idle": "2024-04-29T05:32:48.695122Z",
     "shell.execute_reply": "2024-04-29T05:32:48.694526Z"
    }
   },
   "outputs": [
    {
     "data": {
      "text/html": [
       "<style>#sk-container-id-1 {color: black;}#sk-container-id-1 pre{padding: 0;}#sk-container-id-1 div.sk-toggleable {background-color: white;}#sk-container-id-1 label.sk-toggleable__label {cursor: pointer;display: block;width: 100%;margin-bottom: 0;padding: 0.3em;box-sizing: border-box;text-align: center;}#sk-container-id-1 label.sk-toggleable__label-arrow:before {content: \"▸\";float: left;margin-right: 0.25em;color: #696969;}#sk-container-id-1 label.sk-toggleable__label-arrow:hover:before {color: black;}#sk-container-id-1 div.sk-estimator:hover label.sk-toggleable__label-arrow:before {color: black;}#sk-container-id-1 div.sk-toggleable__content {max-height: 0;max-width: 0;overflow: hidden;text-align: left;background-color: #f0f8ff;}#sk-container-id-1 div.sk-toggleable__content pre {margin: 0.2em;color: black;border-radius: 0.25em;background-color: #f0f8ff;}#sk-container-id-1 input.sk-toggleable__control:checked~div.sk-toggleable__content {max-height: 200px;max-width: 100%;overflow: auto;}#sk-container-id-1 input.sk-toggleable__control:checked~label.sk-toggleable__label-arrow:before {content: \"▾\";}#sk-container-id-1 div.sk-estimator input.sk-toggleable__control:checked~label.sk-toggleable__label {background-color: #d4ebff;}#sk-container-id-1 div.sk-label input.sk-toggleable__control:checked~label.sk-toggleable__label {background-color: #d4ebff;}#sk-container-id-1 input.sk-hidden--visually {border: 0;clip: rect(1px 1px 1px 1px);clip: rect(1px, 1px, 1px, 1px);height: 1px;margin: -1px;overflow: hidden;padding: 0;position: absolute;width: 1px;}#sk-container-id-1 div.sk-estimator {font-family: monospace;background-color: #f0f8ff;border: 1px dotted black;border-radius: 0.25em;box-sizing: border-box;margin-bottom: 0.5em;}#sk-container-id-1 div.sk-estimator:hover {background-color: #d4ebff;}#sk-container-id-1 div.sk-parallel-item::after {content: \"\";width: 100%;border-bottom: 1px solid gray;flex-grow: 1;}#sk-container-id-1 div.sk-label:hover label.sk-toggleable__label {background-color: #d4ebff;}#sk-container-id-1 div.sk-serial::before {content: \"\";position: absolute;border-left: 1px solid gray;box-sizing: border-box;top: 0;bottom: 0;left: 50%;z-index: 0;}#sk-container-id-1 div.sk-serial {display: flex;flex-direction: column;align-items: center;background-color: white;padding-right: 0.2em;padding-left: 0.2em;position: relative;}#sk-container-id-1 div.sk-item {position: relative;z-index: 1;}#sk-container-id-1 div.sk-parallel {display: flex;align-items: stretch;justify-content: center;background-color: white;position: relative;}#sk-container-id-1 div.sk-item::before, #sk-container-id-1 div.sk-parallel-item::before {content: \"\";position: absolute;border-left: 1px solid gray;box-sizing: border-box;top: 0;bottom: 0;left: 50%;z-index: -1;}#sk-container-id-1 div.sk-parallel-item {display: flex;flex-direction: column;z-index: 1;position: relative;background-color: white;}#sk-container-id-1 div.sk-parallel-item:first-child::after {align-self: flex-end;width: 50%;}#sk-container-id-1 div.sk-parallel-item:last-child::after {align-self: flex-start;width: 50%;}#sk-container-id-1 div.sk-parallel-item:only-child::after {width: 0;}#sk-container-id-1 div.sk-dashed-wrapped {border: 1px dashed gray;margin: 0 0.4em 0.5em 0.4em;box-sizing: border-box;padding-bottom: 0.4em;background-color: white;}#sk-container-id-1 div.sk-label label {font-family: monospace;font-weight: bold;display: inline-block;line-height: 1.2em;}#sk-container-id-1 div.sk-label-container {text-align: center;}#sk-container-id-1 div.sk-container {/* jupyter's `normalize.less` sets `[hidden] { display: none; }` but bootstrap.min.css set `[hidden] { display: none !important; }` so we also need the `!important` here to be able to override the default hidden behavior on the sphinx rendered scikit-learn.org. See: https://github.com/scikit-learn/scikit-learn/issues/21755 */display: inline-block !important;position: relative;}#sk-container-id-1 div.sk-text-repr-fallback {display: none;}</style><div id=\"sk-container-id-1\" class=\"sk-top-container\"><div class=\"sk-text-repr-fallback\"><pre>XGBClassifier(base_score=None, booster=&#x27;gbtree&#x27;, callbacks=None,\n",
       "              colsample_bylevel=None, colsample_bynode=None,\n",
       "              colsample_bytree=None, device=None, early_stopping_rounds=None,\n",
       "              enable_categorical=False, eval_metric=None, feature_types=None,\n",
       "              gamma=None, grow_policy=None, importance_type=None,\n",
       "              interaction_constraints=None, learning_rate=0.01, max_bin=None,\n",
       "              max_cat_threshold=None, max_cat_to_onehot=None,\n",
       "              max_delta_step=None, max_depth=3, max_leaves=None,\n",
       "              min_child_weight=3, missing=nan, monotone_constraints=None,\n",
       "              multi_strategy=None, n_estimators=100, n_jobs=-1, num_class=10,\n",
       "              num_parallel_tree=None, ...)</pre><b>In a Jupyter environment, please rerun this cell to show the HTML representation or trust the notebook. <br />On GitHub, the HTML representation is unable to render, please try loading this page with nbviewer.org.</b></div><div class=\"sk-container\" hidden><div class=\"sk-item\"><div class=\"sk-estimator sk-toggleable\"><input class=\"sk-toggleable__control sk-hidden--visually\" id=\"sk-estimator-id-1\" type=\"checkbox\" checked><label for=\"sk-estimator-id-1\" class=\"sk-toggleable__label sk-toggleable__label-arrow\">XGBClassifier</label><div class=\"sk-toggleable__content\"><pre>XGBClassifier(base_score=None, booster=&#x27;gbtree&#x27;, callbacks=None,\n",
       "              colsample_bylevel=None, colsample_bynode=None,\n",
       "              colsample_bytree=None, device=None, early_stopping_rounds=None,\n",
       "              enable_categorical=False, eval_metric=None, feature_types=None,\n",
       "              gamma=None, grow_policy=None, importance_type=None,\n",
       "              interaction_constraints=None, learning_rate=0.01, max_bin=None,\n",
       "              max_cat_threshold=None, max_cat_to_onehot=None,\n",
       "              max_delta_step=None, max_depth=3, max_leaves=None,\n",
       "              min_child_weight=3, missing=nan, monotone_constraints=None,\n",
       "              multi_strategy=None, n_estimators=100, n_jobs=-1, num_class=10,\n",
       "              num_parallel_tree=None, ...)</pre></div></div></div></div></div>"
      ],
      "text/plain": [
       "XGBClassifier(base_score=None, booster='gbtree', callbacks=None,\n",
       "              colsample_bylevel=None, colsample_bynode=None,\n",
       "              colsample_bytree=None, device=None, early_stopping_rounds=None,\n",
       "              enable_categorical=False, eval_metric=None, feature_types=None,\n",
       "              gamma=None, grow_policy=None, importance_type=None,\n",
       "              interaction_constraints=None, learning_rate=0.01, max_bin=None,\n",
       "              max_cat_threshold=None, max_cat_to_onehot=None,\n",
       "              max_delta_step=None, max_depth=3, max_leaves=None,\n",
       "              min_child_weight=3, missing=nan, monotone_constraints=None,\n",
       "              multi_strategy=None, n_estimators=100, n_jobs=-1, num_class=10,\n",
       "              num_parallel_tree=None, ...)"
      ]
     },
     "execution_count": 5,
     "metadata": {},
     "output_type": "execute_result"
    }
   ],
   "source": [
    "# Load trained model\n",
    "model = joblib.load('../../../../Output/Modelling/XGBoost/' + model_name + '/' + model_name + '_best_estimator.pkl')\n",
    "model"
   ]
  },
  {
   "cell_type": "markdown",
   "metadata": {},
   "source": [
    "## Permutation Importance"
   ]
  },
  {
   "cell_type": "code",
   "execution_count": 6,
   "metadata": {
    "execution": {
     "iopub.execute_input": "2024-04-29T05:32:48.697611Z",
     "iopub.status.busy": "2024-04-29T05:32:48.697461Z",
     "iopub.status.idle": "2024-04-29T05:32:59.425636Z",
     "shell.execute_reply": "2024-04-29T05:32:59.425144Z"
    }
   },
   "outputs": [
    {
     "data": {
      "text/html": [
       "<div>\n",
       "<style scoped>\n",
       "    .dataframe tbody tr th:only-of-type {\n",
       "        vertical-align: middle;\n",
       "    }\n",
       "\n",
       "    .dataframe tbody tr th {\n",
       "        vertical-align: top;\n",
       "    }\n",
       "\n",
       "    .dataframe thead th {\n",
       "        text-align: right;\n",
       "    }\n",
       "</style>\n",
       "<table border=\"1\" class=\"dataframe\">\n",
       "  <thead>\n",
       "    <tr style=\"text-align: right;\">\n",
       "      <th></th>\n",
       "      <th>feature</th>\n",
       "      <th>mean</th>\n",
       "      <th>std</th>\n",
       "    </tr>\n",
       "  </thead>\n",
       "  <tbody>\n",
       "    <tr>\n",
       "      <th>0</th>\n",
       "      <td>num__EBIT</td>\n",
       "      <td>0.000000</td>\n",
       "      <td>0.000000</td>\n",
       "    </tr>\n",
       "    <tr>\n",
       "      <th>1</th>\n",
       "      <td>num__common_plus_preferred_stock</td>\n",
       "      <td>0.000000</td>\n",
       "      <td>0.000000</td>\n",
       "    </tr>\n",
       "    <tr>\n",
       "      <th>2</th>\n",
       "      <td>num__workingCapital</td>\n",
       "      <td>0.000000</td>\n",
       "      <td>0.000000</td>\n",
       "    </tr>\n",
       "    <tr>\n",
       "      <th>3</th>\n",
       "      <td>num__Ratio_A</td>\n",
       "      <td>0.000000</td>\n",
       "      <td>0.000000</td>\n",
       "    </tr>\n",
       "    <tr>\n",
       "      <th>4</th>\n",
       "      <td>num__Ratio_B</td>\n",
       "      <td>0.000000</td>\n",
       "      <td>0.000000</td>\n",
       "    </tr>\n",
       "    <tr>\n",
       "      <th>...</th>\n",
       "      <td>...</td>\n",
       "      <td>...</td>\n",
       "      <td>...</td>\n",
       "    </tr>\n",
       "    <tr>\n",
       "      <th>158</th>\n",
       "      <td>cat__rating_on_previous_fixed_quarter_date_BBB</td>\n",
       "      <td>0.257352</td>\n",
       "      <td>0.010267</td>\n",
       "    </tr>\n",
       "    <tr>\n",
       "      <th>159</th>\n",
       "      <td>cat__rating_on_previous_fixed_quarter_date_C</td>\n",
       "      <td>0.000900</td>\n",
       "      <td>0.000098</td>\n",
       "    </tr>\n",
       "    <tr>\n",
       "      <th>160</th>\n",
       "      <td>cat__rating_on_previous_fixed_quarter_date_CC</td>\n",
       "      <td>0.000000</td>\n",
       "      <td>0.000000</td>\n",
       "    </tr>\n",
       "    <tr>\n",
       "      <th>161</th>\n",
       "      <td>cat__rating_on_previous_fixed_quarter_date_CCC</td>\n",
       "      <td>0.025477</td>\n",
       "      <td>0.002348</td>\n",
       "    </tr>\n",
       "    <tr>\n",
       "      <th>162</th>\n",
       "      <td>cat__rating_on_previous_fixed_quarter_date_D</td>\n",
       "      <td>0.000000</td>\n",
       "      <td>0.000000</td>\n",
       "    </tr>\n",
       "  </tbody>\n",
       "</table>\n",
       "<p>163 rows × 3 columns</p>\n",
       "</div>"
      ],
      "text/plain": [
       "                                            feature      mean       std\n",
       "0                                         num__EBIT  0.000000  0.000000\n",
       "1                  num__common_plus_preferred_stock  0.000000  0.000000\n",
       "2                               num__workingCapital  0.000000  0.000000\n",
       "3                                      num__Ratio_A  0.000000  0.000000\n",
       "4                                      num__Ratio_B  0.000000  0.000000\n",
       "..                                              ...       ...       ...\n",
       "158  cat__rating_on_previous_fixed_quarter_date_BBB  0.257352  0.010267\n",
       "159    cat__rating_on_previous_fixed_quarter_date_C  0.000900  0.000098\n",
       "160   cat__rating_on_previous_fixed_quarter_date_CC  0.000000  0.000000\n",
       "161  cat__rating_on_previous_fixed_quarter_date_CCC  0.025477  0.002348\n",
       "162    cat__rating_on_previous_fixed_quarter_date_D  0.000000  0.000000\n",
       "\n",
       "[163 rows x 3 columns]"
      ]
     },
     "execution_count": 6,
     "metadata": {},
     "output_type": "execute_result"
    }
   ],
   "source": [
    "# Perform permutation importance\n",
    "result = permutation_importance(model, X_test_scaled, y_test, n_repeats=1000, random_state=222, n_jobs=-1)\n",
    "\n",
    "# Put column name, mean and std in a dataframe\n",
    "result = pd.DataFrame({'feature': feature_names, 'mean': result.importances_mean, 'std': result.importances_std})\n",
    "\n",
    "# Output to disk\n",
    "result.to_parquet('../../../../Output/Modelling/XGBoost/' + model_name + '/' + model_name + '_permutation_importance.parquet', index=False)\n",
    "\n",
    "result"
   ]
  },
  {
   "cell_type": "code",
   "execution_count": 8,
   "metadata": {},
   "outputs": [
    {
     "data": {
      "text/html": [
       "<div>\n",
       "<style scoped>\n",
       "    .dataframe tbody tr th:only-of-type {\n",
       "        vertical-align: middle;\n",
       "    }\n",
       "\n",
       "    .dataframe tbody tr th {\n",
       "        vertical-align: top;\n",
       "    }\n",
       "\n",
       "    .dataframe thead th {\n",
       "        text-align: right;\n",
       "    }\n",
       "</style>\n",
       "<table border=\"1\" class=\"dataframe\">\n",
       "  <thead>\n",
       "    <tr style=\"text-align: right;\">\n",
       "      <th></th>\n",
       "      <th>feature</th>\n",
       "      <th>mean</th>\n",
       "      <th>std</th>\n",
       "    </tr>\n",
       "  </thead>\n",
       "  <tbody>\n",
       "    <tr>\n",
       "      <th>0</th>\n",
       "      <td>num__EBIT</td>\n",
       "      <td>0.000000</td>\n",
       "      <td>0.000000</td>\n",
       "    </tr>\n",
       "    <tr>\n",
       "      <th>97</th>\n",
       "      <td>num__sellingGeneralAndAdministrativeExpenses</td>\n",
       "      <td>0.000000</td>\n",
       "      <td>0.000000</td>\n",
       "    </tr>\n",
       "    <tr>\n",
       "      <th>98</th>\n",
       "      <td>num__otherExpenses</td>\n",
       "      <td>0.000000</td>\n",
       "      <td>0.000000</td>\n",
       "    </tr>\n",
       "    <tr>\n",
       "      <th>99</th>\n",
       "      <td>num__operatingExpenses</td>\n",
       "      <td>0.000000</td>\n",
       "      <td>0.000000</td>\n",
       "    </tr>\n",
       "    <tr>\n",
       "      <th>100</th>\n",
       "      <td>num__costAndExpenses</td>\n",
       "      <td>0.000000</td>\n",
       "      <td>0.000000</td>\n",
       "    </tr>\n",
       "    <tr>\n",
       "      <th>...</th>\n",
       "      <td>...</td>\n",
       "      <td>...</td>\n",
       "      <td>...</td>\n",
       "    </tr>\n",
       "    <tr>\n",
       "      <th>154</th>\n",
       "      <td>cat__rating_on_previous_fixed_quarter_date_AA</td>\n",
       "      <td>0.036817</td>\n",
       "      <td>0.001890</td>\n",
       "    </tr>\n",
       "    <tr>\n",
       "      <th>153</th>\n",
       "      <td>cat__rating_on_previous_fixed_quarter_date_A</td>\n",
       "      <td>0.047979</td>\n",
       "      <td>0.004233</td>\n",
       "    </tr>\n",
       "    <tr>\n",
       "      <th>156</th>\n",
       "      <td>cat__rating_on_previous_fixed_quarter_date_B</td>\n",
       "      <td>0.080826</td>\n",
       "      <td>0.004940</td>\n",
       "    </tr>\n",
       "    <tr>\n",
       "      <th>158</th>\n",
       "      <td>cat__rating_on_previous_fixed_quarter_date_BBB</td>\n",
       "      <td>0.257352</td>\n",
       "      <td>0.010267</td>\n",
       "    </tr>\n",
       "    <tr>\n",
       "      <th>157</th>\n",
       "      <td>cat__rating_on_previous_fixed_quarter_date_BB</td>\n",
       "      <td>0.276554</td>\n",
       "      <td>0.010192</td>\n",
       "    </tr>\n",
       "  </tbody>\n",
       "</table>\n",
       "<p>163 rows × 3 columns</p>\n",
       "</div>"
      ],
      "text/plain": [
       "                                            feature      mean       std\n",
       "0                                         num__EBIT  0.000000  0.000000\n",
       "97     num__sellingGeneralAndAdministrativeExpenses  0.000000  0.000000\n",
       "98                               num__otherExpenses  0.000000  0.000000\n",
       "99                           num__operatingExpenses  0.000000  0.000000\n",
       "100                            num__costAndExpenses  0.000000  0.000000\n",
       "..                                              ...       ...       ...\n",
       "154   cat__rating_on_previous_fixed_quarter_date_AA  0.036817  0.001890\n",
       "153    cat__rating_on_previous_fixed_quarter_date_A  0.047979  0.004233\n",
       "156    cat__rating_on_previous_fixed_quarter_date_B  0.080826  0.004940\n",
       "158  cat__rating_on_previous_fixed_quarter_date_BBB  0.257352  0.010267\n",
       "157   cat__rating_on_previous_fixed_quarter_date_BB  0.276554  0.010192\n",
       "\n",
       "[163 rows x 3 columns]"
      ]
     },
     "execution_count": 8,
     "metadata": {},
     "output_type": "execute_result"
    }
   ],
   "source": [
    "result.sort_values(\"mean\")"
   ]
  },
  {
   "cell_type": "code",
   "execution_count": null,
   "metadata": {},
   "outputs": [],
   "source": []
  }
 ],
 "metadata": {
  "kernelspec": {
   "display_name": "capstone",
   "language": "python",
   "name": "python3"
  },
  "language_info": {
   "codemirror_mode": {
    "name": "ipython",
    "version": 3
   },
   "file_extension": ".py",
   "mimetype": "text/x-python",
   "name": "python",
   "nbconvert_exporter": "python",
   "pygments_lexer": "ipython3",
   "version": "3.9.15"
  }
 },
 "nbformat": 4,
 "nbformat_minor": 2
}
